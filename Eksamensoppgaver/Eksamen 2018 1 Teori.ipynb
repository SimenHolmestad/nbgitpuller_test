{
 "cells": [
  {
   "cell_type": "code",
   "execution_count": 1,
   "metadata": {
    "ExecuteTime": {
     "end_time": "2019-07-08T20:02:04.544185Z",
     "start_time": "2019-07-08T20:02:04.522819Z"
    },
    "hide_input": true
   },
   "outputs": [],
   "source": [
    "import ipywidgets as widgets\n",
    "import sys\n",
    "from IPython.display import display\n",
    "from IPython.display import clear_output\n",
    "out = widgets.Output()\n",
    "\n",
    "def check_answer(b,buttons, correct):\n",
    "    pass\n",
    "\n",
    "def generate_mc(answers,question,answer):\n",
    "    radio_options = []\n",
    "    for i in range(len(answers)-1):\n",
    "        options.append((answers[i],i))\n",
    "    \n",
    "    alternativ = widgets.RadioButtons(\n",
    "    options=radio_options,\n",
    "    description='',\n",
    "    disabled=False)\n",
    "    \n",
    "    print('\\033[1m',question,'\\033[0m')\n",
    "    button = widgets.Button(description=\"Sjekk svaret\")\n",
    "    display(alternativ)\n",
    "    display(button)\n",
    "    button.on_click()\n",
    "    \n",
    "    "
   ]
  },
  {
   "cell_type": "markdown",
   "metadata": {},
   "source": [
    "**Trykk på spørsmålet og trykk ctrl/cmd + enter før du svarer.**"
   ]
  },
  {
   "cell_type": "code",
   "execution_count": 1,
   "metadata": {
    "ExecuteTime": {
     "end_time": "2019-07-09T05:56:35.891436Z",
     "start_time": "2019-07-09T05:56:35.724645Z"
    },
    "hide_input": true,
    "scrolled": true
   },
   "outputs": [
    {
     "name": "stdout",
     "output_type": "stream",
     "text": [
      "\u001b[1m 1) Hvilket alternativ er IKKE et lag i TCP/IP-stabelen (stack)? \u001b[0m\n"
     ]
    },
    {
     "data": {
      "application/vnd.jupyter.widget-view+json": {
       "model_id": "3ce38a53e4594390ae705069508d9a9f",
       "version_major": 2,
       "version_minor": 0
      },
      "text/plain": [
       "RadioButtons(options=(('Det fysiske laget (Physical layer)', 1), ('Sammenkoblingslaget (Connection layer)', 2)…"
      ]
     },
     "metadata": {},
     "output_type": "display_data"
    },
    {
     "data": {
      "application/vnd.jupyter.widget-view+json": {
       "model_id": "27afb1a869eb48a293fe2ca671777b2b",
       "version_major": 2,
       "version_minor": 0
      },
      "text/plain": [
       "Button(description='Sjekk svaret', style=ButtonStyle())"
      ]
     },
     "metadata": {},
     "output_type": "display_data"
    },
    {
     "data": {
      "application/vnd.jupyter.widget-view+json": {
       "model_id": "9a1b1cd144774ce2b4d67bfb683b652e",
       "version_major": 2,
       "version_minor": 0
      },
      "text/plain": [
       "Output()"
      ]
     },
     "metadata": {},
     "output_type": "display_data"
    }
   ],
   "source": [
    "import ipywidgets as widgets\n",
    "import sys\n",
    "from IPython.display import display\n",
    "from IPython.display import clear_output\n",
    "\n",
    "out = widgets.Output()\n",
    "\n",
    "alternativ = widgets.RadioButtons(\n",
    "    options=[('Det fysiske laget (Physical layer)', 1), ('Sammenkoblingslaget (Connection layer)', 2), ('Internettlaget (Internet layer)', 3),('Nettverksgrensesnitt-laget (Network layer)', 4)],\n",
    "    description='',\n",
    "    disabled=False\n",
    ")\n",
    "print('\\033[1m','1) Hvilket alternativ er IKKE et lag i TCP/IP-stabelen (stack)?','\\033[0m')\n",
    "check = widgets.Button(description=\"Sjekk svaret\")\n",
    "display(alternativ)\n",
    "display(check)\n",
    "\n",
    "\n",
    "def sjekksvar(b):\n",
    "        a = int(alternativ.value)\n",
    "        right_answer = 2\n",
    "        if(a==right_answer): \n",
    "            color = '\\x1b[6;30;42m' + \"Riktig.\" + '\\x1b[0m' +\"\\n\" #fargen blir da grønn\n",
    "        else:\n",
    "            color = '\\x1b[5;30;41m' + \"Feil. \" + '\\x1b[0m' +\"\\n\" #ellers blir fargen rød\n",
    "        svar = [\"\",\"\",\"\",\"\"] #liste med egne tilbakemeldinger for hvert svar\n",
    "        with out:\n",
    "            clear_output()\n",
    "        with out:\n",
    "            print(color+\"\"+svar[a-1])   \n",
    "    \n",
    "        \n",
    "        \n",
    "display(out)\n",
    "check.on_click(sjekksvar)"
   ]
  },
  {
   "cell_type": "code",
   "execution_count": 2,
   "metadata": {
    "ExecuteTime": {
     "end_time": "2019-07-09T05:56:40.809071Z",
     "start_time": "2019-07-09T05:56:40.738805Z"
    },
    "hide_input": true
   },
   "outputs": [
    {
     "name": "stdout",
     "output_type": "stream",
     "text": [
      "\u001b[1m 2) Hvilken form for kanalkoding (channel coding) bruker Internettet? \u001b[0m\n"
     ]
    },
    {
     "data": {
      "application/vnd.jupyter.widget-view+json": {
       "model_id": "e3acfe912a8d4a25894b0b737dbcb7b0",
       "version_major": 2,
       "version_minor": 0
      },
      "text/plain": [
       "RadioButtons(options=(('RAC (Read and Check)', 1), ('16-bit sjekksum (16-bit checksum)', 2), ('SPC (Single Par…"
      ]
     },
     "metadata": {},
     "output_type": "display_data"
    },
    {
     "data": {
      "application/vnd.jupyter.widget-view+json": {
       "model_id": "27afb1a869eb48a293fe2ca671777b2b",
       "version_major": 2,
       "version_minor": 0
      },
      "text/plain": [
       "Button(description='Sjekk svaret', style=ButtonStyle())"
      ]
     },
     "metadata": {},
     "output_type": "display_data"
    },
    {
     "data": {
      "application/vnd.jupyter.widget-view+json": {
       "model_id": "09be53b432f244cebb93c51943c9c766",
       "version_major": 2,
       "version_minor": 0
      },
      "text/plain": [
       "Output()"
      ]
     },
     "metadata": {},
     "output_type": "display_data"
    }
   ],
   "source": [
    "import ipywidgets as widgets\n",
    "import sys\n",
    "from IPython.display import display\n",
    "from IPython.display import clear_output\n",
    "\n",
    "out = widgets.Output()\n",
    "\n",
    "alternativ = widgets.RadioButtons(\n",
    "    options=[('RAC (Read and Check)', 1), ('16-bit sjekksum (16-bit checksum)', 2), ('SPC (Single Parity Checking)', 3),('Hamming Coding', 4)],\n",
    "    description='',\n",
    "    disabled=False\n",
    ")\n",
    "print('\\033[1m','2) Hvilken form for kanalkoding (channel coding) bruker Internettet?','\\033[0m')\n",
    "check1 = widgets.Button(description=\"Sjekk svaret\")\n",
    "display(alternativ)\n",
    "display(check)\n",
    "\n",
    "\n",
    "def sjekksvar1(b):\n",
    "        a = int(alternativ.value)\n",
    "        right_answer = 2\n",
    "        if(a==right_answer): \n",
    "            color = '\\x1b[6;30;42m' + \"Riktig.\" + '\\x1b[0m' +\"\\n\" #fargen blir da grønn\n",
    "        else:\n",
    "            color = '\\x1b[5;30;41m' + \"Feil. \" + '\\x1b[0m' +\"\\n\" #ellers blir fargen rød\n",
    "        svar = [\"\",\"\",\"\",\"\"] #liste med egne tilbakemeldinger for hvert svar\n",
    "        with out:\n",
    "            clear_output()\n",
    "        with out:\n",
    "            print(color+\"\"+svar[a-1])   \n",
    "    \n",
    "        \n",
    "        \n",
    "display(out)\n",
    "check.on_click(sjekksvar1)"
   ]
  },
  {
   "cell_type": "code",
   "execution_count": 3,
   "metadata": {
    "ExecuteTime": {
     "end_time": "2019-07-09T05:56:46.802996Z",
     "start_time": "2019-07-09T05:56:46.762122Z"
    },
    "hide_input": true
   },
   "outputs": [
    {
     "name": "stdout",
     "output_type": "stream",
     "text": [
      "\u001b[1m 3) Hvilken metode brukes for å håndtere duplikater og at pakker kommer i feil rekkefølge? \u001b[0m\n"
     ]
    },
    {
     "data": {
      "application/vnd.jupyter.widget-view+json": {
       "model_id": "b214f110f3164a1784b02c88b8c09fc9",
       "version_major": 2,
       "version_minor": 0
      },
      "text/plain": [
       "RadioButtons(options=(('Sequencing (sekvensering)', 1), ('Flow control (flytkontroll)', 2), ('ACK (retransmisj…"
      ]
     },
     "metadata": {},
     "output_type": "display_data"
    },
    {
     "data": {
      "application/vnd.jupyter.widget-view+json": {
       "model_id": "27afb1a869eb48a293fe2ca671777b2b",
       "version_major": 2,
       "version_minor": 0
      },
      "text/plain": [
       "Button(description='Sjekk svaret', style=ButtonStyle())"
      ]
     },
     "metadata": {},
     "output_type": "display_data"
    },
    {
     "data": {
      "application/vnd.jupyter.widget-view+json": {
       "model_id": "2e756079a90d4d639514d430016883be",
       "version_major": 2,
       "version_minor": 0
      },
      "text/plain": [
       "Output()"
      ]
     },
     "metadata": {},
     "output_type": "display_data"
    }
   ],
   "source": [
    "import ipywidgets as widgets\n",
    "import sys\n",
    "from IPython.display import display\n",
    "from IPython.display import clear_output\n",
    "\n",
    "out = widgets.Output()\n",
    "\n",
    "alternativ = widgets.RadioButtons(\n",
    "    options=[('Sequencing (sekvensering)', 1), ('Flow control (flytkontroll)', 2), ('ACK (retransmisjon)', 3),('Replay', 4)],\n",
    "    description='',\n",
    "    disabled=False\n",
    ")\n",
    "print('\\033[1m','3) Hvilken metode brukes for å håndtere duplikater og at pakker kommer i feil rekkefølge?','\\033[0m')\n",
    "check1 = widgets.Button(description=\"Sjekk svaret\")\n",
    "display(alternativ)\n",
    "display(check)\n",
    "\n",
    "\n",
    "def sjekksvar1(b):\n",
    "        a = int(alternativ.value)\n",
    "        right_answer = 1\n",
    "        if(a==right_answer): \n",
    "            color = '\\x1b[6;30;42m' + \"Riktig.\" + '\\x1b[0m' +\"\\n\" #fargen blir da grønn\n",
    "        else:\n",
    "            color = '\\x1b[5;30;41m' + \"Feil. \" + '\\x1b[0m' +\"\\n\" #ellers blir fargen rød\n",
    "        svar = [\"\",\"\",\"\",\"\"] #liste med egne tilbakemeldinger for hvert svar\n",
    "        with out:\n",
    "            clear_output()\n",
    "        with out:\n",
    "            print(color+\"\"+svar[a-1])   \n",
    "    \n",
    "        \n",
    "        \n",
    "display(out)\n",
    "check.on_click(sjekksvar1)"
   ]
  },
  {
   "cell_type": "code",
   "execution_count": 4,
   "metadata": {
    "ExecuteTime": {
     "end_time": "2019-07-09T05:56:53.399408Z",
     "start_time": "2019-07-09T05:56:53.321142Z"
    },
    "hide_input": true
   },
   "outputs": [
    {
     "name": "stdout",
     "output_type": "stream",
     "text": [
      "\u001b[1m 4) Hva er \"replay error\" i nettverkssammenheng? \u001b[0m\n"
     ]
    },
    {
     "data": {
      "application/vnd.jupyter.widget-view+json": {
       "model_id": "619f80a987a84f5c86aaeb6506e8375b",
       "version_major": 2,
       "version_minor": 0
      },
      "text/plain": [
       "RadioButtons(layout=Layout(width='800px'), options=(('At en bekreftelse (ACK) sendes dobbelt, noe som kan føre…"
      ]
     },
     "metadata": {},
     "output_type": "display_data"
    },
    {
     "data": {
      "application/vnd.jupyter.widget-view+json": {
       "model_id": "27afb1a869eb48a293fe2ca671777b2b",
       "version_major": 2,
       "version_minor": 0
      },
      "text/plain": [
       "Button(description='Sjekk svaret', style=ButtonStyle())"
      ]
     },
     "metadata": {},
     "output_type": "display_data"
    },
    {
     "data": {
      "application/vnd.jupyter.widget-view+json": {
       "model_id": "fc0e4b5d795b404288edad977dae0de6",
       "version_major": 2,
       "version_minor": 0
      },
      "text/plain": [
       "Output()"
      ]
     },
     "metadata": {},
     "output_type": "display_data"
    }
   ],
   "source": [
    "import ipywidgets as widgets\n",
    "import sys\n",
    "from IPython.display import display\n",
    "from IPython.display import clear_output\n",
    "\n",
    "out = widgets.Output()\n",
    "\n",
    "alternativ = widgets.RadioButtons(\n",
    "    options=[('At en bekreftelse (ACK) sendes dobbelt, noe som kan føre til at avsender tror en pakke har kommet fram selv om den ikke har det.',1),('At en forsinket etableringspakke oppretter en tidligere terminert forbindelse, og begynner å sende informasjonen på nytt',2),('At en forsinket pakke fra tidligere sesjon blir akseptert i senere sesjon, og at korrekt pakke dermed blir avvist som duplikat',3),('At det blir sendt duplikater til mottaker, som da må håndtere dette.',4)],\n",
    "    description='',\n",
    "    layout=widgets.Layout(width='800px'),\n",
    "    disabled=False\n",
    ")\n",
    "print('\\033[1m','4) Hva er \"replay error\" i nettverkssammenheng?','\\033[0m')\n",
    "check1 = widgets.Button(description=\"Sjekk svaret\")\n",
    "display(alternativ)\n",
    "display(check)\n",
    "\n",
    "\n",
    "def sjekksvar1(b):\n",
    "        a = int(alternativ.value)\n",
    "        right_answer = 3\n",
    "        if(a==right_answer): \n",
    "            color = '\\x1b[6;30;42m' + \"Riktig.\" + '\\x1b[0m' +\"\\n\" #fargen blir da grønn\n",
    "        else:\n",
    "            color = '\\x1b[5;30;41m' + \"Feil. \" + '\\x1b[0m' +\"\\n\" #ellers blir fargen rød\n",
    "        svar = [\"\",\"\",\"\",\"\"] #liste med egne tilbakemeldinger for hvert svar\n",
    "        with out:\n",
    "            clear_output()\n",
    "        with out:\n",
    "            print(color+\"\"+svar[a-1])   \n",
    "    \n",
    "        \n",
    "with out:\n",
    "    clear_output()\n",
    "display(out)\n",
    "check.on_click(sjekksvar1)"
   ]
  },
  {
   "cell_type": "code",
   "execution_count": 5,
   "metadata": {
    "ExecuteTime": {
     "end_time": "2019-07-09T05:57:06.388202Z",
     "start_time": "2019-07-09T05:57:06.210454Z"
    },
    "hide_input": true
   },
   "outputs": [
    {
     "name": "stdout",
     "output_type": "stream",
     "text": [
      "\u001b[1m 5) Hvordan håndteres en \"replay error\" \u001b[0m\n"
     ]
    },
    {
     "data": {
      "application/vnd.jupyter.widget-view+json": {
       "model_id": "cac9817ccb114a438ffd414e1fc7a626",
       "version_major": 2,
       "version_minor": 0
      },
      "text/plain": [
       "RadioButtons(layout=Layout(width='600px'), options=(('Duplikater forkastes om en annen kopi av pakken alt er m…"
      ]
     },
     "metadata": {},
     "output_type": "display_data"
    },
    {
     "data": {
      "application/vnd.jupyter.widget-view+json": {
       "model_id": "27afb1a869eb48a293fe2ca671777b2b",
       "version_major": 2,
       "version_minor": 0
      },
      "text/plain": [
       "Button(description='Sjekk svaret', style=ButtonStyle())"
      ]
     },
     "metadata": {},
     "output_type": "display_data"
    },
    {
     "data": {
      "application/vnd.jupyter.widget-view+json": {
       "model_id": "2e312fd84dd24127bdeaf2d502519b8a",
       "version_major": 2,
       "version_minor": 0
      },
      "text/plain": [
       "Output()"
      ]
     },
     "metadata": {},
     "output_type": "display_data"
    }
   ],
   "source": [
    "import ipywidgets as widgets\n",
    "import sys\n",
    "from IPython.display import display\n",
    "from IPython.display import clear_output\n",
    "\n",
    "out = widgets.Output()\n",
    "\n",
    "alternativ = widgets.RadioButtons(\n",
    "    options=[('Duplikater forkastes om en annen kopi av pakken alt er mottatt eller ligger i ventelisten',1),('Mottaker etterspør manglende pakker',2),('Pakkene merkes med et sekvensnummer',3),('Pakkene i en sesjon merkes med en unik ID',4)],\n",
    "    description='',\n",
    "    layout=widgets.Layout(width='600px'),\n",
    "    disabled=False\n",
    ")\n",
    "print('\\033[1m','5) Hvordan håndteres en \"replay error\"','\\033[0m')\n",
    "check1 = widgets.Button(description=\"Sjekk svaret\")\n",
    "display(alternativ)\n",
    "display(check)\n",
    "\n",
    "\n",
    "def sjekksvar1(b):\n",
    "        a = int(alternativ.value)\n",
    "        right_answer = 4\n",
    "        if(a==right_answer): \n",
    "            color = '\\x1b[6;30;42m' + \"Riktig.\" + '\\x1b[0m' +\"\\n\" #fargen blir da grønn\n",
    "        else:\n",
    "            color = '\\x1b[5;30;41m' + \"Feil. \" + '\\x1b[0m' +\"\\n\" #ellers blir fargen rød\n",
    "        svar = [\"\",\"\",\"\",\"\"] #liste med egne tilbakemeldinger for hvert svar\n",
    "        with out:\n",
    "            clear_output()\n",
    "        with out:\n",
    "            print(color+\"\"+svar[a-1])   \n",
    "    \n",
    "        \n",
    "with out:\n",
    "    clear_output()\n",
    "display(out)\n",
    "check.on_click(sjekksvar1)"
   ]
  },
  {
   "cell_type": "code",
   "execution_count": 6,
   "metadata": {
    "ExecuteTime": {
     "end_time": "2019-07-09T05:57:19.091554Z",
     "start_time": "2019-07-09T05:57:18.957451Z"
    },
    "hide_input": true
   },
   "outputs": [
    {
     "name": "stdout",
     "output_type": "stream",
     "text": [
      "\u001b[1m 6) Hva er det som karakteriserer et DoS (Denial-of-Service) angrep? \u001b[0m\n"
     ]
    },
    {
     "data": {
      "application/vnd.jupyter.widget-view+json": {
       "model_id": "ee53ded5de9f4f048c08ef3634dd7bb9",
       "version_major": 2,
       "version_minor": 0
      },
      "text/plain": [
       "RadioButtons(layout=Layout(width='800px'), options=(('Angriperen gir brukeren feilaktig informasjon og lurer b…"
      ]
     },
     "metadata": {},
     "output_type": "display_data"
    },
    {
     "data": {
      "application/vnd.jupyter.widget-view+json": {
       "model_id": "27afb1a869eb48a293fe2ca671777b2b",
       "version_major": 2,
       "version_minor": 0
      },
      "text/plain": [
       "Button(description='Sjekk svaret', style=ButtonStyle())"
      ]
     },
     "metadata": {},
     "output_type": "display_data"
    },
    {
     "data": {
      "application/vnd.jupyter.widget-view+json": {
       "model_id": "038cef759c334ad9a2f248ea1e1d2245",
       "version_major": 2,
       "version_minor": 0
      },
      "text/plain": [
       "Output()"
      ]
     },
     "metadata": {},
     "output_type": "display_data"
    }
   ],
   "source": [
    "import ipywidgets as widgets\n",
    "import sys\n",
    "from IPython.display import display\n",
    "from IPython.display import clear_output\n",
    "\n",
    "out = widgets.Output()\n",
    "\n",
    "alternativ = widgets.RadioButtons(\n",
    "    options=[('Angriperen gir brukeren feilaktig informasjon og lurer brukeren til å oppgi personlige opplysninger til angriperens gode.',1),('Angriperen oppgir feilaktige opplysninger om et produkt eller tjeneste eller leverer et produkt med lavere kvalitet enn forventet.',2),('Angriperen setter opp en firewall som brenner opp datamaskinen fra innsiden slik at maskinen ikke kan betjene legitime forespørsler',3),('Angriperen sender enorme mengder pakker til en server slik at den ikke kan betjene legitime forespørsler',4)],\n",
    "    description='',\n",
    "    layout=widgets.Layout(width='800px'),\n",
    "    disabled=False\n",
    ")\n",
    "print('\\033[1m','6) Hva er det som karakteriserer et DoS (Denial-of-Service) angrep?','\\033[0m')\n",
    "check1 = widgets.Button(description=\"Sjekk svaret\")\n",
    "display(alternativ)\n",
    "display(check)\n",
    "\n",
    "\n",
    "def sjekksvar1(b):\n",
    "        a = int(alternativ.value)\n",
    "        right_answer = 4\n",
    "        if(a==right_answer): \n",
    "            color = '\\x1b[6;30;42m' + \"Riktig.\" + '\\x1b[0m' +\"\\n\" #fargen blir da grønn\n",
    "        else:\n",
    "            color = '\\x1b[5;30;41m' + \"Feil. \" + '\\x1b[0m' +\"\\n\" #ellers blir fargen rød\n",
    "        svar = [\"\",\"\",\"\",\"\"] #liste med egne tilbakemeldinger for hvert svar\n",
    "        with out:\n",
    "            clear_output()\n",
    "        with out:\n",
    "            print(color+\"\"+svar[a-1])   \n",
    "    \n",
    "        \n",
    "with out:\n",
    "    clear_output()\n",
    "display(out)\n",
    "check.on_click(sjekksvar1)"
   ]
  },
  {
   "cell_type": "code",
   "execution_count": 7,
   "metadata": {
    "ExecuteTime": {
     "end_time": "2019-07-09T05:57:24.808229Z",
     "start_time": "2019-07-09T05:57:24.712156Z"
    },
    "hide_input": true
   },
   "outputs": [
    {
     "name": "stdout",
     "output_type": "stream",
     "text": [
      "\u001b[1m 7) Hvor mange bits består en IPv6-adresse av? \u001b[0m\n"
     ]
    },
    {
     "data": {
      "application/vnd.jupyter.widget-view+json": {
       "model_id": "8d967569180445cab4d22f97a0542867",
       "version_major": 2,
       "version_minor": 0
      },
      "text/plain": [
       "RadioButtons(layout=Layout(width='800px'), options=(('32', 1), ('256', 2), ('128', 3), ('64', 4)), value=1)"
      ]
     },
     "metadata": {},
     "output_type": "display_data"
    },
    {
     "data": {
      "application/vnd.jupyter.widget-view+json": {
       "model_id": "27afb1a869eb48a293fe2ca671777b2b",
       "version_major": 2,
       "version_minor": 0
      },
      "text/plain": [
       "Button(description='Sjekk svaret', style=ButtonStyle())"
      ]
     },
     "metadata": {},
     "output_type": "display_data"
    },
    {
     "data": {
      "application/vnd.jupyter.widget-view+json": {
       "model_id": "dcd1a879cb2342be8b7df140b1cb5948",
       "version_major": 2,
       "version_minor": 0
      },
      "text/plain": [
       "Output()"
      ]
     },
     "metadata": {},
     "output_type": "display_data"
    }
   ],
   "source": [
    "import ipywidgets as widgets\n",
    "import sys\n",
    "from IPython.display import display\n",
    "from IPython.display import clear_output\n",
    "\n",
    "out = widgets.Output()\n",
    "\n",
    "alternativ = widgets.RadioButtons(\n",
    "    options=[('32',1),('256',2),('128',3),('64',4)],\n",
    "    description='',\n",
    "    layout=widgets.Layout(width='800px'),\n",
    "    disabled=False\n",
    ")\n",
    "print('\\033[1m','7) Hvor mange bits består en IPv6-adresse av?','\\033[0m')\n",
    "check1 = widgets.Button(description=\"Sjekk svaret\")\n",
    "display(alternativ)\n",
    "display(check)\n",
    "\n",
    "\n",
    "def sjekksvar1(b):\n",
    "        a = int(alternativ.value)\n",
    "        right_answer = 3\n",
    "        if(a==right_answer): \n",
    "            color = '\\x1b[6;30;42m' + \"Riktig.\" + '\\x1b[0m' +\"\\n\" #fargen blir da grønn\n",
    "        else:\n",
    "            color = '\\x1b[5;30;41m' + \"Feil. \" + '\\x1b[0m' +\"\\n\" #ellers blir fargen rød\n",
    "        svar = [\"\",\"\",\"\",\"\"] #liste med egne tilbakemeldinger for hvert svar\n",
    "        with out:\n",
    "            clear_output()\n",
    "        with out:\n",
    "            print(color+\"\"+svar[a-1])   \n",
    "    \n",
    "        \n",
    "with out:\n",
    "    clear_output()\n",
    "display(out)\n",
    "check.on_click(sjekksvar1)"
   ]
  },
  {
   "cell_type": "code",
   "execution_count": 8,
   "metadata": {
    "ExecuteTime": {
     "end_time": "2019-07-09T05:57:32.812474Z",
     "start_time": "2019-07-09T05:57:32.693198Z"
    },
    "hide_input": true
   },
   "outputs": [
    {
     "name": "stdout",
     "output_type": "stream",
     "text": [
      "\u001b[1m 8) Hva spesifiserer “1”-ere i en subnett-maske? \u001b[0m\n"
     ]
    },
    {
     "data": {
      "application/vnd.jupyter.widget-view+json": {
       "model_id": "e99cff2f5c7644718a738bed589403ac",
       "version_major": 2,
       "version_minor": 0
      },
      "text/plain": [
       "RadioButtons(layout=Layout(width='800px'), options=(('Hvor mange bit IP-adressen har', 1), ('Hvilke bits av IP…"
      ]
     },
     "metadata": {},
     "output_type": "display_data"
    },
    {
     "data": {
      "application/vnd.jupyter.widget-view+json": {
       "model_id": "27afb1a869eb48a293fe2ca671777b2b",
       "version_major": 2,
       "version_minor": 0
      },
      "text/plain": [
       "Button(description='Sjekk svaret', style=ButtonStyle())"
      ]
     },
     "metadata": {},
     "output_type": "display_data"
    },
    {
     "data": {
      "application/vnd.jupyter.widget-view+json": {
       "model_id": "47b990368716429d8a956ef2a41296d6",
       "version_major": 2,
       "version_minor": 0
      },
      "text/plain": [
       "Output()"
      ]
     },
     "metadata": {},
     "output_type": "display_data"
    }
   ],
   "source": [
    "import ipywidgets as widgets\n",
    "import sys\n",
    "from IPython.display import display\n",
    "from IPython.display import clear_output\n",
    "\n",
    "out = widgets.Output()\n",
    "\n",
    "alternativ = widgets.RadioButtons(\n",
    "    options=[('Hvor mange bit IP-adressen har',1),('Hvilke bits av IP-adressen som utgjør suffiks.',2),('Nettverks-adressen som tilhører IP-adressen.',3),('Hvilke bits av IP-adressen som utgjør prefiks.',4)],\n",
    "    description='',\n",
    "    layout=widgets.Layout(width='800px'),\n",
    "    disabled=False\n",
    ")\n",
    "print('\\033[1m','8) Hva spesifiserer “1”-ere i en subnett-maske?','\\033[0m')\n",
    "check1 = widgets.Button(description=\"Sjekk svaret\")\n",
    "display(alternativ)\n",
    "display(check)\n",
    "\n",
    "\n",
    "def sjekksvar1(b):\n",
    "        a = int(alternativ.value)\n",
    "        right_answer = 4\n",
    "        if(a==right_answer): \n",
    "            color = '\\x1b[6;30;42m' + \"Riktig.\" + '\\x1b[0m' +\"\\n\" #fargen blir da grønn\n",
    "        else:\n",
    "            color = '\\x1b[5;30;41m' + \"Feil. \" + '\\x1b[0m' +\"\\n\" #ellers blir fargen rød\n",
    "        svar = [\"\",\"\",\"\",\"\"] #liste med egne tilbakemeldinger for hvert svar\n",
    "        with out:\n",
    "            clear_output()\n",
    "        with out:\n",
    "            print(color+\"\"+svar[a-1])   \n",
    "    \n",
    "        \n",
    "with out:\n",
    "    clear_output()\n",
    "display(out)\n",
    "check.on_click(sjekksvar1)"
   ]
  },
  {
   "cell_type": "code",
   "execution_count": 28,
   "metadata": {
    "ExecuteTime": {
     "end_time": "2019-07-09T06:36:50.597407Z",
     "start_time": "2019-07-09T06:36:50.510541Z"
    },
    "hide_input": true
   },
   "outputs": [
    {
     "name": "stdout",
     "output_type": "stream",
     "text": [
      "\u001b[1m 9) Hva skjer når en melding krypteres? \u001b[0m\n"
     ]
    },
    {
     "data": {
      "application/vnd.jupyter.widget-view+json": {
       "model_id": "069901e5b0174186beec32fa1461fcab",
       "version_major": 2,
       "version_minor": 0
      },
      "text/plain": [
       "RadioButtons(layout=Layout(width='800px'), options=(('Dataene i meldingen endres, slik at kun riktig mottaker …"
      ]
     },
     "metadata": {},
     "output_type": "display_data"
    },
    {
     "data": {
      "application/vnd.jupyter.widget-view+json": {
       "model_id": "27afb1a869eb48a293fe2ca671777b2b",
       "version_major": 2,
       "version_minor": 0
      },
      "text/plain": [
       "Button(description='Sjekk svaret', style=ButtonStyle())"
      ]
     },
     "metadata": {},
     "output_type": "display_data"
    },
    {
     "data": {
      "application/vnd.jupyter.widget-view+json": {
       "model_id": "429e103b2a184983a01a886a82f9d85c",
       "version_major": 2,
       "version_minor": 0
      },
      "text/plain": [
       "Output()"
      ]
     },
     "metadata": {},
     "output_type": "display_data"
    }
   ],
   "source": [
    "import ipywidgets as widgets\n",
    "import sys\n",
    "from IPython.display import display\n",
    "from IPython.display import clear_output\n",
    "\n",
    "out = widgets.Output()\n",
    "\n",
    "alternativ = widgets.RadioButtons(\n",
    "    options=[('Dataene i meldingen endres, slik at kun riktig mottaker kan rekonstruere den opprinnelige meldingen.',1),('Meldingen må gå gjennom en brannmur, slik at det blir vanskeligere for angripere å få tak i dataen.',2),('Dataene i meldingen deles i små pakker slik at mottaker er den eneste som får tak i dem alle.',3),('Meldingen blir sikret mot angrep fra \"trojanske hester\".',4)],\n",
    "    description='',\n",
    "    layout=widgets.Layout(width='800px'),\n",
    "    disabled=False\n",
    ")\n",
    "print('\\033[1m','9) Hva skjer når en melding krypteres?','\\033[0m')\n",
    "check1 = widgets.Button(description=\"Sjekk svaret\")\n",
    "display(alternativ)\n",
    "display(check)\n",
    "\n",
    "\n",
    "def sjekksvar1(b):\n",
    "        a = int(alternativ.value)\n",
    "        right_answer = 1\n",
    "        if(a==right_answer): \n",
    "            color = '\\x1b[6;30;42m' + \"Riktig.\" + '\\x1b[0m' +\"\\n\" #fargen blir da grønn\n",
    "        else:\n",
    "            color = '\\x1b[5;30;41m' + \"Feil. \" + '\\x1b[0m' +\"\\n\" #ellers blir fargen rød\n",
    "        svar = [\"\",\"\",\"\",\"\"] #liste med egne tilbakemeldinger for hvert svar\n",
    "        with out:\n",
    "            clear_output()\n",
    "        with out:\n",
    "            print(color+\"\"+svar[a-1])   \n",
    "    \n",
    "        \n",
    "with out:\n",
    "    clear_output()\n",
    "display(out)\n",
    "check.on_click(sjekksvar1)"
   ]
  },
  {
   "cell_type": "code",
   "execution_count": 29,
   "metadata": {
    "ExecuteTime": {
     "end_time": "2019-07-09T06:37:24.401304Z",
     "start_time": "2019-07-09T06:37:24.350126Z"
    },
    "hide_input": true
   },
   "outputs": [
    {
     "name": "stdout",
     "output_type": "stream",
     "text": [
      "\u001b[1m 10) Hvordan fungerer kryptering med offentlig nøkkel (public key encryption)? \u001b[0m\n"
     ]
    },
    {
     "data": {
      "application/vnd.jupyter.widget-view+json": {
       "model_id": "c06bdae2c3bc405a81df67354c391497",
       "version_major": 2,
       "version_minor": 0
      },
      "text/plain": [
       "RadioButtons(layout=Layout(width='1000px'), options=(('En offentlig nøkkel brukes både til å kryptere og dekry…"
      ]
     },
     "metadata": {},
     "output_type": "display_data"
    },
    {
     "data": {
      "application/vnd.jupyter.widget-view+json": {
       "model_id": "27afb1a869eb48a293fe2ca671777b2b",
       "version_major": 2,
       "version_minor": 0
      },
      "text/plain": [
       "Button(description='Sjekk svaret', style=ButtonStyle())"
      ]
     },
     "metadata": {},
     "output_type": "display_data"
    },
    {
     "data": {
      "application/vnd.jupyter.widget-view+json": {
       "model_id": "79eff638dcc5440ab5e0f52a110df9d3",
       "version_major": 2,
       "version_minor": 0
      },
      "text/plain": [
       "Output()"
      ]
     },
     "metadata": {},
     "output_type": "display_data"
    }
   ],
   "source": [
    "import ipywidgets as widgets\n",
    "import sys\n",
    "from IPython.display import display\n",
    "from IPython.display import clear_output\n",
    "\n",
    "out = widgets.Output()\n",
    "\n",
    "alternativ = widgets.RadioButtons(\n",
    "    options=[('En offentlig nøkkel brukes både til å kryptere og dekryptere en melding.',1),('Hver part får en hemmelig og en offentlig nøkkel. En melding kryptert med en offentlig nøkkel, kan kun dekrypteres med den korresponderende private nøkkelen.',2),('Partene deler en hemmelig nøkkel som brukes både for kryptering og dekryptering.',3),('En privat nøkkel brukes både til å kryptere og dekryptere en melding.',4)],\n",
    "    description='',\n",
    "    layout=widgets.Layout(width='1000px'),\n",
    "    disabled=False\n",
    ")\n",
    "print('\\033[1m','10) Hvordan fungerer kryptering med offentlig nøkkel (public key encryption)?','\\033[0m')\n",
    "check1 = widgets.Button(description=\"Sjekk svaret\")\n",
    "display(alternativ)\n",
    "display(check)\n",
    "\n",
    "\n",
    "def sjekksvar1(b):\n",
    "        a = int(alternativ.value)\n",
    "        right_answer = 2\n",
    "        if(a==right_answer): \n",
    "            color = '\\x1b[6;30;42m' + \"Riktig.\" + '\\x1b[0m' +\"\\n\" #fargen blir da grønn\n",
    "        else:\n",
    "            color = '\\x1b[5;30;41m' + \"Feil. \" + '\\x1b[0m' +\"\\n\" #ellers blir fargen rød\n",
    "        svar = [\"\",\"\",\"\",\"\"] #liste med egne tilbakemeldinger for hvert svar\n",
    "        with out:\n",
    "            clear_output()\n",
    "        with out:\n",
    "            print(color+\"\"+svar[a-1])   \n",
    "    \n",
    "        \n",
    "with out:\n",
    "    clear_output()\n",
    "display(out)\n",
    "check.on_click(sjekksvar1)"
   ]
  },
  {
   "cell_type": "code",
   "execution_count": 30,
   "metadata": {
    "ExecuteTime": {
     "end_time": "2019-07-09T06:37:29.801349Z",
     "start_time": "2019-07-09T06:37:29.685942Z"
    },
    "code_folding": [],
    "hide_input": true
   },
   "outputs": [
    {
     "name": "stdout",
     "output_type": "stream",
     "text": [
      "\u001b[1m 11) Hva var det som var så revolusjonerende med CPU? \u001b[0m\n"
     ]
    },
    {
     "data": {
      "application/vnd.jupyter.widget-view+json": {
       "model_id": "952f11b98a014c9b9f3b6e88ba126d14",
       "version_major": 2,
       "version_minor": 0
      },
      "text/plain": [
       "RadioButtons(layout=Layout(width='1100px'), options=(('CPU gjorde det mulig å lagre data i maskinens minne som…"
      ]
     },
     "metadata": {},
     "output_type": "display_data"
    },
    {
     "data": {
      "application/vnd.jupyter.widget-view+json": {
       "model_id": "27afb1a869eb48a293fe2ca671777b2b",
       "version_major": 2,
       "version_minor": 0
      },
      "text/plain": [
       "Button(description='Sjekk svaret', style=ButtonStyle())"
      ]
     },
     "metadata": {},
     "output_type": "display_data"
    },
    {
     "data": {
      "application/vnd.jupyter.widget-view+json": {
       "model_id": "b67ac9a9a07c49d9839691782f75b211",
       "version_major": 2,
       "version_minor": 0
      },
      "text/plain": [
       "Output()"
      ]
     },
     "metadata": {},
     "output_type": "display_data"
    }
   ],
   "source": [
    "import ipywidgets as widgets\n",
    "import sys\n",
    "from IPython.display import display\n",
    "from IPython.display import clear_output\n",
    "\n",
    "out = widgets.Output()\n",
    "\n",
    "alternativ = widgets.RadioButtons(\n",
    "    options=[('CPU gjorde det mulig å lagre data i maskinens minne som gir store fordeler med tanke på at programmer kan bli mer komplekse og endres fort kun ved å gi nye instruksjoner til minnet.',1),('CPU har gjort det mulig å benytte transistorer som er svært små og lette og i tillegg svært pålitelige. Dette gjør at maskinene blir mindre, billigere og mer pålitelige.',2),('CPU har gjort det mulig å implementere RAM.',3),('CPU har gjort det mulig for oss å digitalisere Punch Cards (Hullkort).',4)],\n",
    "    description='',\n",
    "    layout=widgets.Layout(width='1100px'),\n",
    "    disabled=False\n",
    ")\n",
    "print('\\033[1m','11) Hva var det som var så revolusjonerende med CPU?','\\033[0m')\n",
    "check1 = widgets.Button(description=\"Sjekk svaret\")\n",
    "display(alternativ)\n",
    "display(check)\n",
    "\n",
    "\n",
    "def sjekksvar1(b):\n",
    "        a = int(alternativ.value)\n",
    "        right_answer = 1\n",
    "        if(a==right_answer): \n",
    "            color = '\\x1b[6;30;42m' + \"Riktig.\" + '\\x1b[0m' +\"\\n\" #fargen blir da grønn\n",
    "        else:\n",
    "            color = '\\x1b[5;30;41m' + \"Feil. \" + '\\x1b[0m' +\"\\n\" #ellers blir fargen rød\n",
    "        svar = [\"\",\"\",\"\",\"\"] #liste med egne tilbakemeldinger for hvert svar\n",
    "        with out:\n",
    "            clear_output()\n",
    "        with out:\n",
    "            print(color+\"\"+svar[a-1])   \n",
    "    \n",
    "        \n",
    "with out:\n",
    "    clear_output()\n",
    "display(out)\n",
    "check.on_click(sjekksvar1)"
   ]
  },
  {
   "cell_type": "code",
   "execution_count": 31,
   "metadata": {
    "ExecuteTime": {
     "end_time": "2019-07-09T06:37:43.098290Z",
     "start_time": "2019-07-09T06:37:43.021695Z"
    },
    "hide_input": true
   },
   "outputs": [
    {
     "name": "stdout",
     "output_type": "stream",
     "text": [
      "\u001b[1m 12) Hva sier Moores lov? \u001b[0m\n"
     ]
    },
    {
     "data": {
      "application/vnd.jupyter.widget-view+json": {
       "model_id": "62b1cf65de114abaad97ce310ddeaf10",
       "version_major": 2,
       "version_minor": 0
      },
      "text/plain": [
       "RadioButtons(layout=Layout(width='1100px'), options=(('Loven sier at klokkehastigheten øker proporsjonalt med …"
      ]
     },
     "metadata": {},
     "output_type": "display_data"
    },
    {
     "data": {
      "application/vnd.jupyter.widget-view+json": {
       "model_id": "27afb1a869eb48a293fe2ca671777b2b",
       "version_major": 2,
       "version_minor": 0
      },
      "text/plain": [
       "Button(description='Sjekk svaret', style=ButtonStyle())"
      ]
     },
     "metadata": {},
     "output_type": "display_data"
    },
    {
     "data": {
      "application/vnd.jupyter.widget-view+json": {
       "model_id": "0f402e34ffcd463fa15f378a4364442b",
       "version_major": 2,
       "version_minor": 0
      },
      "text/plain": [
       "Output()"
      ]
     },
     "metadata": {},
     "output_type": "display_data"
    }
   ],
   "source": [
    "import ipywidgets as widgets\n",
    "import sys\n",
    "from IPython.display import display\n",
    "from IPython.display import clear_output\n",
    "\n",
    "out = widgets.Output()\n",
    "\n",
    "alternativ = widgets.RadioButtons(\n",
    "    options=[('Loven sier at klokkehastigheten øker proporsjonalt med antall programtellere.',1),('Loven sier at antall transistorer i en integrert krets dobles hvert 2. år',2),('Loven postulerer at: Ting vil gå galt uavhengig av situasjon hvis gitt muligheten.',3),('Loven sier at samplingsfrekvensen må være minst dobbelt så rask som den raskeste frekvensen.',4)],\n",
    "    description='',\n",
    "    layout=widgets.Layout(width='1100px'),\n",
    "    disabled=False\n",
    ")\n",
    "print('\\033[1m','12) Hva sier Moores lov?','\\033[0m')\n",
    "check1 = widgets.Button(description=\"Sjekk svaret\")\n",
    "display(alternativ)\n",
    "display(check)\n",
    "\n",
    "\n",
    "def sjekksvar1(b):\n",
    "        a = int(alternativ.value)\n",
    "        right_answer = 2\n",
    "        if(a==right_answer): \n",
    "            color = '\\x1b[6;30;42m' + \"Riktig.\" + '\\x1b[0m' +\"\\n\" #fargen blir da grønn\n",
    "        else:\n",
    "            color = '\\x1b[5;30;41m' + \"Feil. \" + '\\x1b[0m' +\"\\n\" #ellers blir fargen rød\n",
    "        svar = [\"\",\"\",\"\",\"\"] #liste med egne tilbakemeldinger for hvert svar\n",
    "        with out:\n",
    "            clear_output()\n",
    "        with out:\n",
    "            print(color+\"\"+svar[a-1])   \n",
    "    \n",
    "        \n",
    "with out:\n",
    "    clear_output()\n",
    "display(out)\n",
    "check.on_click(sjekksvar1)"
   ]
  },
  {
   "cell_type": "code",
   "execution_count": 32,
   "metadata": {
    "ExecuteTime": {
     "end_time": "2019-07-09T06:37:49.990043Z",
     "start_time": "2019-07-09T06:37:49.831621Z"
    },
    "hide_input": true
   },
   "outputs": [
    {
     "name": "stdout",
     "output_type": "stream",
     "text": [
      "\u001b[1m 13) Hvilke fem steg er med i “Fetch/Execute Cycle”? \u001b[0m\n"
     ]
    },
    {
     "data": {
      "application/vnd.jupyter.widget-view+json": {
       "model_id": "c0de9e66d3f749d5980d5ccf345d06cb",
       "version_major": 2,
       "version_minor": 0
      },
      "text/plain": [
       "RadioButtons(layout=Layout(width='1100px'), options=(('Instruction Fetch(IF), Instruction Decode(ID), Data Fet…"
      ]
     },
     "metadata": {},
     "output_type": "display_data"
    },
    {
     "data": {
      "application/vnd.jupyter.widget-view+json": {
       "model_id": "27afb1a869eb48a293fe2ca671777b2b",
       "version_major": 2,
       "version_minor": 0
      },
      "text/plain": [
       "Button(description='Sjekk svaret', style=ButtonStyle())"
      ]
     },
     "metadata": {},
     "output_type": "display_data"
    },
    {
     "data": {
      "application/vnd.jupyter.widget-view+json": {
       "model_id": "da3a70778eee4fe08a99673a4f97fb50",
       "version_major": 2,
       "version_minor": 0
      },
      "text/plain": [
       "Output()"
      ]
     },
     "metadata": {},
     "output_type": "display_data"
    }
   ],
   "source": [
    "import ipywidgets as widgets\n",
    "import sys\n",
    "from IPython.display import display\n",
    "from IPython.display import clear_output\n",
    "\n",
    "out = widgets.Output()\n",
    "\n",
    "alternativ = widgets.RadioButtons(\n",
    "    options=[('Instruction Fetch(IF), Instruction Decode(ID), Data Fetch(DF), Instruction Execute(EX) , Result Return(RR)',1),('Instruction Decode(ID), Instruction Fetch(IF), Instruction Execute(EX), Data Fetch(DF), Data Decode(DD)',2),('Instruction Fetch(IF), Data Fetch(DF), Instruction Decode(ID), Data Decode(DD), Result Return(RR)',3),('Instruction Fetch(IF), Instruction Execute(EX), Instruction Decode(ID), Data Decode(DD), Result Return(RR)',4)],\n",
    "    description='',\n",
    "    layout=widgets.Layout(width='1100px'),\n",
    "    disabled=False\n",
    ")\n",
    "print('\\033[1m','13) Hvilke fem steg er med i “Fetch/Execute Cycle”?','\\033[0m')\n",
    "check1 = widgets.Button(description=\"Sjekk svaret\")\n",
    "display(alternativ)\n",
    "display(check)\n",
    "\n",
    "\n",
    "def sjekksvar1(b):\n",
    "        a = int(alternativ.value)\n",
    "        right_answer = 1\n",
    "        if(a==right_answer): \n",
    "            color = '\\x1b[6;30;42m' + \"Riktig.\" + '\\x1b[0m' +\"\\n\" #fargen blir da grønn\n",
    "        else:\n",
    "            color = '\\x1b[5;30;41m' + \"Feil. \" + '\\x1b[0m' +\"\\n\" #ellers blir fargen rød\n",
    "        svar = [\"\",\"\",\"\",\"\"] #liste med egne tilbakemeldinger for hvert svar\n",
    "        with out:\n",
    "            clear_output()\n",
    "        with out:\n",
    "            print(color+\"\"+svar[a-1])   \n",
    "    \n",
    "        \n",
    "with out:\n",
    "    clear_output()\n",
    "display(out)\n",
    "check.on_click(sjekksvar1)"
   ]
  },
  {
   "cell_type": "code",
   "execution_count": 33,
   "metadata": {
    "ExecuteTime": {
     "end_time": "2019-07-09T06:37:54.688851Z",
     "start_time": "2019-07-09T06:37:54.550830Z"
    },
    "hide_input": true
   },
   "outputs": [
    {
     "name": "stdout",
     "output_type": "stream",
     "text": [
      "\u001b[1m 14) Hvordan fungerer en transistor? \u001b[0m\n"
     ]
    },
    {
     "data": {
      "application/vnd.jupyter.widget-view+json": {
       "model_id": "44a04ef374df46b9a8a62e25db9dd30d",
       "version_major": 2,
       "version_minor": 0
      },
      "text/plain": [
       "RadioButtons(layout=Layout(width='1100px'), options=(('Ligger som en bro mellom to plater som leder strøm, og …"
      ]
     },
     "metadata": {},
     "output_type": "display_data"
    },
    {
     "data": {
      "application/vnd.jupyter.widget-view+json": {
       "model_id": "27afb1a869eb48a293fe2ca671777b2b",
       "version_major": 2,
       "version_minor": 0
      },
      "text/plain": [
       "Button(description='Sjekk svaret', style=ButtonStyle())"
      ]
     },
     "metadata": {},
     "output_type": "display_data"
    },
    {
     "data": {
      "application/vnd.jupyter.widget-view+json": {
       "model_id": "66174130b85942008323087144ee1569",
       "version_major": 2,
       "version_minor": 0
      },
      "text/plain": [
       "Output()"
      ]
     },
     "metadata": {},
     "output_type": "display_data"
    }
   ],
   "source": [
    "import ipywidgets as widgets\n",
    "import sys\n",
    "from IPython.display import display\n",
    "from IPython.display import clear_output\n",
    "\n",
    "out = widgets.Output()\n",
    "\n",
    "alternativ = widgets.RadioButtons(\n",
    "    options=[('Ligger som en bro mellom to plater som leder strøm, og bærer dermed med seg elektroner fra den ene platen til den andre.',1),('Enheten omformer 220V vekselstrøm til likestrøm som kan brukes til de ulike enhetene (CPU, lydkort, grafikkort, harddisk, RAM osv.) i datamaskinen',2),('En bryter som det enten kan gå strøm gjennom eller ikke, og som man kan styre ved hjelp av strøm.',3),('Fungerer ved at mange metalledninger (brushes) lager elektriske forbindelser med en metallkule.',4)],\n",
    "    description='',\n",
    "    layout=widgets.Layout(width='1100px'),\n",
    "    disabled=False\n",
    ")\n",
    "print('\\033[1m','14) Hvordan fungerer en transistor?','\\033[0m')\n",
    "check1 = widgets.Button(description=\"Sjekk svaret\")\n",
    "display(alternativ)\n",
    "display(check)\n",
    "\n",
    "\n",
    "def sjekksvar1(b):\n",
    "        a = int(alternativ.value)\n",
    "        right_answer = 3\n",
    "        if(a==right_answer): \n",
    "            color = '\\x1b[6;30;42m' + \"Riktig.\" + '\\x1b[0m' +\"\\n\" #fargen blir da grønn\n",
    "        else:\n",
    "            color = '\\x1b[5;30;41m' + \"Feil. \" + '\\x1b[0m' +\"\\n\" #ellers blir fargen rød\n",
    "        svar = [\"\",\"\",\"\",\"\"] #liste med egne tilbakemeldinger for hvert svar\n",
    "        with out:\n",
    "            clear_output()\n",
    "        with out:\n",
    "            print(color+\"\"+svar[a-1])   \n",
    "    \n",
    "        \n",
    "with out:\n",
    "    clear_output()\n",
    "display(out)\n",
    "check.on_click(sjekksvar1)"
   ]
  },
  {
   "cell_type": "code",
   "execution_count": 34,
   "metadata": {
    "ExecuteTime": {
     "end_time": "2019-07-09T06:38:00.699448Z",
     "start_time": "2019-07-09T06:38:00.605865Z"
    },
    "hide_input": true
   },
   "outputs": [
    {
     "name": "stdout",
     "output_type": "stream",
     "text": [
      "\u001b[1m 15) CPU kalles også \u001b[0m\n"
     ]
    },
    {
     "data": {
      "application/vnd.jupyter.widget-view+json": {
       "model_id": "cc63b4014e1c4812b2a2905a36bcff06",
       "version_major": 2,
       "version_minor": 0
      },
      "text/plain": [
       "RadioButtons(layout=Layout(width='1100px'), options=(('Integrated Circuit', 1), ('Microprocessor', 2), ('Proce…"
      ]
     },
     "metadata": {},
     "output_type": "display_data"
    },
    {
     "data": {
      "application/vnd.jupyter.widget-view+json": {
       "model_id": "27afb1a869eb48a293fe2ca671777b2b",
       "version_major": 2,
       "version_minor": 0
      },
      "text/plain": [
       "Button(description='Sjekk svaret', style=ButtonStyle())"
      ]
     },
     "metadata": {},
     "output_type": "display_data"
    },
    {
     "data": {
      "application/vnd.jupyter.widget-view+json": {
       "model_id": "bcb970c187264337b30fb47a191a961c",
       "version_major": 2,
       "version_minor": 0
      },
      "text/plain": [
       "Output()"
      ]
     },
     "metadata": {},
     "output_type": "display_data"
    }
   ],
   "source": [
    "import ipywidgets as widgets\n",
    "import sys\n",
    "from IPython.display import display\n",
    "from IPython.display import clear_output\n",
    "\n",
    "out = widgets.Output()\n",
    "\n",
    "alternativ = widgets.RadioButtons(\n",
    "    options=[('Integrated Circuit',1),('Microprocessor',2),('Processor',3),('Core',4)],\n",
    "    description='',\n",
    "    layout=widgets.Layout(width='1100px'),\n",
    "    disabled=False\n",
    ")\n",
    "print('\\033[1m','15) CPU kalles også','\\033[0m')\n",
    "check1 = widgets.Button(description=\"Sjekk svaret\")\n",
    "display(alternativ)\n",
    "display(check)\n",
    "\n",
    "\n",
    "def sjekksvar1(b):\n",
    "        a = int(alternativ.value)\n",
    "        right_answer = 2\n",
    "        if(a==right_answer): \n",
    "            color = '\\x1b[6;30;42m' + \"Riktig.\" + '\\x1b[0m' +\"\\n\" #fargen blir da grønn\n",
    "        else:\n",
    "            color = '\\x1b[5;30;41m' + \"Feil. \" + '\\x1b[0m' +\"\\n\" #ellers blir fargen rød\n",
    "        svar = [\"\",\"\",\"\",\"\"] #liste med egne tilbakemeldinger for hvert svar\n",
    "        with out:\n",
    "            clear_output()\n",
    "        with out:\n",
    "            print(color+\"\"+svar[a-1])   \n",
    "    \n",
    "        \n",
    "with out:\n",
    "    clear_output()\n",
    "display(out)\n",
    "check.on_click(sjekksvar1)"
   ]
  },
  {
   "cell_type": "code",
   "execution_count": 35,
   "metadata": {
    "ExecuteTime": {
     "end_time": "2019-07-09T06:38:07.903500Z",
     "start_time": "2019-07-09T06:38:07.813736Z"
    },
    "hide_input": true
   },
   "outputs": [
    {
     "name": "stdout",
     "output_type": "stream",
     "text": [
      "\u001b[1m 16) Hvor mange symboler kan representeres med 3 byte? \u001b[0m\n"
     ]
    },
    {
     "data": {
      "application/vnd.jupyter.widget-view+json": {
       "model_id": "4cd200b13ad64f54b344cce5bb57762b",
       "version_major": 2,
       "version_minor": 0
      },
      "text/plain": [
       "RadioButtons(layout=Layout(width='1100px'), options=(('8', 1), ('2048', 2), ('4096', 3), ('16777216', 4)), val…"
      ]
     },
     "metadata": {},
     "output_type": "display_data"
    },
    {
     "data": {
      "application/vnd.jupyter.widget-view+json": {
       "model_id": "27afb1a869eb48a293fe2ca671777b2b",
       "version_major": 2,
       "version_minor": 0
      },
      "text/plain": [
       "Button(description='Sjekk svaret', style=ButtonStyle())"
      ]
     },
     "metadata": {},
     "output_type": "display_data"
    },
    {
     "data": {
      "application/vnd.jupyter.widget-view+json": {
       "model_id": "d5236a706da84bb4a29a3a115c1b38d2",
       "version_major": 2,
       "version_minor": 0
      },
      "text/plain": [
       "Output()"
      ]
     },
     "metadata": {},
     "output_type": "display_data"
    }
   ],
   "source": [
    "import ipywidgets as widgets\n",
    "import sys\n",
    "from IPython.display import display\n",
    "from IPython.display import clear_output\n",
    "\n",
    "out = widgets.Output()\n",
    "\n",
    "alternativ = widgets.RadioButtons(\n",
    "    options=[('8',1),('2048',2),('4096',3),('16777216',4)],\n",
    "    description='',\n",
    "    layout=widgets.Layout(width='1100px'),\n",
    "    disabled=False\n",
    ")\n",
    "print('\\033[1m','16) Hvor mange symboler kan representeres med 3 byte?','\\033[0m')\n",
    "check1 = widgets.Button(description=\"Sjekk svaret\")\n",
    "display(alternativ)\n",
    "display(check)\n",
    "\n",
    "\n",
    "def sjekksvar1(b):\n",
    "        a = int(alternativ.value)\n",
    "        right_answer = 4\n",
    "        if(a==right_answer): \n",
    "            color = '\\x1b[6;30;42m' + \"Riktig.\" + '\\x1b[0m' +\"\\n\" #fargen blir da grønn\n",
    "        else:\n",
    "            color = '\\x1b[5;30;41m' + \"Feil. \" + '\\x1b[0m' +\"\\n\" #ellers blir fargen rød\n",
    "        svar = [\"\",\"\",\"\",\"\"] #liste med egne tilbakemeldinger for hvert svar\n",
    "        with out:\n",
    "            clear_output()\n",
    "        with out:\n",
    "            print(color+\"\"+svar[a-1])   \n",
    "    \n",
    "        \n",
    "with out:\n",
    "    clear_output()\n",
    "display(out)\n",
    "check.on_click(sjekksvar1)"
   ]
  },
  {
   "cell_type": "code",
   "execution_count": 37,
   "metadata": {
    "ExecuteTime": {
     "end_time": "2019-07-09T06:38:48.411417Z",
     "start_time": "2019-07-09T06:38:48.283500Z"
    },
    "hide_input": true
   },
   "outputs": [
    {
     "name": "stdout",
     "output_type": "stream",
     "text": [
      "\u001b[1m 17) Hva er sant om \"run-length-koding\"? \u001b[0m\n"
     ]
    },
    {
     "data": {
      "application/vnd.jupyter.widget-view+json": {
       "model_id": "b797cb70cb33490688b7624267150741",
       "version_major": 2,
       "version_minor": 0
      },
      "text/plain": [
       "RadioButtons(layout=Layout(width='1100px'), options=(('Run-length-koding er taps-komprimering, dvs. at den ori…"
      ]
     },
     "metadata": {},
     "output_type": "display_data"
    },
    {
     "data": {
      "application/vnd.jupyter.widget-view+json": {
       "model_id": "27afb1a869eb48a293fe2ca671777b2b",
       "version_major": 2,
       "version_minor": 0
      },
      "text/plain": [
       "Button(description='Sjekk svaret', style=ButtonStyle())"
      ]
     },
     "metadata": {},
     "output_type": "display_data"
    },
    {
     "data": {
      "application/vnd.jupyter.widget-view+json": {
       "model_id": "aa25499e667d4f6484e6a166075d289d",
       "version_major": 2,
       "version_minor": 0
      },
      "text/plain": [
       "Output()"
      ]
     },
     "metadata": {},
     "output_type": "display_data"
    }
   ],
   "source": [
    "import ipywidgets as widgets\n",
    "import sys\n",
    "from IPython.display import display\n",
    "from IPython.display import clear_output\n",
    "\n",
    "out = widgets.Output()\n",
    "\n",
    "alternativ = widgets.RadioButtons(\n",
    "    options=[('Run-length-koding er taps-komprimering, dvs. at den originale representasjonen ikke kan rekonstrueres eksakt fra den komprimerte versjonen.',1),('Run-length-koding er tapsløs komprimering, dvs. at den originale representasjonen av 0ere og 1ere kan bli rekonstruert perfekt fra den komprimerte versjonen.',2),('Run-length-koding er en form for komprimering hvor bit-sekvensene, både de tidligere og de kommende, avhenger av hverandre, og vil endres fortløpende etterhvert som mer data kodes.',3),('Run-length-koding vil alltid lønne seg, siden den reduserer antall bits som trengs for å lagre informasjonen til en tidel av det den var.',4)],\n",
    "    description='',\n",
    "    layout=widgets.Layout(width='1100px'),\n",
    "    disabled=False\n",
    ")\n",
    "print('\\033[1m','17) Hva er sant om \"run-length-koding\"?','\\033[0m')\n",
    "check1 = widgets.Button(description=\"Sjekk svaret\")\n",
    "display(alternativ)\n",
    "display(check)\n",
    "\n",
    "\n",
    "def sjekksvar1(b):\n",
    "        a = int(alternativ.value)\n",
    "        right_answer = 2\n",
    "        if(a==right_answer): \n",
    "            color = '\\x1b[6;30;42m' + \"Riktig.\" + '\\x1b[0m' +\"\\n\" #fargen blir da grønn\n",
    "        else:\n",
    "            color = '\\x1b[5;30;41m' + \"Feil. \" + '\\x1b[0m' +\"\\n\" #ellers blir fargen rød\n",
    "        svar = [\"\",\"\",\"\",\"\"] #liste med egne tilbakemeldinger for hvert svar\n",
    "        with out:\n",
    "            clear_output()\n",
    "        with out:\n",
    "            print(color+\"\"+svar[a-1])   \n",
    "    \n",
    "        \n",
    "with out:\n",
    "    clear_output()\n",
    "display(out)\n",
    "check.on_click(sjekksvar1)"
   ]
  },
  {
   "cell_type": "code",
   "execution_count": 38,
   "metadata": {
    "ExecuteTime": {
     "end_time": "2019-07-09T06:38:56.304727Z",
     "start_time": "2019-07-09T06:38:56.190832Z"
    },
    "hide_input": true
   },
   "outputs": [
    {
     "name": "stdout",
     "output_type": "stream",
     "text": [
      "\u001b[1m 18) Extended ASCII (også kjent som ISO-8859-1) er \u001b[0m\n"
     ]
    },
    {
     "data": {
      "application/vnd.jupyter.widget-view+json": {
       "model_id": "24dfe55fcc8f4307910f842a38819b1f",
       "version_major": 2,
       "version_minor": 0
      },
      "text/plain": [
       "RadioButtons(layout=Layout(width='1100px'), options=(('8 bits kode', 1), ('7 bits kode', 2), ('10 bits kode', …"
      ]
     },
     "metadata": {},
     "output_type": "display_data"
    },
    {
     "data": {
      "application/vnd.jupyter.widget-view+json": {
       "model_id": "27afb1a869eb48a293fe2ca671777b2b",
       "version_major": 2,
       "version_minor": 0
      },
      "text/plain": [
       "Button(description='Sjekk svaret', style=ButtonStyle())"
      ]
     },
     "metadata": {},
     "output_type": "display_data"
    },
    {
     "data": {
      "application/vnd.jupyter.widget-view+json": {
       "model_id": "49d14eb257d14424a31834654befc90b",
       "version_major": 2,
       "version_minor": 0
      },
      "text/plain": [
       "Output()"
      ]
     },
     "metadata": {},
     "output_type": "display_data"
    }
   ],
   "source": [
    "import ipywidgets as widgets\n",
    "import sys\n",
    "from IPython.display import display\n",
    "from IPython.display import clear_output\n",
    "\n",
    "out = widgets.Output()\n",
    "\n",
    "alternativ = widgets.RadioButtons(\n",
    "    options=[('8 bits kode',1),('7 bits kode',2),('10 bits kode',3),('9 bits kode',4)],\n",
    "    description='',\n",
    "    layout=widgets.Layout(width='1100px'),\n",
    "    disabled=False\n",
    ")\n",
    "print('\\033[1m','18) Extended ASCII (også kjent som ISO-8859-1) er','\\033[0m')\n",
    "check1 = widgets.Button(description=\"Sjekk svaret\")\n",
    "display(alternativ)\n",
    "display(check)\n",
    "\n",
    "\n",
    "def sjekksvar1(b):\n",
    "        a = int(alternativ.value)\n",
    "        right_answer = 1\n",
    "        if(a==right_answer): \n",
    "            color = '\\x1b[6;30;42m' + \"Riktig.\" + '\\x1b[0m' +\"\\n\" #fargen blir da grønn\n",
    "        else:\n",
    "            color = '\\x1b[5;30;41m' + \"Feil. \" + '\\x1b[0m' +\"\\n\" #ellers blir fargen rød\n",
    "        svar = [\"\",\"\",\"\",\"\"] #liste med egne tilbakemeldinger for hvert svar\n",
    "        with out:\n",
    "            clear_output()\n",
    "        with out:\n",
    "            print(color+\"\"+svar[a-1])   \n",
    "    \n",
    "        \n",
    "with out:\n",
    "    clear_output()\n",
    "display(out)\n",
    "check.on_click(sjekksvar1)"
   ]
  },
  {
   "cell_type": "code",
   "execution_count": 47,
   "metadata": {
    "ExecuteTime": {
     "end_time": "2019-07-09T07:24:45.400280Z",
     "start_time": "2019-07-09T07:24:45.279747Z"
    },
    "hide_input": true
   },
   "outputs": [
    {
     "name": "stdout",
     "output_type": "stream",
     "text": [
      "\u001b[1m 19) Hvilket binært tall representeres av det hexadesimale tallet 39A? \u001b[0m\n"
     ]
    },
    {
     "data": {
      "application/vnd.jupyter.widget-view+json": {
       "model_id": "1a8bb8596d21442da0c173228e4e9dc9",
       "version_major": 2,
       "version_minor": 0
      },
      "text/plain": [
       "RadioButtons(layout=Layout(width='1100px'), options=(('001110011011', 1), ('001110011010', 2), ('011111101', 3…"
      ]
     },
     "metadata": {},
     "output_type": "display_data"
    },
    {
     "data": {
      "application/vnd.jupyter.widget-view+json": {
       "model_id": "27afb1a869eb48a293fe2ca671777b2b",
       "version_major": 2,
       "version_minor": 0
      },
      "text/plain": [
       "Button(description='Sjekk svaret', style=ButtonStyle())"
      ]
     },
     "metadata": {},
     "output_type": "display_data"
    },
    {
     "data": {
      "application/vnd.jupyter.widget-view+json": {
       "model_id": "6f7c370e72d144d8bb1bf0537ef316aa",
       "version_major": 2,
       "version_minor": 0
      },
      "text/plain": [
       "Output()"
      ]
     },
     "metadata": {},
     "output_type": "display_data"
    }
   ],
   "source": [
    "import ipywidgets as widgets\n",
    "import sys\n",
    "from IPython.display import display\n",
    "from IPython.display import clear_output\n",
    "\n",
    "out = widgets.Output()\n",
    "\n",
    "alternativ = widgets.RadioButtons(\n",
    "    options=[('001110011011',1),('001110011010',2),('011111101',3),('010110111100',4)],\n",
    "    description='',\n",
    "    layout=widgets.Layout(width='1100px'),\n",
    "    disabled=False\n",
    ")\n",
    "print('\\033[1m','19) Hvilket binært tall representeres av det hexadesimale tallet 39A?','\\033[0m')\n",
    "check1 = widgets.Button(description=\"Sjekk svaret\")\n",
    "display(alternativ)\n",
    "display(check)\n",
    "\n",
    "\n",
    "def sjekksvar1(b):\n",
    "        a = int(alternativ.value)\n",
    "        right_answer = 2\n",
    "        if(a==right_answer): \n",
    "            color = '\\x1b[6;30;42m' + \"Riktig.\" + '\\x1b[0m' +\"\\n\" #fargen blir da grønn\n",
    "        else:\n",
    "            color = '\\x1b[5;30;41m' + \"Feil. \" + '\\x1b[0m' +\"\\n\" #ellers blir fargen rød\n",
    "        svar = [\"\",\"\",\"\",\"\"] #liste med egne tilbakemeldinger for hvert svar\n",
    "        with out:\n",
    "            clear_output()\n",
    "        with out:\n",
    "            print(color+\"\"+svar[a-1])   \n",
    "        \n",
    "with out:\n",
    "    clear_output()\n",
    "display(out)\n",
    "check.on_click(sjekksvar1)"
   ]
  },
  {
   "cell_type": "code",
   "execution_count": 49,
   "metadata": {
    "ExecuteTime": {
     "end_time": "2019-07-09T07:24:59.489803Z",
     "start_time": "2019-07-09T07:24:59.349295Z"
    },
    "hide_input": false
   },
   "outputs": [
    {
     "name": "stdout",
     "output_type": "stream",
     "text": [
      "\u001b[1m 20) Navnet “Bob” skrives som “0100 0010 0110 1111 0110 0010” i Extended ASCII. Hvilket alternativ representerer ordet “obo” i Extended ASCII? \u001b[0m\n"
     ]
    },
    {
     "data": {
      "application/vnd.jupyter.widget-view+json": {
       "model_id": "e192a8c43ce7434687ddffcc368deef3",
       "version_major": 2,
       "version_minor": 0
      },
      "text/plain": [
       "RadioButtons(layout=Layout(width='1100px'), options=(('0110 1111 0110 0010 0110 1111', 1), ('0110 1111 0100 00…"
      ]
     },
     "metadata": {},
     "output_type": "display_data"
    },
    {
     "data": {
      "application/vnd.jupyter.widget-view+json": {
       "model_id": "27afb1a869eb48a293fe2ca671777b2b",
       "version_major": 2,
       "version_minor": 0
      },
      "text/plain": [
       "Button(description='Sjekk svaret', style=ButtonStyle())"
      ]
     },
     "metadata": {},
     "output_type": "display_data"
    },
    {
     "data": {
      "application/vnd.jupyter.widget-view+json": {
       "model_id": "a9efda2764ae4c63bee93c59941099d0",
       "version_major": 2,
       "version_minor": 0
      },
      "text/plain": [
       "Output()"
      ]
     },
     "metadata": {},
     "output_type": "display_data"
    }
   ],
   "source": [
    "import ipywidgets as widgets\n",
    "import sys\n",
    "from IPython.display import display\n",
    "from IPython.display import clear_output\n",
    "import time\n",
    "\n",
    "out = widgets.Output()\n",
    "\n",
    "alternativ = widgets.RadioButtons(\n",
    "    options=[('0110 1111 0110 0010 0110 1111',1),('0110 1111 0100 0010 0110 1111',2),('0100 0010 0110 0010 0100 0010',3),('0110 0010 0100 0010 0110 0010',4)],\n",
    "    description='',\n",
    "    layout=widgets.Layout(width='1100px'),\n",
    "    disabled=False\n",
    ")\n",
    "print('\\033[1m','20) Navnet “Bob” skrives som “0100 0010 0110 1111 0110 0010” i Extended ASCII. Hvilket alternativ representerer ordet “obo” i Extended ASCII?','\\033[0m')\n",
    "check1 = widgets.Button(description=\"Sjekk svaret\")\n",
    "display(alternativ)\n",
    "display(check)\n",
    "\n",
    "\n",
    "def sjekksvar1(b):\n",
    "        a = int(alternativ.value)\n",
    "        right_answer = 2\n",
    "        if(a==right_answer): \n",
    "            color = '\\x1b[6;30;42m' + \"Riktig.\" + '\\x1b[0m' +\"\\n\" #fargen blir da grønn\n",
    "        else:\n",
    "            color = '\\x1b[5;30;41m' + \"Feil. \" + '\\x1b[0m' +\"\\n\" #ellers blir fargen rød\n",
    "        svar = [\"\",\"\",\"\",\"\"] #liste med egne tilbakemeldinger for hvert svar\n",
    "        with out:\n",
    "            clear_output()\n",
    "        with out:\n",
    "            print(color+\"\"+svar[a-1])   \n",
    "        \n",
    "with out:\n",
    "    clear_output()\n",
    "display(out)\n",
    "check.on_click(sjekksvar1)"
   ]
  }
 ],
 "metadata": {
  "kernelspec": {
   "display_name": "Python 3",
   "language": "python",
   "name": "python3"
  },
  "language_info": {
   "codemirror_mode": {
    "name": "ipython",
    "version": 3
   },
   "file_extension": ".py",
   "mimetype": "text/x-python",
   "name": "python",
   "nbconvert_exporter": "python",
   "pygments_lexer": "ipython3",
   "version": "3.6.7"
  },
  "toc": {
   "base_numbering": 1,
   "nav_menu": {},
   "number_sections": false,
   "sideBar": true,
   "skip_h1_title": false,
   "title_cell": "Table of Contents",
   "title_sidebar": "Contents",
   "toc_cell": false,
   "toc_position": {},
   "toc_section_display": true,
   "toc_window_display": false
  }
 },
 "nbformat": 4,
 "nbformat_minor": 2
}
