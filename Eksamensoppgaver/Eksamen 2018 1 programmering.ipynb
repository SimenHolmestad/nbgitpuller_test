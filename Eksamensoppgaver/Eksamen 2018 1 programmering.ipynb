{
 "cells": [
  {
   "cell_type": "markdown",
   "metadata": {},
   "source": [
    " \n",
    "\n",
    "***I denne versjonen har vi fjernet fjervalgsoppgavene som til vanlig teller 25% av eksamen. Topp prosentscore er da altså 75%.***\n",
    "\n",
    "# Eksamen 2018 - 1"
   ]
  },
  {
   "cell_type": "markdown",
   "metadata": {},
   "source": [
    "## Oppgave 2a - Kodeforståelse (5%)"
   ]
  },
  {
   "cell_type": "markdown",
   "metadata": {},
   "source": [
    "Funksjonen **myst** har følgende kode:\n",
    ">```python\n",
    "def myst(val1, val2):\n",
    "    if(val1 and val2):\n",
    "        return 1\n",
    "    elif(val1 and not val2):\n",
    "        return 2\n",
    "    elif(not val1 and val2):\n",
    "        return 3\n",
    "    else:\n",
    "        return 4\n",
    "        ```\n",
    "        \n",
    "Hva returnes ved funksjonskallet under?\n",
    "```python\n",
    "myst(((True and False) or (False and True)),((False or True) and (not(not True))))```"
   ]
  },
  {
   "cell_type": "code",
   "execution_count": 21,
   "metadata": {
    "ExecuteTime": {
     "end_time": "2019-07-08T19:47:33.011447Z",
     "start_time": "2019-07-08T19:47:32.916273Z"
    },
    "hide_input": false
   },
   "outputs": [
    {
     "name": "stdout",
     "output_type": "stream",
     "text": [
      "Hvilket alternativ er riktig?\n"
     ]
    },
    {
     "data": {
      "application/vnd.jupyter.widget-view+json": {
       "model_id": "3a5c667d2a994060adebdbd025e64301",
       "version_major": 2,
       "version_minor": 0
      },
      "text/plain": [
       "RadioButtons(options=('1', '2', '3', '4'), value='1')"
      ]
     },
     "metadata": {},
     "output_type": "display_data"
    },
    {
     "data": {
      "application/vnd.jupyter.widget-view+json": {
       "model_id": "e258a93c6eaf467ea89d78802e93dc13",
       "version_major": 2,
       "version_minor": 0
      },
      "text/plain": [
       "Button(description='Sjekk svaret', style=ButtonStyle())"
      ]
     },
     "metadata": {},
     "output_type": "display_data"
    },
    {
     "data": {
      "application/vnd.jupyter.widget-view+json": {
       "model_id": "d11c38854ceb486e853e32a67989d546",
       "version_major": 2,
       "version_minor": 0
      },
      "text/plain": [
       "Output()"
      ]
     },
     "metadata": {},
     "output_type": "display_data"
    }
   ],
   "source": [
    "import ipywidgets as widgets\n",
    "import sys\n",
    "from IPython.display import display\n",
    "from IPython.display import clear_output\n",
    "\n",
    "out = widgets.Output()\n",
    "\n",
    "\n",
    "alternativ = widgets.RadioButtons(\n",
    "    options=['1', '2', '3','4'],\n",
    "    description='',\n",
    "    disabled=False\n",
    ")\n",
    "print(\"Hvilket alternativ er riktig?\")\n",
    "check1 = widgets.Button(description=\"Sjekk svaret\")\n",
    "display(alternativ)\n",
    "display(check1)\n",
    "\n",
    "\n",
    "def sjekksvar1(b):\n",
    "        a = int(alternativ.value)\n",
    "        right_answer = 3\n",
    "        if(a==right_answer): \n",
    "            color = '\\x1b[6;30;42m' + \"Riktig.\" + '\\x1b[0m' +\"\\n\" #fargen blir da grønn\n",
    "        else:\n",
    "            color = '\\x1b[5;30;41m' + \"Feil. \" + '\\x1b[0m' +\"\\n\" #ellers blir fargen rød\n",
    "        svar = [\"\",\n",
    "                \"\",\n",
    "                \"Vi kaller funksjonen med val1=False og val2=True. Da vil funksjonen returnere 3.\",\n",
    "                \"\"] #liste med egne tilbakemeldinger for hvert svar\n",
    "        with out:\n",
    "            clear_output()\n",
    "        with out:\n",
    "            print(color+svar[a-1])   \n",
    "    \n",
    "        \n",
    "        \n",
    "display(out)\n",
    "check1.on_click(sjekksvar1)\n"
   ]
  },
  {
   "cell_type": "markdown",
   "metadata": {
    "hide_input": true
   },
   "source": [
    "## Oppgave 2b - Kodeforståelse (5%)\n",
    "\n",
    "Funksjonen **sqr** skal ta innen liste (**numbers**) bestående av heltall som parameter. Funksjonen skal endre annethvert heltall i listen (fra og og med andre element) til kvadratet av heltallet(heltallet multiplisert med seg selv). Til slutt skal funksjonen returnere den endrede listen.\n",
    "\n",
    "Gitt funksjonen.\n",
    "\n",
    ">```python  \n",
    "def sqr(numbers)\n",
    "    <#KODE1>\n",
    "        numbers[x]=numbers[x]**2\n",
    "    return numbers\n",
    "```\n",
    "\n",
    "Eksempel på kall av funksjonen sqr:\n",
    "\n",
    ">```python\n",
    ">>>>numbers=sqr([2,4,6,8,10,12])\n",
    ">>>>print(numbers)\n",
    "[2,16,6,64,10,144]\n",
    "```\n",
    "    "
   ]
  },
  {
   "cell_type": "code",
   "execution_count": 22,
   "metadata": {
    "ExecuteTime": {
     "end_time": "2019-07-08T19:47:38.092071Z",
     "start_time": "2019-07-08T19:47:37.975771Z"
    },
    "hide_input": true
   },
   "outputs": [
    {
     "name": "stdout",
     "output_type": "stream",
     "text": [
      "\u001b[1m Hvordan skal linjen med innholdet <#KODE1> i koden til sqr se ut  for at funksjonen skal fungere på måten beskrevet over ved kjøring? \u001b[0m\n"
     ]
    },
    {
     "data": {
      "application/vnd.jupyter.widget-view+json": {
       "model_id": "182d02b53cbb434784735281ab66da34",
       "version_major": 2,
       "version_minor": 0
      },
      "text/plain": [
       "RadioButtons(options=(('for x in range(2, len(numbers)-1,2):', 1), ('for x in range(1, len(numbers)-1,2):', 2)…"
      ]
     },
     "metadata": {},
     "output_type": "display_data"
    },
    {
     "data": {
      "application/vnd.jupyter.widget-view+json": {
       "model_id": "cddbef26650848c895ac4919953a7407",
       "version_major": 2,
       "version_minor": 0
      },
      "text/plain": [
       "Button(description='Sjekk svaret', style=ButtonStyle())"
      ]
     },
     "metadata": {},
     "output_type": "display_data"
    },
    {
     "data": {
      "application/vnd.jupyter.widget-view+json": {
       "model_id": "4b73be7205404faebf2cdcd72cb45dde",
       "version_major": 2,
       "version_minor": 0
      },
      "text/plain": [
       "Output()"
      ]
     },
     "metadata": {},
     "output_type": "display_data"
    }
   ],
   "source": [
    "import ipywidgets as widgets\n",
    "import sys\n",
    "from IPython.display import display\n",
    "from IPython.display import clear_output\n",
    "\n",
    "out = widgets.Output()\n",
    "\n",
    "\n",
    "alternativ = widgets.RadioButtons(\n",
    "    options=[('for x in range(2, len(numbers)-1,2):', 1), ('for x in range(1, len(numbers)-1,2):', 2), ('for x in range(1, len(numbers),2):', 3),('for x in range(len(numbers),2):', 4), ('for x in numbers:', 5), ('while x in range(1,len(numbers),2):', 6)],\n",
    "    description='',\n",
    "    disabled=False\n",
    ")\n",
    "print('\\033[1m','Hvordan skal linjen med innholdet <#KODE1> i koden til sqr se ut  for at funksjonen skal fungere på måten beskrevet over ved kjøring?','\\033[0m')\n",
    "check2 = widgets.Button(description=\"Sjekk svaret\")\n",
    "display(alternativ)\n",
    "display(check2)\n",
    "\n",
    "\n",
    "def sjekksvar2(b):\n",
    "        a = int(alternativ.value)\n",
    "        right_answer = 3\n",
    "        if(a==right_answer): \n",
    "            color = '\\x1b[6;30;42m' + \"Riktig.\" + '\\x1b[0m' +\"\\n\" #fargen blir da grønn\n",
    "        else:\n",
    "            color = '\\x1b[5;30;41m' + \"Feil. \" + '\\x1b[0m' +\"\\n\" #ellers blir fargen rød\n",
    "        svar = [\"\",\"\",\"Vi vil begynne med andre element, så må vi ha 1 som nedre grense, deretter vil gå gjennom hele lista, altså len(numbers) som øvre grense, men bare ta med hvert andre element, dermed 2 i steglengde.\",\"\",\"\",\n",
    "                \"\"] #liste med egne tilbakemeldinger for hvert svar\n",
    "        with out:\n",
    "            clear_output()\n",
    "        with out:\n",
    "            print(color+\"\"+svar[a-1])   \n",
    "    \n",
    "        \n",
    "        \n",
    "display(out)\n",
    "check2.on_click(sjekksvar2)"
   ]
  },
  {
   "cell_type": "markdown",
   "metadata": {},
   "source": [
    "## Oppgave 2c - Kodeforståelse (10%)"
   ]
  },
  {
   "cell_type": "markdown",
   "metadata": {
    "hide_input": true
   },
   "source": [
    "Funksjonen\t**`prime_numbers`**\ter\tment\tå\treturnere\ten\tliste\tsom\tinneholder\talle\tprimtall,\tdvs.\ttall\tsom bare\tkan\tdeles\tmed\tseg\tselv\tog\t1,\ti\tet\tbestemt\tintervall\tangitt\tav\tparametrene\t**start**\tog\t**stopp**.\tAnta\tat start\talltid\tvil\tvære\tstørre\tenn\t0\tog\tmindre enn stopp.\n",
    "\n",
    "Gitt funksjonen:\n",
    ">```python\n",
    "def prime_numers(start,stopp):\n",
    "    primes=[]\n",
    "    for num in range(start,stop+1):\n",
    "        if num>1:\n",
    "            prime = True\n",
    "            for i in range(2,num):\n",
    "                <#KODE1>\n",
    "                    prime = False\n",
    "                    break\n",
    "            if prime:\n",
    "                <#KODE2>\n",
    "    return primes\n",
    "    ```\n",
    "    \n",
    "Eksempel på\tkall\tav\tfunksjonen\t**prime_numbers**:\n",
    ">```python\n",
    ">>>\tprimes = prime_numbers(1,16)\n",
    ">>>\tprint(primes)\n",
    "[2,3,5,7,11,13]```\n",
    "\n",
    "Hvordan\tskal\tlinjene\tmed\tinnholdet\t**#KODE1**\tog\t**#KODE2**\ti\tkoden\ttil\t**`prime_numbers`**\tse\tut\tfor\tat funksjonen\tskal\tha\tden\ttiltenkte\tvirkemåten\tunder kjøring?\n"
   ]
  },
  {
   "cell_type": "code",
   "execution_count": 17,
   "metadata": {
    "ExecuteTime": {
     "end_time": "2019-07-08T18:18:44.404811Z",
     "start_time": "2019-07-08T18:18:44.360950Z"
    },
    "hide_input": true
   },
   "outputs": [
    {
     "name": "stdout",
     "output_type": "stream",
     "text": [
      "\u001b[1m Velg et alternativ for #KODE1: \u001b[0m\n"
     ]
    },
    {
     "data": {
      "application/vnd.jupyter.widget-view+json": {
       "model_id": "91dd064a593a43c396d8cd704d9fd229",
       "version_major": 2,
       "version_minor": 0
      },
      "text/plain": [
       "RadioButtons(options=(('if(num//i) == 0:', 1), ('if num == i:', 2), ('if (num % i) == 0:', 3), ('if (num/i) ==…"
      ]
     },
     "metadata": {},
     "output_type": "display_data"
    },
    {
     "data": {
      "application/vnd.jupyter.widget-view+json": {
       "model_id": "21b3543a51434c228e760e925a000e5e",
       "version_major": 2,
       "version_minor": 0
      },
      "text/plain": [
       "Button(description='Sjekk svaret', style=ButtonStyle())"
      ]
     },
     "metadata": {},
     "output_type": "display_data"
    },
    {
     "data": {
      "application/vnd.jupyter.widget-view+json": {
       "model_id": "f452e3bd5e7542a4a691917395d3b49b",
       "version_major": 2,
       "version_minor": 0
      },
      "text/plain": [
       "Output()"
      ]
     },
     "metadata": {},
     "output_type": "display_data"
    }
   ],
   "source": [
    "import ipywidgets as widgets\n",
    "import sys\n",
    "from IPython.display import display\n",
    "from IPython.display import clear_output\n",
    "\n",
    "out = widgets.Output()\n",
    "\n",
    "\n",
    "alternativ = widgets.RadioButtons(\n",
    "    options=[('if(num//i) == 0:', 1), ('if num == i:', 2), ('if (num % i) == 0:', 3),('if (num/i) == 0:', 4), ('if (num/i) == 1:', 5), ('for j in range (2, num):', 6)],\n",
    "    description='',\n",
    "    disabled=False\n",
    ")\n",
    "print('\\033[1m','Velg et alternativ for #KODE1:','\\033[0m')\n",
    "check3 = widgets.Button(description=\"Sjekk svaret\")\n",
    "display(alternativ)\n",
    "display(check3)\n",
    "\n",
    "\n",
    "def sjekksvar3(b):\n",
    "        a = int(alternativ.value)\n",
    "        right_answer = 3\n",
    "        if(a==right_answer): \n",
    "            color = '\\x1b[6;30;42m' + \"Riktig.\" + '\\x1b[0m' +\"\\n\" #fargen blir da grønn\n",
    "        else:\n",
    "            color = '\\x1b[5;30;41m' + \"Feil. \" + '\\x1b[0m' +\"\\n\" #ellers blir fargen rød\n",
    "        svar = [\"\",\"\",\"Vi vil sjekke om et tall ikke er primtall, viss num modulo et annet tall blir null, er ikke num et primtall\",\"\",\"\",\n",
    "                \"\"] #liste med egne tilbakemeldinger for hvert svar\n",
    "        with out:\n",
    "            clear_output()\n",
    "        with out:\n",
    "            print(color+\"\"+svar[a-1])   \n",
    "    \n",
    "        \n",
    "        \n",
    "display(out)\n",
    "check3.on_click(sjekksvar3)"
   ]
  },
  {
   "cell_type": "code",
   "execution_count": 4,
   "metadata": {
    "ExecuteTime": {
     "end_time": "2019-07-08T18:12:29.414738Z",
     "start_time": "2019-07-08T18:12:29.299791Z"
    },
    "hide_input": true
   },
   "outputs": [
    {
     "name": "stdout",
     "output_type": "stream",
     "text": [
      "\u001b[1m Velg et alternativ for #KODE2: \u001b[0m\n"
     ]
    },
    {
     "data": {
      "application/vnd.jupyter.widget-view+json": {
       "model_id": "5ce0b67e7f774c63a3a5854543b180c4",
       "version_major": 2,
       "version_minor": 0
      },
      "text/plain": [
       "RadioButtons(options=(('break', 1), ('primes + num', 2), ('primes.append(i)', 3), ('continue', 4), ('primes.ap…"
      ]
     },
     "metadata": {},
     "output_type": "display_data"
    },
    {
     "data": {
      "application/vnd.jupyter.widget-view+json": {
       "model_id": "846febe316904857801f0f73150418bd",
       "version_major": 2,
       "version_minor": 0
      },
      "text/plain": [
       "Button(description='Sjekk svaret', style=ButtonStyle())"
      ]
     },
     "metadata": {},
     "output_type": "display_data"
    },
    {
     "data": {
      "application/vnd.jupyter.widget-view+json": {
       "model_id": "e1475c93ccc64a86921c02f2c5dba3a5",
       "version_major": 2,
       "version_minor": 0
      },
      "text/plain": [
       "Output()"
      ]
     },
     "metadata": {},
     "output_type": "display_data"
    }
   ],
   "source": [
    "import ipywidgets as widgets\n",
    "import sys\n",
    "from IPython.display import display\n",
    "from IPython.display import clear_output\n",
    "\n",
    "out = widgets.Output()\n",
    "\n",
    "\n",
    "alternativ = widgets.RadioButtons(\n",
    "    options=[('break', 1), ('primes + num', 2), ('primes.append(i)', 3),('continue', 4), ('primes.append(num)', 5), ('primes.extend(num)', 6)],\n",
    "    description='',\n",
    "    disabled=False\n",
    ")\n",
    "print('\\033[1m','Velg et alternativ for #KODE2:','\\033[0m')\n",
    "check4 = widgets.Button(description=\"Sjekk svaret\")\n",
    "display(alternativ)\n",
    "display(check4)\n",
    "\n",
    "\n",
    "def sjekksvar4(b):\n",
    "        a = int(alternativ.value)\n",
    "        right_answer = 5\n",
    "        if(a==right_answer): \n",
    "            color = '\\x1b[6;30;42m' + \"Riktig.\" + '\\x1b[0m' +\"\\n\" #fargen blir da grønn\n",
    "        else:\n",
    "            color = '\\x1b[5;30;41m' + \"Feil. \" + '\\x1b[0m' +\"\\n\" #ellers blir fargen rød\n",
    "        svar = [\"\",\"\",\"\",\"\",\"Dersom num er et primtall må vi legge det til i lista med append\",\n",
    "                \"\"] #liste med egne tilbakemeldinger for hvert svar\n",
    "        with out:\n",
    "            clear_output()\n",
    "        with out:\n",
    "            print(color+\"\"+svar[a-1])   \n",
    "    \n",
    "        \n",
    "        \n",
    "display(out)\n",
    "check4.on_click(sjekksvar4)"
   ]
  },
  {
   "cell_type": "markdown",
   "metadata": {},
   "source": [
    "## Oppgave 2d - Kodeforståelse (5%)\n",
    "\n",
    "Funksjonen\t**palindrome**\ttar\tinn\ten\tstreng\t\tsom\tparameter\tog\thar\ttil\thensikt\tå\tsjekke\tom\tordet\teller uttrykket\trepresentert\ti\tstrengen\tgir\tsamme\tresultat\tenten\tdet\tleses\tfra\thøyre\teller\tvenstre.\tHvis\tordet  eller\tutrykket\tgir\tsamme\tresultat\tskal\tfunksjonen\treturnere\tTrue.\tHvis\tikke\tskal\tden\treturnere\tFalse. Funksjonen\tskal\tkun\treturnere\tTrue\ti\ttilfeller\thvor\ttegnsetting\ti\tstrengen\tblir\thelt\tlik\tuavhengig\tavhvilken\tvei\tstrengen\tleses.\tDet\tbetyr\tat\tfunksjonskallet\tpalindrome(\"Radar\")\tvil\treturnere\tFalse\tsiden funksjonen skiller på store og små bokstaver.\n",
    "\n",
    "Gitt funksjonen:\n",
    ">```python\n",
    "def palindrome(s):\n",
    "    <#KODE1>\n",
    "    ```\n",
    "   \n",
    "Eksempel på kjøring av funksjonen palindrome:\n",
    ">```python\n",
    ">>>>palindrome(\"radar\")\n",
    "True\n",
    "```\n"
   ]
  },
  {
   "cell_type": "code",
   "execution_count": 5,
   "metadata": {
    "ExecuteTime": {
     "end_time": "2019-07-08T18:12:29.690532Z",
     "start_time": "2019-07-08T18:12:29.494303Z"
    },
    "hide_input": true
   },
   "outputs": [
    {
     "name": "stdout",
     "output_type": "stream",
     "text": [
      "\u001b[1m Hvordan skal linjen med innholder #KODE1 (return-setningen) i koden til palindrome se ut for at funksjonen skal fungere som beskrevet over ved kjøring?: \u001b[0m\n"
     ]
    },
    {
     "data": {
      "application/vnd.jupyter.widget-view+json": {
       "model_id": "17a2a5c7707f4555a2796ae8d9e29878",
       "version_major": 2,
       "version_minor": 0
      },
      "text/plain": [
       "RadioButtons(options=(('return not(bool(s.find(s[0.len(s):)))', 1), ('return bool(s.find(s[len(s).1]))', 2), (…"
      ]
     },
     "metadata": {},
     "output_type": "display_data"
    },
    {
     "data": {
      "application/vnd.jupyter.widget-view+json": {
       "model_id": "8c96940623d34818ab3c41220d9a39e0",
       "version_major": 2,
       "version_minor": 0
      },
      "text/plain": [
       "Button(description='Sjekk svaret', style=ButtonStyle())"
      ]
     },
     "metadata": {},
     "output_type": "display_data"
    },
    {
     "data": {
      "application/vnd.jupyter.widget-view+json": {
       "model_id": "e79182d326244d9e96bd9a176ff2cb5b",
       "version_major": 2,
       "version_minor": 0
      },
      "text/plain": [
       "Output()"
      ]
     },
     "metadata": {},
     "output_type": "display_data"
    }
   ],
   "source": [
    "import ipywidgets as widgets\n",
    "import sys\n",
    "from IPython.display import display\n",
    "from IPython.display import clear_output\n",
    "\n",
    "out = widgets.Output()\n",
    "\n",
    "\n",
    "alternativ = widgets.RadioButtons(\n",
    "    options=[('return not(bool(s.find(s[0.len(s):)))', 1), ('return bool(s.find(s[len(s).1]))', 2), ('return not(bool(s.find(s[len(s):1])))', 3),('return bool(s.find(s[len(s):1]))', 4), ('return bool(s.find(s[::-1]))', 5), ('return not(bool(s.find(s[::-1])))', 6)],\n",
    "    description='',\n",
    "    disabled=False\n",
    ")\n",
    "print('\\033[1m','Hvordan skal linjen med innholder #KODE1 (return-setningen) i koden til palindrome se ut for at funksjonen skal fungere som beskrevet over ved kjøring?:','\\033[0m')\n",
    "check5 = widgets.Button(description=\"Sjekk svaret\")\n",
    "display(alternativ)\n",
    "display(check5)\n",
    "\n",
    "\n",
    "def sjekksvar5(b):\n",
    "        a = int(alternativ.value)\n",
    "        right_answer = 6\n",
    "        if(a==right_answer): \n",
    "            color = '\\x1b[6;30;42m' + \"Riktig.\" + '\\x1b[0m' +\"\\n\" #fargen blir da grønn\n",
    "        else:\n",
    "            color = '\\x1b[5;30;41m' + \"Feil. \" + '\\x1b[0m' +\"\\n\" #ellers blir fargen rød\n",
    "        svar = [\"\",\"\",\"\",\"\",\"\",\n",
    "                \"s[::-1] vil gi oss strengen s i motsatt rekkefølge. s.find(s[::-1]) vil da gi 0 dersom s er et palindrom, siden s er lik s baklengs. Bool funksjonen fungerer slik at alt annen enn 0 blir True, mens 0 blir False. Dermed må vi slenge på en not, slik at et palindrom gir True, mens ord som ikke er det gir False.\"] #liste med egne tilbakemeldinger for hvert svar\n",
    "        with out:\n",
    "            clear_output()\n",
    "        with out:\n",
    "            print(color+\"\"+svar[a-1])   \n",
    "    \n",
    "        \n",
    "        \n",
    "display(out)\n",
    "check5.on_click(sjekksvar5)"
   ]
  },
  {
   "cell_type": "markdown",
   "metadata": {},
   "source": [
    "## Oppgave 2e - Kodeforståelse (5%)"
   ]
  },
  {
   "cell_type": "markdown",
   "metadata": {},
   "source": [
    "Gitt funksjonen.\n",
    ">```python\n",
    "def myst(tall1,tall2,nr):\n",
    "    for i in range(2,nr):\n",
    "        nytt = tall1 + tall2\n",
    "        tall1 = tall2\n",
    "        tall2 = nytt\n",
    "    return nytt\n",
    "    ```\n",
    "    \n",
    "Hva skrives ut når følgende kode kjøres?\n",
    "\n",
    ">```python \n",
    "print(myst(0,1,7))```"
   ]
  },
  {
   "cell_type": "code",
   "execution_count": 4,
   "metadata": {
    "ExecuteTime": {
     "end_time": "2019-07-09T06:41:53.898029Z",
     "start_time": "2019-07-09T06:41:53.832147Z"
    },
    "hide_input": true
   },
   "outputs": [
    {
     "name": "stdout",
     "output_type": "stream",
     "text": [
      "Hvilket alternativ er riktig?\n"
     ]
    },
    {
     "data": {
      "application/vnd.jupyter.widget-view+json": {
       "model_id": "e425d8fe78d849d48f0b8f6d45e147e6",
       "version_major": 2,
       "version_minor": 0
      },
      "text/plain": [
       "RadioButtons(options=((5, 1), (8.0, 2), (11, 3), (13, 4), (13.0, 5), (8, 6)), value=1)"
      ]
     },
     "metadata": {},
     "output_type": "display_data"
    },
    {
     "data": {
      "application/vnd.jupyter.widget-view+json": {
       "model_id": "fa77d494e6a44668a922f90e75d7b787",
       "version_major": 2,
       "version_minor": 0
      },
      "text/plain": [
       "Button(description='Sjekk svaret', style=ButtonStyle())"
      ]
     },
     "metadata": {},
     "output_type": "display_data"
    },
    {
     "data": {
      "application/vnd.jupyter.widget-view+json": {
       "model_id": "a91f0b3dfc674e2baf18b5b4ded1559b",
       "version_major": 2,
       "version_minor": 0
      },
      "text/plain": [
       "Output()"
      ]
     },
     "metadata": {},
     "output_type": "display_data"
    }
   ],
   "source": [
    "import ipywidgets as widgets\n",
    "import sys\n",
    "from IPython.display import display\n",
    "from IPython.display import clear_output\n",
    "\n",
    "out = widgets.Output()\n",
    "\n",
    "\n",
    "alternativ = widgets.RadioButtons(\n",
    "    options=[(5, 1), (8.0, 2), (11, 3),(13, 4), (13.0, 5), (8, 6)],\n",
    "    description='',\n",
    "    disabled=False\n",
    ")\n",
    "print(\"Hvilket alternativ er riktig?\")\n",
    "check6 = widgets.Button(description=\"Sjekk svaret\")\n",
    "display(alternativ)\n",
    "display(check6)\n",
    "\n",
    "\n",
    "def sjekksvar6(b):\n",
    "        a = int(alternativ.value)\n",
    "        right_answer = 6\n",
    "        if(a==right_answer): \n",
    "            color = '\\x1b[6;30;42m' + \"Riktig.\" + '\\x1b[0m' +\"\\n\" #fargen blir da grønn\n",
    "        else:\n",
    "            color = '\\x1b[5;30;41m' + \"Feil. \" + '\\x1b[0m' +\"\\n\" #ellers blir fargen rød\n",
    "        svar = [\"\",\"\",\"\",\"\",\"\",\n",
    "                \"Her må vi bare jobbe oss gjennom lista, det kan være lurt å skrive ned resultatet for hver iterasjon\"] #liste med egne tilbakemeldinger for hvert svar\n",
    "        with out:\n",
    "            clear_output()\n",
    "        with out:\n",
    "            print(color+\"\"+svar[a-1])   \n",
    "    \n",
    "        \n",
    "        \n",
    "display(out)\n",
    "check6.on_click(sjekksvar6)"
   ]
  },
  {
   "cell_type": "markdown",
   "metadata": {},
   "source": [
    "## Oppgave 2f - Kodeforståelse (5%)"
   ]
  },
  {
   "cell_type": "markdown",
   "metadata": {},
   "source": [
    "Gitt funksjonen:\n",
    "\n",
    ">```python\n",
    "def myst(x,y):\n",
    "    if x%y==0:\n",
    "        return y\n",
    "    else:\n",
    "        return myst(y,x%y)\n",
    "```\n",
    "\n",
    "Hva skrives ut når følgende kode kjøres?\n",
    ">```python\n",
    "print(myst(24,88)) \n",
    "```"
   ]
  },
  {
   "cell_type": "code",
   "execution_count": 3,
   "metadata": {
    "ExecuteTime": {
     "end_time": "2019-07-09T06:41:42.492979Z",
     "start_time": "2019-07-09T06:41:42.298709Z"
    },
    "hide_input": true
   },
   "outputs": [
    {
     "name": "stdout",
     "output_type": "stream",
     "text": [
      "Hvilket alternativ er riktig?\n"
     ]
    },
    {
     "data": {
      "application/vnd.jupyter.widget-view+json": {
       "model_id": "",
       "version_major": 2,
       "version_minor": 0
      },
      "text/plain": [
       "RadioButtons(options=((8, 1), (6, 2), (16, 3), (4, 4), (12, 5), (18, 6)), value=1)"
      ]
     },
     "metadata": {},
     "output_type": "display_data"
    },
    {
     "data": {
      "application/vnd.jupyter.widget-view+json": {
       "model_id": "",
       "version_major": 2,
       "version_minor": 0
      },
      "text/plain": [
       "Button(description='Sjekk svaret', style=ButtonStyle())"
      ]
     },
     "metadata": {},
     "output_type": "display_data"
    },
    {
     "data": {
      "application/vnd.jupyter.widget-view+json": {
       "model_id": "",
       "version_major": 2,
       "version_minor": 0
      },
      "text/plain": [
       "Output()"
      ]
     },
     "metadata": {},
     "output_type": "display_data"
    }
   ],
   "source": [
    "import ipywidgets as widgets\n",
    "import sys\n",
    "from IPython.display import display\n",
    "from IPython.display import clear_output\n",
    "\n",
    "out = widgets.Output()\n",
    "\n",
    "\n",
    "alternativ = widgets.RadioButtons(\n",
    "    options=[(8, 1), (6, 2), (16, 3),(4, 4), (12, 5), (18, 6)],\n",
    "    description='',\n",
    "    disabled=False\n",
    ")\n",
    "print(\"Hvilket alternativ er riktig?\")\n",
    "check6 = widgets.Button(description=\"Sjekk svaret\")\n",
    "display(alternativ)\n",
    "display(check6)\n",
    "\n",
    "\n",
    "def sjekksvar6(b):\n",
    "        a = int(alternativ.value)\n",
    "        right_answer = 1\n",
    "        if(a==right_answer): \n",
    "            color = '\\x1b[6;30;42m' + \"Riktig.\" + '\\x1b[0m' +\"\\n\" #fargen blir da grønn\n",
    "        else:\n",
    "            color = '\\x1b[5;30;41m' + \"Feil. \" + '\\x1b[0m' +\"\\n\" #ellers blir fargen rød\n",
    "        svar = [\"\",\"\",\"\",\"\",\"\",\n",
    "                \"\"] #liste med egne tilbakemeldinger for hvert svar\n",
    "        with out:\n",
    "            clear_output()\n",
    "        with out:\n",
    "            print(color+\"\"+svar[a-1])   \n",
    "    \n",
    "        \n",
    "        \n",
    "display(out)\n",
    "check6.on_click(sjekksvar6)"
   ]
  },
  {
   "cell_type": "markdown",
   "metadata": {},
   "source": [
    "## Task 3 - multigames: beskrivelse"
   ]
  },
  {
   "cell_type": "markdown",
   "metadata": {},
   "source": [
    "Du\ter\tmed\ti\tarrangementskomitéen\tfor\tde\tårlige\tflerkamplekene\tsom\tarrangeres\ti\tbygården du\tbor\ti.\tAlle\tdeltakere\ter\tmed\tpå\tfem\tulike\tøvelser,\tog\tresultatene\tlagres\ti\ten\tfil\tpå\tfølgende format\t(se\togså\tnederst\ti\tfunksjonshjelpen\ttil\tvenstre):\n",
    "\n",
    "Name,\t\t\t\tPoker,\t\tHighjump,\t\tBalloonshooting,\tSausageEating,\t\tHoldBreath\n",
    "\n",
    "John,  8,\t\t\t\t\t\t\t\t\t1.67,\t\t\t\t\t\t17,\t\t\t\t\t\t\t\t\t\t\t\t\t\t23,\t\t\t\t\t\t\t\t\t\t\t\t\t2:01.65\n",
    "\n",
    "Lisa,\t\t\t\t12,\t\t\t\t\t\t\t\t1.30,\t\t\t\t\t\t12,\t\t\t\t\t\t\t\t\t\t\t\t\t\t13,\t\t\t\t\t\t\t\t\t\t\t\t\t1:13.02\n",
    "\n",
    "Per,\t\t\t\t\t8,\t\t\t\t\t\t\t\t\t1.55,\t\t\t\t\t\t8,\t\t\t\t\t\t\t\t\t\t\t\t\t\t\t0,\t\t\t\t\t\t\t\t\t\t\t\t\t\t1:51.35\n",
    "\n",
    "Nelly,\t\t\t2,\t\t\t\t\t\t\t\t\t1.34,\t\t\t\t\t\t9,\t\t\t\t\t\t\t\t\t\t\t\t\t\t\t17,\t\t\t\t\t\t\t\t\t\t\t\t\t0:31.18\n",
    "\n",
    "Jørn,\t\t\t\t5,\t\t\t\t\t\t\t\t\t1.87,\t\t\t\t\t\t13,\t\t\t\t\t\t\t\t\t\t\t\t\t\t5,\t\t\t\t\t\t\t\t\t\t\t\t\t\t2:01.65\n",
    "\n",
    "...\tlisten\tfortsetter\tmed\tén\tlinje\tfor\thver\tdeltaker.\tDu\tkan\tforutsette\tat\talle\tdeltakerne\thar verdier\tfor\talle\tøvelsene,\tselv\tom\tnoen\tav\tdem\tkan\tha\t0.\tDu\tkan\togså\tforutsette\tat\ti\tsenere oppgaver\tbetyr\thøyere\tverdi\ti\ten\tøvelse\tet\tBEDRE\tresultat.\n",
    "\n",
    "For\tå\tgi\tlesbarhet\thar\tdenne\tfilen\tlitt\tspesiell\tstruktur.\tHvert\telement\ter\tseparert\tmed\tet komma\t‘,’\tog\tet\t**variabelt**\tantall\tmellomrom\t(whitespace)\t‘    ‘.\n",
    "\n",
    "Deltakernes\tnavn\ter\tskrevet\ti\tførste\tkolonne.\t**Deltakernes\trekkefølge\ter\tukjent**. Tilsvarende\tinneholder\tden\tførste\traden\tnavnet\tpå\tøvelsene.\t**Øvelsenes\trekkefølge\tkan også\tvariere\t(men\tden\ter\tlik\tfor\talle\tdeltakerne)**.\tI\tde\tfølgende\toppgavene\tmå\tdere derfor\tvelge\ten\tløsning\tsom\ttar\thensyn\ttil\tat\tman\tikke\tkan\tvite\tat\tresultatene\tfra ballongskytingen\tkommer\ti\tkolonne\t3\tog\tliknende.\tDu\tkan\tderimot\tforutsette\tat\tresultatet\ttil hver\tdeltaker\ti\ten\tøvelse\ter\ti\tsamme\tkollonne\tsom\tøvelsens\tnavn.\n",
    "\n",
    "**Eksisterende\tfunksjon\tdu\tkan\tbruke\tved\tbehov**\n",
    "\n",
    "Det\teksisterer\ten\tallerede\tkodet\tfunksjon\tdere\tkan\tbruke\tved\tbehov,\tkalt sort_list(mylist,elemnum).\tDen\ttar\tto\tparametre.\tDen\tførste\ter\ten\ttodimensjonal\tliste.\tDen andre\tparameteren\tbestemmer\thvilken\tkolonne\tlisten\tskal\tsorteres\tpå.\tFunksjone nreturnerer\tden\tsamme\tlisten,\tmen\tmed\telementene\tsortert\tetter\tvalgt\telementnummer.Eksempel\tpå\tbruk\tav\tsort_list(mylist,elemnum):\tLegg\tmerke\ttil\tat\tden\tsorterer\tpå\tverdien\tav den\tandre\telementet\ti\thver\tsubliste\tved\tå\tkalle\tsort_list med parameteren 1.\n",
    "```python\n",
    ">>>\tsort_list([['John',8],['Lisa',12],['Per',8]],1)\n",
    "[['Lisa',12],['John',8],['Per',8]]\n",
    "#Her kom ['Lisa', 12] først siden 12 var det høyeste tallet\t\n",
    "```"
   ]
  },
  {
   "cell_type": "code",
   "execution_count": 8,
   "metadata": {
    "ExecuteTime": {
     "end_time": "2019-07-08T18:12:30.095359Z",
     "start_time": "2019-07-08T18:12:30.088710Z"
    }
   },
   "outputs": [],
   "source": [
    "def sort_list(mylist,elemnum):\n",
    "    return sorted(mylist,key=lambda l:l[elemnum], reverse=True)\n",
    "\n"
   ]
  },
  {
   "cell_type": "markdown",
   "metadata": {},
   "source": [
    "## Oppgave 3a - Programmering (5%)"
   ]
  },
  {
   "cell_type": "markdown",
   "metadata": {},
   "source": [
    "Skriv\tfunksjonen\t**read_file**\tsom\ttar\ten\tinn-parameter\t**filename**.\tDenne\tfunksjonen\tskal\tlese inn\ten\ttekstfil\t**filename**,\tsom\tbekriver\tresultatene\tfra\tårets\tflerkamp-konkurranse.Resultatene\ter\tlagret\ti\ttekstfilen\t*flerkamp.txt*,\tsom\tligger\ti\tden\tsamme\tmappen\t(directory)som\tdu\tskal\tlagre\tpython-koden.\tResultatene\ti\ttekstfilen\ter\tpå\tformatet\tbeskrevet over.\tFunksjonen\tskal\treturnere\tinnholdet\ti\ttekstfilen\ti\tform\tav\tén\tlang\tstreng.\tDersom\tfilen ikke\tfinnes\tskal\tfunksjonen\tskrive\tut\tfeilmeldingen\t\"Kan\tikke\tfinne\tfilen\tflerkamp.txt\"\ttil skjermen,\tog\treturnere\tverdien\t*None*.\n",
    "\n",
    "Eksempel\tpå\tkjøring\tav\tfunksjonen\tog\tutskrift\tav\treturverdi:\n",
    ">```python\n",
    ">>>>\tresultater\t=\tread_file('flerkamp.txt')\n",
    ">>>>\tresultater\n",
    "'Name,\t\t\t\tPoker,\t\tHighjump,\t\tBalloonshooting,\tSausageEating,\t\tHoldBreath\\nJohn,\t\t\t\t8,\t\t\t\t\t\t\t\t1.67,\t\t\t\t\t\t17,\t\t\t\t\t\t\t\t\t\t\t\t\t\t23,\t\t\t\t\t\t\t\t\t\t\t\t\t2:01.65\\nLisa,\t\t\t\t12,\t\t\t\t\t\t\t\t1.30,\t\t\t\t\t\t12,\t\t\t\t\t\t\t\t\t\t\t\t\t\t13,\t\t\t\t\t\t\t\t\t\t\t\t1:13.02\\nPer,\t\t\t\t\t8,\t\t\t\t\t\t\t\t\t1.55,\t\t\t\t\t\t8,\t\t\t\t\t\t\t\t\t\t\t\t\t\t\t0,\t\t\t\t\t\t\t\t\t\t\t\t\t\t1:51.35\\nNelly,\t\t\t2,\t\t\t\t\t\t\t\t1.34,\t\t\t\t\t\t9,\t\t\t\t\t\t\t\t\t\t\t\t\t\t\t17,\t\t\t\t\t\t\t\t\t\t\t\t\t0:31.18\\nNora,\t\t\t\t5,\t\t\t\t\t\t\t\t\t1.87,\t\t\t\t\t\t13,\t\t\t\t\t\t\t\t\t\t\t\t\t\t5,\t\t\t\t\t\t\t\t\t\t\t\t\t2:01.65\\n\n",
    "```"
   ]
  },
  {
   "cell_type": "code",
   "execution_count": 9,
   "metadata": {
    "ExecuteTime": {
     "end_time": "2019-07-08T18:12:30.122188Z",
     "start_time": "2019-07-08T18:12:30.097632Z"
    }
   },
   "outputs": [],
   "source": [
    "#skriv koden din her"
   ]
  },
  {
   "cell_type": "markdown",
   "metadata": {},
   "source": [
    "## Oppgave 3b - programmering (5%)"
   ]
  },
  {
   "cell_type": "markdown",
   "metadata": {},
   "source": [
    "Skriv\tfunksjonen\t**`list_from_string`**\tsom\ttar\tinn\tstrengen\t**txt**\tsom\tinn-parameter.\tForutsett at\t**txt**\thar\tet\tformat\ttilsvarende\tén\tenkelt\tlinje\ti\t*flerkamp.txt*,\tdvs.\tet\tsett\tmed\tverdier\t(navn og\tresultat\tper\tøvelse)\tseparert\tmed\tkomma\tog\tet\tvilkårlig\tantall\tmellomrom\t(whitespace). Funksjonen\tskal\treturnere\ten\tliste\tmed\tstrenger\tsom\tbeskriver\tde\tenkelte\tverdiene. Eventuelle\tmellomrom,\tlinjeskift\teller\ttabulatorer\t(whitespace)\ti\tstrengen\tmå\tfjernes\tfra hvert\telement\ti\tlisten\tfør\tlisten returneres.\n",
    "\n",
    "Eksempel på bruk:\n",
    "\n",
    "```python \n",
    ">>>>\tlist_from_string(\"Lisa,\t\t12,\t\t\t1.30,\t\t\t12,\t\t\t\t13,\t\t1:13.02\\n\")\n",
    "['Lisa','12','1.30','12','13','1:13.02']\n",
    "```"
   ]
  },
  {
   "cell_type": "code",
   "execution_count": 10,
   "metadata": {
    "ExecuteTime": {
     "end_time": "2019-07-08T18:12:30.218767Z",
     "start_time": "2019-07-08T18:12:30.188006Z"
    }
   },
   "outputs": [],
   "source": [
    "#skriv koden din her"
   ]
  },
  {
   "cell_type": "markdown",
   "metadata": {},
   "source": [
    "## Oppgave 3c - Programmering (5%)"
   ]
  },
  {
   "cell_type": "markdown",
   "metadata": {},
   "source": [
    "Skriv\tfunksjonen\t**`make_result_list`**\tsom\ttar\tinn\tstrengen\treturnert\tav\tfunksjonen\t**read_file**(Oppgave\t3a)\tsom\tinn-parameter.\tFunksjonen\t**`make_result_list`**\tskal\treturnere\ten\tto-dimensjonal\tliste\tder\thvert\tlisteelement\ter\ten\tliste\tsom\tinnholder\tverdiene\tfra\thver\tlinje\ti filen\t*flerkamp.txt*.\tBruk\tgjerne\tfunksjonen\t**`list_from_string`**\t(Oppgave\t3b)\ti\tløsningen\tdin.\n",
    "\n",
    "Eksempel\tpå\tbruk:\n",
    ">```python\n",
    ">>>\tstring=read_file('flerkamp.txt')\n",
    ">>>\tstring\n",
    "'Name,\t\t\t\tPoker,\t\tHighjump,\t\tBalloonshooting,\tSausageEating,\t\tHoldBreath\\nJohn,\t\t\t\t8,\t\t\t\t\t\t\t\t1.67,\t\t\t\t\t\t17,\t\t\t\t\t\t\t\t\t\t\t\t\t\t23,\t\t\t\t\t\t\t\t\t\t\t\t\t2:01.65\\nLisa,\t\t\t\t12,\t\t\t\t\t\t\t\t1.30,\t\t\t\t\t\t12,\t\t\t\t\t\t\t\t\t\t\t\t\t\t13,\t\t\t\t\t\t\t\t\t\t\t\t1:13.02\\nPer,\t\t\t\t\t8,\t\t\t\t\t\t\t\t\t1.55,\t\t\t\t\t\t8,\t\t\t\t\t\t\t\t\t\t\t\t\t\t\t0,\t\t\t\t\t\t\t\t\t\t\t\t\t\t1:51.35\\nNelly,\t\t\t2,\t\t\t\t\t\t\t\t\t1.34,\t\t\t\t\t\t9,\t\t\t\t\t\t\t\t\t\t\t\t\t\t17,\t\t\t\t\t\t\t\t\t\t\t\t\t0:31.18\\nNora,\t\t\t\t5,\t\t\t\t\t\t\t\t\t1.87,\t\t\t\t\t\t13,\t\t\t\t\t\t\t\t\t\t\t\t\t\t5,\t\t\t\t\t\t\t\t\t\t\t\t\t\t2:01.65'\n",
    ">>>\tresults=make_result_list(string)\n",
    ">>>\tresults\n",
    "[['Name','Poker','Highjump','Balloonshooting','SausageEating','HoldBreath'],['John','8','1.67','17','23','2:01.65'],['Lisa','12','1.30','12','13','1:13.02'],['Per','8','1.55','8','0','1:51.35'],['Nelly','2','1.34','9','17','0:31.18'],['Nora','5','1.87','13','5','2:01.65']]\n",
    "```"
   ]
  },
  {
   "cell_type": "code",
   "execution_count": 11,
   "metadata": {
    "ExecuteTime": {
     "end_time": "2019-07-08T18:12:30.250446Z",
     "start_time": "2019-07-08T18:12:30.222959Z"
    }
   },
   "outputs": [],
   "source": [
    "#skriv koden din her"
   ]
  },
  {
   "cell_type": "markdown",
   "metadata": {},
   "source": [
    "## Oppgave 3d - Programmering (6%)"
   ]
  },
  {
   "cell_type": "markdown",
   "metadata": {},
   "source": [
    "Skriv\tfunksjonen\t**`time_to_seconds`**\tsom\ttar\tstrengen\t**time**\tsom\tinn-parameter.\tStrengen\tangir\ten\tdeltakers\tsluttid\ti\ten\tøvelse\t(f.eks.\tholde\tpusten\tlengst\tmulig)\tog\tvil\tha følgende\tformat:\t*min:sek.hundredeler*.\tFunksjonen\tskal\tgjøre\tom\tstrengen\ttil\tet\tflyttall med\tformatet\t*sekunder.hundredeler*\tog\treturnere\tdette\tflyttallet.\tEksempel\tpå\tbruk:\n",
    ">```python\n",
    ">>>> time_to_seconds('2:01.65')\n",
    "121.65\n",
    ">>>> print(type(time_to_seconds('2:21.65'))\n",
    "<class 'float'>\n",
    "```"
   ]
  },
  {
   "cell_type": "code",
   "execution_count": 12,
   "metadata": {
    "ExecuteTime": {
     "end_time": "2019-07-08T18:12:30.292560Z",
     "start_time": "2019-07-08T18:12:30.253757Z"
    }
   },
   "outputs": [],
   "source": [
    "#skriv koden din her"
   ]
  },
  {
   "cell_type": "markdown",
   "metadata": {},
   "source": [
    "## Oppgave 3e - Programmering (9%)"
   ]
  },
  {
   "cell_type": "markdown",
   "metadata": {},
   "source": [
    "Skriv\tfunksjonen\t**`str_to_numbers`**\tsom\ttar\tinn\t**results**,\ten\tto-dimensjonal liste,\tsom\tparameter.\tFunksjonen\tskal\tkunne\tta\tinn\tden\tto-dimensjonale\tlisten\tsom returneres\tfra\tfunksjonen\t**`make_result_list`**\t(Oppgave\t3c)\tog\tgjøre\tom\ttall\tpå\tstrengformat til\theltall\teller\tflyttall.\tHvis\tet\telement\thar\tformatet\t‘2:23.56’\tskal\tdisse\tgjøres\tom\ttil\tantall sekunder\tog\tantall\thundredeler\t(altså\ther\t143.56\tsom\tflyttall).\tHvis\telementet\thar\tformatet '1.3'\tskal\tdet\tgjøres\tom\ttil\tet\tflyttall,\tmens\thvis\tstrengen\tbare\tinneholder\tet\ttall\tsom\t'12' skal\tden\tgjøres\tom\ttil\tet\theltall.\tFunksjonen\tstr_to_numbers\tskal\treturnere\tden\tformaterte(to-dimensjonale)\tlisten.\n",
    "\n",
    "Eksempel\tpå\tbruk:\n",
    "```python\n",
    ">>>\t#results inneholder resultatet fra oppgave 3c, og den har følgende format:\n",
    ">>>\tresults\t#Dette er formatet fra oppgave 3c\n",
    "[['Name','Poker','Highjump','Balloonshooting','SausageEating','HoldBreath'],['John','8','1.67','17','23','2:01.65'],['Lisa','12','1.30','12','13','1:13.02'],['Per','8','1.55','8','0','1:51.35'],['Nelly','2','1.34','9','17','0:31.18'],['Nora','5','1.87','13','5','2:01.65']]\n",
    ">>>\tresults=str_to_number(results)\n",
    ">>>\tresults\t#Dette er results fra oppgave 3e\n",
    "[['Name','Poker','Highjump','Balloonshooting','SausageEating','HoldBreath'],['John',8,1.67,17,23,121.65],\n",
    " ['Lisa',12,1.3,12,13,73.02],['Per',8,1.55,8,0,111.35],['Nelly',2,1.34,9,17,31.18],\n",
    " ['Nora',5,1.87,13,5,121.65]\n",
    "```"
   ]
  },
  {
   "cell_type": "code",
   "execution_count": 13,
   "metadata": {
    "ExecuteTime": {
     "end_time": "2019-07-08T18:12:30.323772Z",
     "start_time": "2019-07-08T18:12:30.295841Z"
    }
   },
   "outputs": [],
   "source": [
    "#skriv svaret ditt her"
   ]
  },
  {
   "cell_type": "markdown",
   "metadata": {},
   "source": [
    "## Oppgave 3f – Programmering (5%)"
   ]
  },
  {
   "cell_type": "markdown",
   "metadata": {},
   "source": [
    "Skriv\tfunksjonen\t**`find_data`**,\tsom\thar\tinput-parametrene\t**event**,\t**name**\tog\t**results**.Parametrene\tinneholder,\ti\tden\trekkefølgen,\ten\tøvelse,\tdeltagerens\tnavn\tog\tresultatlisten\tfor en\tfullstendig\tflerkamps-konkurranse.\tDenne\tlisten\ter\tformattert\tslik\tsom\tden\treturneres fra\tfunksjonen **`str_to_numbers`**\t(i\toppgave\t3e).\tNavnet\tpå\tøvelsene\tog\tdeltagerne\ter\ti ukjent\trekkefølge.\n",
    "\n",
    "Funksjonen\tskal\tbruke\tlisten\ttil\tå\tfinne\tresultatet\tfor\ten\tdeltager\ti\tden\toppgitte\tøvelsen,\tog returnere\tdenne\tverdien.\n",
    "\n",
    "I\teksempelet\tunder\ter\tdet\tvist\thvordan\tresultatet\t(returverdien\tfra\t**`str_to_numbers`**)\tser\tut før\t**`find_data`**\tblir\tkjørt:\n",
    ">```python\n",
    ">>>>results\n",
    "[['Name','Poker','Highjump','Balloonshooting','SausageEating','HoldBreath'],['John',8,1.67,17,23,121.65],['Lisa',12,1.3,12,13,73.02],['Per',8,1.55,8,0,111.35],['Nelly',2,1.34,9,17,31.18],['Nora',5,1.87,13,5,121.65]]\n",
    ">>>>find_data('SausageEating','John',results)\n",
    "23\n",
    "```"
   ]
  },
  {
   "cell_type": "code",
   "execution_count": null,
   "metadata": {},
   "outputs": [],
   "source": [
    "#skriv koden din her"
   ]
  },
  {
   "cell_type": "markdown",
   "metadata": {},
   "source": [
    "## Oppgave 3g – Programmering (5%)"
   ]
  },
  {
   "cell_type": "markdown",
   "metadata": {},
   "source": [
    "Skriv\tfunksjonen\t**`event_results`**\tsom\ttar\tinn-parametrene\t**event**\tog\t**results**.\tParameteren event\ter\ten\tstreng\tsom\tangir\tén\tbestemt\tøvelse\t(f.eks.\tPoker),\tmens\tresults\tvil\tvære datastrukturen\tsom\treturneres\tav\tfunksjonen\t**`str_to_numbers`**\t(Oppgave\t3e).\tFunksjonen **`event_results`**\tskal\treturnere\ten\tto-dimensonal\tliste,\tslik\tsom\ti\teksemplet\tnedenfor.\tListen skal\tvære\tsortert\tetter\tresultat\tslik\tat\tvinneren\tav\tden\tangitte\tøvelsen\tog\thans/hennesresultat\tskal\tkommer\tførst\ti\tlisten,\tmens\ttaperen\tog\thans/hennes\tresultat\tkommer\tsist. Du\tmå\tgjerne\tbruke\tden\teksisterende\tfunksjonen\t**`sort_list`**\thvis\tdu\tønsker\tdet.\tDen\tstår beskrevet\ti\tstarten\tav\toppgave\t3, \tmen\toppsummert\tsorterer\tden\ten\ttodimensjonal\tliste\tliste list på\telementnummer\telem.\n",
    ">```python\n",
    ">>>>sort_list([['John',8],['Lisa',12],['Per',8]],1)\n",
    "[['Lisa',12],['John',8],['Per',8]]\n",
    "```\n",
    ">```python\n",
    ">>>>results # Fra oppgave 3e\n",
    "[['Name','Poker','Highjump','Balloonshooting','SausageEating','HoldBreath'],['John',8,1.67,17,23,121.65],['Lisa',12,1.3,12,\t13,73.02],['Per',8,1.55,8,0,111.35],['Nelly',2,1.34,9,17,31.18],['Nora',5,1.87,13,5,121.65]]\n",
    ">>>>event_results('Poker',results)\n",
    "[['Lisa',12],['John',8],['Per',8],['Nora',5],['Nelly',2]\n",
    "```"
   ]
  },
  {
   "cell_type": "code",
   "execution_count": null,
   "metadata": {},
   "outputs": [],
   "source": [
    "#skriv koden din her"
   ]
  }
 ],
 "metadata": {
  "kernelspec": {
   "display_name": "Python 3",
   "language": "python",
   "name": "python3"
  },
  "language_info": {
   "codemirror_mode": {
    "name": "ipython",
    "version": 3
   },
   "file_extension": ".py",
   "mimetype": "text/x-python",
   "name": "python",
   "nbconvert_exporter": "python",
   "pygments_lexer": "ipython3",
   "version": "3.6.7"
  },
  "toc": {
   "base_numbering": 1,
   "nav_menu": {},
   "number_sections": false,
   "sideBar": true,
   "skip_h1_title": false,
   "title_cell": "Table of Contents",
   "title_sidebar": "Contents",
   "toc_cell": false,
   "toc_position": {},
   "toc_section_display": true,
   "toc_window_display": false
  }
 },
 "nbformat": 4,
 "nbformat_minor": 2
}
