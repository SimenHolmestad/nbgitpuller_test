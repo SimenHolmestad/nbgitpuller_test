{
 "cells": [
  {
   "cell_type": "code",
   "execution_count": 1,
   "metadata": {
    "ExecuteTime": {
     "end_time": "2019-07-09T10:51:31.109539Z",
     "start_time": "2019-07-09T10:51:31.101772Z"
    },
    "hide_input": true
   },
   "outputs": [],
   "source": [
    "run mc_generator.py"
   ]
  },
  {
   "cell_type": "code",
   "execution_count": 23,
   "metadata": {
    "ExecuteTime": {
     "end_time": "2019-07-09T10:51:59.296571Z",
     "start_time": "2019-07-09T10:51:59.197083Z"
    },
    "hide_input": true
   },
   "outputs": [
    {
     "name": "stdout",
     "output_type": "stream",
     "text": [
      "\u001b[1m 1) Hvilket alternativ er IKKE et lag i TCP/IP-stabelen (stack)? \u001b[0m\n"
     ]
    },
    {
     "data": {
      "application/vnd.jupyter.widget-view+json": {
       "model_id": "23d7e29ff33a47d0a8a0fa032c70af6f",
       "version_major": 2,
       "version_minor": 0
      },
      "text/plain": [
       "RadioButtons(layout=Layout(width='1500px'), options=(('Sammenkoblingslaget (Connection layer)', 1), ('Det fysi…"
      ]
     },
     "metadata": {},
     "output_type": "display_data"
    },
    {
     "data": {
      "application/vnd.jupyter.widget-view+json": {
       "model_id": "981baa3688a04038bef8f761e1fb2858",
       "version_major": 2,
       "version_minor": 0
      },
      "text/plain": [
       "Button(description='Sjekk svaret', style=ButtonStyle())"
      ]
     },
     "metadata": {},
     "output_type": "display_data"
    },
    {
     "data": {
      "application/vnd.jupyter.widget-view+json": {
       "model_id": "92bbdb25e6d248e89bb3cef62fb4c64f",
       "version_major": 2,
       "version_minor": 0
      },
      "text/plain": [
       "Output()"
      ]
     },
     "metadata": {},
     "output_type": "display_data"
    }
   ],
   "source": [
    "generate_mc([\"Sammenkoblingslaget (Connection layer)\", \"Det fysiske laget (Physical layer)\", \"Internettlaget (Internet layer)\", \"Nettverksgrensesnitt-laget (Network layer)\"],\"1) Hvilket alternativ er IKKE et lag i TCP/IP-stabelen (stack)?\",1)"
   ]
  },
  {
   "cell_type": "code",
   "execution_count": 22,
   "metadata": {
    "ExecuteTime": {
     "end_time": "2019-07-09T10:51:56.397834Z",
     "start_time": "2019-07-09T10:51:56.336636Z"
    },
    "hide_input": true
   },
   "outputs": [
    {
     "name": "stdout",
     "output_type": "stream",
     "text": [
      "\u001b[1m 2) Hvilken metode brukes for å håndtere duplikate og at pakker kommer i feil rekkefølge? \u001b[0m\n"
     ]
    },
    {
     "data": {
      "application/vnd.jupyter.widget-view+json": {
       "model_id": "27e1629eac6441f78b943231de8750e4",
       "version_major": 2,
       "version_minor": 0
      },
      "text/plain": [
       "RadioButtons(layout=Layout(width='1500px'), options=(('ACK (retransmisjon)', 1), ('Sequencing\\t(sekvensering)'…"
      ]
     },
     "metadata": {},
     "output_type": "display_data"
    },
    {
     "data": {
      "application/vnd.jupyter.widget-view+json": {
       "model_id": "d1d89efff5ba42ba9566325dbb233bbe",
       "version_major": 2,
       "version_minor": 0
      },
      "text/plain": [
       "Button(description='Sjekk svaret', style=ButtonStyle())"
      ]
     },
     "metadata": {},
     "output_type": "display_data"
    },
    {
     "data": {
      "application/vnd.jupyter.widget-view+json": {
       "model_id": "95d6279920284b98ac86eed9c9ade43a",
       "version_major": 2,
       "version_minor": 0
      },
      "text/plain": [
       "Output()"
      ]
     },
     "metadata": {},
     "output_type": "display_data"
    }
   ],
   "source": [
    "generate_mc([\"ACK (retransmisjon)\", \"Sequencing\t(sekvensering)\", \"Replay\", \"Flow\tcontrol\t(flytkontroll)\"],\"2) Hvilken metode brukes for å håndtere duplikate og at pakker kommer i feil rekkefølge?\",2)"
   ]
  },
  {
   "cell_type": "code",
   "execution_count": 4,
   "metadata": {
    "ExecuteTime": {
     "end_time": "2019-07-09T10:51:31.691915Z",
     "start_time": "2019-07-09T10:51:31.501764Z"
    },
    "hide_input": true
   },
   "outputs": [
    {
     "name": "stdout",
     "output_type": "stream",
     "text": [
      "\u001b[1m 3) Hva er \"replay error\" i nettverkssammenheng? \u001b[0m\n"
     ]
    },
    {
     "data": {
      "application/vnd.jupyter.widget-view+json": {
       "model_id": "56eff32c63f64bb18e57a759a339ad53",
       "version_major": 2,
       "version_minor": 0
      },
      "text/plain": [
       "RadioButtons(layout=Layout(width='1500px'), options=(('At\\ten\\tforsinket\\tpakke\\tfra\\ttidligere\\tsesjon\\tblir\\…"
      ]
     },
     "metadata": {},
     "output_type": "display_data"
    },
    {
     "data": {
      "application/vnd.jupyter.widget-view+json": {
       "model_id": "3c8972e345c44adcb1bcfc743dd97f5a",
       "version_major": 2,
       "version_minor": 0
      },
      "text/plain": [
       "Button(description='Sjekk svaret', style=ButtonStyle())"
      ]
     },
     "metadata": {},
     "output_type": "display_data"
    },
    {
     "data": {
      "application/vnd.jupyter.widget-view+json": {
       "model_id": "d8cca7ef6527455894d3ded9bb09d12c",
       "version_major": 2,
       "version_minor": 0
      },
      "text/plain": [
       "Output()"
      ]
     },
     "metadata": {},
     "output_type": "display_data"
    }
   ],
   "source": [
    "generate_mc([\"At\ten\tforsinket\tpakke\tfra\ttidligere\tsesjon\tblir\takseptert\ti\tsenere\tsesjon,\tog\tat\tkorrekt\tpakke dermed\tblir\tavvist\tsom\tduplikat.\", \"At\ten\tbekreftelse\t(ACK)\tsendes\tdobbelt,\tnoe\tsom\tkan\tføre\ttil\tat\tavsender\ttror\ten\tpakke\thar kommet\tfram\tselv\tom\tden\tikke\thar\tdet\", \"At\tdet\tblir\tsendt\tduplikater\ttil\tmottaker,\tsom\tda\tmå\thåndtere\tdette.\", \"At\ten\tforsinket\tetableringspakke\toppretter\ten\ttidligere\tterminert\tforbindelse,\tog\tbegynner\tå sende\tinformasjonen\tpå\tnytt\"],'3) Hva er \"replay error\" i nettverkssammenheng?',1)"
   ]
  },
  {
   "cell_type": "code",
   "execution_count": 5,
   "metadata": {
    "ExecuteTime": {
     "end_time": "2019-07-09T10:51:31.892659Z",
     "start_time": "2019-07-09T10:51:31.705377Z"
    },
    "hide_input": true
   },
   "outputs": [
    {
     "name": "stdout",
     "output_type": "stream",
     "text": [
      "\u001b[1m 4) Hva er \"jitter\" innenfor nettverk \u001b[0m\n"
     ]
    },
    {
     "data": {
      "application/vnd.jupyter.widget-view+json": {
       "model_id": "893b0a5c258c4519b6fa36d368db6240",
       "version_major": 2,
       "version_minor": 0
      },
      "text/plain": [
       "RadioButtons(layout=Layout(width='1500px'), options=(('Tiden\\tdet\\ttar\\tå\\toverføre\\tdata\\tover\\tet\\tnettverk\\…"
      ]
     },
     "metadata": {},
     "output_type": "display_data"
    },
    {
     "data": {
      "application/vnd.jupyter.widget-view+json": {
       "model_id": "94627a4461e14965a6b5443dc567fa9d",
       "version_major": 2,
       "version_minor": 0
      },
      "text/plain": [
       "Button(description='Sjekk svaret', style=ButtonStyle())"
      ]
     },
     "metadata": {},
     "output_type": "display_data"
    },
    {
     "data": {
      "application/vnd.jupyter.widget-view+json": {
       "model_id": "a46248f2164947ee9f6df99641fe5a79",
       "version_major": 2,
       "version_minor": 0
      },
      "text/plain": [
       "Output()"
      ]
     },
     "metadata": {},
     "output_type": "display_data"
    }
   ],
   "source": [
    "generate_mc([\"Tiden\tdet\ttar\tå\toverføre\tdata\tover\tet\tnettverk\tfra\tet\tendepunkt\ttil\tet\tannet.\", \"Mengden\tdata\tsom\tkan\toverføres\tinnenfor\ten\tgitt\ttidsenhet.\", \"Endringer\ti\tforsinkelser\tog\tlengden\tpå\tforsinkelsene.\", \"Variasjonen\ti\tmengden\tdata\tsom\tmottas\ttil\tde\tforskjellige\ttidene\tav\tdøgnet.\"],'4) Hva er \"jitter\" innenfor nettverk',3)"
   ]
  },
  {
   "cell_type": "code",
   "execution_count": 6,
   "metadata": {
    "ExecuteTime": {
     "end_time": "2019-07-09T10:51:32.005790Z",
     "start_time": "2019-07-09T10:51:31.895590Z"
    },
    "hide_input": true
   },
   "outputs": [
    {
     "name": "stdout",
     "output_type": "stream",
     "text": [
      "\u001b[1m 5) Hva går \"buffer overflow\" ut på? \u001b[0m\n"
     ]
    },
    {
     "data": {
      "application/vnd.jupyter.widget-view+json": {
       "model_id": "9f10b16351bb4ceb8840879666e9a9d7",
       "version_major": 2,
       "version_minor": 0
      },
      "text/plain": [
       "RadioButtons(layout=Layout(width='1500px'), options=(('At\\tdet\\tsendes\\tmasse\\tdata\\tslik\\tat\\tdet\\thoper\\tseg…"
      ]
     },
     "metadata": {},
     "output_type": "display_data"
    },
    {
     "data": {
      "application/vnd.jupyter.widget-view+json": {
       "model_id": "1650ec79325a4dd787d456e563556f22",
       "version_major": 2,
       "version_minor": 0
      },
      "text/plain": [
       "Button(description='Sjekk svaret', style=ButtonStyle())"
      ]
     },
     "metadata": {},
     "output_type": "display_data"
    },
    {
     "data": {
      "application/vnd.jupyter.widget-view+json": {
       "model_id": "7362dcdf564d4d578e15373fb1d034de",
       "version_major": 2,
       "version_minor": 0
      },
      "text/plain": [
       "Output()"
      ]
     },
     "metadata": {},
     "output_type": "display_data"
    }
   ],
   "source": [
    "generate_mc([\"At\tdet\tsendes\tmasse\tdata\tslik\tat\tdet\thoper\tseg\topp.\tDette\tkan\tføre\ttil\tminneaksessproblemer\tog krasj,\tog\tmå\tderfor\trettes\topp\tved\thjelp\tav\ten\tbuffer.\", \"At\tdet\tsendes\tenormt\tmange\tpakker\tmed\tmye\tdata\ttil\tmottakeren.\tKan\tføre\ttil\toverbelastning\tslik at\tlegitime\tforespørsler\tikke\tkan\tbetjenes.\", \"At\tmaskinen\tmå\tnøytraliseres\tetter\tstore\toperasjoner.\tEn\tbuffer\tvirker\tnøytraliserende.\", \"At\tdet\toversendes\tmer\tdata\tenn\thva\tmottaker\tforventer.\tOverskrider\ten\tdatabuffers\tgrenser\tog skriver\ttil\tnabolokasjoner\ti\tminnet.\tKan\tføre\ttil\tminneaksessproblemer,\tfeil\tresultater\tog\tkrasj.\"],'5) Hva går \"buffer overflow\" ut på?',4)"
   ]
  },
  {
   "cell_type": "code",
   "execution_count": 7,
   "metadata": {
    "ExecuteTime": {
     "end_time": "2019-07-09T10:51:32.198840Z",
     "start_time": "2019-07-09T10:51:32.088134Z"
    },
    "hide_input": true
   },
   "outputs": [
    {
     "name": "stdout",
     "output_type": "stream",
     "text": [
      "\u001b[1m 6) Hva er \"wiretapping\"? \u001b[0m\n"
     ]
    },
    {
     "data": {
      "application/vnd.jupyter.widget-view+json": {
       "model_id": "db547938c60b42e7967051e0fe32a0c8",
       "version_major": 2,
       "version_minor": 0
      },
      "text/plain": [
       "RadioButtons(layout=Layout(width='1500px'), options=(('Et\\ttrådløst\\tsystem\\tsom\\tstiller\\tsvakt\\tmot\\tangrep\\…"
      ]
     },
     "metadata": {},
     "output_type": "display_data"
    },
    {
     "data": {
      "application/vnd.jupyter.widget-view+json": {
       "model_id": "d590c679cf7f4484b21f4858bf5a1cd3",
       "version_major": 2,
       "version_minor": 0
      },
      "text/plain": [
       "Button(description='Sjekk svaret', style=ButtonStyle())"
      ]
     },
     "metadata": {},
     "output_type": "display_data"
    },
    {
     "data": {
      "application/vnd.jupyter.widget-view+json": {
       "model_id": "41a7c03ae8cd4eb58c84668a64523251",
       "version_major": 2,
       "version_minor": 0
      },
      "text/plain": [
       "Output()"
      ]
     },
     "metadata": {},
     "output_type": "display_data"
    }
   ],
   "source": [
    "generate_mc([\"Et\ttrådløst\tsystem\tsom\tstiller\tsvakt\tmot\tangrep\tutenfra.\", \"At\tuvedkommende\ttar\tkontroll\tover\ten\tbrukers\tdatamaskin.\", \"At\ten\tangriper\toppgir\tfeilaktige\topplysninger\tom\ten\ttjeneste\teller\tet\tprodukt,\teller\tleverer tjenesten/produktet\ti\tdårligere\ttilstand\tenn\tforventet.\", \"At\ten\tangriper\tkopiere\tdatapakker\tsom\ttraverserer\tnettet\tfor\tå\tfå\ttak\ti\tinformasjon.\"],'6) Hva er \"wiretapping\"?',4)"
   ]
  },
  {
   "cell_type": "code",
   "execution_count": 8,
   "metadata": {
    "ExecuteTime": {
     "end_time": "2019-07-09T10:51:32.388681Z",
     "start_time": "2019-07-09T10:51:32.203729Z"
    },
    "hide_input": true,
    "scrolled": true
   },
   "outputs": [
    {
     "name": "stdout",
     "output_type": "stream",
     "text": [
      "\u001b[1m 7) Hva er sant om linje- og pakke-svitsjing? \u001b[0m\n"
     ]
    },
    {
     "data": {
      "application/vnd.jupyter.widget-view+json": {
       "model_id": "89cda667b0044a01bf8ca2cbc68111cd",
       "version_major": 2,
       "version_minor": 0
      },
      "text/plain": [
       "RadioButtons(layout=Layout(width='1500px'), options=(('Informasjonen\\ti\\tlinje-svitsjede\\tnettverk\\tdeles\\tinn…"
      ]
     },
     "metadata": {},
     "output_type": "display_data"
    },
    {
     "data": {
      "application/vnd.jupyter.widget-view+json": {
       "model_id": "e73ab98749704eddb06af675fae26c67",
       "version_major": 2,
       "version_minor": 0
      },
      "text/plain": [
       "Button(description='Sjekk svaret', style=ButtonStyle())"
      ]
     },
     "metadata": {},
     "output_type": "display_data"
    },
    {
     "data": {
      "application/vnd.jupyter.widget-view+json": {
       "model_id": "9859d1d1435549919191fe2f6e65a9f3",
       "version_major": 2,
       "version_minor": 0
      },
      "text/plain": [
       "Output()"
      ]
     },
     "metadata": {},
     "output_type": "display_data"
    }
   ],
   "source": [
    "generate_mc([\"Informasjonen\ti\tlinje-svitsjede\tnettverk\tdeles\tinn\ti\tmindre\tblokker\tmed\tdata\tkalt\tdatagram.\", \"Kommunikasjonen\tmellom\tto\tparter\ti\tpakkesvitsjede\tnettverk\tpåvirkes\tikke\tav\tkommunikasjon mellom\tandre.\", \"Linje-svitsjing\tgir\tmer\teffektiv\tutnyttelse\tav\tnettverksressurser.\", \"I\tlinje-svitsjing\topprettes\tkoblingen\tmellom\tpartene\tved\tbehov,\tog\tavsluttes\tetter\tendt\tbruk.\"],'7) Hva er sant om linje- og pakke-svitsjing?',4)"
   ]
  },
  {
   "cell_type": "code",
   "execution_count": 9,
   "metadata": {
    "ExecuteTime": {
     "end_time": "2019-07-09T10:51:32.499230Z",
     "start_time": "2019-07-09T10:51:32.391984Z"
    },
    "hide_input": true
   },
   "outputs": [
    {
     "name": "stdout",
     "output_type": "stream",
     "text": [
      "\u001b[1m 8) Hvor mange bit består en IPv4-adresse av? \u001b[0m\n"
     ]
    },
    {
     "data": {
      "application/vnd.jupyter.widget-view+json": {
       "model_id": "a38ad6e27ed14adfb9072b306c0e1bcb",
       "version_major": 2,
       "version_minor": 0
      },
      "text/plain": [
       "RadioButtons(layout=Layout(width='1500px'), options=(('128', 1), ('64', 2), ('64', 3), ('32', 4)), value=1)"
      ]
     },
     "metadata": {},
     "output_type": "display_data"
    },
    {
     "data": {
      "application/vnd.jupyter.widget-view+json": {
       "model_id": "17be0d3ed7304ce7bb8d2eac8db914b8",
       "version_major": 2,
       "version_minor": 0
      },
      "text/plain": [
       "Button(description='Sjekk svaret', style=ButtonStyle())"
      ]
     },
     "metadata": {},
     "output_type": "display_data"
    },
    {
     "data": {
      "application/vnd.jupyter.widget-view+json": {
       "model_id": "2a71c60897a445e5a7a938e6d872a578",
       "version_major": 2,
       "version_minor": 0
      },
      "text/plain": [
       "Output()"
      ]
     },
     "metadata": {},
     "output_type": "display_data"
    }
   ],
   "source": [
    "generate_mc([\"128\", \"64\", \"64\", \"32\"],'8) Hvor mange bit består en IPv4-adresse av?',4)"
   ]
  },
  {
   "cell_type": "code",
   "execution_count": 10,
   "metadata": {
    "ExecuteTime": {
     "end_time": "2019-07-09T10:51:32.693810Z",
     "start_time": "2019-07-09T10:51:32.502100Z"
    },
    "hide_input": true
   },
   "outputs": [
    {
     "name": "stdout",
     "output_type": "stream",
     "text": [
      "\u001b[1m 9) Hva identifiserer prefikset i en IPv4-adresse? \u001b[0m\n"
     ]
    },
    {
     "data": {
      "application/vnd.jupyter.widget-view+json": {
       "model_id": "e663535ca43147308f62d7400e7ee700",
       "version_major": 2,
       "version_minor": 0
      },
      "text/plain": [
       "RadioButtons(layout=Layout(width='1500px'), options=(('En\\tspesifikk\\tdatamaskin\\tpå\\tnettverket.', 1), ('Det\\…"
      ]
     },
     "metadata": {},
     "output_type": "display_data"
    },
    {
     "data": {
      "application/vnd.jupyter.widget-view+json": {
       "model_id": "f513cb79a5ea490284d28427f925bba5",
       "version_major": 2,
       "version_minor": 0
      },
      "text/plain": [
       "Button(description='Sjekk svaret', style=ButtonStyle())"
      ]
     },
     "metadata": {},
     "output_type": "display_data"
    },
    {
     "data": {
      "application/vnd.jupyter.widget-view+json": {
       "model_id": "245747554eff4cec94991e204c213202",
       "version_major": 2,
       "version_minor": 0
      },
      "text/plain": [
       "Output()"
      ]
     },
     "metadata": {},
     "output_type": "display_data"
    }
   ],
   "source": [
    "generate_mc([\"En\tspesifikk\tdatamaskin\tpå\tnettverket.\", \"Det\tunike\tfysiske\tnettverket\ten\tdatamaskin\ter\ttilknyttet\", \"Hvilke\tdatamaskiner\tsom\ttilhører\tet\tnettverk.\", \"Om\ten\tdatamaskin\ter\ten\truter\teller\tikke\"],'9) Hva identifiserer prefikset i en IPv4-adresse?',2)"
   ]
  },
  {
   "cell_type": "code",
   "execution_count": 11,
   "metadata": {
    "ExecuteTime": {
     "end_time": "2019-07-09T10:51:32.804459Z",
     "start_time": "2019-07-09T10:51:32.696346Z"
    },
    "hide_input": true
   },
   "outputs": [
    {
     "name": "stdout",
     "output_type": "stream",
     "text": [
      "\u001b[1m 10) Hva er en sub-nett maske (adresse maske) \u001b[0m\n"
     ]
    },
    {
     "data": {
      "application/vnd.jupyter.widget-view+json": {
       "model_id": "d2f85c580cd34162b8d370813ce31a87",
       "version_major": 2,
       "version_minor": 0
      },
      "text/plain": [
       "RadioButtons(layout=Layout(width='1500px'), options=(('Ingen\\tav\\tde\\tandre\\talternativene.', 1), ('En\\tverdi\\…"
      ]
     },
     "metadata": {},
     "output_type": "display_data"
    },
    {
     "data": {
      "application/vnd.jupyter.widget-view+json": {
       "model_id": "d044670b4258472b9cc309a6c977a505",
       "version_major": 2,
       "version_minor": 0
      },
      "text/plain": [
       "Button(description='Sjekk svaret', style=ButtonStyle())"
      ]
     },
     "metadata": {},
     "output_type": "display_data"
    },
    {
     "data": {
      "application/vnd.jupyter.widget-view+json": {
       "model_id": "6c8e99fcdecb4641ba27dffab7035779",
       "version_major": 2,
       "version_minor": 0
      },
      "text/plain": [
       "Output()"
      ]
     },
     "metadata": {},
     "output_type": "display_data"
    }
   ],
   "source": [
    "generate_mc([\"Ingen\tav\tde\tandre\talternativene.\", \"En\tverdi\tsom\tspesifiserer\tden\teksakte\tgrensen\tmellom\tprefikset\tog\tsuffikset\ti\tsubnetting\tog klasseløs\tadressering.\", \"Matrise\tfor\ttildeling\tav\tprefiks\tog\tsuffiks\ti\tsubnetting\tog\tklasseløs\tadressering.\", \"Funksjon\tsom\tmuliggjør\tdeling\tmellom\tprefiks\tog\tsuffiks.\"],'10) Hva er en sub-nett maske (adresse maske)',2)"
   ]
  },
  {
   "cell_type": "code",
   "execution_count": 12,
   "metadata": {
    "ExecuteTime": {
     "end_time": "2019-07-09T10:51:32.912776Z",
     "start_time": "2019-07-09T10:51:32.806729Z"
    },
    "hide_input": true
   },
   "outputs": [
    {
     "name": "stdout",
     "output_type": "stream",
     "text": [
      "\u001b[1m 11) Hva kalles mindre kretskort som plugges inn i hoved(krets-)kortet \u001b[0m\n"
     ]
    },
    {
     "data": {
      "application/vnd.jupyter.widget-view+json": {
       "model_id": "2d64360a4ea14e45b99f198e05d42be3",
       "version_major": 2,
       "version_minor": 0
      },
      "text/plain": [
       "RadioButtons(layout=Layout(width='1500px'), options=(('Arvekort', 1), ('Anti\\thovedkort', 2), ('Sekundærkort',…"
      ]
     },
     "metadata": {},
     "output_type": "display_data"
    },
    {
     "data": {
      "application/vnd.jupyter.widget-view+json": {
       "model_id": "2e592f96c14f481a98ed2e19e60699dd",
       "version_major": 2,
       "version_minor": 0
      },
      "text/plain": [
       "Button(description='Sjekk svaret', style=ButtonStyle())"
      ]
     },
     "metadata": {},
     "output_type": "display_data"
    },
    {
     "data": {
      "application/vnd.jupyter.widget-view+json": {
       "model_id": "569eeab53aa945ffb3a8b96f7ac72941",
       "version_major": 2,
       "version_minor": 0
      },
      "text/plain": [
       "Output()"
      ]
     },
     "metadata": {},
     "output_type": "display_data"
    }
   ],
   "source": [
    "generate_mc([\"Arvekort\", \"Anti\thovedkort\", \"Sekundærkort\", \"Datterkort\"],'11) Hva kalles mindre kretskort som plugges inn i hoved(krets-)kortet',4)"
   ]
  },
  {
   "cell_type": "code",
   "execution_count": 13,
   "metadata": {
    "ExecuteTime": {
     "end_time": "2019-07-09T10:51:33.104855Z",
     "start_time": "2019-07-09T10:51:32.989653Z"
    },
    "hide_input": true
   },
   "outputs": [
    {
     "name": "stdout",
     "output_type": "stream",
     "text": [
      "\u001b[1m 12) Hva er Photolithography (fotolitografi)? \u001b[0m\n"
     ]
    },
    {
     "data": {
      "application/vnd.jupyter.widget-view+json": {
       "model_id": "a9428e9317a4489b809b8ed6c8930887",
       "version_major": 2,
       "version_minor": 0
      },
      "text/plain": [
       "RadioButtons(layout=Layout(width='1500px'), options=(('En\\tdigitalisering\\tav\\tPunch\\tCards\\t(hullkort)\\tsom\\t…"
      ]
     },
     "metadata": {},
     "output_type": "display_data"
    },
    {
     "data": {
      "application/vnd.jupyter.widget-view+json": {
       "model_id": "1b332b5bbe9547f0a89b6c5ac9660277",
       "version_major": 2,
       "version_minor": 0
      },
      "text/plain": [
       "Button(description='Sjekk svaret', style=ButtonStyle())"
      ]
     },
     "metadata": {},
     "output_type": "display_data"
    },
    {
     "data": {
      "application/vnd.jupyter.widget-view+json": {
       "model_id": "e9884f166576490487627cab2359a9cd",
       "version_major": 2,
       "version_minor": 0
      },
      "text/plain": [
       "Output()"
      ]
     },
     "metadata": {},
     "output_type": "display_data"
    }
   ],
   "source": [
    "generate_mc([\"En\tdigitalisering\tav\tPunch\tCards\t(hullkort)\tsom\thar\tgjort\tdet\tmulig\tfor\ten\tdatamaskin\tå lese digital\tinformasjon.\", \"En\tteknikk\tsom\thar\tgjort\tat\tintegrerte\tkretser\thar\tblitt\tenklere\tå\tlage.\tLedninger\tprintes\tpå chipene\ti\tflere\tlag.\", \"Noe\tsom\tbrukes\tnår\tman\tskal\tfotografere\tkretser\tned\tpå\thovedkortet\", \"En\ttype\tRAM\tsom\tlagrer\tdata\tpermanent.\"],'12) Hva er Photolithography (fotolitografi)?',2)"
   ]
  },
  {
   "cell_type": "code",
   "execution_count": 24,
   "metadata": {
    "ExecuteTime": {
     "end_time": "2019-07-09T10:54:46.803763Z",
     "start_time": "2019-07-09T10:54:46.710953Z"
    },
    "hide_input": true
   },
   "outputs": [
    {
     "name": "stdout",
     "output_type": "stream",
     "text": [
      "\u001b[1m 13) Hva er riktig om harddisker? \u001b[0m\n"
     ]
    },
    {
     "data": {
      "application/vnd.jupyter.widget-view+json": {
       "model_id": "2a77d90edc424e208eb6e64a507c6961",
       "version_major": 2,
       "version_minor": 0
      },
      "text/plain": [
       "RadioButtons(layout=Layout(width='1500px'), options=(('Permanent\\tog\\trandom\\taccess.', 1), ('Volatilt\\tog\\tra…"
      ]
     },
     "metadata": {},
     "output_type": "display_data"
    },
    {
     "data": {
      "application/vnd.jupyter.widget-view+json": {
       "model_id": "ba50cecef26542ab9e8b2e974aa114ef",
       "version_major": 2,
       "version_minor": 0
      },
      "text/plain": [
       "Button(description='Sjekk svaret', style=ButtonStyle())"
      ]
     },
     "metadata": {},
     "output_type": "display_data"
    },
    {
     "data": {
      "application/vnd.jupyter.widget-view+json": {
       "model_id": "a120a5b3cc7e450182b5736ef52c1f16",
       "version_major": 2,
       "version_minor": 0
      },
      "text/plain": [
       "Output()"
      ]
     },
     "metadata": {},
     "output_type": "display_data"
    }
   ],
   "source": [
    "generate_mc([\"Permanent\tog\trandom\taccess.\", \"Volatilt\tog\trandom\taccess.\", \"Volatilt\tog\tsequential\taccess.\", \"Permanent\tog\tsequential\taccess\"],'13) Hva er riktig om harddisker?',1)"
   ]
  },
  {
   "cell_type": "code",
   "execution_count": 15,
   "metadata": {
    "ExecuteTime": {
     "end_time": "2019-07-09T10:51:33.399869Z",
     "start_time": "2019-07-09T10:51:33.292106Z"
    },
    "hide_input": true
   },
   "outputs": [
    {
     "name": "stdout",
     "output_type": "stream",
     "text": [
      "\u001b[1m 14) Hva er hovedoppgaven til ALU? \u001b[0m\n"
     ]
    },
    {
     "data": {
      "application/vnd.jupyter.widget-view+json": {
       "model_id": "8a397420ef2d445289ad79b447dfe4f8",
       "version_major": 2,
       "version_minor": 0
      },
      "text/plain": [
       "RadioButtons(layout=Layout(width='1500px'), options=(('Sette\\ti\\tgang\\toperativ\\tsystemet', 1), ('Utføre\\tregn…"
      ]
     },
     "metadata": {},
     "output_type": "display_data"
    },
    {
     "data": {
      "application/vnd.jupyter.widget-view+json": {
       "model_id": "3edd5bafdb9944e5b4aa0bc7d038bd55",
       "version_major": 2,
       "version_minor": 0
      },
      "text/plain": [
       "Button(description='Sjekk svaret', style=ButtonStyle())"
      ]
     },
     "metadata": {},
     "output_type": "display_data"
    },
    {
     "data": {
      "application/vnd.jupyter.widget-view+json": {
       "model_id": "cc59776396a345d1af43cf2880950376",
       "version_major": 2,
       "version_minor": 0
      },
      "text/plain": [
       "Output()"
      ]
     },
     "metadata": {},
     "output_type": "display_data"
    }
   ],
   "source": [
    "generate_mc([\"Sette\ti\tgang\toperativ\tsystemet\", \"Utføre\tregneoperasjoner\", \"Peke\tpå\triktig\tminneadresse\", \"Hente\tdata\tfra\tminnet\"],'14) Hva er hovedoppgaven til ALU?',2)"
   ]
  },
  {
   "cell_type": "code",
   "execution_count": 16,
   "metadata": {
    "ExecuteTime": {
     "end_time": "2019-07-09T10:51:33.602205Z",
     "start_time": "2019-07-09T10:51:33.403501Z"
    },
    "hide_input": true
   },
   "outputs": [
    {
     "name": "stdout",
     "output_type": "stream",
     "text": [
      "\u001b[1m 15) Hvilke 2 registre finner vi i kontrollenheten? \u001b[0m\n"
     ]
    },
    {
     "data": {
      "application/vnd.jupyter.widget-view+json": {
       "model_id": "e7fed20a807242559d025b7f589f887e",
       "version_major": 2,
       "version_minor": 0
      },
      "text/plain": [
       "RadioButtons(layout=Layout(width='1500px'), options=(('Programteller\\tog\\tinstruksjonsregister', 1), ('Instruk…"
      ]
     },
     "metadata": {},
     "output_type": "display_data"
    },
    {
     "data": {
      "application/vnd.jupyter.widget-view+json": {
       "model_id": "8ced6085797647cc91c3775e694f0bfe",
       "version_major": 2,
       "version_minor": 0
      },
      "text/plain": [
       "Button(description='Sjekk svaret', style=ButtonStyle())"
      ]
     },
     "metadata": {},
     "output_type": "display_data"
    },
    {
     "data": {
      "application/vnd.jupyter.widget-view+json": {
       "model_id": "f1ddf2a265e34c55b29e548c0c482299",
       "version_major": 2,
       "version_minor": 0
      },
      "text/plain": [
       "Output()"
      ]
     },
     "metadata": {},
     "output_type": "display_data"
    }
   ],
   "source": [
    "generate_mc([\"Programteller\tog\tinstruksjonsregister\", \"Instruksjonsregister\tog\tkontrollregister\", \"Programteller\tog\tdataregister\", \"Programteller\tog\tkontrollregister\"],'15) Hvilke 2 registre finner vi i kontrollenheten?',1)"
   ]
  },
  {
   "cell_type": "code",
   "execution_count": 17,
   "metadata": {
    "ExecuteTime": {
     "end_time": "2019-07-09T10:51:33.794195Z",
     "start_time": "2019-07-09T10:51:33.605240Z"
    },
    "hide_input": true
   },
   "outputs": [
    {
     "name": "stdout",
     "output_type": "stream",
     "text": [
      "\u001b[1m 16) Hvilket tall i titallssystemet representerer det binære tallet 100111? \u001b[0m\n"
     ]
    },
    {
     "data": {
      "application/vnd.jupyter.widget-view+json": {
       "model_id": "6f8e11aae4814d13939dc237941f3c65",
       "version_major": 2,
       "version_minor": 0
      },
      "text/plain": [
       "RadioButtons(layout=Layout(width='1500px'), options=(('71', 1), ('39', 2), ('43', 3), ('27', 4)), value=1)"
      ]
     },
     "metadata": {},
     "output_type": "display_data"
    },
    {
     "data": {
      "application/vnd.jupyter.widget-view+json": {
       "model_id": "716f405d0bed43068bdd79dc5537564c",
       "version_major": 2,
       "version_minor": 0
      },
      "text/plain": [
       "Button(description='Sjekk svaret', style=ButtonStyle())"
      ]
     },
     "metadata": {},
     "output_type": "display_data"
    },
    {
     "data": {
      "application/vnd.jupyter.widget-view+json": {
       "model_id": "d63084833c39444da9ea97c0efa9f715",
       "version_major": 2,
       "version_minor": 0
      },
      "text/plain": [
       "Output()"
      ]
     },
     "metadata": {},
     "output_type": "display_data"
    }
   ],
   "source": [
    "generate_mc([\"71\", \"39\", \"43\", \"27\"],'16) Hvilket tall i titallssystemet representerer det binære tallet 100111?',2)"
   ]
  },
  {
   "cell_type": "code",
   "execution_count": 18,
   "metadata": {
    "ExecuteTime": {
     "end_time": "2019-07-09T10:51:33.914135Z",
     "start_time": "2019-07-09T10:51:33.799151Z"
    },
    "hide_input": true
   },
   "outputs": [
    {
     "name": "stdout",
     "output_type": "stream",
     "text": [
      "\u001b[1m 17) Hvilken webfargekode (heksadesimalfargekode) representerer hvit? \u001b[0m\n"
     ]
    },
    {
     "data": {
      "application/vnd.jupyter.widget-view+json": {
       "model_id": "676788a2b6e047b09fd4f7462a7e4686",
       "version_major": 2,
       "version_minor": 0
      },
      "text/plain": [
       "RadioButtons(layout=Layout(width='1500px'), options=(('#808080', 1), ('#AAAAAA', 2), ('#000000', 3), ('#FFFFFF…"
      ]
     },
     "metadata": {},
     "output_type": "display_data"
    },
    {
     "data": {
      "application/vnd.jupyter.widget-view+json": {
       "model_id": "599d7ddb086e4fd7a54b6d3234da2787",
       "version_major": 2,
       "version_minor": 0
      },
      "text/plain": [
       "Button(description='Sjekk svaret', style=ButtonStyle())"
      ]
     },
     "metadata": {},
     "output_type": "display_data"
    },
    {
     "data": {
      "application/vnd.jupyter.widget-view+json": {
       "model_id": "570cdf02a4194cf3bcc6c9096f72a669",
       "version_major": 2,
       "version_minor": 0
      },
      "text/plain": [
       "Output()"
      ]
     },
     "metadata": {},
     "output_type": "display_data"
    }
   ],
   "source": [
    "generate_mc([\"#808080\", \"#AAAAAA\", \"#000000\", \"#FFFFFF\"],'17) Hvilken webfargekode (heksadesimalfargekode) representerer hvit?',4)"
   ]
  },
  {
   "cell_type": "code",
   "execution_count": 19,
   "metadata": {
    "ExecuteTime": {
     "end_time": "2019-07-09T10:51:34.100065Z",
     "start_time": "2019-07-09T10:51:33.987749Z"
    },
    "hide_input": true
   },
   "outputs": [
    {
     "name": "stdout",
     "output_type": "stream",
     "text": [
      "\u001b[1m 18) Informasjon som beskriver informasjon kalles: \u001b[0m\n"
     ]
    },
    {
     "data": {
      "application/vnd.jupyter.widget-view+json": {
       "model_id": "61314376777e46a39a6420f012155837",
       "version_major": 2,
       "version_minor": 0
      },
      "text/plain": [
       "RadioButtons(layout=Layout(width='1500px'), options=(('kollating', 1), ('spesialdata', 2), ('sirkulær\\tdata', …"
      ]
     },
     "metadata": {},
     "output_type": "display_data"
    },
    {
     "data": {
      "application/vnd.jupyter.widget-view+json": {
       "model_id": "55ed524ccb744df7b48e146b767ea790",
       "version_major": 2,
       "version_minor": 0
      },
      "text/plain": [
       "Button(description='Sjekk svaret', style=ButtonStyle())"
      ]
     },
     "metadata": {},
     "output_type": "display_data"
    },
    {
     "data": {
      "application/vnd.jupyter.widget-view+json": {
       "model_id": "981d5e68a42b465b9006f2348ac8ba7e",
       "version_major": 2,
       "version_minor": 0
      },
      "text/plain": [
       "Output()"
      ]
     },
     "metadata": {},
     "output_type": "display_data"
    }
   ],
   "source": [
    "generate_mc([\"kollating\", \"spesialdata\", \"sirkulær\tdata\", \"metadata\"],'18) Informasjon som beskriver informasjon kalles:',4)"
   ]
  },
  {
   "cell_type": "code",
   "execution_count": 20,
   "metadata": {
    "ExecuteTime": {
     "end_time": "2019-07-09T10:51:34.292052Z",
     "start_time": "2019-07-09T10:51:34.103626Z"
    },
    "hide_input": true
   },
   "outputs": [
    {
     "name": "stdout",
     "output_type": "stream",
     "text": [
      "\u001b[1m 19) Hva sier Nyquist-regelen for sampling? \u001b[0m\n"
     ]
    },
    {
     "data": {
      "application/vnd.jupyter.widget-view+json": {
       "model_id": "439747f2498a4586826afc5195efba68",
       "version_major": 2,
       "version_minor": 0
      },
      "text/plain": [
       "RadioButtons(layout=Layout(width='1500px'), options=(('Nyquist-regelen\\tsier\\tat\\tsamplingsfrekvensen\\tmå\\tvær…"
      ]
     },
     "metadata": {},
     "output_type": "display_data"
    },
    {
     "data": {
      "application/vnd.jupyter.widget-view+json": {
       "model_id": "19ed018fb7ac4544a60bb21163546035",
       "version_major": 2,
       "version_minor": 0
      },
      "text/plain": [
       "Button(description='Sjekk svaret', style=ButtonStyle())"
      ]
     },
     "metadata": {},
     "output_type": "display_data"
    },
    {
     "data": {
      "application/vnd.jupyter.widget-view+json": {
       "model_id": "6c35c97b431e4618a855e547ebb54acc",
       "version_major": 2,
       "version_minor": 0
      },
      "text/plain": [
       "Output()"
      ]
     },
     "metadata": {},
     "output_type": "display_data"
    }
   ],
   "source": [
    "generate_mc([\"Nyquist-regelen\tsier\tat\tsamplingsfrekvensen\tmå\tvære\tminst\tlike\trask\tsom\tden\traskeste frekvensen.\tEttersom\tmenneskelige\tører\tkan\thøre\tlyder\topp\ttil\tca.\t20\t000Hz,\tvil samplingsfrekvens\tpå\t20\t000Hz\toppfylle\tNyquists\tregel\tfor\tdigital\tlydopptak\", \"Nyquist-regelen\tsier\tat\tsamplingsfrekvensen\tmå\tvære\tminst\tfire\tganger\tså\trask\tsom\tden raskeste\tfrekvensen.\tEttersom\tmenneskelige\tører\tkan\thøre\tlyder\topp\ttil\tca.\t20\t000Hz,\tvil samplingsfrekvens\tpå\t80\t000Hz\toppfylle\tNyquists\tregel\tfor\tdigital\tlydopptak.\", \"Nyquist-regelen\tsier\tat\tsamplingsfrekvensen\tmå\tvære\tminst\tdobbelt\tså\trask\tsom\tden\traskeste frekvensen.\tEttersom\tmenneskelige\tører\tkan\thøre\tlyder\topp\ttil\tca.\t20\t000Hz,\tvil samplingsfrekvens\tpå\t40\t000Hz\toppfylle\tNyquists\tregel\tfor\tdigital\tlydopptak.\", \"Nyquist-regelen\tsier\tat\tsamplingsfrekvensen\tmå\tvære\tminst\thalvparten\tav\tden\traskeste frekvensen.\tEttersom\tmenneskelige\tører\tkan\thøre\tlyder\topp\ttil\tca.\t20\t000Hz,\tvil samplingsfrekvens\tpå\t10\t000Hz\toppfylle\tNyquists\tregel\tfor\tdigital\tlydopptak.\"],'19) Hva sier Nyquist-regelen for sampling?',3)"
   ]
  },
  {
   "cell_type": "code",
   "execution_count": 21,
   "metadata": {
    "ExecuteTime": {
     "end_time": "2019-07-09T10:51:34.404488Z",
     "start_time": "2019-07-09T10:51:34.295155Z"
    },
    "hide_input": true
   },
   "outputs": [
    {
     "name": "stdout",
     "output_type": "stream",
     "text": [
      "\u001b[1m 20) Hva er sampling? \u001b[0m\n"
     ]
    },
    {
     "data": {
      "application/vnd.jupyter.widget-view+json": {
       "model_id": "deafd391239741a3b92b60e91e15f741",
       "version_major": 2,
       "version_minor": 0
      },
      "text/plain": [
       "RadioButtons(layout=Layout(width='1500px'), options=(('Å\\tta\\tmålinger\\tpå\\tregelmessige\\tintervall', 1), ('Å\\…"
      ]
     },
     "metadata": {},
     "output_type": "display_data"
    },
    {
     "data": {
      "application/vnd.jupyter.widget-view+json": {
       "model_id": "eaa859867a5d45799623f593d818fa66",
       "version_major": 2,
       "version_minor": 0
      },
      "text/plain": [
       "Button(description='Sjekk svaret', style=ButtonStyle())"
      ]
     },
     "metadata": {},
     "output_type": "display_data"
    },
    {
     "data": {
      "application/vnd.jupyter.widget-view+json": {
       "model_id": "a685465820c0406aa22e03c992485776",
       "version_major": 2,
       "version_minor": 0
      },
      "text/plain": [
       "Output()"
      ]
     },
     "metadata": {},
     "output_type": "display_data"
    }
   ],
   "source": [
    "generate_mc([\"Å\tta\tmålinger\tpå\tregelmessige\tintervall\", \"Å\tkonvertere\tfra\tdigital\ttil\tanalog\tlyd\", \"Å\tkonvertere\tfra\tanalog\ttil\tdigital\tlyd\", \"Å\tta\tmålinger\tpå\turegelmessige\tintervall\"],'20) Hva er sampling?',1)"
   ]
  }
 ],
 "metadata": {
  "kernelspec": {
   "display_name": "Python 3",
   "language": "python",
   "name": "python3"
  },
  "language_info": {
   "codemirror_mode": {
    "name": "ipython",
    "version": 3
   },
   "file_extension": ".py",
   "mimetype": "text/x-python",
   "name": "python",
   "nbconvert_exporter": "python",
   "pygments_lexer": "ipython3",
   "version": "3.6.7"
  },
  "toc": {
   "base_numbering": 1,
   "nav_menu": {},
   "number_sections": false,
   "sideBar": true,
   "skip_h1_title": false,
   "title_cell": "Table of Contents",
   "title_sidebar": "Contents",
   "toc_cell": false,
   "toc_position": {},
   "toc_section_display": true,
   "toc_window_display": false
  }
 },
 "nbformat": 4,
 "nbformat_minor": 2
}
