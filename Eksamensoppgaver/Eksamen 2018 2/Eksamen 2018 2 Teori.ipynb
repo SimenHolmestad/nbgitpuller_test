{
 "cells": [
  {
   "cell_type": "code",
   "execution_count": 4,
   "metadata": {
    "ExecuteTime": {
     "end_time": "2019-07-09T10:51:31.109539Z",
     "start_time": "2019-07-09T10:51:31.101772Z"
    },
    "hide_input": true
   },
   "outputs": [],
   "source": [
    "import os\n",
    "import sys\n",
    "module_path = os.path.abspath(os.path.join('..'))\n",
    "if module_path not in sys.path:\n",
    "    sys.path.append(module_path)\n",
    "    \n",
    "from Resources.mc_generator import *"
   ]
  },
  {
   "cell_type": "code",
   "execution_count": 5,
   "metadata": {
    "ExecuteTime": {
     "end_time": "2019-07-09T10:51:59.296571Z",
     "start_time": "2019-07-09T10:51:59.197083Z"
    },
    "hide_input": true
   },
   "outputs": [
    {
     "name": "stdout",
     "output_type": "stream",
     "text": [
      "\u001b[1m 1) Hvilket alternativ er IKKE et lag i TCP/IP-stabelen (stack)? \u001b[0m\n"
     ]
    },
    {
     "data": {
      "application/vnd.jupyter.widget-view+json": {
       "model_id": "564979dc92d149d4abf88a7ba7091444",
       "version_major": 2,
       "version_minor": 0
      },
      "text/plain": [
       "RadioButtons(layout=Layout(width='1500px'), options=('Internettlaget (Internet layer)', 'Det fysiske laget (Ph…"
      ]
     },
     "metadata": {},
     "output_type": "display_data"
    },
    {
     "data": {
      "application/vnd.jupyter.widget-view+json": {
       "model_id": "45ba07fea3d84215a840209cac6cee58",
       "version_major": 2,
       "version_minor": 0
      },
      "text/plain": [
       "Button(description='Sjekk svaret', style=ButtonStyle())"
      ]
     },
     "metadata": {},
     "output_type": "display_data"
    },
    {
     "data": {
      "application/vnd.jupyter.widget-view+json": {
       "model_id": "08ad07fd943e4caebe70e371b712e178",
       "version_major": 2,
       "version_minor": 0
      },
      "text/plain": [
       "Output()"
      ]
     },
     "metadata": {},
     "output_type": "display_data"
    }
   ],
   "source": [
    "generate_mc([\"Sammenkoblingslaget (Connection layer)\", \"Det fysiske laget (Physical layer)\", \"Internettlaget (Internet layer)\", \"Nettverksgrensesnitt-laget (Network layer)\"],\"1) Hvilket alternativ er IKKE et lag i TCP/IP-stabelen (stack)?\",1)"
   ]
  },
  {
   "cell_type": "code",
   "execution_count": 6,
   "metadata": {
    "ExecuteTime": {
     "end_time": "2019-07-09T10:51:56.397834Z",
     "start_time": "2019-07-09T10:51:56.336636Z"
    },
    "hide_input": true
   },
   "outputs": [
    {
     "name": "stdout",
     "output_type": "stream",
     "text": [
      "\u001b[1m 2) Hvilken metode brukes for å håndtere duplikate og at pakker kommer i feil rekkefølge? \u001b[0m\n"
     ]
    },
    {
     "data": {
      "application/vnd.jupyter.widget-view+json": {
       "model_id": "18f201dae0ae4f58bec5d1e157168b5e",
       "version_major": 2,
       "version_minor": 0
      },
      "text/plain": [
       "RadioButtons(layout=Layout(width='1500px'), options=('ACK (retransmisjon)', 'Replay', 'Sequencing\\t(sekvenseri…"
      ]
     },
     "metadata": {},
     "output_type": "display_data"
    },
    {
     "data": {
      "application/vnd.jupyter.widget-view+json": {
       "model_id": "b561af7ebd8c45a5af4f3304e1e52945",
       "version_major": 2,
       "version_minor": 0
      },
      "text/plain": [
       "Button(description='Sjekk svaret', style=ButtonStyle())"
      ]
     },
     "metadata": {},
     "output_type": "display_data"
    },
    {
     "data": {
      "application/vnd.jupyter.widget-view+json": {
       "model_id": "21c7c909b9fc4ab4a1f3975ea296be8e",
       "version_major": 2,
       "version_minor": 0
      },
      "text/plain": [
       "Output()"
      ]
     },
     "metadata": {},
     "output_type": "display_data"
    }
   ],
   "source": [
    "generate_mc([\"ACK (retransmisjon)\", \"Sequencing\t(sekvensering)\", \"Replay\", \"Flow\tcontrol\t(flytkontroll)\"],\"2) Hvilken metode brukes for å håndtere duplikate og at pakker kommer i feil rekkefølge?\",2)"
   ]
  },
  {
   "cell_type": "code",
   "execution_count": 7,
   "metadata": {
    "ExecuteTime": {
     "end_time": "2019-07-09T10:51:31.691915Z",
     "start_time": "2019-07-09T10:51:31.501764Z"
    },
    "hide_input": true
   },
   "outputs": [
    {
     "name": "stdout",
     "output_type": "stream",
     "text": [
      "\u001b[1m 3) Hva er \"replay error\" i nettverkssammenheng? \u001b[0m\n"
     ]
    },
    {
     "data": {
      "application/vnd.jupyter.widget-view+json": {
       "model_id": "2cbe511e50384fcc819953d50db3146f",
       "version_major": 2,
       "version_minor": 0
      },
      "text/plain": [
       "RadioButtons(layout=Layout(width='1500px'), options=('At\\ten\\tbekreftelse\\t(ACK)\\tsendes\\tdobbelt,\\tnoe\\tsom\\t…"
      ]
     },
     "metadata": {},
     "output_type": "display_data"
    },
    {
     "data": {
      "application/vnd.jupyter.widget-view+json": {
       "model_id": "2375802d5daa4915a015abfe10e2ae73",
       "version_major": 2,
       "version_minor": 0
      },
      "text/plain": [
       "Button(description='Sjekk svaret', style=ButtonStyle())"
      ]
     },
     "metadata": {},
     "output_type": "display_data"
    },
    {
     "data": {
      "application/vnd.jupyter.widget-view+json": {
       "model_id": "9590584a8bc946e484be9312d5a5a25b",
       "version_major": 2,
       "version_minor": 0
      },
      "text/plain": [
       "Output()"
      ]
     },
     "metadata": {},
     "output_type": "display_data"
    }
   ],
   "source": [
    "generate_mc([\"At\ten\tforsinket\tpakke\tfra\ttidligere\tsesjon\tblir\takseptert\ti\tsenere\tsesjon,\tog\tat\tkorrekt\tpakke dermed\tblir\tavvist\tsom\tduplikat.\", \"At\ten\tbekreftelse\t(ACK)\tsendes\tdobbelt,\tnoe\tsom\tkan\tføre\ttil\tat\tavsender\ttror\ten\tpakke\thar kommet\tfram\tselv\tom\tden\tikke\thar\tdet\", \"At\tdet\tblir\tsendt\tduplikater\ttil\tmottaker,\tsom\tda\tmå\thåndtere\tdette.\", \"At\ten\tforsinket\tetableringspakke\toppretter\ten\ttidligere\tterminert\tforbindelse,\tog\tbegynner\tå sende\tinformasjonen\tpå\tnytt\"],'3) Hva er \"replay error\" i nettverkssammenheng?',1)"
   ]
  },
  {
   "cell_type": "code",
   "execution_count": 8,
   "metadata": {
    "ExecuteTime": {
     "end_time": "2019-07-09T10:51:31.892659Z",
     "start_time": "2019-07-09T10:51:31.705377Z"
    },
    "hide_input": true
   },
   "outputs": [
    {
     "name": "stdout",
     "output_type": "stream",
     "text": [
      "\u001b[1m 4) Hva er \"jitter\" innenfor nettverk \u001b[0m\n"
     ]
    },
    {
     "data": {
      "application/vnd.jupyter.widget-view+json": {
       "model_id": "07b6e66d0c5e4d35b44602854493613a",
       "version_major": 2,
       "version_minor": 0
      },
      "text/plain": [
       "RadioButtons(layout=Layout(width='1500px'), options=('Mengden\\tdata\\tsom\\tkan\\toverføres\\tinnenfor\\ten\\tgitt\\t…"
      ]
     },
     "metadata": {},
     "output_type": "display_data"
    },
    {
     "data": {
      "application/vnd.jupyter.widget-view+json": {
       "model_id": "d070152eae854230a57ee03d0608fc57",
       "version_major": 2,
       "version_minor": 0
      },
      "text/plain": [
       "Button(description='Sjekk svaret', style=ButtonStyle())"
      ]
     },
     "metadata": {},
     "output_type": "display_data"
    },
    {
     "data": {
      "application/vnd.jupyter.widget-view+json": {
       "model_id": "d9ee77f4b45d46298f3909d538713c30",
       "version_major": 2,
       "version_minor": 0
      },
      "text/plain": [
       "Output()"
      ]
     },
     "metadata": {},
     "output_type": "display_data"
    }
   ],
   "source": [
    "generate_mc([\"Tiden\tdet\ttar\tå\toverføre\tdata\tover\tet\tnettverk\tfra\tet\tendepunkt\ttil\tet\tannet.\", \"Mengden\tdata\tsom\tkan\toverføres\tinnenfor\ten\tgitt\ttidsenhet.\", \"Endringer\ti\tforsinkelser\tog\tlengden\tpå\tforsinkelsene.\", \"Variasjonen\ti\tmengden\tdata\tsom\tmottas\ttil\tde\tforskjellige\ttidene\tav\tdøgnet.\"],'4) Hva er \"jitter\" innenfor nettverk',3)"
   ]
  },
  {
   "cell_type": "code",
   "execution_count": 9,
   "metadata": {
    "ExecuteTime": {
     "end_time": "2019-07-09T10:51:32.005790Z",
     "start_time": "2019-07-09T10:51:31.895590Z"
    },
    "hide_input": true
   },
   "outputs": [
    {
     "name": "stdout",
     "output_type": "stream",
     "text": [
      "\u001b[1m 5) Hva går \"buffer overflow\" ut på? \u001b[0m\n"
     ]
    },
    {
     "data": {
      "application/vnd.jupyter.widget-view+json": {
       "model_id": "9ed6ebf2311d43b9aa986bfa672c8f18",
       "version_major": 2,
       "version_minor": 0
      },
      "text/plain": [
       "RadioButtons(layout=Layout(width='1500px'), options=('At\\tdet\\tsendes\\tmasse\\tdata\\tslik\\tat\\tdet\\thoper\\tseg\\…"
      ]
     },
     "metadata": {},
     "output_type": "display_data"
    },
    {
     "data": {
      "application/vnd.jupyter.widget-view+json": {
       "model_id": "8b80e70f0fc24d3daf39ce676742dbbe",
       "version_major": 2,
       "version_minor": 0
      },
      "text/plain": [
       "Button(description='Sjekk svaret', style=ButtonStyle())"
      ]
     },
     "metadata": {},
     "output_type": "display_data"
    },
    {
     "data": {
      "application/vnd.jupyter.widget-view+json": {
       "model_id": "c221edcfcf9b4a2b8b071d818d2144ad",
       "version_major": 2,
       "version_minor": 0
      },
      "text/plain": [
       "Output()"
      ]
     },
     "metadata": {},
     "output_type": "display_data"
    }
   ],
   "source": [
    "generate_mc([\"At\tdet\tsendes\tmasse\tdata\tslik\tat\tdet\thoper\tseg\topp.\tDette\tkan\tføre\ttil\tminneaksessproblemer\tog krasj,\tog\tmå\tderfor\trettes\topp\tved\thjelp\tav\ten\tbuffer.\", \"At\tdet\tsendes\tenormt\tmange\tpakker\tmed\tmye\tdata\ttil\tmottakeren.\tKan\tføre\ttil\toverbelastning\tslik at\tlegitime\tforespørsler\tikke\tkan\tbetjenes.\", \"At\tmaskinen\tmå\tnøytraliseres\tetter\tstore\toperasjoner.\tEn\tbuffer\tvirker\tnøytraliserende.\", \"At\tdet\toversendes\tmer\tdata\tenn\thva\tmottaker\tforventer.\tOverskrider\ten\tdatabuffers\tgrenser\tog skriver\ttil\tnabolokasjoner\ti\tminnet.\tKan\tføre\ttil\tminneaksessproblemer,\tfeil\tresultater\tog\tkrasj.\"],'5) Hva går \"buffer overflow\" ut på?',4)"
   ]
  },
  {
   "cell_type": "code",
   "execution_count": 10,
   "metadata": {
    "ExecuteTime": {
     "end_time": "2019-07-09T10:51:32.198840Z",
     "start_time": "2019-07-09T10:51:32.088134Z"
    },
    "hide_input": true
   },
   "outputs": [
    {
     "name": "stdout",
     "output_type": "stream",
     "text": [
      "\u001b[1m 6) Hva er \"wiretapping\"? \u001b[0m\n"
     ]
    },
    {
     "data": {
      "application/vnd.jupyter.widget-view+json": {
       "model_id": "d06c53061452455884a0dfaf83be59f9",
       "version_major": 2,
       "version_minor": 0
      },
      "text/plain": [
       "RadioButtons(layout=Layout(width='1500px'), options=('At\\ten\\tangriper\\toppgir\\tfeilaktige\\topplysninger\\tom\\t…"
      ]
     },
     "metadata": {},
     "output_type": "display_data"
    },
    {
     "data": {
      "application/vnd.jupyter.widget-view+json": {
       "model_id": "a5269b0cadcb4196a008d4ada399f40e",
       "version_major": 2,
       "version_minor": 0
      },
      "text/plain": [
       "Button(description='Sjekk svaret', style=ButtonStyle())"
      ]
     },
     "metadata": {},
     "output_type": "display_data"
    },
    {
     "data": {
      "application/vnd.jupyter.widget-view+json": {
       "model_id": "8339729bff6f4a1f992d8a04eb9f571e",
       "version_major": 2,
       "version_minor": 0
      },
      "text/plain": [
       "Output()"
      ]
     },
     "metadata": {},
     "output_type": "display_data"
    }
   ],
   "source": [
    "generate_mc([\"Et\ttrådløst\tsystem\tsom\tstiller\tsvakt\tmot\tangrep\tutenfra.\", \"At\tuvedkommende\ttar\tkontroll\tover\ten\tbrukers\tdatamaskin.\", \"At\ten\tangriper\toppgir\tfeilaktige\topplysninger\tom\ten\ttjeneste\teller\tet\tprodukt,\teller\tleverer tjenesten/produktet\ti\tdårligere\ttilstand\tenn\tforventet.\", \"At\ten\tangriper\tkopiere\tdatapakker\tsom\ttraverserer\tnettet\tfor\tå\tfå\ttak\ti\tinformasjon.\"],'6) Hva er \"wiretapping\"?',4)"
   ]
  },
  {
   "cell_type": "code",
   "execution_count": 11,
   "metadata": {
    "ExecuteTime": {
     "end_time": "2019-07-09T10:51:32.388681Z",
     "start_time": "2019-07-09T10:51:32.203729Z"
    },
    "hide_input": true,
    "scrolled": true
   },
   "outputs": [
    {
     "name": "stdout",
     "output_type": "stream",
     "text": [
      "\u001b[1m 7) Hva er sant om linje- og pakke-svitsjing? \u001b[0m\n"
     ]
    },
    {
     "data": {
      "application/vnd.jupyter.widget-view+json": {
       "model_id": "6f0b5cbed6d44642afade114045a7018",
       "version_major": 2,
       "version_minor": 0
      },
      "text/plain": [
       "RadioButtons(layout=Layout(width='1500px'), options=('Informasjonen\\ti\\tlinje-svitsjede\\tnettverk\\tdeles\\tinn\\…"
      ]
     },
     "metadata": {},
     "output_type": "display_data"
    },
    {
     "data": {
      "application/vnd.jupyter.widget-view+json": {
       "model_id": "dc812fc3e3f44cecb38c515f0ee8fb1e",
       "version_major": 2,
       "version_minor": 0
      },
      "text/plain": [
       "Button(description='Sjekk svaret', style=ButtonStyle())"
      ]
     },
     "metadata": {},
     "output_type": "display_data"
    },
    {
     "data": {
      "application/vnd.jupyter.widget-view+json": {
       "model_id": "b5259a2361ee4440941745e3f933dae3",
       "version_major": 2,
       "version_minor": 0
      },
      "text/plain": [
       "Output()"
      ]
     },
     "metadata": {},
     "output_type": "display_data"
    }
   ],
   "source": [
    "generate_mc([\"Informasjonen\ti\tlinje-svitsjede\tnettverk\tdeles\tinn\ti\tmindre\tblokker\tmed\tdata\tkalt\tdatagram.\", \"Kommunikasjonen\tmellom\tto\tparter\ti\tpakkesvitsjede\tnettverk\tpåvirkes\tikke\tav\tkommunikasjon mellom\tandre.\", \"Linje-svitsjing\tgir\tmer\teffektiv\tutnyttelse\tav\tnettverksressurser.\", \"I\tlinje-svitsjing\topprettes\tkoblingen\tmellom\tpartene\tved\tbehov,\tog\tavsluttes\tetter\tendt\tbruk.\"],'7) Hva er sant om linje- og pakke-svitsjing?',4)"
   ]
  },
  {
   "cell_type": "code",
   "execution_count": 12,
   "metadata": {
    "ExecuteTime": {
     "end_time": "2019-07-09T10:51:32.499230Z",
     "start_time": "2019-07-09T10:51:32.391984Z"
    },
    "hide_input": true
   },
   "outputs": [
    {
     "name": "stdout",
     "output_type": "stream",
     "text": [
      "\u001b[1m 8) Hvor mange bit består en IPv4-adresse av? \u001b[0m\n"
     ]
    },
    {
     "data": {
      "application/vnd.jupyter.widget-view+json": {
       "model_id": "88f02ffae44d4704a74c27a54911b931",
       "version_major": 2,
       "version_minor": 0
      },
      "text/plain": [
       "RadioButtons(layout=Layout(width='1500px'), options=('128', '64', '64', '32'), value='128')"
      ]
     },
     "metadata": {},
     "output_type": "display_data"
    },
    {
     "data": {
      "application/vnd.jupyter.widget-view+json": {
       "model_id": "4b5640fd2c9b470b8eb95d4e069b27c1",
       "version_major": 2,
       "version_minor": 0
      },
      "text/plain": [
       "Button(description='Sjekk svaret', style=ButtonStyle())"
      ]
     },
     "metadata": {},
     "output_type": "display_data"
    },
    {
     "data": {
      "application/vnd.jupyter.widget-view+json": {
       "model_id": "c76f67b446d24f40a8adbbc70f1871af",
       "version_major": 2,
       "version_minor": 0
      },
      "text/plain": [
       "Output()"
      ]
     },
     "metadata": {},
     "output_type": "display_data"
    }
   ],
   "source": [
    "generate_mc([\"128\", \"64\", \"64\", \"32\"],'8) Hvor mange bit består en IPv4-adresse av?',4)"
   ]
  },
  {
   "cell_type": "code",
   "execution_count": 13,
   "metadata": {
    "ExecuteTime": {
     "end_time": "2019-07-09T10:51:32.693810Z",
     "start_time": "2019-07-09T10:51:32.502100Z"
    },
    "hide_input": true
   },
   "outputs": [
    {
     "name": "stdout",
     "output_type": "stream",
     "text": [
      "\u001b[1m 9) Hva identifiserer prefikset i en IPv4-adresse? \u001b[0m\n"
     ]
    },
    {
     "data": {
      "application/vnd.jupyter.widget-view+json": {
       "model_id": "cc1fecded2044ab89edb7d0a0ac0208e",
       "version_major": 2,
       "version_minor": 0
      },
      "text/plain": [
       "RadioButtons(layout=Layout(width='1500px'), options=('En\\tspesifikk\\tdatamaskin\\tpå\\tnettverket.', 'Det\\tunike…"
      ]
     },
     "metadata": {},
     "output_type": "display_data"
    },
    {
     "data": {
      "application/vnd.jupyter.widget-view+json": {
       "model_id": "954bb4fa9edd4118853a654d51551908",
       "version_major": 2,
       "version_minor": 0
      },
      "text/plain": [
       "Button(description='Sjekk svaret', style=ButtonStyle())"
      ]
     },
     "metadata": {},
     "output_type": "display_data"
    },
    {
     "data": {
      "application/vnd.jupyter.widget-view+json": {
       "model_id": "bddc0550bfd14f6485c56b3a4b03cb45",
       "version_major": 2,
       "version_minor": 0
      },
      "text/plain": [
       "Output()"
      ]
     },
     "metadata": {},
     "output_type": "display_data"
    }
   ],
   "source": [
    "generate_mc([\"En\tspesifikk\tdatamaskin\tpå\tnettverket.\", \"Det\tunike\tfysiske\tnettverket\ten\tdatamaskin\ter\ttilknyttet\", \"Hvilke\tdatamaskiner\tsom\ttilhører\tet\tnettverk.\", \"Om\ten\tdatamaskin\ter\ten\truter\teller\tikke\"],'9) Hva identifiserer prefikset i en IPv4-adresse?',2)"
   ]
  },
  {
   "cell_type": "code",
   "execution_count": 14,
   "metadata": {
    "ExecuteTime": {
     "end_time": "2019-07-09T10:51:32.804459Z",
     "start_time": "2019-07-09T10:51:32.696346Z"
    },
    "hide_input": true
   },
   "outputs": [
    {
     "name": "stdout",
     "output_type": "stream",
     "text": [
      "\u001b[1m 10) Hva er en sub-nett maske (adresse maske) \u001b[0m\n"
     ]
    },
    {
     "data": {
      "application/vnd.jupyter.widget-view+json": {
       "model_id": "48ac88795ecf44c6b56d315e16045f86",
       "version_major": 2,
       "version_minor": 0
      },
      "text/plain": [
       "RadioButtons(layout=Layout(width='1500px'), options=('En\\tverdi\\tsom\\tspesifiserer\\tden\\teksakte\\tgrensen\\tmel…"
      ]
     },
     "metadata": {},
     "output_type": "display_data"
    },
    {
     "data": {
      "application/vnd.jupyter.widget-view+json": {
       "model_id": "08baf299ddb24305842df7d185c0823d",
       "version_major": 2,
       "version_minor": 0
      },
      "text/plain": [
       "Button(description='Sjekk svaret', style=ButtonStyle())"
      ]
     },
     "metadata": {},
     "output_type": "display_data"
    },
    {
     "data": {
      "application/vnd.jupyter.widget-view+json": {
       "model_id": "6104cbf7141a42b98f7e5ea44907aafe",
       "version_major": 2,
       "version_minor": 0
      },
      "text/plain": [
       "Output()"
      ]
     },
     "metadata": {},
     "output_type": "display_data"
    }
   ],
   "source": [
    "generate_mc([\"Ingen\tav\tde\tandre\talternativene.\", \"En\tverdi\tsom\tspesifiserer\tden\teksakte\tgrensen\tmellom\tprefikset\tog\tsuffikset\ti\tsubnetting\tog klasseløs\tadressering.\", \"Matrise\tfor\ttildeling\tav\tprefiks\tog\tsuffiks\ti\tsubnetting\tog\tklasseløs\tadressering.\", \"Funksjon\tsom\tmuliggjør\tdeling\tmellom\tprefiks\tog\tsuffiks.\"],'10) Hva er en sub-nett maske (adresse maske)',2)"
   ]
  },
  {
   "cell_type": "code",
   "execution_count": 15,
   "metadata": {
    "ExecuteTime": {
     "end_time": "2019-07-09T10:51:32.912776Z",
     "start_time": "2019-07-09T10:51:32.806729Z"
    },
    "hide_input": true
   },
   "outputs": [
    {
     "name": "stdout",
     "output_type": "stream",
     "text": [
      "\u001b[1m 11) Hva kalles mindre kretskort som plugges inn i hoved(krets-)kortet \u001b[0m\n"
     ]
    },
    {
     "data": {
      "application/vnd.jupyter.widget-view+json": {
       "model_id": "2ce7a36b0ded4b5684ba3e70acae26f9",
       "version_major": 2,
       "version_minor": 0
      },
      "text/plain": [
       "RadioButtons(layout=Layout(width='1500px'), options=('Sekundærkort', 'Anti\\thovedkort', 'Datterkort', 'Arvekor…"
      ]
     },
     "metadata": {},
     "output_type": "display_data"
    },
    {
     "data": {
      "application/vnd.jupyter.widget-view+json": {
       "model_id": "f1c938a9fadc4fe6bd3ee8a43a6094a2",
       "version_major": 2,
       "version_minor": 0
      },
      "text/plain": [
       "Button(description='Sjekk svaret', style=ButtonStyle())"
      ]
     },
     "metadata": {},
     "output_type": "display_data"
    },
    {
     "data": {
      "application/vnd.jupyter.widget-view+json": {
       "model_id": "ffa943a1b64d4cba9d44b36edc1241af",
       "version_major": 2,
       "version_minor": 0
      },
      "text/plain": [
       "Output()"
      ]
     },
     "metadata": {},
     "output_type": "display_data"
    }
   ],
   "source": [
    "generate_mc([\"Arvekort\", \"Anti\thovedkort\", \"Sekundærkort\", \"Datterkort\"],'11) Hva kalles mindre kretskort som plugges inn i hoved(krets-)kortet',4)"
   ]
  },
  {
   "cell_type": "code",
   "execution_count": 16,
   "metadata": {
    "ExecuteTime": {
     "end_time": "2019-07-09T10:51:33.104855Z",
     "start_time": "2019-07-09T10:51:32.989653Z"
    },
    "hide_input": true
   },
   "outputs": [
    {
     "name": "stdout",
     "output_type": "stream",
     "text": [
      "\u001b[1m 12) Hva er Photolithography (fotolitografi)? \u001b[0m\n"
     ]
    },
    {
     "data": {
      "application/vnd.jupyter.widget-view+json": {
       "model_id": "abf3f94145704a6db93830746baa10b5",
       "version_major": 2,
       "version_minor": 0
      },
      "text/plain": [
       "RadioButtons(layout=Layout(width='1500px'), options=('En\\tdigitalisering\\tav\\tPunch\\tCards\\t(hullkort)\\tsom\\th…"
      ]
     },
     "metadata": {},
     "output_type": "display_data"
    },
    {
     "data": {
      "application/vnd.jupyter.widget-view+json": {
       "model_id": "83aed792d4b14f4682826ed790a3bb1b",
       "version_major": 2,
       "version_minor": 0
      },
      "text/plain": [
       "Button(description='Sjekk svaret', style=ButtonStyle())"
      ]
     },
     "metadata": {},
     "output_type": "display_data"
    },
    {
     "data": {
      "application/vnd.jupyter.widget-view+json": {
       "model_id": "b8ee2e78c5694e678eff9a34d8ca7d4a",
       "version_major": 2,
       "version_minor": 0
      },
      "text/plain": [
       "Output()"
      ]
     },
     "metadata": {},
     "output_type": "display_data"
    }
   ],
   "source": [
    "generate_mc([\"En\tdigitalisering\tav\tPunch\tCards\t(hullkort)\tsom\thar\tgjort\tdet\tmulig\tfor\ten\tdatamaskin\tå lese digital\tinformasjon.\", \"En\tteknikk\tsom\thar\tgjort\tat\tintegrerte\tkretser\thar\tblitt\tenklere\tå\tlage.\tLedninger\tprintes\tpå chipene\ti\tflere\tlag.\", \"Noe\tsom\tbrukes\tnår\tman\tskal\tfotografere\tkretser\tned\tpå\thovedkortet\", \"En\ttype\tRAM\tsom\tlagrer\tdata\tpermanent.\"],'12) Hva er Photolithography (fotolitografi)?',2)"
   ]
  },
  {
   "cell_type": "code",
   "execution_count": 17,
   "metadata": {
    "ExecuteTime": {
     "end_time": "2019-07-09T10:54:46.803763Z",
     "start_time": "2019-07-09T10:54:46.710953Z"
    },
    "hide_input": true
   },
   "outputs": [
    {
     "name": "stdout",
     "output_type": "stream",
     "text": [
      "\u001b[1m 13) Hva er riktig om harddisker? \u001b[0m\n"
     ]
    },
    {
     "data": {
      "application/vnd.jupyter.widget-view+json": {
       "model_id": "f4ca0e36644943aba817dfdea6222161",
       "version_major": 2,
       "version_minor": 0
      },
      "text/plain": [
       "RadioButtons(layout=Layout(width='1500px'), options=('Volatilt\\tog\\trandom\\taccess.', 'Permanent\\tog\\tsequenti…"
      ]
     },
     "metadata": {},
     "output_type": "display_data"
    },
    {
     "data": {
      "application/vnd.jupyter.widget-view+json": {
       "model_id": "d638863771144857974fb2110e63bc99",
       "version_major": 2,
       "version_minor": 0
      },
      "text/plain": [
       "Button(description='Sjekk svaret', style=ButtonStyle())"
      ]
     },
     "metadata": {},
     "output_type": "display_data"
    },
    {
     "data": {
      "application/vnd.jupyter.widget-view+json": {
       "model_id": "ca3a4de3dd394a4284835f86ae8222ed",
       "version_major": 2,
       "version_minor": 0
      },
      "text/plain": [
       "Output()"
      ]
     },
     "metadata": {},
     "output_type": "display_data"
    }
   ],
   "source": [
    "generate_mc([\"Permanent\tog\trandom\taccess.\", \"Volatilt\tog\trandom\taccess.\", \"Volatilt\tog\tsequential\taccess.\", \"Permanent\tog\tsequential\taccess\"],'13) Hva er riktig om harddisker?',1)"
   ]
  },
  {
   "cell_type": "code",
   "execution_count": 18,
   "metadata": {
    "ExecuteTime": {
     "end_time": "2019-07-09T10:51:33.399869Z",
     "start_time": "2019-07-09T10:51:33.292106Z"
    },
    "hide_input": true
   },
   "outputs": [
    {
     "name": "stdout",
     "output_type": "stream",
     "text": [
      "\u001b[1m 14) Hva er hovedoppgaven til ALU? \u001b[0m\n"
     ]
    },
    {
     "data": {
      "application/vnd.jupyter.widget-view+json": {
       "model_id": "ce03e660fd844ef18c2dc7c4e2adc58b",
       "version_major": 2,
       "version_minor": 0
      },
      "text/plain": [
       "RadioButtons(layout=Layout(width='1500px'), options=('Utføre\\tregneoperasjoner', 'Hente\\tdata\\tfra\\tminnet', '…"
      ]
     },
     "metadata": {},
     "output_type": "display_data"
    },
    {
     "data": {
      "application/vnd.jupyter.widget-view+json": {
       "model_id": "a01332f30aa64362bbcd43992e389a5b",
       "version_major": 2,
       "version_minor": 0
      },
      "text/plain": [
       "Button(description='Sjekk svaret', style=ButtonStyle())"
      ]
     },
     "metadata": {},
     "output_type": "display_data"
    },
    {
     "data": {
      "application/vnd.jupyter.widget-view+json": {
       "model_id": "ad36c54217d2412589bace14ca8ab2ab",
       "version_major": 2,
       "version_minor": 0
      },
      "text/plain": [
       "Output()"
      ]
     },
     "metadata": {},
     "output_type": "display_data"
    }
   ],
   "source": [
    "generate_mc([\"Sette\ti\tgang\toperativ\tsystemet\", \"Utføre\tregneoperasjoner\", \"Peke\tpå\triktig\tminneadresse\", \"Hente\tdata\tfra\tminnet\"],'14) Hva er hovedoppgaven til ALU?',2)"
   ]
  },
  {
   "cell_type": "code",
   "execution_count": 19,
   "metadata": {
    "ExecuteTime": {
     "end_time": "2019-07-09T10:51:33.602205Z",
     "start_time": "2019-07-09T10:51:33.403501Z"
    },
    "hide_input": true
   },
   "outputs": [
    {
     "name": "stdout",
     "output_type": "stream",
     "text": [
      "\u001b[1m 15) Hvilke 2 registre finner vi i kontrollenheten? \u001b[0m\n"
     ]
    },
    {
     "data": {
      "application/vnd.jupyter.widget-view+json": {
       "model_id": "03043bb8e7604e4090cf3e9bbe80370c",
       "version_major": 2,
       "version_minor": 0
      },
      "text/plain": [
       "RadioButtons(layout=Layout(width='1500px'), options=('Programteller\\tog\\tdataregister', 'Instruksjonsregister\\…"
      ]
     },
     "metadata": {},
     "output_type": "display_data"
    },
    {
     "data": {
      "application/vnd.jupyter.widget-view+json": {
       "model_id": "ae469c5555b0453b8d3ecef3e05bc63d",
       "version_major": 2,
       "version_minor": 0
      },
      "text/plain": [
       "Button(description='Sjekk svaret', style=ButtonStyle())"
      ]
     },
     "metadata": {},
     "output_type": "display_data"
    },
    {
     "data": {
      "application/vnd.jupyter.widget-view+json": {
       "model_id": "42d7f53e3f084c0d87277c7c8c35a69c",
       "version_major": 2,
       "version_minor": 0
      },
      "text/plain": [
       "Output()"
      ]
     },
     "metadata": {},
     "output_type": "display_data"
    }
   ],
   "source": [
    "generate_mc([\"Programteller\tog\tinstruksjonsregister\", \"Instruksjonsregister\tog\tkontrollregister\", \"Programteller\tog\tdataregister\", \"Programteller\tog\tkontrollregister\"],'15) Hvilke 2 registre finner vi i kontrollenheten?',1)"
   ]
  },
  {
   "cell_type": "code",
   "execution_count": 20,
   "metadata": {
    "ExecuteTime": {
     "end_time": "2019-07-09T10:51:33.794195Z",
     "start_time": "2019-07-09T10:51:33.605240Z"
    },
    "hide_input": true
   },
   "outputs": [
    {
     "name": "stdout",
     "output_type": "stream",
     "text": [
      "\u001b[1m 16) Hvilket tall i titallssystemet representerer det binære tallet 100111? \u001b[0m\n"
     ]
    },
    {
     "data": {
      "application/vnd.jupyter.widget-view+json": {
       "model_id": "9b7fa0584d5a49cbb173ca9c5f2945a2",
       "version_major": 2,
       "version_minor": 0
      },
      "text/plain": [
       "RadioButtons(layout=Layout(width='1500px'), options=('39', '27', '71', '43'), value='39')"
      ]
     },
     "metadata": {},
     "output_type": "display_data"
    },
    {
     "data": {
      "application/vnd.jupyter.widget-view+json": {
       "model_id": "3834afe9de7b4c17bb9ae98cdde5e6de",
       "version_major": 2,
       "version_minor": 0
      },
      "text/plain": [
       "Button(description='Sjekk svaret', style=ButtonStyle())"
      ]
     },
     "metadata": {},
     "output_type": "display_data"
    },
    {
     "data": {
      "application/vnd.jupyter.widget-view+json": {
       "model_id": "971705ef7b724142950ebdd6433092f3",
       "version_major": 2,
       "version_minor": 0
      },
      "text/plain": [
       "Output()"
      ]
     },
     "metadata": {},
     "output_type": "display_data"
    }
   ],
   "source": [
    "generate_mc([\"71\", \"39\", \"43\", \"27\"],'16) Hvilket tall i titallssystemet representerer det binære tallet 100111?',2)"
   ]
  },
  {
   "cell_type": "code",
   "execution_count": 21,
   "metadata": {
    "ExecuteTime": {
     "end_time": "2019-07-09T10:51:33.914135Z",
     "start_time": "2019-07-09T10:51:33.799151Z"
    },
    "hide_input": true
   },
   "outputs": [
    {
     "name": "stdout",
     "output_type": "stream",
     "text": [
      "\u001b[1m 17) Hvilken webfargekode (heksadesimalfargekode) representerer hvit? \u001b[0m\n"
     ]
    },
    {
     "data": {
      "application/vnd.jupyter.widget-view+json": {
       "model_id": "45988de4d6a44000a87a79b01ffb0638",
       "version_major": 2,
       "version_minor": 0
      },
      "text/plain": [
       "RadioButtons(layout=Layout(width='1500px'), options=('#AAAAAA', '#FFFFFF', '#808080', '#000000'), value='#AAAA…"
      ]
     },
     "metadata": {},
     "output_type": "display_data"
    },
    {
     "data": {
      "application/vnd.jupyter.widget-view+json": {
       "model_id": "e56c78adb89b47f4800cd98ce1d10007",
       "version_major": 2,
       "version_minor": 0
      },
      "text/plain": [
       "Button(description='Sjekk svaret', style=ButtonStyle())"
      ]
     },
     "metadata": {},
     "output_type": "display_data"
    },
    {
     "data": {
      "application/vnd.jupyter.widget-view+json": {
       "model_id": "87e21d5355054109b16713fd61f2a3a2",
       "version_major": 2,
       "version_minor": 0
      },
      "text/plain": [
       "Output()"
      ]
     },
     "metadata": {},
     "output_type": "display_data"
    }
   ],
   "source": [
    "generate_mc([\"#808080\", \"#AAAAAA\", \"#000000\", \"#FFFFFF\"],'17) Hvilken webfargekode (heksadesimalfargekode) representerer hvit?',4)"
   ]
  },
  {
   "cell_type": "code",
   "execution_count": 22,
   "metadata": {
    "ExecuteTime": {
     "end_time": "2019-07-09T10:51:34.100065Z",
     "start_time": "2019-07-09T10:51:33.987749Z"
    },
    "hide_input": true
   },
   "outputs": [
    {
     "name": "stdout",
     "output_type": "stream",
     "text": [
      "\u001b[1m 18) Informasjon som beskriver informasjon kalles: \u001b[0m\n"
     ]
    },
    {
     "data": {
      "application/vnd.jupyter.widget-view+json": {
       "model_id": "489ac3882e3d4b3fb96d43a7d19b54f4",
       "version_major": 2,
       "version_minor": 0
      },
      "text/plain": [
       "RadioButtons(layout=Layout(width='1500px'), options=('kollating', 'sirkulær\\tdata', 'spesialdata', 'metadata')…"
      ]
     },
     "metadata": {},
     "output_type": "display_data"
    },
    {
     "data": {
      "application/vnd.jupyter.widget-view+json": {
       "model_id": "36e6e053b1d4423a8eec4852d7498641",
       "version_major": 2,
       "version_minor": 0
      },
      "text/plain": [
       "Button(description='Sjekk svaret', style=ButtonStyle())"
      ]
     },
     "metadata": {},
     "output_type": "display_data"
    },
    {
     "data": {
      "application/vnd.jupyter.widget-view+json": {
       "model_id": "125448574032426cbcd55cc5ec03b4c3",
       "version_major": 2,
       "version_minor": 0
      },
      "text/plain": [
       "Output()"
      ]
     },
     "metadata": {},
     "output_type": "display_data"
    }
   ],
   "source": [
    "generate_mc([\"kollating\", \"spesialdata\", \"sirkulær\tdata\", \"metadata\"],'18) Informasjon som beskriver informasjon kalles:',4)"
   ]
  },
  {
   "cell_type": "code",
   "execution_count": 23,
   "metadata": {
    "ExecuteTime": {
     "end_time": "2019-07-09T10:51:34.292052Z",
     "start_time": "2019-07-09T10:51:34.103626Z"
    },
    "hide_input": true
   },
   "outputs": [
    {
     "name": "stdout",
     "output_type": "stream",
     "text": [
      "\u001b[1m 19) Hva sier Nyquist-regelen for sampling? \u001b[0m\n"
     ]
    },
    {
     "data": {
      "application/vnd.jupyter.widget-view+json": {
       "model_id": "b88800cd4dfd43d39019e4989a1f5cb4",
       "version_major": 2,
       "version_minor": 0
      },
      "text/plain": [
       "RadioButtons(layout=Layout(width='1500px'), options=('Nyquist-regelen\\tsier\\tat\\tsamplingsfrekvensen\\tmå\\tvære…"
      ]
     },
     "metadata": {},
     "output_type": "display_data"
    },
    {
     "data": {
      "application/vnd.jupyter.widget-view+json": {
       "model_id": "b8754b12a7f744f2b1b4d699eb59bba3",
       "version_major": 2,
       "version_minor": 0
      },
      "text/plain": [
       "Button(description='Sjekk svaret', style=ButtonStyle())"
      ]
     },
     "metadata": {},
     "output_type": "display_data"
    },
    {
     "data": {
      "application/vnd.jupyter.widget-view+json": {
       "model_id": "3fa8c5baf92a410ba747444d9416e00d",
       "version_major": 2,
       "version_minor": 0
      },
      "text/plain": [
       "Output()"
      ]
     },
     "metadata": {},
     "output_type": "display_data"
    }
   ],
   "source": [
    "generate_mc([\"Nyquist-regelen\tsier\tat\tsamplingsfrekvensen\tmå\tvære\tminst\tlike\trask\tsom\tden\traskeste frekvensen.\tEttersom\tmenneskelige\tører\tkan\thøre\tlyder\topp\ttil\tca.\t20\t000Hz,\tvil samplingsfrekvens\tpå\t20\t000Hz\toppfylle\tNyquists\tregel\tfor\tdigital\tlydopptak\", \"Nyquist-regelen\tsier\tat\tsamplingsfrekvensen\tmå\tvære\tminst\tfire\tganger\tså\trask\tsom\tden raskeste\tfrekvensen.\tEttersom\tmenneskelige\tører\tkan\thøre\tlyder\topp\ttil\tca.\t20\t000Hz,\tvil samplingsfrekvens\tpå\t80\t000Hz\toppfylle\tNyquists\tregel\tfor\tdigital\tlydopptak.\", \"Nyquist-regelen\tsier\tat\tsamplingsfrekvensen\tmå\tvære\tminst\tdobbelt\tså\trask\tsom\tden\traskeste frekvensen.\tEttersom\tmenneskelige\tører\tkan\thøre\tlyder\topp\ttil\tca.\t20\t000Hz,\tvil samplingsfrekvens\tpå\t40\t000Hz\toppfylle\tNyquists\tregel\tfor\tdigital\tlydopptak.\", \"Nyquist-regelen\tsier\tat\tsamplingsfrekvensen\tmå\tvære\tminst\thalvparten\tav\tden\traskeste frekvensen.\tEttersom\tmenneskelige\tører\tkan\thøre\tlyder\topp\ttil\tca.\t20\t000Hz,\tvil samplingsfrekvens\tpå\t10\t000Hz\toppfylle\tNyquists\tregel\tfor\tdigital\tlydopptak.\"],'19) Hva sier Nyquist-regelen for sampling?',3)"
   ]
  },
  {
   "cell_type": "code",
   "execution_count": 24,
   "metadata": {
    "ExecuteTime": {
     "end_time": "2019-07-09T10:51:34.404488Z",
     "start_time": "2019-07-09T10:51:34.295155Z"
    },
    "hide_input": true
   },
   "outputs": [
    {
     "name": "stdout",
     "output_type": "stream",
     "text": [
      "\u001b[1m 20) Hva er sampling? \u001b[0m\n"
     ]
    },
    {
     "data": {
      "application/vnd.jupyter.widget-view+json": {
       "model_id": "cb01ad2d859e4cb3a12e45d3b4419b57",
       "version_major": 2,
       "version_minor": 0
      },
      "text/plain": [
       "RadioButtons(layout=Layout(width='1500px'), options=('Å\\tkonvertere\\tfra\\tdigital\\ttil\\tanalog\\tlyd', 'Å\\tkonv…"
      ]
     },
     "metadata": {},
     "output_type": "display_data"
    },
    {
     "data": {
      "application/vnd.jupyter.widget-view+json": {
       "model_id": "9b4da7129b9f411980db2a988e4b9f02",
       "version_major": 2,
       "version_minor": 0
      },
      "text/plain": [
       "Button(description='Sjekk svaret', style=ButtonStyle())"
      ]
     },
     "metadata": {},
     "output_type": "display_data"
    },
    {
     "data": {
      "application/vnd.jupyter.widget-view+json": {
       "model_id": "4da2c139dd1c4e7f8815a4044e068987",
       "version_major": 2,
       "version_minor": 0
      },
      "text/plain": [
       "Output()"
      ]
     },
     "metadata": {},
     "output_type": "display_data"
    }
   ],
   "source": [
    "generate_mc([\"Å\tta\tmålinger\tpå\tregelmessige\tintervall\", \"Å\tkonvertere\tfra\tdigital\ttil\tanalog\tlyd\", \"Å\tkonvertere\tfra\tanalog\ttil\tdigital\tlyd\", \"Å\tta\tmålinger\tpå\turegelmessige\tintervall\"],'20) Hva er sampling?',1)"
   ]
  }
 ],
 "metadata": {
  "kernelspec": {
   "display_name": "Python 3",
   "language": "python",
   "name": "python3"
  },
  "language_info": {
   "codemirror_mode": {
    "name": "ipython",
    "version": 3
   },
   "file_extension": ".py",
   "mimetype": "text/x-python",
   "name": "python",
   "nbconvert_exporter": "python",
   "pygments_lexer": "ipython3",
   "version": "3.7.3"
  },
  "toc": {
   "base_numbering": 1,
   "nav_menu": {},
   "number_sections": false,
   "sideBar": true,
   "skip_h1_title": false,
   "title_cell": "Table of Contents",
   "title_sidebar": "Contents",
   "toc_cell": false,
   "toc_position": {},
   "toc_section_display": true,
   "toc_window_display": false
  }
 },
 "nbformat": 4,
 "nbformat_minor": 2
}
