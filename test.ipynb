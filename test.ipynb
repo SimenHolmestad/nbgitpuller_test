{
 "cells": [
  {
   "cell_type": "code",
   "execution_count": 23,
   "metadata": {
    "scrolled": false
   },
   "outputs": [
    {
     "name": "stdout",
     "output_type": "stream",
     "text": [
      "[1, 2, 1, 2, 3, 1, 3, 3, 2, 4, 4, 2, 2, 3, 1, 4, 2, 3, 2, 3, -86]\n",
      "\u001b[1m 1.Hva er Alan Turing kjent for? \u001b[0m\n"
     ]
    },
    {
     "data": {
      "application/vnd.jupyter.widget-view+json": {
       "model_id": "88f40d62cc914d39b7480de50cc24925",
       "version_major": 2,
       "version_minor": 0
      },
      "text/plain": [
       "RadioButtons(layout=Layout(width='1500px'), options=('a.Han utformet det matematiske grunnlaget for dagens dat…"
      ]
     },
     "metadata": {},
     "output_type": "display_data"
    },
    {
     "data": {
      "application/vnd.jupyter.widget-view+json": {
       "model_id": "356c44fd4bb7471ab9734448ae3edc37",
       "version_major": 2,
       "version_minor": 0
      },
      "text/plain": [
       "Button(description='Sjekk svaret', style=ButtonStyle())"
      ]
     },
     "metadata": {},
     "output_type": "display_data"
    },
    {
     "data": {
      "application/vnd.jupyter.widget-view+json": {
       "model_id": "6e84dda768984744a87832fea46212c2",
       "version_major": 2,
       "version_minor": 0
      },
      "text/plain": [
       "Output()"
      ]
     },
     "metadata": {},
     "output_type": "display_data"
    },
    {
     "name": "stdout",
     "output_type": "stream",
     "text": [
      "\u001b[1m 2.Hva er fordelene med en SSD (Solid State Drive) sammenliknet med en vanlig harddisk? \u001b[0m\n"
     ]
    },
    {
     "data": {
      "application/vnd.jupyter.widget-view+json": {
       "model_id": "9800f95c0c674c78b6f8c4a9e5d0ab12",
       "version_major": 2,
       "version_minor": 0
      },
      "text/plain": [
       "RadioButtons(layout=Layout(width='1500px'), options=('a.Den kan lagre mer data.', 'c.Den kan ikke krasje.', 'd…"
      ]
     },
     "metadata": {},
     "output_type": "display_data"
    },
    {
     "data": {
      "application/vnd.jupyter.widget-view+json": {
       "model_id": "dc9dafe3c9444be4a5a825de4df1ccf4",
       "version_major": 2,
       "version_minor": 0
      },
      "text/plain": [
       "Button(description='Sjekk svaret', style=ButtonStyle())"
      ]
     },
     "metadata": {},
     "output_type": "display_data"
    },
    {
     "data": {
      "application/vnd.jupyter.widget-view+json": {
       "model_id": "13b5622514bb48718f63978d238d6b96",
       "version_major": 2,
       "version_minor": 0
      },
      "text/plain": [
       "Output()"
      ]
     },
     "metadata": {},
     "output_type": "display_data"
    },
    {
     "name": "stdout",
     "output_type": "stream",
     "text": [
      "\u001b[1m 3.I hvilken rekkefølge (etter årstall) vil du plassere oppgittepersoner fra datahistorien: \u001b[0m\n"
     ]
    },
    {
     "data": {
      "application/vnd.jupyter.widget-view+json": {
       "model_id": "8726f4f9677a4b72b2d811d10384ac23",
       "version_major": 2,
       "version_minor": 0
      },
      "text/plain": [
       "RadioButtons(layout=Layout(width='1500px'), options=('a.Hollerith -Zuse -von Neumann –Engelbart.', 'd.Zuse -Ho…"
      ]
     },
     "metadata": {},
     "output_type": "display_data"
    },
    {
     "data": {
      "application/vnd.jupyter.widget-view+json": {
       "model_id": "2a3b07ebf3f04010a3b1ed67b12b16b0",
       "version_major": 2,
       "version_minor": 0
      },
      "text/plain": [
       "Button(description='Sjekk svaret', style=ButtonStyle())"
      ]
     },
     "metadata": {},
     "output_type": "display_data"
    },
    {
     "data": {
      "application/vnd.jupyter.widget-view+json": {
       "model_id": "8532d39a7064494697a3c3fab947f6ee",
       "version_major": 2,
       "version_minor": 0
      },
      "text/plain": [
       "Output()"
      ]
     },
     "metadata": {},
     "output_type": "display_data"
    },
    {
     "name": "stdout",
     "output_type": "stream",
     "text": [
      "\u001b[1m 4.En liten del innien mikroprosessor (CPU) blir ofte forkortet PC, hva står dette for da? \u001b[0m\n"
     ]
    },
    {
     "data": {
      "application/vnd.jupyter.widget-view+json": {
       "model_id": "466015fdbffe42a0bac35c5202c65a81",
       "version_major": 2,
       "version_minor": 0
      },
      "text/plain": [
       "RadioButtons(layout=Layout(width='1500px'), options=('c.Personal Computer.', 'd.Programming Chip.\\n', 'b.Progr…"
      ]
     },
     "metadata": {},
     "output_type": "display_data"
    },
    {
     "data": {
      "application/vnd.jupyter.widget-view+json": {
       "model_id": "b1b0682dac044ed3a0640c0deacd79f1",
       "version_major": 2,
       "version_minor": 0
      },
      "text/plain": [
       "Button(description='Sjekk svaret', style=ButtonStyle())"
      ]
     },
     "metadata": {},
     "output_type": "display_data"
    },
    {
     "data": {
      "application/vnd.jupyter.widget-view+json": {
       "model_id": "46b18b51a2634effb2b9b62ed2c56cbc",
       "version_major": 2,
       "version_minor": 0
      },
      "text/plain": [
       "Output()"
      ]
     },
     "metadata": {},
     "output_type": "display_data"
    },
    {
     "name": "stdout",
     "output_type": "stream",
     "text": [
      "\u001b[1m 5.Hva er rekkefølgen av prefixene relatert til lagring fra minst til størst? \u001b[0m\n"
     ]
    },
    {
     "data": {
      "application/vnd.jupyter.widget-view+json": {
       "model_id": "66808dc963ec462e95b8dc83c7455009",
       "version_major": 2,
       "version_minor": 0
      },
      "text/plain": [
       "RadioButtons(layout=Layout(width='1500px'), options=('a.mega, tera, giga, peta.', 'c.mega, giga, tera, peta.',…"
      ]
     },
     "metadata": {},
     "output_type": "display_data"
    },
    {
     "data": {
      "application/vnd.jupyter.widget-view+json": {
       "model_id": "6ddf4e3cb32a46c99221546e3fac3d57",
       "version_major": 2,
       "version_minor": 0
      },
      "text/plain": [
       "Button(description='Sjekk svaret', style=ButtonStyle())"
      ]
     },
     "metadata": {},
     "output_type": "display_data"
    },
    {
     "data": {
      "application/vnd.jupyter.widget-view+json": {
       "model_id": "58fa4f14acfa4d4d8a835b4cd522f6aa",
       "version_major": 2,
       "version_minor": 0
      },
      "text/plain": [
       "Output()"
      ]
     },
     "metadata": {},
     "output_type": "display_data"
    },
    {
     "name": "stdout",
     "output_type": "stream",
     "text": [
      "\u001b[1m 6.Hva blir binærrepresentasjonen av tallverdien 345? \u001b[0m\n"
     ]
    },
    {
     "data": {
      "application/vnd.jupyter.widget-view+json": {
       "model_id": "1e0bcde2840945df81f7eb4d1bfbc199",
       "version_major": 2,
       "version_minor": 0
      },
      "text/plain": [
       "RadioButtons(layout=Layout(width='1500px'), options=('c.110011.', 'a.101011001.', 'd.11001110.\\n', 'b.11011010…"
      ]
     },
     "metadata": {},
     "output_type": "display_data"
    },
    {
     "data": {
      "application/vnd.jupyter.widget-view+json": {
       "model_id": "f4f1007ad6854a4aabbbefe9cb6ec93d",
       "version_major": 2,
       "version_minor": 0
      },
      "text/plain": [
       "Button(description='Sjekk svaret', style=ButtonStyle())"
      ]
     },
     "metadata": {},
     "output_type": "display_data"
    },
    {
     "data": {
      "application/vnd.jupyter.widget-view+json": {
       "model_id": "7635acec06e64c51a4c0cebed1f9cca2",
       "version_major": 2,
       "version_minor": 0
      },
      "text/plain": [
       "Output()"
      ]
     },
     "metadata": {},
     "output_type": "display_data"
    },
    {
     "name": "stdout",
     "output_type": "stream",
     "text": [
      "\u001b[1m 7.CD-lyd er 16 bits, 44100Hz i stereo. Hvor mye lagringsplass trengs for 35 sekunder i dette formatet? \u001b[0m\n"
     ]
    },
    {
     "data": {
      "application/vnd.jupyter.widget-view+json": {
       "model_id": "d5549450b09244c9a317a23d1903288f",
       "version_major": 2,
       "version_minor": 0
      },
      "text/plain": [
       "RadioButtons(layout=Layout(width='1500px'), options=('c.Ca.6,16 MB.', 'b.Ca.3,09MB.', 'd.Oppgaven inneholder i…"
      ]
     },
     "metadata": {},
     "output_type": "display_data"
    },
    {
     "data": {
      "application/vnd.jupyter.widget-view+json": {
       "model_id": "099d4df06834421ca83d86f4835cf30c",
       "version_major": 2,
       "version_minor": 0
      },
      "text/plain": [
       "Button(description='Sjekk svaret', style=ButtonStyle())"
      ]
     },
     "metadata": {},
     "output_type": "display_data"
    },
    {
     "data": {
      "application/vnd.jupyter.widget-view+json": {
       "model_id": "01f74a578e5d4031b04d5ecb1694ca3d",
       "version_major": 2,
       "version_minor": 0
      },
      "text/plain": [
       "Output()"
      ]
     },
     "metadata": {},
     "output_type": "display_data"
    },
    {
     "name": "stdout",
     "output_type": "stream",
     "text": [
      "\u001b[1m 8.Hvordan representeres et flyttall i en datamaskin? \u001b[0m\n"
     ]
    },
    {
     "data": {
      "application/vnd.jupyter.widget-view+json": {
       "model_id": "f46821ceb4ef4313abb706574c05c193",
       "version_major": 2,
       "version_minor": 0
      },
      "text/plain": [
       "RadioButtons(layout=Layout(width='1500px'), options=('b.Man avrunder til nærmeste heltall.', 'c.Man må konvert…"
      ]
     },
     "metadata": {},
     "output_type": "display_data"
    },
    {
     "data": {
      "application/vnd.jupyter.widget-view+json": {
       "model_id": "ba7ceca320f8423f99d0f102c75858db",
       "version_major": 2,
       "version_minor": 0
      },
      "text/plain": [
       "Button(description='Sjekk svaret', style=ButtonStyle())"
      ]
     },
     "metadata": {},
     "output_type": "display_data"
    },
    {
     "data": {
      "application/vnd.jupyter.widget-view+json": {
       "model_id": "ede1fac9b2b343fab1fb0a26b19b7576",
       "version_major": 2,
       "version_minor": 0
      },
      "text/plain": [
       "Output()"
      ]
     },
     "metadata": {},
     "output_type": "display_data"
    },
    {
     "name": "stdout",
     "output_type": "stream",
     "text": [
      "\u001b[1m 9.Hvor mange ulike verdier kan representeres med 10 bits? \u001b[0m\n"
     ]
    },
    {
     "data": {
      "application/vnd.jupyter.widget-view+json": {
       "model_id": "59d1c42201334bd880d9319bd93766b5",
       "version_major": 2,
       "version_minor": 0
      },
      "text/plain": [
       "RadioButtons(layout=Layout(width='1500px'), options=('a.512. ', 'b.1024. ', 'd.1280.\\n', 'c.1152. '), value='a…"
      ]
     },
     "metadata": {},
     "output_type": "display_data"
    },
    {
     "data": {
      "application/vnd.jupyter.widget-view+json": {
       "model_id": "1559a47bca414548b329dee203d7e9d5",
       "version_major": 2,
       "version_minor": 0
      },
      "text/plain": [
       "Button(description='Sjekk svaret', style=ButtonStyle())"
      ]
     },
     "metadata": {},
     "output_type": "display_data"
    },
    {
     "data": {
      "application/vnd.jupyter.widget-view+json": {
       "model_id": "0788173f5dc3462182555ced1affb61f",
       "version_major": 2,
       "version_minor": 0
      },
      "text/plain": [
       "Output()"
      ]
     },
     "metadata": {},
     "output_type": "display_data"
    },
    {
     "name": "stdout",
     "output_type": "stream",
     "text": [
      "\u001b[1m 10.Hva representerer en bit? \u001b[0m\n"
     ]
    },
    {
     "data": {
      "application/vnd.jupyter.widget-view+json": {
       "model_id": "6440c73c43354e4e93d77308004ab6fa",
       "version_major": 2,
       "version_minor": 0
      },
      "text/plain": [
       "RadioButtons(layout=Layout(width='1500px'), options=('c.En vilkårlig verdi mellom 0 og 1. ', 'b.En farge i RGB…"
      ]
     },
     "metadata": {},
     "output_type": "display_data"
    },
    {
     "data": {
      "application/vnd.jupyter.widget-view+json": {
       "model_id": "f3661671aaf949c2943ba9fdb6c8de72",
       "version_major": 2,
       "version_minor": 0
      },
      "text/plain": [
       "Button(description='Sjekk svaret', style=ButtonStyle())"
      ]
     },
     "metadata": {},
     "output_type": "display_data"
    },
    {
     "data": {
      "application/vnd.jupyter.widget-view+json": {
       "model_id": "534c1a4baf9e4a9c92c7ffd28e80e346",
       "version_major": 2,
       "version_minor": 0
      },
      "text/plain": [
       "Output()"
      ]
     },
     "metadata": {},
     "output_type": "display_data"
    },
    {
     "name": "stdout",
     "output_type": "stream",
     "text": [
      "\u001b[1m 11.Et lokalt datanettverk (LAN) består av 9 datamaskiner. Nettverket er organisert som en mesh-topologi.  Hvor mange direkte forbindelser er det mellom datamaskinene i nettverket? \u001b[0m\n"
     ]
    },
    {
     "data": {
      "application/vnd.jupyter.widget-view+json": {
       "model_id": "87ae6c5ac1854c5bbc400a9e597c01ee",
       "version_major": 2,
       "version_minor": 0
      },
      "text/plain": [
       "RadioButtons(layout=Layout(width='1500px'), options=('d.36. \\n', 'a.9.', 'b.18.', 'c.27.'), value='d.36. \\n')"
      ]
     },
     "metadata": {},
     "output_type": "display_data"
    },
    {
     "data": {
      "application/vnd.jupyter.widget-view+json": {
       "model_id": "5cb277f9546344a5b3190b140410590e",
       "version_major": 2,
       "version_minor": 0
      },
      "text/plain": [
       "Button(description='Sjekk svaret', style=ButtonStyle())"
      ]
     },
     "metadata": {},
     "output_type": "display_data"
    },
    {
     "data": {
      "application/vnd.jupyter.widget-view+json": {
       "model_id": "b0afbc32d555436cb9f20b4bf59a9f5e",
       "version_major": 2,
       "version_minor": 0
      },
      "text/plain": [
       "Output()"
      ]
     },
     "metadata": {},
     "output_type": "display_data"
    },
    {
     "name": "stdout",
     "output_type": "stream",
     "text": [
      "\u001b[1m 12.Hva brukes en Media Access Control (MAC)-adresse til? \u001b[0m\n"
     ]
    },
    {
     "data": {
      "application/vnd.jupyter.widget-view+json": {
       "model_id": "d9f9e7bdcfc944f2ad96335ac6735679",
       "version_major": 2,
       "version_minor": 0
      },
      "text/plain": [
       "RadioButtons(layout=Layout(width='1500px'), options=('a.Identifisere en spesifikk datamaskin på Internett.', '…"
      ]
     },
     "metadata": {},
     "output_type": "display_data"
    },
    {
     "data": {
      "application/vnd.jupyter.widget-view+json": {
       "model_id": "2aca68e0312f451d81487d8033600a09",
       "version_major": 2,
       "version_minor": 0
      },
      "text/plain": [
       "Button(description='Sjekk svaret', style=ButtonStyle())"
      ]
     },
     "metadata": {},
     "output_type": "display_data"
    },
    {
     "data": {
      "application/vnd.jupyter.widget-view+json": {
       "model_id": "99faab1d481f4676b7f3197a1ac965a9",
       "version_major": 2,
       "version_minor": 0
      },
      "text/plain": [
       "Output()"
      ]
     },
     "metadata": {},
     "output_type": "display_data"
    },
    {
     "name": "stdout",
     "output_type": "stream",
     "text": [
      "\u001b[1m 13.En organisasjon har fire ulike fysiske datanettverk. Hvorfor kan det være mer hensiktsmessig for organisasjonen å bruke tre rutere fremfor bare én for å knytte nettverkene sammen? \u001b[0m\n"
     ]
    },
    {
     "data": {
      "application/vnd.jupyter.widget-view+json": {
       "model_id": "38738c18b8614b11b9a404dfbf9a4a50",
       "version_major": 2,
       "version_minor": 0
      },
      "text/plain": [
       "RadioButtons(layout=Layout(width='1500px'), options=('b.Noen av nettverkene kan fremdeles utveksle data selv o…"
      ]
     },
     "metadata": {},
     "output_type": "display_data"
    },
    {
     "data": {
      "application/vnd.jupyter.widget-view+json": {
       "model_id": "22f4f1f8eb354f349f67f2578d22b7e2",
       "version_major": 2,
       "version_minor": 0
      },
      "text/plain": [
       "Button(description='Sjekk svaret', style=ButtonStyle())"
      ]
     },
     "metadata": {},
     "output_type": "display_data"
    },
    {
     "data": {
      "application/vnd.jupyter.widget-view+json": {
       "model_id": "5e87001d6e4e4dc4a54773a8dc3ddd52",
       "version_major": 2,
       "version_minor": 0
      },
      "text/plain": [
       "Output()"
      ]
     },
     "metadata": {},
     "output_type": "display_data"
    },
    {
     "name": "stdout",
     "output_type": "stream",
     "text": [
      "\u001b[1m 14.Hvilken påstand er riktig med hensyn til lag 3 (IP) i TCP/IP-stakken? \u001b[0m\n"
     ]
    },
    {
     "data": {
      "application/vnd.jupyter.widget-view+json": {
       "model_id": "46cb6e41cc034c82b1d8e890d94bc967",
       "version_major": 2,
       "version_minor": 0
      },
      "text/plain": [
       "RadioButtons(layout=Layout(width='1500px'), options=('d.Både påstand b og c.\\n', 'a.Laget er ansvarlig for å m…"
      ]
     },
     "metadata": {},
     "output_type": "display_data"
    },
    {
     "data": {
      "application/vnd.jupyter.widget-view+json": {
       "model_id": "3b55548abe7f4ae2b82eca9757e293a1",
       "version_major": 2,
       "version_minor": 0
      },
      "text/plain": [
       "Button(description='Sjekk svaret', style=ButtonStyle())"
      ]
     },
     "metadata": {},
     "output_type": "display_data"
    },
    {
     "data": {
      "application/vnd.jupyter.widget-view+json": {
       "model_id": "8f4528f5e43f412abb04a29f54919f27",
       "version_major": 2,
       "version_minor": 0
      },
      "text/plain": [
       "Output()"
      ]
     },
     "metadata": {},
     "output_type": "display_data"
    },
    {
     "name": "stdout",
     "output_type": "stream",
     "text": [
      "\u001b[1m 15.Hvilke av følgende alternativer er IKKE et sikkerhetsangrep? \u001b[0m\n"
     ]
    },
    {
     "data": {
      "application/vnd.jupyter.widget-view+json": {
       "model_id": "53da6de412cd4f24ac9bbdce92e1c141",
       "version_major": 2,
       "version_minor": 0
      },
      "text/plain": [
       "RadioButtons(layout=Layout(width='1500px'), options=('c.SYN flood.', 'b.Buffer overflow.', 'd.Wiretapping.\\n',…"
      ]
     },
     "metadata": {},
     "output_type": "display_data"
    },
    {
     "data": {
      "application/vnd.jupyter.widget-view+json": {
       "model_id": "c092935d4ab347b2aa05476c57bea9b6",
       "version_major": 2,
       "version_minor": 0
      },
      "text/plain": [
       "Button(description='Sjekk svaret', style=ButtonStyle())"
      ]
     },
     "metadata": {},
     "output_type": "display_data"
    },
    {
     "data": {
      "application/vnd.jupyter.widget-view+json": {
       "model_id": "cc24695d30324805b4586384a6f3100a",
       "version_major": 2,
       "version_minor": 0
      },
      "text/plain": [
       "Output()"
      ]
     },
     "metadata": {},
     "output_type": "display_data"
    },
    {
     "name": "stdout",
     "output_type": "stream",
     "text": [
      "\u001b[1m 16.Hva er pseudokode? \u001b[0m\n"
     ]
    },
    {
     "data": {
      "application/vnd.jupyter.widget-view+json": {
       "model_id": "c6e8f68aecfc45d7a0a2bcdbe1461e00",
       "version_major": 2,
       "version_minor": 0
      },
      "text/plain": [
       "RadioButtons(layout=Layout(width='1500px'), options=('b.Grafisk kode som beskriver en algoritme ved hjelp av o…"
      ]
     },
     "metadata": {},
     "output_type": "display_data"
    },
    {
     "data": {
      "application/vnd.jupyter.widget-view+json": {
       "model_id": "0e02da0986a74b79a5a199fc9b12719c",
       "version_major": 2,
       "version_minor": 0
      },
      "text/plain": [
       "Button(description='Sjekk svaret', style=ButtonStyle())"
      ]
     },
     "metadata": {},
     "output_type": "display_data"
    },
    {
     "data": {
      "application/vnd.jupyter.widget-view+json": {
       "model_id": "a5b817ddc9374e36827314bee2ae5112",
       "version_major": 2,
       "version_minor": 0
      },
      "text/plain": [
       "Output()"
      ]
     },
     "metadata": {},
     "output_type": "display_data"
    },
    {
     "name": "stdout",
     "output_type": "stream",
     "text": [
      "\u001b[1m 17.Rekursjon betyr at: \u001b[0m\n"
     ]
    },
    {
     "data": {
      "application/vnd.jupyter.widget-view+json": {
       "model_id": "acc67709d87c49aab80f90a56087b7b6",
       "version_major": 2,
       "version_minor": 0
      },
      "text/plain": [
       "RadioButtons(layout=Layout(width='1500px'), options=('c.En funksjon blir stadig mer effektiv ettersom kjøretid…"
      ]
     },
     "metadata": {},
     "output_type": "display_data"
    },
    {
     "data": {
      "application/vnd.jupyter.widget-view+json": {
       "model_id": "0909282dd1564519acc226685478f5d0",
       "version_major": 2,
       "version_minor": 0
      },
      "text/plain": [
       "Button(description='Sjekk svaret', style=ButtonStyle())"
      ]
     },
     "metadata": {},
     "output_type": "display_data"
    },
    {
     "data": {
      "application/vnd.jupyter.widget-view+json": {
       "model_id": "8f543343e41646748d725efb1e1f55e3",
       "version_major": 2,
       "version_minor": 0
      },
      "text/plain": [
       "Output()"
      ]
     },
     "metadata": {},
     "output_type": "display_data"
    },
    {
     "name": "stdout",
     "output_type": "stream",
     "text": [
      "\u001b[1m 18.Hvilken påstand er USANN om algoritmene binærsøk og sekvensielt søk?  \u001b[0m\n"
     ]
    },
    {
     "data": {
      "application/vnd.jupyter.widget-view+json": {
       "model_id": "ab4acf60464242ae9e11234050f35bc2",
       "version_major": 2,
       "version_minor": 0
      },
      "text/plain": [
       "RadioButtons(layout=Layout(width='1500px'), options=('d.Sekvensielt søk tar lengre tid jo lengre bak i lista e…"
      ]
     },
     "metadata": {},
     "output_type": "display_data"
    },
    {
     "data": {
      "application/vnd.jupyter.widget-view+json": {
       "model_id": "4df6bd14ba5340adabba161d9eff41cb",
       "version_major": 2,
       "version_minor": 0
      },
      "text/plain": [
       "Button(description='Sjekk svaret', style=ButtonStyle())"
      ]
     },
     "metadata": {},
     "output_type": "display_data"
    },
    {
     "data": {
      "application/vnd.jupyter.widget-view+json": {
       "model_id": "3706f97c163e4bf8bd1d84479f8f6160",
       "version_major": 2,
       "version_minor": 0
      },
      "text/plain": [
       "Output()"
      ]
     },
     "metadata": {},
     "output_type": "display_data"
    },
    {
     "name": "stdout",
     "output_type": "stream",
     "text": [
      "\u001b[1m 19.Gitt navnelista Aron, Berit, Daniel, Frank, Jo, Marianne, Oscar, Eskil,Petter, og Stine. Hvilken søkealgoritme er den beste for å finne et navni lista? \u001b[0m\n"
     ]
    },
    {
     "data": {
      "application/vnd.jupyter.widget-view+json": {
       "model_id": "25c02d8f42634ff2a71fadd0d5934dc9",
       "version_major": 2,
       "version_minor": 0
      },
      "text/plain": [
       "RadioButtons(layout=Layout(width='1500px'), options=('a.Binærsøk.', 'd.Ingen av algoritmene vil fungere.\\n', '…"
      ]
     },
     "metadata": {},
     "output_type": "display_data"
    },
    {
     "data": {
      "application/vnd.jupyter.widget-view+json": {
       "model_id": "08392460dc104dd5aa4b846f2ebb3861",
       "version_major": 2,
       "version_minor": 0
      },
      "text/plain": [
       "Button(description='Sjekk svaret', style=ButtonStyle())"
      ]
     },
     "metadata": {},
     "output_type": "display_data"
    },
    {
     "data": {
      "application/vnd.jupyter.widget-view+json": {
       "model_id": "3a42c6d34bf6481088259309c45a465d",
       "version_major": 2,
       "version_minor": 0
      },
      "text/plain": [
       "Output()"
      ]
     },
     "metadata": {},
     "output_type": "display_data"
    }
   ],
   "source": [
    "import ipywidgets as widgets\n",
    "import sys\n",
    "import random\n",
    "from IPython.display import display\n",
    "from IPython.display import clear_output\n",
    "\n",
    "\n",
    "def generate_mc(answers,question,answer,custom_feedback=[],shuffle=True):\n",
    "    out = widgets.Output()\n",
    "    answer_string = answers[answer-1] #svaret på spørsmålet\n",
    "    if shuffle:\n",
    "        if(len(custom_feedback)==len(answers)): #dersom vi har feedback må denne sorteres shuffles sammen med svarene\n",
    "            mapIndexPosition = list(zip(answers, custom_feedback))\n",
    "            random.shuffle(mapIndexPosition)\n",
    "            answers, custom_feedback = zip(*mapIndexPosition)\n",
    "        else: #ellers shufler vi bare svarene\n",
    "            random.shuffle(answers)\n",
    "    alternativ = widgets.RadioButtons(\n",
    "    options=answers,\n",
    "    description='',\n",
    "    layout=widgets.Layout(width='1500px'),\n",
    "    disabled=False)\n",
    "    \n",
    "    print('\\033[1m',question,'\\033[0m')\n",
    "    button = widgets.Button(description=\"Sjekk svaret\")\n",
    "    display(alternativ)\n",
    "    display(button)\n",
    "    def check_answer(b):\n",
    "        a = alternativ.value\n",
    "        if(a==answer_string):\n",
    "            color = '\\x1b[6;30;42m' + \"Riktig.\" + '\\x1b[0m' +\"\\n\" #fargen blir da grønn\n",
    "        else:\n",
    "            color = '\\x1b[5;30;41m' + \"Feil. \" + '\\x1b[0m' +\"\\n\" #ellers blir fargen rød\n",
    "        with out:\n",
    "            clear_output()\n",
    "        with out:\n",
    "            print(color)\n",
    "            if(len(custom_feedback)==len(answers)):\n",
    "                print(custom_feedback[a-1])\n",
    "      \n",
    "    display(out)\n",
    "    button.on_click(check_answer)\n",
    "    \n",
    "def generate_multiple(filename): #Tar inn tekst på formatet spørsmål, antall alternativer, [alternativer], rett svar (tall)\n",
    "    f = open(filename,\"r\")\n",
    "    lines = f.readlines()\n",
    "    f.close()\n",
    "    for line in lines:\n",
    "        line = line.split(\",\")\n",
    "        question = line[0]\n",
    "        answers = []\n",
    "        for answer in line[2:2+int(line[1])]:\n",
    "            answers.append(answer)\n",
    "        generate_mc(answers,question,int(line[len(line)-1]))\n",
    "        \n",
    "        \n",
    "def generate_multiple1(filename): #Tar inn tekst på formatet spørsmål, rett svar (streng), [andre alternativer]\n",
    "    f = open(filename,\"r\")\n",
    "    lines = f.readlines()\n",
    "    f.close()\n",
    "    for line in lines:\n",
    "        line = line.split(\",\")\n",
    "        question = line[0]\n",
    "        answer = line[1]\n",
    "        answers = line[2:]+[answer]\n",
    "        generate_mc(answers,question,len(answers))\n",
    "        \n",
    "        \n",
    "def generate_multiple3(filename): #her er førstelinje alle svarene på form f.eks abbcdd...\n",
    "                                  #neste linjer: spørsmål£alternativ1£alternativ2osv\n",
    "    f = open(filename,\"r\",encoding=\"UTF-8\")\n",
    "    lines = f.readlines()\n",
    "    f.close()\n",
    "    correct_answers=[]\n",
    "    for letter in lines[0]:\n",
    "        correct_answers.append(ord(letter) - 96)\n",
    "    print(correct_answers)\n",
    "    for i in range(1,len(lines)-1):\n",
    "        line = lines[i].split(\"£\")\n",
    "        question = line[0]\n",
    "        answers = line[1:]\n",
    "        generate_mc(answers,question,correct_answers[i-1])\n",
    "        \n",
    "generate_multiple3(\"untitled.txt\")"
   ]
  },
  {
   "cell_type": "code",
   "execution_count": 7,
   "metadata": {},
   "outputs": [
    {
     "data": {
      "text/plain": [
       "['hei', 'no']"
      ]
     },
     "execution_count": 7,
     "metadata": {},
     "output_type": "execute_result"
    }
   ],
   "source": [
    "[\"hei\"]+[\"no\"]"
   ]
  }
 ],
 "metadata": {
  "kernelspec": {
   "display_name": "Python 3",
   "language": "python",
   "name": "python3"
  },
  "language_info": {
   "codemirror_mode": {
    "name": "ipython",
    "version": 3
   },
   "file_extension": ".py",
   "mimetype": "text/x-python",
   "name": "python",
   "nbconvert_exporter": "python",
   "pygments_lexer": "ipython3",
   "version": "3.7.3"
  }
 },
 "nbformat": 4,
 "nbformat_minor": 2
}
