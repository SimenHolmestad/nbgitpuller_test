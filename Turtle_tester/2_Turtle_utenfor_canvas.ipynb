{
 "cells": [
  {
   "cell_type": "markdown",
   "metadata": {},
   "source": [
    "# Turtle utenfor canvas\n",
    "Denne koden er tatt fra en øving. Her skal det tegnes en trekant, men siden skilpadden stopper når den kommer en viss avstand fra kanten får vi problemer. Hvis du endrer fra 250 til 150 og deretter trykker `shift + enter` kan du se at trekanten tegnes uten problemer."
   ]
  },
  {
   "cell_type": "code",
   "execution_count": 3,
   "metadata": {},
   "outputs": [
    {
     "data": {
      "application/vnd.jupyter.widget-view+json": {
       "model_id": "ed58f0bb770a4d3aa5ef47ff589f4241",
       "version_major": 2,
       "version_minor": 0
      },
      "text/plain": [
       "Turtle()"
      ]
     },
     "metadata": {},
     "output_type": "display_data"
    }
   ],
   "source": [
    "from mobilechelonian import Turtle\n",
    "t2 = Turtle()\n",
    "t2.speed(5)\n",
    "t2.pencolor(\"pink\")\n",
    "t2.forward(250)\n",
    "t2.left(120)\n",
    "t2.forward(250)\n",
    "t2.left(120)\n",
    "t2.forward(250)"
   ]
  },
  {
   "cell_type": "code",
   "execution_count": null,
   "metadata": {},
   "outputs": [],
   "source": []
  }
 ],
 "metadata": {
  "kernelspec": {
   "display_name": "Python 3",
   "language": "python",
   "name": "python3"
  },
  "language_info": {
   "codemirror_mode": {
    "name": "ipython",
    "version": 3
   },
   "file_extension": ".py",
   "mimetype": "text/x-python",
   "name": "python",
   "nbconvert_exporter": "python",
   "pygments_lexer": "ipython3",
   "version": "3.6.2"
  }
 },
 "nbformat": 4,
 "nbformat_minor": 2
}
