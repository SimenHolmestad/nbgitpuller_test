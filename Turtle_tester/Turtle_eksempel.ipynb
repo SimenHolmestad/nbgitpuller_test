{
 "cells": [
  {
   "cell_type": "markdown",
   "metadata": {},
   "source": [
    "# Eksempel på turtle-kode\n",
    "Det her er eksempelet som står på mobilechelonian sitt git-repo. Det er jo ganske fint med en ordentlig skilpadde. For å lage en ny tegning kan man endre på det som står i boksen på trykke på `shift + enter`"
   ]
  },
  {
   "cell_type": "code",
   "execution_count": 1,
   "metadata": {},
   "outputs": [
    {
     "data": {
      "application/vnd.jupyter.widget-view+json": {
       "model_id": "8f56196388744107840f6a8036fdb893",
       "version_major": 2,
       "version_minor": 0
      },
      "text/plain": [
       "Turtle()"
      ]
     },
     "metadata": {},
     "output_type": "display_data"
    }
   ],
   "source": [
    "from mobilechelonian import Turtle\n",
    "t = Turtle()\n",
    "t.speed(5)\n",
    "colours=[\"red\",\"blue\",\"yellow\",\"brown\",\"black\",\"purple\",\"green\"]\n",
    "\n",
    "t.penup(); t.left(90); t.forward(200);t.right(90);t.pendown()\n",
    "for i in range (0,18):\n",
    "    t.pencolor(colours[i%7])\n",
    "    t.right(20)\n",
    "    t.forward(40)\n",
    "\n",
    "t.right(180)"
   ]
  }
 ],
 "metadata": {
  "kernelspec": {
   "display_name": "Python 3",
   "language": "python",
   "name": "python3"
  },
  "language_info": {
   "codemirror_mode": {
    "name": "ipython",
    "version": 3
   },
   "file_extension": ".py",
   "mimetype": "text/x-python",
   "name": "python",
   "nbconvert_exporter": "python",
   "pygments_lexer": "ipython3",
   "version": "3.6.2"
  }
 },
 "nbformat": 4,
 "nbformat_minor": 2
}
