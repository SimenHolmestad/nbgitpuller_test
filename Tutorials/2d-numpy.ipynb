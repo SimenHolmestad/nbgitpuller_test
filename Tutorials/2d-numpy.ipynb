{
 "cells": [
  {
   "cell_type": "markdown",
   "metadata": {},
   "source": [
    "Ting som ikke er med:\n",
    "\n",
    "- Sletting og insetting av elementer og rader."
   ]
  },
  {
   "cell_type": "markdown",
   "metadata": {},
   "source": [
    "# Todimensjonale numpy-arrays"
   ]
  },
  {
   "cell_type": "markdown",
   "metadata": {},
   "source": [
    "Noe av det som er veldig praktisk med numpy-arrays er at det går an å lage de i flere dimensjoner. Det er kanskje her numpy-arrays virkelig overgår de vanlig python-listene. I denne øvingen skal vi se litt på hvordan man lager numpy-arrays med 2 dimensjoner og hva disse kan brukes til."
   ]
  },
  {
   "cell_type": "markdown",
   "metadata": {
    "heading_collapsed": true
   },
   "source": [
    "## Oppretting av todimensjonale numpy-arrays"
   ]
  },
  {
   "cell_type": "markdown",
   "metadata": {
    "hidden": true
   },
   "source": [
    "Det er ikke så mye vanskeligere å opprette todimensjonale numpy-arrays enn endimensjonale. En mulig måte å gjøre det på er å sende inn en todimensjonal python-liste som vist under. Legg merke til hvordan numpy-arrayen blir printet ut på en mye penere måte enn python-lista.\n",
    "\n",
    "***Kjør kodeblokken under og se hva den gjør***"
   ]
  },
  {
   "cell_type": "code",
   "execution_count": 1,
   "metadata": {
    "hidden": true
   },
   "outputs": [
    {
     "ename": "ModuleNotFoundError",
     "evalue": "No module named 'numpy'",
     "output_type": "error",
     "traceback": [
      "\u001b[1;31m---------------------------------------------------------------------------\u001b[0m",
      "\u001b[1;31mModuleNotFoundError\u001b[0m                       Traceback (most recent call last)",
      "\u001b[1;32m<ipython-input-1-fccfdea77067>\u001b[0m in \u001b[0;36m<module>\u001b[1;34m()\u001b[0m\n\u001b[1;32m----> 1\u001b[1;33m \u001b[1;32mimport\u001b[0m \u001b[0mnumpy\u001b[0m \u001b[1;32mas\u001b[0m \u001b[0mnp\u001b[0m\u001b[1;33m\u001b[0m\u001b[1;33m\u001b[0m\u001b[0m\n\u001b[0m\u001b[0;32m      2\u001b[0m \u001b[1;33m\u001b[0m\u001b[0m\n\u001b[0;32m      3\u001b[0m python_liste = [[7, 3.14, 5, 8],\n\u001b[0;32m      4\u001b[0m                 \u001b[1;33m[\u001b[0m\u001b[1;36m3\u001b[0m\u001b[1;33m,\u001b[0m \u001b[1;36m9\u001b[0m\u001b[1;33m,\u001b[0m \u001b[1;36m7\u001b[0m \u001b[1;33m,\u001b[0m\u001b[1;36m13\u001b[0m\u001b[1;33m]\u001b[0m\u001b[1;33m,\u001b[0m\u001b[1;33m\u001b[0m\u001b[1;33m\u001b[0m\u001b[0m\n\u001b[0;32m      5\u001b[0m                 [4, 5, 2.73, 9]]\n",
      "\u001b[1;31mModuleNotFoundError\u001b[0m: No module named 'numpy'"
     ]
    }
   ],
   "source": [
    "import numpy as np\n",
    "\n",
    "python_liste = [[7, 3.14, 5, 8],\n",
    "                [3, 9, 7 ,13],\n",
    "                [4, 5, 2.73, 9]]\n",
    "\n",
    "numpy_array = np.array([[7, 3.14, 5, 8],\n",
    "                        [3, 9, 7 ,13],\n",
    "                        [4, 5, 2.73, 9]])\n",
    "\n",
    "print(python_liste)\n",
    "print(\"\\n--------------------------------------------\\n\")\n",
    "print(numpy_array)"
   ]
  },
  {
   "cell_type": "markdown",
   "metadata": {
    "hidden": true
   },
   "source": [
    "Det som er verdt å merke seg er at en todimensjonal numpy-array alltid må være MxN stor. Det er alltid like mange elementer i hver rad og like mange elementer i hver kolonne, altså alltid fulle tabeller. Hvis vi prøver å lage en numpy-array uten at det er like mange elementer i hver rad vil numpy lagre det som en *endimensjonal numpy-array med lister*. Dette har vi et eksempel på under. Endimensjonale numpy-arrays med lister blir helt håpløse å jobbe med og er overhodet ikke anbefalt."
   ]
  },
  {
   "cell_type": "code",
   "execution_count": null,
   "metadata": {
    "hidden": true
   },
   "outputs": [],
   "source": [
    "# Ikke gjør dette her'a, plis\n",
    "import numpy as np\n",
    "numpy_array = np.array([[7, 3.14, 5, 8],\n",
    "                        [3, 9, 7], # Denne raden mangler et element\n",
    "                        [4, 5, 2.73, 9]])\n",
    "print(numpy_array)"
   ]
  },
  {
   "cell_type": "markdown",
   "metadata": {
    "hidden": true
   },
   "source": [
    "Hvis vi skal finne ut størrelsen på en array må vi bruke attributten `shape` (uten parenteser!). Denne vil gi en tuppel med størrelsen til arrayen, hvor tuppelen har et element per dimensjon. Hvis vi for eksempel har en todimensjonal array vil vi få en tuppel med to verdier hvor den ene er antall rader og den andre antall kolonner. Dette vises i eksempelet under:"
   ]
  },
  {
   "cell_type": "code",
   "execution_count": null,
   "metadata": {
    "hidden": true
   },
   "outputs": [],
   "source": [
    "import numpy as np\n",
    "\n",
    "a = np.array([[1, 2],\n",
    "              [3, 4],\n",
    "              [5, 6],              \n",
    "              [7, 8]])\n",
    "print(a.shape)\n",
    "print(\"Antall rader:\", a.shape[0])\n",
    "print(\"Antall kolonner:\", a.shape[1])"
   ]
  },
  {
   "cell_type": "markdown",
   "metadata": {
    "hidden": true
   },
   "source": [
    "Det finnes også flere måter å opprette numpy-arrays på, og et utvalg av disse kan du se i eksempelet under. Det burde være ganske greit å skjønne hva funksjonene gjør, og hvis du ikke skjønner det er det mulig å teste ut med andre verdier og kjøre koden på nytt. I tillegg finnes den ofisielle listen for hvordan man kan lage arrays [her](https://docs.scipy.org/doc/numpy/reference/routines.array-creation.html).\n",
    "\n",
    "***Kjør koden under og se om du skjønner hva de forskjellige funksjonene gjør***"
   ]
  },
  {
   "cell_type": "code",
   "execution_count": null,
   "metadata": {
    "hidden": true
   },
   "outputs": [],
   "source": [
    "import numpy as np\n",
    "\n",
    "print(\"----------ones------------\\n\")\n",
    "print(np.ones((3, 4)))\n",
    "\n",
    "print(\"\\n----------zeros-----------\\n\")\n",
    "print(np.zeros((2, 3), dtype=np.int16)) # Prøv å fjerne \", dtype=np.int16\" og se hva som skjer\n",
    "\n",
    "print(\"\\n----------random----------\\n\")\n",
    "print(np.random.random((2, 2)))\n",
    "\n",
    "print(\"\\n----------full------------\\n\")\n",
    "print(np.full((2, 4), 7))\n",
    "\n",
    "print(\"\\n----------eye-------------\\n\")\n",
    "print(np.eye(8)) # Denne vil dere lære mer om i matte 3 og kan være nyttig"
   ]
  },
  {
   "cell_type": "markdown",
   "metadata": {
    "hidden": true
   },
   "source": [
    "Det er også mulig å lage en todimensjonal array ut av en endimensjonal array ved hjelp av `reshape`-funksjonen. **OBS:** Her må antall rader og antall kolonner gå opp med antall elementer i arrayen man bruker reshape på. \n",
    "\n",
    "Prøv å endre koden under og se om du kan gjøre om `a` til en annen form enn `(3, 4)`:"
   ]
  },
  {
   "cell_type": "code",
   "execution_count": null,
   "metadata": {
    "hidden": true
   },
   "outputs": [],
   "source": [
    "import numpy as np\n",
    "\n",
    "a = np.arange(1, 13, 1) # Denne arrayen får 12 elementer\n",
    "\n",
    "a = np.reshape(a, (3,4))\n",
    "# kunne også skrevet: a = a.reshape((3,4))\n",
    "\n",
    "print(a)"
   ]
  },
  {
   "cell_type": "markdown",
   "metadata": {
    "heading_collapsed": true
   },
   "source": [
    "## Aksessering av todimensjonale numpy-arrays"
   ]
  },
  {
   "cell_type": "markdown",
   "metadata": {
    "hidden": true
   },
   "source": [
    "Aksessering av todimensjonale numpy-arrays (og flerdimensjonale numpy-arrays generelt) er litt vanskelig, men det finnes ganske mange smarte funksjoner for det. Det enkleste er å aksessere enkeltelementer. Dette kan gjøres på to måter:"
   ]
  },
  {
   "cell_type": "code",
   "execution_count": null,
   "metadata": {
    "hidden": true
   },
   "outputs": [],
   "source": [
    "import numpy as np\n",
    "\n",
    "array = np.array([[7, 3.14, 5, 8],\n",
    "                 [3, 9, 7 ,13],\n",
    "                 [4, 5, 2.73, 9]])\n",
    "print(array[2, 2]) # måte 1\n",
    "print(array[2][2]) # måte 2\n"
   ]
  },
  {
   "cell_type": "markdown",
   "metadata": {
    "hidden": true
   },
   "source": [
    "Grunnen til at den andre måten over fungerer er at vi først aksesserer en rad med den første hakeparantesen for så å aksessere elementet i raden med den andre hakeparantesen. Man kan altså aksessere en rad av en array med kun et sett med hakeparenteser som i eksempelet under. Kjør koden under og se hva som skjer."
   ]
  },
  {
   "cell_type": "code",
   "execution_count": null,
   "metadata": {
    "hidden": true
   },
   "outputs": [],
   "source": [
    "import numpy as np\n",
    "\n",
    "array = np.array([[7, 3.14, 5, 8],\n",
    "                 [3, 9, 7 ,13],\n",
    "                 [4, 5, 2.73, 9]])\n",
    "print(array[2]) # Aksessering av rad"
   ]
  },
  {
   "cell_type": "markdown",
   "metadata": {
    "hidden": true
   },
   "source": [
    "I tillegg er det mulig å utføre slice-operasjoner på arrays, noe som kan være veldig nyttig. Slicing er et svært kraftig verktøy som lar deg aksessere hvilken som helst *sub-del* av tabellen.\n",
    "\n",
    "***Se på eksemplene under og se om du skjønner hva som skjer. Endre gjerne på eksemplene og kjør på nytt***"
   ]
  },
  {
   "cell_type": "code",
   "execution_count": null,
   "metadata": {
    "hidden": true
   },
   "outputs": [],
   "source": [
    "import numpy as np\n",
    "\n",
    "array = np.array([[7, 3.14, 5, 8],\n",
    "                 [3, 9, 7 ,13],\n",
    "                 [4, 5, 2.73, 9]])\n",
    "\n",
    "# obs: eksempel 1, 2 og 3 aksesserer kun rader\n",
    "print(\"----------eks1----------\\n\")\n",
    "print(array[:])\n",
    "\n",
    "print(\"\\n----------eks2----------\\n\")\n",
    "print(array[:2])\n",
    "\n",
    "print(\"\\n----------eks3----------\\n\")\n",
    "print(array[1:])\n",
    "\n",
    "print(\"\\n----------eks4----------\\n\")\n",
    "print(array[1:3, 1:3])\n",
    "\n",
    "print(\"\\n----------eks5----------\\n\")\n",
    "print(array[:, :2])\n",
    "\n",
    "print(\"\\n----------eks6----------\\n\")\n",
    "print(array[:, 0]) # Aksessering av enkeltkolonne. OBS: Dette blir en endimensjonal numpy-array"
   ]
  },
  {
   "cell_type": "markdown",
   "metadata": {
    "hidden": true
   },
   "source": [
    "En liten fallgruve som det er lett å gå i her er at slicing med numpy-arrays ikke lager nye arrays. Man bare oppretter nye pekere til samme data. Dette vises best med et eksempel.\n",
    "\n",
    "***Hva tror du skjer under? Kjør koden og test det ut***"
   ]
  },
  {
   "cell_type": "code",
   "execution_count": null,
   "metadata": {
    "hidden": true
   },
   "outputs": [],
   "source": [
    "import numpy as np\n",
    "\n",
    "a = np.array([[2,2],\n",
    "              [2,2]])\n",
    "\n",
    "b = a[0] # Den første raden i a\n",
    "b[0] = 0\n",
    "b[1] = 0\n",
    "print(b)\n",
    "print(\"---------\")\n",
    "print(a)"
   ]
  },
  {
   "cell_type": "markdown",
   "metadata": {
    "hidden": true
   },
   "source": [
    "Som du kanskje la merke til endrer nå `a` seg selv om vi kun gjør endringer på `b`. Dette var jo litt dumt. Prøv å bytte ut: `b = a[0]` med `b = a[0].copy()` over og se om det hjelper. Dette burde lage en ny kopi av dataene.\n",
    "\n",
    "Nå har vi sett på det meste som omhandler aksessering av todimensjonale numpy-arrays. Det finnes også en metode som heter *fancy indexing*, men denne går vi ikke gjennom her. Du får heller søke opp fancy indexing selv på google hvis det høres spennende ut."
   ]
  },
  {
   "cell_type": "markdown",
   "metadata": {
    "heading_collapsed": true
   },
   "source": [
    "## Appending til todimensjonale numpy-arrays"
   ]
  },
  {
   "cell_type": "markdown",
   "metadata": {
    "hidden": true
   },
   "source": [
    "Det er mulig å legge en array til annen array med funksjonen `np.append(array1, array2)`. Denne funksjonen vil returnere en ny array. Dersom du sender tabeller inn i append-funksjonen vil den flate ut tabellene og lage en lang endimensjonal array.\n",
    "\n",
    "Der som vi i stedet ønsker å legge til en rad eller kolonne (eller flere rader og kolonner) må vi ha med ekstra-argumentet `axis` som bestemmer i hvilken retning arrayen skal appendes. I disse tilfellene er det viktig at dimensjonene er riktige. Hvis dette var litt uklart kommer det en rekke eksempler under.\n",
    "\n",
    "***Kjør koden under og se om du skjønner hva som skjer***"
   ]
  },
  {
   "cell_type": "code",
   "execution_count": null,
   "metadata": {
    "hidden": true
   },
   "outputs": [],
   "source": [
    "import numpy as np\n",
    "\n",
    "a = [[1, 2, 3],\n",
    "     [4, 5, 6],\n",
    "     [7, 8, 9]]\n",
    "\n",
    "b = [[1, 2, 3]] # obs: to par med hakeparenteser\n",
    "\n",
    "c = [[1],\n",
    "     [2],\n",
    "     [3]]\n",
    "\n",
    "d = [[1, 2, 3],\n",
    "     [4, 5, 6]]\n",
    "\n",
    "e = [[1, 2],\n",
    "     [3, 4],\n",
    "     [5, 6]]\n",
    "\n",
    "print(\"----------uten axis-----------\")\n",
    "print(np.append(a, b))\n",
    "\n",
    "print(\"--------med axis (rad)--------\")\n",
    "print(np.append(a, b, axis=0)) # 0 er rad-aksen\n",
    "\n",
    "print(\"------med axis (kolonne)------\")\n",
    "print(np.append(a, c, axis=1)) # 1 er kolonne-aksen\n",
    "\n",
    "print(\"----med axis (flere rader)----\")\n",
    "print(np.append(a, d, axis=0))\n",
    "     \n",
    "print(\"--med axis (flere kolonner)---\")\n",
    "print(np.append(a, e, axis=1))"
   ]
  },
  {
   "cell_type": "markdown",
   "metadata": {
    "hidden": true
   },
   "source": [
    "Her er det viktig å huske på at begge tabellene må ha like mange dimensjoner dersom du skal bruke `axis`. Hvis du prøver å legge sammen en tabell med en endimensjonal array (med `axis`) får du en error. "
   ]
  },
  {
   "cell_type": "markdown",
   "metadata": {
    "heading_collapsed": true
   },
   "source": [
    "## Nyttige funksjoner med todimensjonale numpy-arrays"
   ]
  },
  {
   "cell_type": "markdown",
   "metadata": {
    "hidden": true
   },
   "source": [
    "Noe som er veldig nyttig med numpy-arrays er at de kommer med en haug med nyttige funksjoner. Det er for eksempel mulig å transponere en matrise (speile den om diagonalen) som under (matrise er et fancy navn for tabell). Transponering får dere bruk for i matte 3.\n",
    "\n",
    "***Test det ut selv under:***"
   ]
  },
  {
   "cell_type": "code",
   "execution_count": null,
   "metadata": {
    "hidden": true
   },
   "outputs": [],
   "source": [
    "import numpy as np\n",
    "\n",
    "array = np.array([[7, 3.14, 5, 8],\n",
    "                 [3, 9, 7 ,13],\n",
    "                 [4, 5, 2.73, 9]])\n",
    "\n",
    "print(np.transpose(array))"
   ]
  },
  {
   "cell_type": "markdown",
   "metadata": {
    "hidden": true
   },
   "source": [
    "Det er også mulig å gjøre regneoperasjoner med todimensjonale arrays. Dette kan gjøres likt som med endimensjonale arrays som i eksemplene under:"
   ]
  },
  {
   "cell_type": "code",
   "execution_count": null,
   "metadata": {
    "hidden": true
   },
   "outputs": [],
   "source": [
    "import numpy as np\n",
    "\n",
    "a = np.array([[1, 2, 3],\n",
    "              [4, 5, 6],\n",
    "              [7, 8, 9]])\n",
    "\n",
    "b = np.array([[9, 8, 7],\n",
    "              [6, 5, 4],\n",
    "              [3, 2, 1]])\n",
    "\n",
    "print(a + 1) # Plusser 1 på alle elementene i tabellen\n",
    "print(\"\\n-------------\\n\")\n",
    "print(np.sqrt(a)) # Tar roten av alle elementene\n",
    "print(\"\\n-------------\\n\")\n",
    "print(a + b) # Plusser sammen to tabeller. Disse må ha lik form"
   ]
  },
  {
   "cell_type": "markdown",
   "metadata": {
    "hidden": true
   },
   "source": [
    "Det som er litt spennende er at siden vi nå har økt med en dimensjon er det også mulig å slå sammen en 2-dimensjonal numpy-array med en endimensjonal numpy-array. Dette er nok best å vise med et eksempel.\n",
    "\n",
    "***Kjør koden under og se om du forstår hva som skjer***"
   ]
  },
  {
   "cell_type": "code",
   "execution_count": null,
   "metadata": {
    "hidden": true
   },
   "outputs": [],
   "source": [
    "import numpy as np\n",
    "\n",
    "a = np.array([[0, 0, 0],\n",
    "              [0, 0, 0],\n",
    "              [0, 0, 0]])\n",
    "\n",
    "b = np.array([1, 2, 3])\n",
    "\n",
    "c = np.reshape(b, (3, 1)) # Gjør om b slik at den blir en kolonne i stedet for en rad.\n",
    "\n",
    "# for å lage c fra scratch kunne vi skrevet som under\n",
    "# c = np.array([[1], \n",
    "#               [2], \n",
    "#               [3]])\n",
    "\n",
    "print(a + b)\n",
    "print(\"-----------\")\n",
    "print(a + c)"
   ]
  },
  {
   "cell_type": "markdown",
   "metadata": {
    "hidden": true
   },
   "source": [
    "Som du ser her må altså den endimensjonale arrayen være lik tabellen i en dimensjon og være 1 i den andre dimensjonen. Denne blir da kopiert inn så mange ganger det går i enten den ene eller andre retningen. Dette kan være veldig nyttig i en del tilfeller."
   ]
  },
  {
   "cell_type": "markdown",
   "metadata": {
    "hidden": true
   },
   "source": [
    "Det er også mulig å lage en sannhetsmatrise (eller boolsk matrise) fra en vanlig matrise slik som i eksemplene under. Her får vi da en sannhetsmatrise etter hvilke elementer som oppfyller betingelsen.\n",
    "\n",
    "***Kjør eksempelet under og se om du skjønner hvordan det fungerer***"
   ]
  },
  {
   "cell_type": "code",
   "execution_count": null,
   "metadata": {
    "hidden": true
   },
   "outputs": [],
   "source": [
    "import numpy as np\n",
    "\n",
    "a = np.array([[1, 2, 3],\n",
    "              [4, 5, 6],\n",
    "              [7, 8, 9]])\n",
    "\n",
    "print(a)\n",
    "print(\"------------------\")\n",
    "print(a >= 5) # Større eller lik 5\n",
    "print(\"------------------\")\n",
    "print(a < 8) # Mindre enn 8\n",
    "print(\"------------------\")\n",
    "print(np.logical_and(a >= 5, a < 8)) # Både mer eller lik 5 og mindre enn 8"
   ]
  },
  {
   "cell_type": "markdown",
   "metadata": {
    "hidden": true
   },
   "source": [
    "Som du ser får vi matriser etter hvilke elementer i den originale matrisen som oppfyller betingelsene."
   ]
  },
  {
   "cell_type": "markdown",
   "metadata": {
    "hidden": true
   },
   "source": [
    "En måte boolske matriser kan brukes på er at vi kan gange en matrise med en boolsk matrise. Vi får da med alle elementene på posisjoner hvor vi har True i den boolske matrisen, mens resten blir 0. Kjør eksempelet under:"
   ]
  },
  {
   "cell_type": "code",
   "execution_count": null,
   "metadata": {
    "hidden": true
   },
   "outputs": [],
   "source": [
    "import numpy as np\n",
    "\n",
    "a = np.array([[1, 2, 3],\n",
    "              [4, 5, 6],\n",
    "              [7, 8, 9]])\n",
    "\n",
    "print(a)\n",
    "print(\"------------------\")\n",
    "boolsk = a >= 5\n",
    "print(boolsk)\n",
    "print(\"------------------\")\n",
    "print(a * boolsk)"
   ]
  },
  {
   "cell_type": "markdown",
   "metadata": {
    "hidden": true
   },
   "source": [
    "Dette har vært en liten oversikt over hva som er mulig med todimensjonale matriser. Det som er litt gøy er at veldig mange av de samme konseptene kan brukes videre når man går over til 3 dimensjoner. Det finnes også mange funksjoner i numpy som vi ikke har gått gjennom, for eksempel matrisemultiplikasjon og utregning av determinanter som kan være nyttig til matte 3."
   ]
  },
  {
   "cell_type": "markdown",
   "metadata": {
    "heading_collapsed": true
   },
   "source": [
    "## Eksempel på plotting med todimensjonale numpy-arrays"
   ]
  },
  {
   "cell_type": "markdown",
   "metadata": {
    "hidden": true
   },
   "source": [
    "Det er mulig å bruke todimensjonale arrays til plotting av data. Her kan du for eksempel plotte en funksjon som finner en z-verdi ved hjelp av en x-verdi og en y-verdi. Dette kan plottes som et bilde hvor z-verdien blir en gråfarge. Med dette kan vi for eksempel plotte grafen for $z = \\sqrt{x^2 + y^2}$. Her kan vi bruke funksjonen `np.meshgrid` som gir oss et sett med x-verdier og et sett med y-verdier, samt funksjonen `plt.imshow()` for å lage et bilde.\n",
    "\n",
    "***Kjør eksempelet under og sjekk om du skjønner hva som skjer***"
   ]
  },
  {
   "cell_type": "code",
   "execution_count": null,
   "metadata": {
    "hidden": true
   },
   "outputs": [],
   "source": [
    "import numpy as np\n",
    "import matplotlib.pyplot as plt\n",
    "%matplotlib inline\n",
    "\n",
    "# Lager en array points på formen [-5.0, -4.9, -4.8 ... 4.8, 4.9]\n",
    "points = np.arange(-5, 5, 0.1)\n",
    "\n",
    "# Lager x-verdier og y-verdier\n",
    "xs, ys = np.meshgrid(points, points)\n",
    "\n",
    "# Printer ut x- og y-verdiene slik at du kan se hvordan disse ser ut\n",
    "print(\"----------------xs-----------------\\n\")\n",
    "print(xs)\n",
    "print(\"\\n----------------ys-----------------\\n\")\n",
    "print(ys)\n",
    "\n",
    "# Lager z-verdiene ved hjelp av x-verdiene og y-verdiene etter formelen \n",
    "# beskrevet over\n",
    "zs = np.sqrt(xs ** 2 + ys ** 2)\n",
    "\n",
    "# Printer ut z-verdiene slik at du kan se hvordan de ser ut\n",
    "print(\"\\n----------------zs-----------------\\n\")\n",
    "print(zs)\n",
    "\n",
    "# Plotter z-verdiene. cmap=plt.cm.gray må være med siden vi skal ha gråtoner,\n",
    "# extent gir oss riktige x- og y-verdier. (siden vi gå fra -5 til 5 på begge\n",
    "# akser)\n",
    "plt.imshow(zs, cmap=plt.cm.gray, extent=[-5, 5, -5, 5])\n",
    "\n",
    "# Legger til en fargeskala på høyresiden slik at man kan se hva slags farge\n",
    "# som korresponderer til hvilket tall\n",
    "plt.colorbar()\n",
    "\n",
    "# Viser plottet\n",
    "plt.show()"
   ]
  },
  {
   "cell_type": "markdown",
   "metadata": {
    "hidden": true
   },
   "source": [
    "Merk at tabellene ikke skrives ut i sin helhet ettersom de er ganske store."
   ]
  },
  {
   "cell_type": "markdown",
   "metadata": {},
   "source": [
    "# Eksempler på oppgaver med todimensjonale numpy-arrays"
   ]
  },
  {
   "cell_type": "markdown",
   "metadata": {},
   "source": [
    "## Oppgave 1"
   ]
  },
  {
   "cell_type": "markdown",
   "metadata": {},
   "source": [
    "Bruk funksjonene `np.arange()`, `np.reshape()` og `np.transpose()` for å lage og printe denne tabellen:\n",
    "```python\n",
    "[[ 1,  6, 11],\n",
    " [ 2,  7, 12],\n",
    " [ 3,  8, 13],\n",
    " [ 4,  9, 14],\n",
    " [ 5, 10, 15]]\n",
    "```\n",
    "\n",
    "**Hint:** denne kan gjøres på en linje\n",
    "\n",
    "***Skriv koden din i kodeblokken under:***"
   ]
  },
  {
   "cell_type": "code",
   "execution_count": null,
   "metadata": {},
   "outputs": [],
   "source": [
    "import numpy as np\n",
    "# Skriv koden din under\n"
   ]
  },
  {
   "cell_type": "markdown",
   "metadata": {},
   "source": [
    "## Oppgave 2"
   ]
  },
  {
   "cell_type": "markdown",
   "metadata": {},
   "source": [
    "Du får opgitt en todimensjonal numpy-array under. Bruk slicing til å hente ut disse 4 numpy-arrayene fra den opprinnelige arrayen `a`:\n",
    "```python\n",
    "# array 1:\n",
    "[[1 8]\n",
    " [3 9]]\n",
    "\n",
    "# array 2:\n",
    "[5 7 6]\n",
    "\n",
    "# array 3:\n",
    "[[9 4]\n",
    " [7 6]]\n",
    "\n",
    "# array 4:\n",
    "[2 4 6]\n",
    "```\n",
    "\n",
    "Du skal altså bruke syntaksen `a[<putt et eller annet her>]`\n",
    "\n",
    "***Skriv koden din i kodeblokken under***"
   ]
  },
  {
   "cell_type": "code",
   "execution_count": null,
   "metadata": {},
   "outputs": [],
   "source": [
    "import numpy as np\n",
    "a = np.array([[1, 8, 2],\n",
    "              [3, 9, 4],\n",
    "              [5, 7, 6]])\n",
    "# Skriv koden din under:\n"
   ]
  },
  {
   "cell_type": "markdown",
   "metadata": {},
   "source": [
    "## Oppgave 3"
   ]
  },
  {
   "cell_type": "markdown",
   "metadata": {},
   "source": [
    "Under har vi laget en tabell. Denne skal du endre med å bruke funksjonen `np.append` (med `axis`-argumentet). Først skal du legge til en ny *rad* til tabellen med verdiene 8,9 og 6. Deretter skal du legge til en ny *kolonne* til den nye tabellen med verdiene 4, 8 og 7. Tabellen du skal ende opp med skal altså se slik ut:\n",
    "\n",
    ">```python\n",
    "[[5 6 9 4]\n",
    " [3 4 7 8]\n",
    " [8 9 6 7]]\n",
    "```\n",
    "\n",
    "***Skriv koden i kodeblokken under***"
   ]
  },
  {
   "cell_type": "code",
   "execution_count": null,
   "metadata": {},
   "outputs": [],
   "source": [
    "import numpy as np\n",
    "a = [[5, 6, 9],\n",
    "     [3, 4, 7]]\n",
    "# Skriv koden din under\n"
   ]
  },
  {
   "cell_type": "markdown",
   "metadata": {},
   "source": [
    "## Oppgave 4"
   ]
  },
  {
   "cell_type": "markdown",
   "metadata": {},
   "source": [
    "Nå skal du plotte et bilde av funksjonen $z = sin(\\sqrt{x^2 + y^2})$. Denne skal plottes fra -50 til 50 i både x-retningen og y-retningen, og du skal bruke funksjonene `np.meshgrid` og `plt.imshow`.\n",
    "\n",
    "**Hint:** Du kan bruke mye av koden fra ploteksempelet tidligere\n",
    "\n",
    "***Skriv koden i kodeblokken under:***"
   ]
  },
  {
   "cell_type": "code",
   "execution_count": null,
   "metadata": {},
   "outputs": [],
   "source": [
    "import numpy as np\n",
    "import matplotlib.pyplot as plt\n",
    "%matplotlib inline\n",
    "# Skriv koden din under her\n"
   ]
  },
  {
   "cell_type": "markdown",
   "metadata": {},
   "source": [
    "# Fasiter"
   ]
  },
  {
   "cell_type": "code",
   "execution_count": null,
   "metadata": {
    "scrolled": false
   },
   "outputs": [],
   "source": [
    "print(\"Oppgave 1:\")\n",
    "import numpy as np\n",
    "\n",
    "print(np.arange(1, 16, 1).reshape(3, 5).transpose())\n",
    "\n",
    "\n",
    "print(\"\\nOppgave 2:\")\n",
    "import numpy as np\n",
    "a = np.array([[1, 8, 2],\n",
    "              [3, 9, 4],\n",
    "              [5, 7, 6]])\n",
    "\n",
    "print(a[:2, :2])\n",
    "print(\"\\n----------\\n\")\n",
    "print(a[2])\n",
    "print(\"\\n----------\\n\")\n",
    "print(a[1:, 1:])\n",
    "print(\"\\n----------\\n\")\n",
    "print(a[:, 2])\n",
    "\n",
    "\n",
    "print(\"\\nOppgave 3:\")\n",
    "import numpy as np\n",
    "a = [[5, 6, 9],\n",
    "     [3, 4, 7]]\n",
    "\n",
    "b = [[8, 9, 6]]\n",
    "\n",
    "a = np.append(a, b, axis=0)\n",
    "\n",
    "c = [[4],\n",
    "     [8],\n",
    "     [7]]\n",
    "\n",
    "a = np.append(a, c, axis=1)\n",
    "\n",
    "print(a)\n",
    "\n",
    "\n",
    "print(\"\\nOppgave 4:\")\n",
    "import numpy as np\n",
    "import matplotlib.pyplot as plt\n",
    "%matplotlib inline\n",
    "\n",
    "points = np.arange(-50, 50, 0.1)\n",
    "\n",
    "xs, ys = np.meshgrid(points, points)\n",
    "z = np.sin(np.sqrt(xs**2 + ys**2))\n",
    "\n",
    "plt.imshow(z, cmap=plt.cm.gray, extent=[-50,50,-50,50])\n",
    "\n",
    "plt.colorbar()\n",
    "plt.show()"
   ]
  }
 ],
 "metadata": {
  "kernelspec": {
   "display_name": "Python 3",
   "language": "python",
   "name": "python3"
  },
  "language_info": {
   "codemirror_mode": {
    "name": "ipython",
    "version": 3
   },
   "file_extension": ".py",
   "mimetype": "text/x-python",
   "name": "python",
   "nbconvert_exporter": "python",
   "pygments_lexer": "ipython3",
   "version": "3.7.3"
  }
 },
 "nbformat": 4,
 "nbformat_minor": 2
}
