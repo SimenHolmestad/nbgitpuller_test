{
 "cells": [
  {
   "cell_type": "markdown",
   "metadata": {},
   "source": [
    "# Jupyter for undervisere"
   ]
  },
  {
   "cell_type": "markdown",
   "metadata": {},
   "source": [
    "Jupyter et et veldig praktisk verktøy når det kommer til interaktiv læring, og spesielt innenfor programmering. Med Jupyter Notebooks slipper studentene å begynne med å laste ned Python og IDE, men kan heller begynne med å lære seg logikken og syntaksen i starten. Jupyter er ikke tenkt å være en fullstendig erstatning for en IDE, men vi håper å kunne brukte det som et alternativ i hvertfall første del av faget. "
   ]
  },
  {
   "cell_type": "markdown",
   "metadata": {},
   "source": [
    "## Celler og extensions"
   ]
  },
  {
   "cell_type": "markdown",
   "metadata": {},
   "source": [
    "Jupyter lar oss sette inn forskjellige typer celler, hvor vi stort sett bare får bruk for to av dem, markdown og kode. Alle cellene fra toppen og ned til denne har blitt skrevet i markdown. Cellen under kan kjøres ved å trykke på den, for å så trykke ctrl/cmnd+enter. "
   ]
  },
  {
   "cell_type": "code",
   "execution_count": 3,
   "metadata": {
    "ExecuteTime": {
     "end_time": "2019-07-10T07:58:00.722617Z",
     "start_time": "2019-07-10T07:58:00.713234Z"
    }
   },
   "outputs": [
    {
     "name": "stdout",
     "output_type": "stream",
     "text": [
      "Med kode som kan kjøres\n"
     ]
    }
   ],
   "source": [
    "#dette er en kodecelle\n",
    "print(\"Med kode som kan kjøres\")"
   ]
  },
  {
   "cell_type": "markdown",
   "metadata": {},
   "source": [
    "Alle kodeceller kan endres og kjøres av studentene, om vi ikke angir noe annet. Vi kan skjule kodeblokker slik at bare output vises, låse dem så de ikke kan endres og mye annet. Dette er noe vi gjør ved hjelp av **nbextensions** utvidelsene til Jupyter Notebook.\n",
    "\n",
    "Det anbefales å gå til Edit->nbextensions_config for å orientere seg over hvilke muligheter som finnes.  \n",
    "De utvidelsene vi selv har brukt oftest har vært:\n",
    "* **Collapsable** headlines - Lar oss kollapse etter forskjellig grad på overskrift, gjør av en student kan velge hvilke deloppgaver den vil fokusere på.\n",
    "* **Live Markdown Preview** - Gir oss en live preview når vi skriver markdown-celler.\n",
    "* **Hide input** - Lar oss skrive kodeblokker hvor studentene kun skal se output, slipper å vise forvirrende kode.\n",
    "* **Freeze** - Gjør blokker umulige å endre. Greit om man skal dobbeltklikke en markdown blokk ved å uhell, så slipper studenten å se blokken i raw-format."
   ]
  },
  {
   "cell_type": "markdown",
   "metadata": {},
   "source": [
    "**NB!:** Merk at dersom man kjører Jupyter Notebook lokalt må man manuelt installere nbextensions pakken. Følg instruksene i [denne linken](https://jupyter-contrib-nbextensions.readthedocs.io/en/latest/install.html)."
   ]
  },
  {
   "cell_type": "markdown",
   "metadata": {},
   "source": [
    "I tillegg til bare vanlig markdown kan man også benytte seg av visse bootstrap elementer for å lage et simpelt GUI om man ønsker. Her har vi foreksempel noen faner som kan brukes til navigering."
   ]
  },
  {
   "cell_type": "markdown",
   "metadata": {},
   "source": [
    "<ul class=\"nav nav-tabs\">\n",
    "    <li><a href=\"#\">Menu 1</a></li>\n",
    "  <li class=\"active\"><a href=\"#\">Home</a></li>\n",
    "  \n",
    "  <li><a href=\"\">Jeg elsker ITGK!</a></li>\n",
    "  <li><a href=\"#\">Menu 3</a></li>\n",
    "</ul>"
   ]
  },
  {
   "cell_type": "markdown",
   "metadata": {},
   "source": [
    "## Pedagogiske muligheter"
   ]
  },
  {
   "cell_type": "markdown",
   "metadata": {},
   "source": [
    "Det er enkelt å se pedagogiske muligheter med et verktøy som Jupyter. Vi kan studenter dynamiske eksempel med celler hvor de selv kan ekseperimentere for å se hvordan resultatet forandrer seg. Dersom de skal fylle inn i delvis skrevet kode kan de kjøre det direkte i notebooken. Men mulighetene stopper ikke der. Vi kan embedde eksterne sider direkte i Jupyter notebooken, som gir enda flere muligheter. \n",
    "\n",
    "Vi kan integrere videoer med relevant pensum:"
   ]
  },
  {
   "cell_type": "code",
   "execution_count": 4,
   "metadata": {
    "ExecuteTime": {
     "end_time": "2019-07-10T08:17:08.221253Z",
     "start_time": "2019-07-10T08:17:08.049534Z"
    }
   },
   "outputs": [
    {
     "data": {
      "image/jpeg": "[encoded data removed]",
      "text/html": [
       "\n",
       "        <iframe\n",
       "            width=\"400\"\n",
       "            height=\"300\"\n",
       "            src=\"https://www.youtube.com/embed/z-O_TSuXNhM\"\n",
       "            frameborder=\"0\"\n",
       "            allowfullscreen\n",
       "        ></iframe>\n",
       "        "
      ],
      "text/plain": [
       "<IPython.lib.display.YouTubeVideo at 0x7f7c5433e278>"
      ]
     },
     "execution_count": 4,
     "metadata": {},
     "output_type": "execute_result"
    }
   ],
   "source": [
    "from IPython.display import YouTubeVideo\n",
    "YouTubeVideo('z-O_TSuXNhM')"
   ]
  },
  {
   "cell_type": "markdown",
   "metadata": {},
   "source": [
    "Integrere parsonsproblems:"
   ]
  },
  {
   "cell_type": "code",
   "execution_count": 5,
   "metadata": {
    "ExecuteTime": {
     "end_time": "2019-07-10T08:18:10.938760Z",
     "start_time": "2019-07-10T08:18:10.929806Z"
    }
   },
   "outputs": [
    {
     "data": {
      "text/html": [
       "\n",
       "        <iframe\n",
       "            width=\"1000\"\n",
       "            height=\"400\"\n",
       "            src=\"https://parsons.herokuapp.com/puzzle/5f25ce927e9449c8af6a5edc295236ab\"\n",
       "            frameborder=\"0\"\n",
       "            allowfullscreen\n",
       "        ></iframe>\n",
       "        "
      ],
      "text/plain": [
       "<IPython.lib.display.IFrame at 0x7f7c5433e630>"
      ]
     },
     "execution_count": 5,
     "metadata": {},
     "output_type": "execute_result"
    }
   ],
   "source": [
    "from IPython.display import IFrame\n",
    "IFrame('https://parsons.herokuapp.com/puzzle/5f25ce927e9449c8af6a5edc295236ab', 1000, 400)"
   ]
  },
  {
   "cell_type": "markdown",
   "metadata": {},
   "source": [
    "Eller, ved hjelp av Ipython widgets biblioteket, vår helt egen multiple choice oppgave. Her har vi allerede skrevet en funksjon kalt generate_mc som genererer flervalgsoppgaver for oss. Gå inn på .py fila for å se hvordan funksjonen fungerer om ønskelig. Ved å skrive run mc_generator.py kjører vi koden i py-fila som bare inneholder en funksjonsdefinisjon. Denne kan vi da kalle hvor som helst i notebooken, så lenge \"run\" blokka kjøres. All kode som kjøres vil kunne refereres til fra en hvilken som helst annen blokk. Vi kan definere funksjoner og variabler i en celle helt på toppen, og referere til de i en annen celle helt nederst om vi vil. "
   ]
  },
  {
   "cell_type": "code",
   "execution_count": 8,
   "metadata": {
    "ExecuteTime": {
     "end_time": "2019-07-10T08:31:05.011192Z",
     "start_time": "2019-07-10T08:31:04.991641Z"
    }
   },
   "outputs": [],
   "source": [
    "run mc_generator.py"
   ]
  },
  {
   "cell_type": "code",
   "execution_count": 13,
   "metadata": {
    "ExecuteTime": {
     "end_time": "2019-07-10T08:32:40.491499Z",
     "start_time": "2019-07-10T08:32:40.443180Z"
    }
   },
   "outputs": [
    {
     "name": "stdout",
     "output_type": "stream",
     "text": [
      "\u001b[1m Hvilket fag er best? \u001b[0m\n"
     ]
    },
    {
     "data": {
      "application/vnd.jupyter.widget-view+json": {
       "model_id": "9c71134750b146a791e26067cf05ac54",
       "version_major": 2,
       "version_minor": 0
      },
      "text/plain": [
       "RadioButtons(layout=Layout(width='1500px'), options=('Ex.phil', 'ITGK', 'Matte1!'), value='Ex.phil')"
      ]
     },
     "metadata": {},
     "output_type": "display_data"
    },
    {
     "data": {
      "application/vnd.jupyter.widget-view+json": {
       "model_id": "6b8442de4a364ce8aa1845c33864425a",
       "version_major": 2,
       "version_minor": 0
      },
      "text/plain": [
       "Button(description='Sjekk svaret', style=ButtonStyle())"
      ]
     },
     "metadata": {},
     "output_type": "display_data"
    },
    {
     "data": {
      "application/vnd.jupyter.widget-view+json": {
       "model_id": "51c1f9fc28fd44848f34c629ad6ccb9d",
       "version_major": 2,
       "version_minor": 0
      },
      "text/plain": [
       "Output()"
      ]
     },
     "metadata": {},
     "output_type": "display_data"
    }
   ],
   "source": [
    "generate_mc(answer=1,answers=[\"ITGK\",\"Matte1!\",\"Ex.phil\"],question=\"Hvilket fag er best?\")"
   ]
  },
  {
   "cell_type": "markdown",
   "metadata": {},
   "source": [
    "I flervalgsoppgaven over har vi benyttet oss av widgetene Radiobuttons og Button, det finnes enda flere man kan bruke. Les mer [her.](https://ipywidgets.readthedocs.io/en/stable/examples/Widget%20Basics.html)  "
   ]
  },
  {
   "cell_type": "markdown",
   "metadata": {},
   "source": [
    "## Ekstra info"
   ]
  },
  {
   "cell_type": "markdown",
   "metadata": {},
   "source": [
    "Jupyter lar oss laste ned notebooken i flere forskjellige formater, se File->Download as. Det anbefales å bli kjent med hvilke verktøy som finnes i toolbaren, i tillegg til relevante shortcuts. (Help->Keyboard shortcuts) Det går også an å ta en kikk på tutorialen vi har laget for studentene, om hvordan de vil bruke notebooksen underviserne har laget. "
   ]
  }
 ],
 "metadata": {
  "kernelspec": {
   "display_name": "Python 3",
   "language": "python",
   "name": "python3"
  },
  "language_info": {
   "codemirror_mode": {
    "name": "ipython",
    "version": 3
   },
   "file_extension": ".py",
   "mimetype": "text/x-python",
   "name": "python",
   "nbconvert_exporter": "python",
   "pygments_lexer": "ipython3",
   "version": "3.6.7"
  },
  "toc": {
   "base_numbering": 1,
   "nav_menu": {},
   "number_sections": false,
   "sideBar": true,
   "skip_h1_title": false,
   "title_cell": "Table of Contents",
   "title_sidebar": "Contents",
   "toc_cell": false,
   "toc_position": {},
   "toc_section_display": true,
   "toc_window_display": false
  }
 },
 "nbformat": 4,
 "nbformat_minor": 2
}
