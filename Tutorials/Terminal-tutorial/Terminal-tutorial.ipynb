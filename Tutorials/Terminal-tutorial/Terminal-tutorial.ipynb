{
 "cells": [
  {
   "cell_type": "markdown",
   "metadata": {},
   "source": [
    "Tanker oppgave 2: Kan ha en hemmelig kode som finnes som en kommentar i `monster.py` og en annen hemmelig kode som kommer når du kjører `monster.py` (kan lagres i en skjult fil). Kunne også gjort at monster.py \"åpner en hemmelig dør\" ved å gjøre en folder som tidligere har vært skjult til en åpen folder??\n",
    "\n",
    "Kunne faktisk gjort at du må flytte en nøkkel(en fil) fra et sted til et annet et for å for eksempel låse opp en dør (kunne her hatt et python-program som gjør en skjult folder åpen hvis man har filen \"key.txt\" i folderen for eksempel. programmet kan hete \"open door\")\n",
    "\n",
    "Alt dette må gjøres med skjulte filer og skjulte foldere, så hvis man viser disse vil man jo skjønne litt av hvordan det fungerer. "
   ]
  },
  {
   "cell_type": "markdown",
   "metadata": {},
   "source": [
    "# Terminal-tutorial\n",
    "\n",
    "Et terminalvindu kan virke veldig skummelt og lite immøtekommende første gang man ser det. Dette er litt dumt siden det finnes utrolig mye nyttige kommandoer som kan gjøres i en terminal. Dette dokumentet er ment til å gi deg en veldig lett innføring i hvordan du bruker terminalen.\n",
    "\n",
    "\n",
    "Å lære seg hvordan man bruker terminal er veldig viktig, for da ser det ut som man er en ordentlig hacker."
   ]
  },
  {
   "cell_type": "markdown",
   "metadata": {},
   "source": [
    "## Generelt om navigering i terminal"
   ]
  },
  {
   "cell_type": "markdown",
   "metadata": {},
   "source": [
    "Det første som er viktig å skjønne med terminalen er at den egentlig fungerer veldig likt som en filutforsker. Trykk først på [denne linken](../../). Den burde ta deg til *hjemmemappen* din på jupyterhub, som er den *øverste* mappen du kan aksessere. En mappe, som også kan kalles *folder*, eller  *directory* på engelsk, er en plass på en harddisk hvor det kan eksistere filer og andre mapper. En mappe kan altså ha andre mapper i seg som igjen kan ha andre mapper i seg som igjen kan ha andre mapper i seg som igjen kan ha... ja. Du skjønner vel greia.\n",
    "\n",
    "Så, hvor var vi... Jo. Du skal nå ha en fane i nettleseren din som viser innholdet i hjemmemappen din. Vi kaller denne fanen for *filutforskeren* fra nå av. I filutforskeren burde du nå se mappen Ovinger. **Trykk på denne for å gå inn i Ovinger-mappen**. Inne i Ovinger-mappen ser du en masse mapper med navn som Oving1, Oving2 og så videre. Det er her øvingene dine ligger. **Trykk nå på mappen på toppen som heter `..`for å gå tilbake til mappen du var i**. `..` brukes altså for å gå opp en mappe.\n",
    "\n",
    "Dette her har du vel mest sannsynlig vært borti selv i filutforskeren på din egen maskin. Nå skal vi prøve på noe nytt: **Oppe til høyre i filutforskeren finner du en knapp hvor det står `New`. Trykk på denne og velg terminal**. Dette vil åpne en terminal i et nytt vindu. Du burde altså nå ha en fane med denne oppgaven, en fane med filutforskeren og en fane med en terminal i nettleseren din.\n",
    "\n",
    "Det som er verdt å merke seg er at terminalen din nå befinner seg i samme mappe som filutforskeren din. Dette skal vi vise nå. **Skriv inn kommandoen `ls` i terminalvinduet. Trykk deretter enter og se hva som skjer**. Kommandoen `ls` printer ut en liste over alle filene som befinner seg i den mappen du er i. Hvis du ser etter vil du se at dette er de samme filene og mappene som finnes i filutforskeren din!\n",
    "\n",
    "**Skriv nå inn kommandoen `cd Ovinger` og trykk enter i terminalen før du kjører `ls` igjen**. `cd` står her for *change directory* og brukes til å bevege seg til en ny mappe. Som du kan se befinner terminalen din seg nå i Ovinger-mappen, siden `ls` viser oss masse Øvingsmapper. Hvis du vil gå opp en mappe i terminalen skriver du **`cd ..`** (med mellomrom mellom cd og ..).\n",
    "\n",
    "Du har nå lært deg det grunnleggende navigering i terminal. Det er faktisk kun disse to kommandoene du trenger til navigering. Du bruker `ls` for å se hva som befinner seg i en mappe og `cd` for å bytte til en annen mappe. Så enkelt er det faktisk!"
   ]
  },
  {
   "cell_type": "markdown",
   "metadata": {},
   "source": [
    "## Oppgave 1 - Ut på eventyr"
   ]
  },
  {
   "cell_type": "markdown",
   "metadata": {},
   "source": [
    "Vi har laget en labyrint for deg som du nå skal utforske. Sørg for at terminalen din er i mappen `Ovinger`, og gå inn i mappen `terminal-labyrinten` ved å skrive inn `cd terminal-labyrinten` og trykke på enter i terminalen. Her har vi laget en del veier(mapper) du kan gå ved å bruke `cd`-kommandoen. For å se veiene du kan gå videre skriver du `ls`. Dersom det ikke kommer opp noe når du skriver ls har du nok kommet til en blindvei@ (en tom mappe) og må gå tilbake.\n",
    "\n",
    "Et eller annet sted i `terminal-labyrinten` ligger det en fil som heter `monster.py`. **Din oppgave blir å finne `monster.py` ved å navigere deg i terminalen. Lykke til!**\n",
    "\n",
    "**Hint**: Hvis du begynner å skrive et mappenavn og trykker `tab` på tastaturet vil terminalen prøve å fylle ut resten. Dette kan være nyttig hvis du ikke gidder å skrive et helt mappenavn.\n",
    "\n",
    "For å bevise at du har gjort oppgaven skal du kjøre kommandoen **`pwd`** (skriv pwd og trykk enter i terminalen) når du har funnet `monster.py` og lime inn resultatet du får under. `pwd` står for *print working directory* og gir deg filstien til dit du er, eller i vårt tilfelle: hvilke veier du har gått i labyrinten."
   ]
  },
  {
   "cell_type": "markdown",
   "metadata": {},
   "source": [
    "**Resultat fra pwd:** <Dobbelklikk her og lim inn svaret ditt\\>"
   ]
  },
  {
   "cell_type": "markdown",
   "metadata": {},
   "source": [
    "## Generelt om filer i terminalen"
   ]
  },
  {
   "cell_type": "markdown",
   "metadata": {},
   "source": [
    "Hvis du har gjort oppgave 1 burde du allerede være ekspert på navigering i terminal, men som du sikkert skjønner kan terminalen gjøre flere ting enn bare navigering. Du kan for eksempel bruke kommandoen `python` til å gjøre python-ting. Hvis du kjører kommandoen `python` i terminalen får du opp et python-shell der du kan skrive inn python-kommandoer. Prøv gjerne dette nå. I python-shellet skriver en linje med python, trykker på enter og får linjen kjørt. Prøv for eksempel å skrive inn linjene `x = \"hello world\"` og `print(x)`. For å komme ut av python-shellet trykker du `ctrl + d`.\n",
    "\n",
    "Kommandoen `python` kan også brukes til å kjøre filer som inneholder python-kode. Alle python-filer skal være på kommandoen `<filnavn>.py` hvor `filnavn` er navnet på filen. Hvis du skriver `python <filnavn>.py` vil terminalen kjøre python-programmet som ligger i filen `<filnavn>.py` og vise resultatet inne i terminalen. Dette kan være nyttig.\n",
    "\n",
    "Hvis du ønsker å se hva som ligger inne i en fil kan du bruke kommandoen `cat <filnavn>`. Dette vil printe innholdet i filen til terminalen. **Obs:** her må filendelsen være med."
   ]
  },
  {
   "cell_type": "markdown",
   "metadata": {},
   "source": [
    "## Oppgave 2 - Hemmeligheter"
   ]
  },
  {
   "cell_type": "markdown",
   "metadata": {},
   "source": [
    "Nå som du har funnet filen `monster.py` kan du kjøre filen. Monsteret vil gi deg et hemmelig passord og vise deg hvor den hemmelige døren befinner seg. Innenfor denne døren vil du finne et bibliotek, og i dette biblioteket vil du finne filen \"hemmelig_passord2.txt\". Finn ut hva det andre passordet er ved hjelp av kommandoen `cat`.\n",
    "\n",
    "***Du må skrive inn passordene i feltet under for å få godkjent oppgaven:***"
   ]
  },
  {
   "cell_type": "markdown",
   "metadata": {},
   "source": [
    "**Passord1:** <dobbeltklikk her for å skrive>"
   ]
  },
  {
   "cell_type": "markdown",
   "metadata": {},
   "source": [
    "**Passord2:** <dobbeltklikk her for å skrive>"
   ]
  },
  {
   "cell_type": "markdown",
   "metadata": {},
   "source": [
    "OBS: Dersom du bruker `cat` på `monster.py` vil du se innholdet i filen `monster.py`. Her finnes det kode som dere ikke har lært og kode som ligger utenform pensum, så denne trenger dere ikke bry dere om."
   ]
  },
  {
   "cell_type": "markdown",
   "metadata": {},
   "source": [
    "## Generelt om manipulasjon av filer og foldere"
   ]
  },
  {
   "cell_type": "markdown",
   "metadata": {},
   "source": [
    "Til nå har vi lært å navigere i terminal, hvordan man kjører python-programmer og hvordan man viser filer. Dette er vel og bra, men vi ønsker også å lære hvordan man kan manipulere filene og mappene i terminalen. Dette skal vi gå gjennom nå.\n",
    "\n",
    "**OBS:** Noe som er viktig å vite er at det kun finnes to typer elementer i en mappe. Filer og foldere. Alt som ikke er en mappe er altså en fil. For eksempel er `monster.py` en fil som inneholder tekst. Endelsen `.py` skal fortelle oss at denne filen inneholder python-kode.\n",
    "\n",
    "For å **lage en ny mappe** brukes kommandoen `mkdir <mappenavn>`. (`<mappenavn>` bytter du her ut med navnet på mappen) Denne oppretter en ny mappe der du er i terminalen, men vil **ikke** gå inn i mappen for deg. Dette må du gjøre etter du har brukt `mkdir` med `cd`.\n",
    "\n",
    "For å **lage en ny fil** brukes kommandoen `touch <filnavn>`. Dette vil lage en tom fil med navnet du spesifiserer. Her må du huske på å ha med filendelse. For eksempel vil kommandoen `touch myfile.txt` opprette filen myfile.txt i den mappen terminalen er i.\n",
    "\n",
    "\n",
    "\n"
   ]
  },
  {
   "cell_type": "markdown",
   "metadata": {},
   "source": [
    "## Oppgave 3 - opprydding"
   ]
  },
  {
   "cell_type": "markdown",
   "metadata": {},
   "source": [
    "Siden \"labyrinten\" vår egentlig bare er et sett med mapper kan du fint navigere i labyrinten ved hjelp av filutforskeren din. Dersom du har lukket fanen med filutforskeren din kan du åpne den med [denne linken](../../). **Naviger deg nå i filutforskeren til den mappen terminalen din er i**. For å finne hvor terminalen din er bruker du kommandoen `pwd`. Denne viser hvilken \"sti\" du må gå med filutforskeren. Mellom hver `/` i output fra `pwd` er det et mappenavn. Fanen med filutforskeren din skal altså nå være i en mappe som kun inneholder filen `monster.py`.\n",
    "\n",
    "\n",
    "Bør gå gjennom\n",
    "\n",
    "- `touch` for å lage filer\n",
    "- `mkdir` for å lage directories\n",
    "- `mv` for å flytte\n",
    "- `cp` for å kopiere\n",
    "- `rm` for å slette\n"
   ]
  },
  {
   "cell_type": "code",
   "execution_count": null,
   "metadata": {},
   "outputs": [],
   "source": []
  }
 ],
 "metadata": {
  "kernelspec": {
   "display_name": "Python 3",
   "language": "python",
   "name": "python3"
  },
  "language_info": {
   "codemirror_mode": {
    "name": "ipython",
    "version": 3
   },
   "file_extension": ".py",
   "mimetype": "text/x-python",
   "name": "python",
   "nbconvert_exporter": "python",
   "pygments_lexer": "ipython3",
   "version": "3.6.2"
  },
  "toc": {
   "base_numbering": 1,
   "nav_menu": {},
   "number_sections": false,
   "sideBar": true,
   "skip_h1_title": false,
   "title_cell": "Table of Contents",
   "title_sidebar": "Contents",
   "toc_cell": false,
   "toc_position": {},
   "toc_section_display": true,
   "toc_window_display": false
  }
 },
 "nbformat": 4,
 "nbformat_minor": 2
}
