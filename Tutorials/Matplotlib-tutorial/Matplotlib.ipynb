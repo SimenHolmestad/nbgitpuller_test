{
 "cells": [
  {
   "cell_type": "markdown",
   "metadata": {},
   "source": [
    "# Tutorial om plotting"
   ]
  },
  {
   "cell_type": "markdown",
   "metadata": {},
   "source": [
    "For å tegne grafer er vi nødt til å bruke ekstrafunksjoner som er utenfor \"standard python\". Disse funksjonene er lagret i såkalte *bibliotek*, som er kode andre har laget og som vi kan bruke. Biblioteket vi skal bruke for å plotte grafer heter `matplotlib`.\n",
    "\n",
    "Ofte er det ikke nødvendig å vite alt om hvordan et bibliotek fungerer, men heller hvordan man bruker det. Dette kan man finne ut av ved for eksempel å google eksempler på bruk (tutorials) eller lese dokumentasjonen for biblioteket. Den offisielle oversikten over matplotlib (fra de som har laget det) ligger for eksempel [her](https://matplotlib.org/3.1.1/contents.html). Denne inneholder informasjon om alt det er mulig å bruke matplotlib til (som er veldig mye!) og trengs ikke å leses for å kunne følge med videre i dette dokumentet.\n",
    "\n",
    "## Importering av matplotlib\n",
    "\n",
    "For å kunne bruke biblioteket `matplotlib` må vi først *importere* det. I vårt tilfelle trenger vi ikke å importere hele matplotlib, men bare delen `pyplot` som er den som delen lar oss tegne grafer. Denne importerer vi i koden under og kaller for `plt`. Dette gjør at vi senere kun trenger å skrive `plt` i stedet for `matplotlib.pyplot`.\n",
    "\n",
    "**Kjør kodeblokken under før du kjører kodeblokkene lenger ned**"
   ]
  },
  {
   "cell_type": "code",
   "execution_count": null,
   "metadata": {},
   "outputs": [],
   "source": [
    "import matplotlib.pyplot as plt\n",
    "%matplotlib inline"
   ]
  },
  {
   "cell_type": "markdown",
   "metadata": {},
   "source": [
    "`%matplotlib inline` gjør at grafene vises finere i dette dokumentet.\n",
    "\n",
    "## Nå: La oss tegne noen grafer! :D\n",
    "Under ser du et eksempel på en enkel kode som tegner en graf. Dette eksempelet består av tre kodelinjer som alle bruker `pyplot` fra `matplotlib`-biblioteket (som vi har døpt om til `plt`)\n",
    "\n",
    "- Funksjonen `plt.plot` tar inn en liste med verdier som blir y-verdiene i grafen.\n",
    "- Funksjonen `plt.ylabel` brukes for å sette teksten som skal være med på y-aksen.\n",
    "- Funksjonen `plt.show` brukes for å vise grafen\n",
    "\n",
    "**Kjør koden under og se hva som skjer!** Prøv gjerne også å endre verdiene og kjøre koden på nytt"
   ]
  },
  {
   "cell_type": "code",
   "execution_count": null,
   "metadata": {},
   "outputs": [],
   "source": [
    "plt.plot([1, 2, 4, 3])\n",
    "plt.ylabel('Noen tall')\n",
    "plt.show()"
   ]
  },
  {
   "cell_type": "markdown",
   "metadata": {},
   "source": [
    "Det verdt å merke seg at listen som `plt.plot` tar inn også kan være en variabel som vi kan spesifisere på forhånd. Dette er gjort i eksemepelet under. Her spørr vi brukeren om 4 tall og plotter disse tallene inn i en graf.\n",
    "\n",
    "**Kjør koden under og se om du forstår hvordan den fungerer**"
   ]
  },
  {
   "cell_type": "code",
   "execution_count": null,
   "metadata": {
    "scrolled": true
   },
   "outputs": [],
   "source": [
    "numbers = []\n",
    "for x in range(4):\n",
    "    number = int(input(\"Skriv inn et tall: \"))\n",
    "    numbers.append(number)\n",
    "\n",
    "plt.plot(numbers)\n",
    "plt.ylabel('Tallene du skrev inn')\n",
    "plt.show()"
   ]
  },
  {
   "cell_type": "markdown",
   "metadata": {},
   "source": [
    "Det virker kanskje som om `plt.plot` funksjonen ikke er så nyttig, siden alle punktene kun har 1 mellom seg på x-aksen. Dette er feil. Funksjonen har faktisk et hav av muligheter! Vi kan for eksempel spesifisere punkter både på x-aksen og y-aksen ved å gi inn to lister til funksjonen. I tillegg kan vi bruke funksjonen `plt.axis` for å bestemme hvilke verdier som skal være på aksene.\n",
    "\n",
    "**Kjør koden under og prøv å endre verdiene for å se hva som skjer!** Prøv gjerne også å se hva som skjer hvis man har x-verdier som ikke er i stigende rekkefølge som nå."
   ]
  },
  {
   "cell_type": "code",
   "execution_count": null,
   "metadata": {},
   "outputs": [],
   "source": [
    "x_verdier = [2,4,8,16]\n",
    "y_verdier = [4,2,9,3]\n",
    "plt.plot(x_verdier, y_verdier)\n",
    "plt.axis([0, 20, 0, 15]) # x-aksen går her fra 0 til 20, mens y-aksen går fra 0 til 15\n",
    "plt.show()"
   ]
  },
  {
   "cell_type": "markdown",
   "metadata": {},
   "source": [
    "Det er også mulig å lage punkter i stedet for linjer. Her må det legges med en streng i et spesielt format til `plt.plot`. I eksempelet under betyr strengen `\"ro\"` at vi bruker røde prikker. `r` for *red*, `o` for *runding*\n",
    "\n",
    "**Kjør koden under og se hva som skjer!** Prøv også å bytte ut `'ro'` med andre strenger, som `'g-'`, `'b^'`, `'r--'`, `'k:`' og `'ys'`"
   ]
  },
  {
   "cell_type": "code",
   "execution_count": null,
   "metadata": {},
   "outputs": [],
   "source": [
    "plt.plot([1, 2, 3, 4], [1, 4, 9, 16], 'ro')\n",
    "plt.axis([0, 6, 0, 20])\n",
    "plt.show()"
   ]
  },
  {
   "cell_type": "markdown",
   "metadata": {},
   "source": [
    "Dette gjør at vi også kan plotte flere grafer oppå hverandre, som i eksempelet under:"
   ]
  },
  {
   "cell_type": "code",
   "execution_count": null,
   "metadata": {},
   "outputs": [],
   "source": [
    "plt.plot([0, 1, 2, 3, 4, 5], [0, 1, 2, 3, 4, 5], 'r-')\n",
    "plt.plot([0, 1, 2, 3, 4, 5], [0, 1, 4, 9, 16, 25], 'b-')\n",
    "plt.axis([0, 6, 0, 26])\n",
    "plt.show()"
   ]
  },
  {
   "cell_type": "markdown",
   "metadata": {
    "heading_collapsed": true
   },
   "source": [
    "# Eksempel på oppgave: Plotting av sinus-funksjon (kunne passet til øving 6)"
   ]
  },
  {
   "cell_type": "markdown",
   "metadata": {
    "hidden": true
   },
   "source": [
    "I denne oppgaven skal du plotte en sinus-funksjon. Vi kan ikke plotte funksjonen direkte uten videre som vi ville gjort i geogebra, så vi må i stedet lage et stort antall punkter og plotte disse punktene."
   ]
  },
  {
   "cell_type": "markdown",
   "metadata": {
    "hidden": true
   },
   "source": [
    "## Oppgave a"
   ]
  },
  {
   "cell_type": "markdown",
   "metadata": {
    "hidden": true
   },
   "source": [
    "Lag en liste som heter `x_verdier` som inneholder alle verdiene fra og med `0.0` til og med `30.0` med et mellomrom på `0.1`. Print deretter ut x-verdiene. Har du gjort alt riktig skal utskriften være:\n",
    "\n",
    "```\n",
    "[0.0, 0.1, 0.2, ... 29.8, 29.9, 30.0]\n",
    "```\n",
    "Listen skal altså inneholde 301 tall hvor ```...``` er resten av tallene.\n",
    "\n",
    "\n",
    "***Skriv koden din under:***"
   ]
  },
  {
   "cell_type": "code",
   "execution_count": null,
   "metadata": {
    "hidden": true
   },
   "outputs": [],
   "source": []
  },
  {
   "cell_type": "markdown",
   "metadata": {
    "heading_collapsed": true,
    "hidden": true
   },
   "source": [
    "#### Hint:"
   ]
  },
  {
   "cell_type": "markdown",
   "metadata": {
    "hidden": true
   },
   "source": [
    "`range` i python fungerer ikke med desimaltall, så det kan være lurt å lage en tom liste for så å legge til elementer i lista ved hjelp av en løkke. "
   ]
  },
  {
   "cell_type": "markdown",
   "metadata": {
    "hidden": true
   },
   "source": [
    "## Oppgave b"
   ]
  },
  {
   "cell_type": "markdown",
   "metadata": {
    "hidden": true
   },
   "source": [
    "Nå skal du lage en ny liste som heter `y_verdier`. Denne skal inneholde `sin(x)` for alle x-verdiene i `x_verdier`. \n",
    "\n",
    "For å ta sinus av et tall kan du importere biblioteket `math`, for så å bruke funksjonen `math.sin` som her:\n",
    "``` python\n",
    "import math\n",
    "math.sin(3) # Vil returnere sin(3), hvor 3 er en verdi i radianer\n",
    "```\n",
    "\n",
    "Når du har laget `y_verdier` printer du listen. Hvis du har gjort alt riktig skal utskriften være:\n",
    "```\n",
    "[[0.0, 0.09983341664682815, 0.19866933079506122, ... -0.9989818049469494, -0.9984950306638146, -0.9880316240928618]\n",
    "```\n",
    "Denne listen skal også ha en lengde på 301 tall. `...` er resten av tallene\n",
    "\n",
    "***Skriv koden din under:***"
   ]
  },
  {
   "cell_type": "code",
   "execution_count": null,
   "metadata": {
    "hidden": true
   },
   "outputs": [],
   "source": []
  },
  {
   "cell_type": "markdown",
   "metadata": {
    "heading_collapsed": true,
    "hidden": true
   },
   "source": [
    "#### Hint:"
   ]
  },
  {
   "cell_type": "markdown",
   "metadata": {
    "hidden": true
   },
   "source": [
    "Det kan være lurt å starte med en ny tom liste for så å iterere gjennom listen du lagde i oppgave a med en løkke."
   ]
  },
  {
   "cell_type": "markdown",
   "metadata": {
    "hidden": true
   },
   "source": [
    "## Oppgave c"
   ]
  },
  {
   "cell_type": "markdown",
   "metadata": {
    "hidden": true
   },
   "source": [
    "Du skal nå plotte punktene du har definert i oppgave a og oppgave b. Grafen skal lages med `x_verdier` som x-verdier, `y_verdier` som y-verdier og være en rød linje. Hvis du lurer på hvordan du tegner grafer, les tutorial på toppen.\n",
    "\n",
    "***Skriv koden din under:***"
   ]
  },
  {
   "cell_type": "code",
   "execution_count": null,
   "metadata": {
    "hidden": true
   },
   "outputs": [],
   "source": []
  },
  {
   "cell_type": "markdown",
   "metadata": {
    "heading_collapsed": true,
    "hidden": true
   },
   "source": [
    "## Løsning"
   ]
  },
  {
   "cell_type": "code",
   "execution_count": null,
   "metadata": {
    "hidden": true
   },
   "outputs": [],
   "source": [
    "from matplotlib import pyplot as plt\n",
    "%matplotlib inline\n",
    "import math\n",
    "\n",
    "print(\"Oppgave a:\\n\")\n",
    "x_verdier = []\n",
    "for i in range(0, 301):\n",
    "    x_verdier.append(i/10)\n",
    "print(x_verdier)\n",
    "\n",
    "print(\"\\nOppgave b:\\n\")\n",
    "y_verdier = []\n",
    "for x in x_verdier:\n",
    "    y_verdier.append(math.sin(x))\n",
    "print (y_verdier)\n",
    "# Kunne også skrevet: y_verdier = [math.sin(x) for x in x_verdier]\n",
    "\n",
    "print(\"\\nOppgave c:\\n\")\n",
    "plt.plot(x_verdier, y_verdier, 'r-')\n",
    "plt.show()"
   ]
  },
  {
   "cell_type": "markdown",
   "metadata": {
    "heading_collapsed": true
   },
   "source": [
    "# Eksempel på oppgave: Lesing fra fil og tegning av graf (kunne passet til øving 9)"
   ]
  },
  {
   "cell_type": "markdown",
   "metadata": {
    "hidden": true
   },
   "source": [
    "I denne oppgaven skal vi se på filen [mean_global_temperatures.csv](mean_global_temperatures.csv). Denne viser jordas snitt-temperatur fra 1980 til 2018 og er laget med [data fra nasa](https://data.giss.nasa.gov/gistemp/). Målet for oppgaven er å plotte disse dataene med `matplotlib` Vi kan lese filen med kodesnutten under.\n",
    "\n",
    "**Kjør kodeblokken under for å lese filen**"
   ]
  },
  {
   "cell_type": "code",
   "execution_count": null,
   "metadata": {
    "hidden": true
   },
   "outputs": [],
   "source": [
    "f = open(\"mean_global_temperatures.csv\", \"r\")\n",
    "data = f.read()\n",
    "f.close()\n",
    "\n",
    "print(data)"
   ]
  },
  {
   "cell_type": "markdown",
   "metadata": {
    "hidden": true
   },
   "source": [
    "Filen er lagret i formatet `.csv`. Dette står for *comma-separated values*, fordi filen inneholder verdier som er separert med komma. Utenom dette er det bare en vanlig tekstfil."
   ]
  },
  {
   "cell_type": "markdown",
   "metadata": {
    "hidden": true
   },
   "source": [
    "## Oppgave a – lesing av data"
   ]
  },
  {
   "cell_type": "markdown",
   "metadata": {
    "hidden": true
   },
   "source": [
    "Du skal nå lage en kodesnutt som leser filen [mean_global_temperatures.csv](mean_global_temperatures.csv) og deretter lagrer årene i en liste `years` og temperaturene i en liste `temperatures`. Årene skal lagres som heltall og temperaturene skal lagres som flyttall.\n",
    "\n",
    "Til slutt skal du printe ut `years`-listen og `temperatures`-listen. Har du gjort alt riktig skal du få utskriften\n",
    "\n",
    "``` python\n",
    "[1880, 1881, 1882, ... 2016, 2017, 2018] # years\n",
    "[13.83, 13.92, 13.89, ... 15.01, 14.92, 14.85] # temperatures\n",
    "```\n",
    "Hvor `...` er resten av tallene.\n",
    "\n",
    "***Skriv koden din i kodeblokken under***"
   ]
  },
  {
   "cell_type": "code",
   "execution_count": null,
   "metadata": {
    "hidden": true
   },
   "outputs": [],
   "source": []
  },
  {
   "cell_type": "markdown",
   "metadata": {
    "heading_collapsed": true,
    "hidden": true
   },
   "source": [
    "#### Hint:"
   ]
  },
  {
   "cell_type": "markdown",
   "metadata": {
    "hidden": true
   },
   "source": [
    "Du kan bruke funksjonen `f.readlines()` (hvor `f` er en fil lagd med `open`) som vil returnere en liste med alle linjene i filen. Etter dette kan du iterere gjennom alle linjene i denne listen."
   ]
  },
  {
   "cell_type": "markdown",
   "metadata": {
    "hidden": true
   },
   "source": [
    "## Opggave b – plotting av data"
   ]
  },
  {
   "cell_type": "markdown",
   "metadata": {
    "hidden": true
   },
   "source": [
    "Nå skal du bruke dataene du lagde i oppgave a til å lage et plott over global snittemperatur 1880-2018. X-verdiene i dette plottet blir `years`, mens y-verdiene blir `temperatures`. Plottet skal lages med rød strek. På x-aksen skal det stå **År** og på y-aksen skal det stå **Global snittemperatur i °C**.\n",
    "\n",
    "***Skriv koden i markert felt under***"
   ]
  },
  {
   "cell_type": "code",
   "execution_count": null,
   "metadata": {
    "hidden": true
   },
   "outputs": [],
   "source": [
    "import matplotlib.pyplot as plt\n",
    "%matplotlib inline\n",
    "# Skriv din kode nedenfor her:"
   ]
  },
  {
   "cell_type": "markdown",
   "metadata": {
    "heading_collapsed": true,
    "hidden": true
   },
   "source": [
    "## Løsning"
   ]
  },
  {
   "cell_type": "code",
   "execution_count": null,
   "metadata": {
    "hidden": true
   },
   "outputs": [],
   "source": [
    "print(\"Oppgave a:\")\n",
    "\n",
    "f = open(\"mean_global_temperatures.csv\", \"r\")\n",
    "lines = f.readlines()\n",
    "f.close()\n",
    "\n",
    "years = []\n",
    "temperatures = []\n",
    "\n",
    "for line in lines:\n",
    "    year, temperature = line.split(\",\")\n",
    "    temperature = float(temperature)\n",
    "    temperatures.append(temperature)\n",
    "    year = int(year)\n",
    "    years.append(year)\n",
    "    \n",
    "print(years)\n",
    "print(temperatures)\n",
    "\n",
    "print(\"\\nOppgave b:\")\n",
    "\n",
    "import matplotlib.pyplot as plt\n",
    "%matplotlib inline\n",
    "\n",
    "plt.ylabel('Global snittemperatur i °C')\n",
    "plt.xlabel('År')\n",
    "\n",
    "plt.plot(years, temperatures, 'r-')\n",
    "plt.show()"
   ]
  }
 ],
 "metadata": {
  "kernelspec": {
   "display_name": "Python 3",
   "language": "python",
   "name": "python3"
  },
  "language_info": {
   "codemirror_mode": {
    "name": "ipython",
    "version": 3
   },
   "file_extension": ".py",
   "mimetype": "text/x-python",
   "name": "python",
   "nbconvert_exporter": "python",
   "pygments_lexer": "ipython3",
   "version": "3.6.2"
  },
  "toc": {
   "base_numbering": 1,
   "nav_menu": {},
   "number_sections": false,
   "sideBar": true,
   "skip_h1_title": false,
   "title_cell": "Table of Contents",
   "title_sidebar": "Contents",
   "toc_cell": false,
   "toc_position": {},
   "toc_section_display": true,
   "toc_window_display": false
  }
 },
 "nbformat": 4,
 "nbformat_minor": 2
}
