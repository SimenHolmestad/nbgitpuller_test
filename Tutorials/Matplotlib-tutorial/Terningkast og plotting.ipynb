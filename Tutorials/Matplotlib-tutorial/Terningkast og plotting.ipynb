{
 "cells": [
  {
   "cell_type": "markdown",
   "metadata": {},
   "source": [
    "# Terningkast og plotting\n",
    "\n",
    "I denne oppgaven skal du \"kaste terning\" mange ganger og plotte en graf over de forskjellige resultatene. Det anbefales at du har gjort i hvert fall en grafoppgave fra forrige øving før du begynner på denne.\n"
   ]
  },
  {
   "cell_type": "markdown",
   "metadata": {
    "heading_collapsed": true
   },
   "source": [
    "## Generelt om bar-plott (søylediagram)"
   ]
  },
  {
   "cell_type": "markdown",
   "metadata": {
    "hidden": true
   },
   "source": [
    "Søylediagram er en fin måte å visualisere data på, og måten du lager søylediagram på med `matplotlib` er ganske lik hvordan du tegner grafer ellers. For å lage et bar-plot bruker du funksjonen `plt.bar` i stedet for `plt.plot`. En viktig detalj å legge merke til er at vi her **er nødt til** å spesifisere hva slags verdier vi skal bruke på x-aksen. Kjør eksempelet under og se hva som skjer."
   ]
  },
  {
   "cell_type": "code",
   "execution_count": 44,
   "metadata": {
    "hidden": true
   },
   "outputs": [
    {
     "data": {
      "image/png": "[encoded data removed]",
      "text/plain": [
       "<Figure size 432x288 with 1 Axes>"
      ]
     },
     "metadata": {
      "needs_background": "light"
     },
     "output_type": "display_data"
    }
   ],
   "source": [
    "from matplotlib import pyplot as plt\n",
    "%matplotlib inline\n",
    "\n",
    "x_values = [1, 2, 3, 4, 5, 6, 7]\n",
    "y_values = [5, 2, 8, 16, 4, 3, 8]\n",
    "\n",
    "plt.bar(x_values, y_values)\n",
    "plt.show()"
   ]
  },
  {
   "cell_type": "markdown",
   "metadata": {
    "hidden": true
   },
   "source": [
    "Ofte får man bruk for strenger som verdier på x-aksen i stedet for tall. Dette gjøres på en litt sær måte. Vi trenger fremdeles tall på x-aksen, men vi kan mappe disse mot en liste med strenger ved å bruke funksjonen `plt.xticks`. **Kjør eksempelet under og se om du skjønner hva som skjer**"
   ]
  },
  {
   "cell_type": "code",
   "execution_count": 40,
   "metadata": {
    "hidden": true
   },
   "outputs": [
    {
     "data": {
      "image/png": "[encoded data removed]",
      "text/plain": [
       "<Figure size 864x432 with 1 Axes>"
      ]
     },
     "metadata": {
      "needs_background": "light"
     },
     "output_type": "display_data"
    }
   ],
   "source": [
    "from matplotlib import pyplot as plt\n",
    "%matplotlib inline\n",
    "\n",
    "from matplotlib.pyplot import figure # annen funksjonalitet fra matplotlib\n",
    "figure(figsize=(12, 6)) # bestemmer størrelsen på figuren\n",
    "\n",
    "plt.title(\"Ting i kjøleskapet mitt\")\n",
    "plt.xlabel(\"ting\")\n",
    "plt.ylabel(\"antall\")\n",
    "\n",
    "x_nummer = [0, 1, 2, 3, 4, 5]\n",
    "x_verdier = [\"egg\", \"tomater\", \"brokkoli\", \"sjokolade\", \"spinat\", \"brusflasker\"]\n",
    "y_verdier = [3, 1, 0, 7, 0, 8]\n",
    "\n",
    "plt.bar(x_nummer, y_verdier) # Lager grafen som i forrige eksempel\n",
    "plt.xticks(x_nummer, x_verdier) # Endrer tallene på x-aksen til strenger\n",
    "plt.show()\n"
   ]
  },
  {
   "cell_type": "markdown",
   "metadata": {
    "hidden": true
   },
   "source": [
    "Det er også mulig å lage et horisontalt bar-plot med `plt.barh` i stedet, som i grafen under. Da må vi også bruke `plt.yticks`:"
   ]
  },
  {
   "cell_type": "code",
   "execution_count": 41,
   "metadata": {
    "hidden": true
   },
   "outputs": [
    {
     "data": {
      "image/png": "[encoded data removed]",
      "text/plain": [
       "<Figure size 432x288 with 1 Axes>"
      ]
     },
     "metadata": {
      "needs_background": "light"
     },
     "output_type": "display_data"
    }
   ],
   "source": [
    "from matplotlib import pyplot as plt\n",
    "%matplotlib inline\n",
    "\n",
    "plt.title(\"Ting i kjøleskapet mitt\")\n",
    "plt.xlabel(\"antall\")\n",
    "plt.ylabel(\"ting\")\n",
    "\n",
    "ting_nummer = [0, 1, 2, 3, 4, 5]\n",
    "ting_navn = [\"egg\", \"tomater\", \"brokkoli\", \"sjokolade\", \"spinat\", \"brusflasker\"]\n",
    "ting_verdier = [3, 1, 0, 7, 0, 8]\n",
    "\n",
    "plt.barh(x_nummer, y_verdier)\n",
    "plt.yticks(x_nummer, x_verdier)\n",
    "plt.show()\n"
   ]
  },
  {
   "cell_type": "markdown",
   "metadata": {
    "hidden": true
   },
   "source": [
    "Vi skal ikke ha bruke strenger på grafene i denne øvingen, men det kan være greit å kunne til senere."
   ]
  },
  {
   "cell_type": "markdown",
   "metadata": {},
   "source": [
    "## a) Et terningkast"
   ]
  },
  {
   "cell_type": "markdown",
   "metadata": {},
   "source": [
    "Lag funksjonen `throw_dice(number_of_dice)` som \"kaster\" `number_of_dice` terninger og returnerer summen av terningkastene. \n",
    "\n",
    "***Skriv funksjonen din på angitt sted i kodeblokken under:***"
   ]
  },
  {
   "cell_type": "code",
   "execution_count": null,
   "metadata": {},
   "outputs": [],
   "source": [
    "import random\n",
    "# SKRIV DIN KODE HER\n"
   ]
  },
  {
   "cell_type": "markdown",
   "metadata": {
    "heading_collapsed": true
   },
   "source": [
    "#### Hint"
   ]
  },
  {
   "cell_type": "markdown",
   "metadata": {
    "hidden": true
   },
   "source": [
    "Etter du har importert biblioteket `random` har du mulighet til å bruke funksjonen `random.randint(grense1, grense2)`. Denne vil returnere et tilfeldig tall fra og med grense1 til og med grense2.\n",
    "\n",
    "Du kan teste ut funksjonen nedenfor og se at den vil gi ut et tilfeldig svar hver gang:"
   ]
  },
  {
   "cell_type": "code",
   "execution_count": null,
   "metadata": {
    "hidden": true
   },
   "outputs": [],
   "source": [
    "import random\n",
    "print(random.randint(1,10))"
   ]
  },
  {
   "cell_type": "markdown",
   "metadata": {},
   "source": [
    "## b) Mange terningkast"
   ]
  },
  {
   "cell_type": "markdown",
   "metadata": {},
   "source": [
    "Nå skal vi gjøre det mulig for programmet å utføre flere terningkast og lagre hvor mange ganger vi får hvert kast. Lag funksjonen `throw_many_dice(number_of_throws)` som utfører `number_of_throws` terningkast (med to terninger) og returnerer en liste på formen `[antall_ganger_1_som_resultat, antall_ganger_2_som_resultat, ... , antall_ganger_12_som_resultat]`. Listen som returneres skal altså ha lengde `12`. Bruk funksjonen definert i forrige oppgave med `2` som argument til å kaste terningene.\n",
    "\n",
    "***Skriv funksjonen i kodeblokken under og test den ut med forskjellig antall terningkast***"
   ]
  },
  {
   "cell_type": "code",
   "execution_count": null,
   "metadata": {},
   "outputs": [],
   "source": []
  },
  {
   "cell_type": "markdown",
   "metadata": {
    "heading_collapsed": true
   },
   "source": [
    "#### Hint"
   ]
  },
  {
   "cell_type": "markdown",
   "metadata": {
    "hidden": true
   },
   "source": [
    "Det kan lønne seg å først opprette en liste med bare 0´ere og utføre terningkastene etterpå. På den måten trenger du bare å plusse på riktig 0´er etter hvert terningkast."
   ]
  },
  {
   "cell_type": "markdown",
   "metadata": {},
   "source": [
    "## c) Plotting av resultatet"
   ]
  },
  {
   "cell_type": "markdown",
   "metadata": {},
   "source": [
    "Neste steg nå blir å plotte resultatene fra oppgave b inn i en graf. Dette skal gjøres med et forsøk på 50 kast og plottes som et bar-plot. y-verdiene i plottet skal være antall ganger de forskjellige terningkastene har intruffet (resultatet fra `throw_many_dice`), men du må selv lage verdiene for x-aksen. Listen med verdiene til x-aksen må være like lang som listen som blir returnert av `throw_many_dices` og være på formen `[1, 2, 3, ... 11, 12]`.\n",
    "\n",
    "***Skriv koden din på angitt sted i kodeblokken under:***"
   ]
  },
  {
   "cell_type": "code",
   "execution_count": null,
   "metadata": {},
   "outputs": [],
   "source": [
    "import matplotlib.pyplot as plt\n",
    "%matplotlib inline\n",
    "# SKRIV KODEN DIN HER\n"
   ]
  },
  {
   "cell_type": "markdown",
   "metadata": {},
   "source": [
    "Når du har fått til å lage en graf med 50 kast. Øk mengden kast og test med 500, 5000 og 50 000. Hva skjer med plottet?"
   ]
  },
  {
   "cell_type": "markdown",
   "metadata": {
    "heading_collapsed": true
   },
   "source": [
    "#### Hint"
   ]
  },
  {
   "cell_type": "markdown",
   "metadata": {
    "hidden": true
   },
   "source": [
    "Se på det første eksempelet på barplot øverst i øvingen"
   ]
  },
  {
   "cell_type": "markdown",
   "metadata": {},
   "source": [
    "## d) (frivillig) Hvorfor nøye seg med kun to terninger av gangen??"
   ]
  },
  {
   "cell_type": "markdown",
   "metadata": {},
   "source": [
    "**Det er ikke nødvendig å gjøre denne oppgaven for å få øvingen godkjent, men grafene du kan plotte her er ganske kule.** \n",
    "\n",
    "Du skal nå utvide oppgave b og oppgave c slik at du kan spesifisere hvor mange terniger som skal kastes i hvert kast og ikke bare 2 som det er nå. Dette skal kunne spesifiseres med en variabel `number_of_dice` som skal initialiseres i oppgave c.\n",
    "\n",
    "Når du har fått det til, prøv å endre på `number_of_dice` og se hva som skjer med grafen."
   ]
  },
  {
   "cell_type": "markdown",
   "metadata": {
    "heading_collapsed": true
   },
   "source": [
    "#### Hint"
   ]
  },
  {
   "cell_type": "markdown",
   "metadata": {
    "hidden": true
   },
   "source": [
    "- `throw_many_dice`-funksjonen din blir nå nødt til å kunne ta inn `number_of_dice` i tillegg.\n",
    "- Listen som returneres fra `throw_many_dice` vil nå ikke lenger alltid inneholde 12 elementer men vil variere etter hva `number_of_dice` er.\n",
    "- Antallet x-verdier sendt til `plt.bar` må alltid matche antall elementer returnert fra `throw_many_dice`\n",
    "\n",
    "Hvis du får en veldig stygg error kan det hende du burde sjekk om lengden på x-verdilisten og y-verdilisten du sender inn i bar-funksjonen er lik."
   ]
  },
  {
   "cell_type": "markdown",
   "metadata": {},
   "source": [
    "## Løsningsforslag"
   ]
  },
  {
   "cell_type": "code",
   "execution_count": 5,
   "metadata": {},
   "outputs": [
    {
     "data": {
      "image/png": "[encoded data removed]",
      "text/plain": [
       "<Figure size 432x288 with 1 Axes>"
      ]
     },
     "metadata": {
      "needs_background": "light"
     },
     "output_type": "display_data"
    },
    {
     "data": {
      "image/png": "[encoded data removed]",
      "text/plain": [
       "<Figure size 432x288 with 1 Axes>"
      ]
     },
     "metadata": {
      "needs_background": "light"
     },
     "output_type": "display_data"
    }
   ],
   "source": [
    "# Løsning med to terninger\n",
    "import random\n",
    "import matplotlib.pyplot as plt\n",
    "%matplotlib inline\n",
    "\n",
    "def throw_dice(number_of_dice):\n",
    "    sum = 0\n",
    "    for i in range(number_of_dice):\n",
    "        sum += random.randint(1, 6)\n",
    "    return sum\n",
    "\n",
    "def throw_many_dice(number_of_throws):\n",
    "    results = [0 for x in range(12)]\n",
    "    for i in range(number_of_throws):\n",
    "        throw = throw_dice(2)\n",
    "        results[throw-1] += 1\n",
    "    return results\n",
    "\n",
    "x_values = [x+1 for x in range(12)]\n",
    "y_values = throw_many_dice(50000)\n",
    "\n",
    "plt.bar(x_values, y_values)\n",
    "plt.show()\n",
    "\n",
    "\n",
    "# Løsning med n antall terninger\n",
    "\n",
    "import random\n",
    "import matplotlib.pyplot as plt\n",
    "%matplotlib inline\n",
    "\n",
    "def throw_dice(number_of_dice):\n",
    "    sum = 0\n",
    "    for i in range(number_of_dice):\n",
    "        sum += random.randint(1, 6)\n",
    "    return sum\n",
    "\n",
    "def throw_many_dice(number_of_throws, number_of_dice):\n",
    "    results = [0 for x in range(number_of_dice*6)]\n",
    "    for i in range(number_of_throws):\n",
    "        throw = throw_dice(number_of_dice)\n",
    "        results[throw-1] += 1\n",
    "    return results\n",
    "\n",
    "number_of_dice = 5\n",
    "x_values = [x+1 for x in range(number_of_dice*6)]\n",
    "y_values = throw_many_dice(50000, number_of_dice)\n",
    "\n",
    "plt.bar(x_values, y_values)\n",
    "plt.show()"
   ]
  }
 ],
 "metadata": {
  "kernelspec": {
   "display_name": "Python 3",
   "language": "python",
   "name": "python3"
  },
  "language_info": {
   "codemirror_mode": {
    "name": "ipython",
    "version": 3
   },
   "file_extension": ".py",
   "mimetype": "text/x-python",
   "name": "python",
   "nbconvert_exporter": "python",
   "pygments_lexer": "ipython3",
   "version": "3.6.2"
  },
  "toc": {
   "base_numbering": 1,
   "nav_menu": {},
   "number_sections": false,
   "sideBar": true,
   "skip_h1_title": false,
   "title_cell": "Table of Contents",
   "title_sidebar": "Contents",
   "toc_cell": false,
   "toc_position": {},
   "toc_section_display": true,
   "toc_window_display": false
  }
 },
 "nbformat": 4,
 "nbformat_minor": 2
}
