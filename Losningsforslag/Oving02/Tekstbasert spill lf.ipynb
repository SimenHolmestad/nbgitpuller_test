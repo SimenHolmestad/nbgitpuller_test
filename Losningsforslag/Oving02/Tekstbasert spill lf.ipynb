{
 "cells": [
  {
   "cell_type": "code",
   "execution_count": 1,
   "metadata": {},
   "outputs": [
    {
     "name": "stdout",
     "output_type": "stream",
     "text": [
      "Du står ved enden av en vei, foran et hus med en lukket dør, det er en postkasse foran huset\n",
      "Hva gjør du?åpner postkassen\n",
      "Du finner en nøkkel i postkassen\n",
      "Du står ved enden av en vei, foran et hus med en lukket dør, det er en postkasse foran huset\n",
      "Hva gjør du?s\n",
      "Du står ved enden av en vei, foran et hus med en lukket dør, det er en postkasse foran huset\n",
      "Hva gjør du?åpner postkassen\n",
      "Du finner en nøkkel i postkassen\n",
      "Hva du gjør du?åpner døren\n",
      "Du låser opp døren og går inn i huset\n"
     ]
    }
   ],
   "source": [
    "#disse er bare eksempler på hvordan en kan tenke, oppgaven kan gjøres på vilt forskjellige måter.\n",
    "\n",
    "#a\n",
    "\n",
    "print(\"Du står ved enden av en vei, foran et hus med en lukket dør, det er en postkasse foran huset\")\n",
    "a = input(\"Hva gjør du?\")\n",
    "if a.lower()==\"går tilbake\":\n",
    "    print(\"Du snur deg og vandrer hjem igjen. Du kjøper en is på veien.\")\n",
    "elif a.lower()==\"åpner døren\":\n",
    "    print(\"Døren er låst\")\n",
    "elif a.lower()==\"åpner postkassen\":\n",
    "    print(\"Du finner en nøkkel i postkassen\")\n",
    "   \n",
    "#b\n",
    "key = False\n",
    "print(\"Du står ved enden av en vei, foran et hus med en lukket dør, det er en postkasse foran huset\")\n",
    "a = input(\"Hva gjør du?\")\n",
    "if a.lower()==\"åpner postkassen\":\n",
    "    key = True\n",
    "    print(\"Du finner en nøkkel i postkassen\")\n",
    "    \n",
    "\n",
    "#c\n",
    "key = False\n",
    "print(\"Du står ved enden av en vei, foran et hus med en lukket dør, det er en postkasse foran huset\")\n",
    "a = input(\"Hva gjør du?\")\n",
    "if a.lower()==\"går tilbake\":\n",
    "    print(\"Du snur deg og vandrer hjem igjen. Du hører en skummel lyd og løper tilbake til huset der du startet\")\n",
    "elif a.lower()==\"åpner postkassen\":\n",
    "    print(\"Du finner en nøkkel i postkassen\")\n",
    "    key = True\n",
    "b = input(\"Hva du gjør du?\")\n",
    "if b.lower()==\"åpner døren\":\n",
    "    if key:\n",
    "        print(\"Du låser opp døren og går inn i huset\")\n",
    "    else:\n",
    "        print(\"Du klarer ikke låse opp døren den er låst\")\n",
    "elif b.lower()==\"åpner postkassen\":\n",
    "    if key:\n",
    "        print(\"Det er ikke mer igjen i postkassen\")\n",
    "    else:\n",
    "        print(\"Du finner en nøkkel i postkassen\")\n",
    "        key = True"
   ]
  }
 ],
 "metadata": {
  "kernelspec": {
   "display_name": "Python 3",
   "language": "python",
   "name": "python3"
  },
  "language_info": {
   "codemirror_mode": {
    "name": "ipython",
    "version": 3
   },
   "file_extension": ".py",
   "mimetype": "text/x-python",
   "name": "python",
   "nbconvert_exporter": "python",
   "pygments_lexer": "ipython3",
   "version": "3.7.3"
  }
 },
 "nbformat": 4,
 "nbformat_minor": 2
}
