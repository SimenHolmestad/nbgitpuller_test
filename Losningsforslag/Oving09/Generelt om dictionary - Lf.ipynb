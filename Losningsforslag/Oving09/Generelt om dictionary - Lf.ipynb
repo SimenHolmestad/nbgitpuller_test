{
 "cells": [
  {
   "cell_type": "code",
   "execution_count": null,
   "metadata": {},
   "outputs": [],
   "source": [
    "#a)\n",
    "my_family = {}\n",
    " \n",
    "#b)\n",
    "def add_family_member(role, name):\n",
    "    my_family[role] = name\n",
    "#c) \n",
    "\n",
    "my_family = {}\n",
    " \n",
    "def add_family_member(role, name):\n",
    "    if role not in my_family.keys():\n",
    "        my_family[role] = [name]\n",
    "    else:\n",
    "        my_family[role].append(name)"
   ]
  }
 ],
 "metadata": {
  "kernelspec": {
   "display_name": "Python 3",
   "language": "python",
   "name": "python3"
  },
  "language_info": {
   "codemirror_mode": {
    "name": "ipython",
    "version": 3
   },
   "file_extension": ".py",
   "mimetype": "text/x-python",
   "name": "python",
   "nbconvert_exporter": "python",
   "pygments_lexer": "ipython3",
   "version": "3.7.3"
  }
 },
 "nbformat": 4,
 "nbformat_minor": 2
}
