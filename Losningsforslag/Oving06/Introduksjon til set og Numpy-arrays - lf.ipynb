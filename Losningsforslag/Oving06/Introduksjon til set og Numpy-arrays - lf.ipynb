{
 "cells": [
  {
   "cell_type": "code",
   "execution_count": null,
   "metadata": {},
   "outputs": [],
   "source": [
    "#a)\n",
    "import numpy as np\n",
    "def areOrthogonal(a,b):\n",
    "    return not bool(np.dot(np.array(a),np.array(b)))\n",
    "\n",
    "#b)\n",
    "\n",
    "import numpy as np\n",
    "print(np.transpose(np.arange(1,16).reshape(3,5)))\n"
   ]
  }
 ],
 "metadata": {
  "kernelspec": {
   "display_name": "Python 3",
   "language": "python",
   "name": "python3"
  },
  "language_info": {
   "codemirror_mode": {
    "name": "ipython",
    "version": 3
   },
   "file_extension": ".py",
   "mimetype": "text/x-python",
   "name": "python",
   "nbconvert_exporter": "python",
   "pygments_lexer": "ipython3",
   "version": "3.7.3"
  }
 },
 "nbformat": 4,
 "nbformat_minor": 2
}
