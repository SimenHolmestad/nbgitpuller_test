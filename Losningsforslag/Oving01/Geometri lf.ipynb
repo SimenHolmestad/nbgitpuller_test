{
 "cells": [
  {
   "cell_type": "markdown",
   "metadata": {},
   "source": [
    "a) og b)"
   ]
  },
  {
   "cell_type": "code",
   "execution_count": 1,
   "metadata": {},
   "outputs": [
    {
     "name": "stdout",
     "output_type": "stream",
     "text": [
      "Vi har en sirkel med radius 5\n",
      "Omkretsen er 31.400000000000002\n",
      "Arealet er 78.5\n",
      "Sylinder med høyde 8 : Volumet er, volum\n"
     ]
    }
   ],
   "source": [
    "r = 5\n",
    "print(\"Vi har en sirkel med radius\", r)\n",
    "omkrets = 2 * 3.14 * r\n",
    "print(\"Omkretsen er\", omkrets)\n",
    "#b) print(\"Omkretsen er\", format(omkrets, '.2f'))\n",
    "areal = 3.14 * r**2\n",
    "print(\"Arealet er\", areal)\n",
    "h = 8\n",
    "volum = areal * h\n",
    "print(\"Sylinder med høyde\", h, \": Volumet er, volum\")"
   ]
  },
  {
   "cell_type": "markdown",
   "metadata": {},
   "source": [
    "c)  Det skyldes at flyttall ikke lagres nøyaktig i Python."
   ]
  }
 ],
 "metadata": {
  "kernelspec": {
   "display_name": "Python 3",
   "language": "python",
   "name": "python3"
  },
  "language_info": {
   "codemirror_mode": {
    "name": "ipython",
    "version": 3
   },
   "file_extension": ".py",
   "mimetype": "text/x-python",
   "name": "python",
   "nbconvert_exporter": "python",
   "pygments_lexer": "ipython3",
   "version": "3.7.3"
  }
 },
 "nbformat": 4,
 "nbformat_minor": 2
}
