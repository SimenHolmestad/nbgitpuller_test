{
 "cells": [
  {
   "cell_type": "markdown",
   "metadata": {},
   "source": [
    "# Klasser i Python"
   ]
  },
  {
   "cell_type": "markdown",
   "metadata": {
    "heading_collapsed": true
   },
   "source": [
    "### En kjapp guide til klasser"
   ]
  },
  {
   "cell_type": "markdown",
   "metadata": {
    "hidden": true
   },
   "source": [
    "Når vi driver med objektorientert programmering holder vi på med samlinger av informasjon som vi ser på en enkelt entitet. Dette virker kanskje forvirrende akkurat nå, men for å forstå hva vi mener må vi først se på konseptet som er klasser. Klasser er som en oppskrift, eller et pre-objekt. Klassen inneholder skjellettet til objektene, eller reglene for hvordan objektet vår skal fungere. \n",
    "\n",
    "La oss se for oss en Person-klasse. Hvilken type informasjon ønsker vi skal være tilgjengelig om en person? \n",
    "Hva med:\n",
    "\n",
    "* Navn \n",
    "* Fødselsdato\n",
    "* Hjemby\n",
    "\n",
    "Et objekt er rett og slett en spesifikk instans som hører til vår Person-klasse. La oss se på hvordan dette vil se ut i kode.\n"
   ]
  },
  {
   "cell_type": "code",
   "execution_count": 3,
   "metadata": {
    "hidden": true
   },
   "outputs": [
    {
     "name": "stdout",
     "output_type": "stream",
     "text": [
      "Geir\n",
      "Oppdal\n"
     ]
    }
   ],
   "source": [
    "class Person:\n",
    "    \n",
    "    def __init__(self, name, date, hometown):\n",
    "        self.name = name\n",
    "        self.date = date\n",
    "        self.hometown = hometown\n",
    "        \n",
    "        \n",
    "person1 = Person(\"Geir\",\"030998\",\"Oppdal\")\n",
    "\n",
    "print(geir.name)\n",
    "print(geir.town)"
   ]
  },
  {
   "cell_type": "markdown",
   "metadata": {
    "hidden": true
   },
   "source": [
    "Her har vi laget en person-klasse med tre attributter, som er de samme som vi beskrev over. I tillegg har vi laget et objekt basert på klassen vår, kalt person1. Objektet vårt har \"Geir\" som navn, \"030998\" som fødselsdato og \"Oppdal\" som hjemby.\n",
    "\n",
    "Denne koden ser kanskje forvirrende ut, men hold ut. Init-funksjonen inne i klassen er det vi kaller en konstruktør, det er det første som vil kjøres når vi oppretter et nytt objekt basert på klassen vår. Merk at de tre siste parametrene init-funksjonen tar inn samsvarer med attributtene vi brukte til å opprette objektet person1.\n",
    "\n",
    "Men hva med den første parameteren `self`? `Init`-funksjon tar inn objektet selv som første argument, og dette gjøres ved bruk av `self`-argumentet. Init-funksjonen må først ta inn selve objektet vi ønsker å definere, før vi så setter attributtene til objektet til de ønskede verdiene.\n",
    "I vårt eksempel er objektet **person1**, hvor vi setter **person1** sitt navn, fødselsdato og hjemby til de ønskede verdiene. Som du ser i eksempel kan vi enkelt hente ut attributtene igjen ved å kalle på dem, som vi gjør inne i print funksjonene."
   ]
  },
  {
   "cell_type": "markdown",
   "metadata": {},
   "source": [
    "### a)"
   ]
  },
  {
   "cell_type": "markdown",
   "metadata": {},
   "source": [
    "**Lag en klasse ``Car`` med fire passende attributter og opprett et objekt av typen Car.**\n",
    "\n",
    "***Skriv koden din i blokka under.***"
   ]
  },
  {
   "cell_type": "code",
   "execution_count": null,
   "metadata": {},
   "outputs": [],
   "source": []
  },
  {
   "cell_type": "markdown",
   "metadata": {},
   "source": [
    "### Metoder"
   ]
  },
  {
   "cell_type": "markdown",
   "metadata": {},
   "source": [
    "En klasse trenger ikke bare å ha attributter som inneholder info, de kan også ha funksjoner som vi kan bruke med eller uten objekter basert på klassen. Akkurat den siste biten trenger du ikke tenke så mye på akkurat nå. \n",
    "\n",
    "Merk at når vi snakker om funksjoner sammen med klasser kaller vi dem for metoder, så det blir mer riktig å si at vi har en `init`-metode enn en `init`-funskjon som vi har skrevet tidligere. La oss ta en titt på et eksempel med flere metoder:"
   ]
  },
  {
   "cell_type": "code",
   "execution_count": 7,
   "metadata": {},
   "outputs": [
    {
     "name": "stdout",
     "output_type": "stream",
     "text": [
      "Geir\n",
      "Tobias\n"
     ]
    }
   ],
   "source": [
    "class Person: \n",
    "    \n",
    "    def __init__(self, name, date, hometown):\n",
    "        self.name = name\n",
    "        self.date = date\n",
    "        self.hometown = hometown\n",
    "        \n",
    "    def change_name(self, new_name):\n",
    "        self.name = new_name\n",
    "        \n",
    "person2 = Person(\"Geir\",\"030998\",\"Oppdal\")\n",
    "print(person1.name)\n",
    "person2.change_name(\"Tobias\")\n",
    "print(person1.name)"
   ]
  },
  {
   "cell_type": "markdown",
   "metadata": {},
   "source": [
    "Her har vi limt inn konstruktøren fra sist, men lagt til metoden `change_name` Som vi ser gjør metoden akkurat det den sier den gjør. Den tar inn selve objektet, før den endrer `name`-attributtet til verdien bestemt av `new_name`. Konstruktøren vår `__init__` er også en metode, men på grunn av den spesielle syntaksen forstår python at denne metoden skal kjøre når vi initialiserer objektet, og bruker parametrene vi ga inn som input når vi opprettet objektet. \n",
    "\n",
    "Akkurat dette med *hvorfor* `__init__`-metoden fungerer som den gjør er forvirrende, men det viktigste er å vite *hvordan* den fungerer. "
   ]
  },
  {
   "cell_type": "markdown",
   "metadata": {},
   "source": [
    "### b)"
   ]
  },
  {
   "cell_type": "markdown",
   "metadata": {},
   "source": [
    "Utvid klassen din med de to metodene `change_color(color)` og `is_blue()`. `change_color` skal sette bilens farge til **color**, mens `is_blue` skal returnere True om bilens farge er `\"blue\"`. Merk at om klassen din ikke inneholder det relevante attributtet må det legges til. \n",
    "\n",
    "***Skriv koden din i samme blokk som oppgave a***"
   ]
  },
  {
   "cell_type": "markdown",
   "metadata": {},
   "source": [
    "### c)"
   ]
  },
  {
   "cell_type": "markdown",
   "metadata": {},
   "source": [
    "Lag en klasse `Cookie_monster` som har en metode `eat_cookies(cookies)`. `cookie_monster` må ha en attributt for å holde oversikt over det totale antallet cookies som har blitt spist, denne kan starte på 0 for alle typen cookie monstre. `eat_cookies` skal så oppdatere denne attributten med antall cookies som tas inn i metoden. Siden Cookie monster er veldig glad i kjeks må `eat_cookies` også printe ut `\"om nom nom\"`.\n",
    "\n",
    "Eksempel på kjøring: \n",
    "```python\n",
    "monster = cookie_monster()\n",
    "eat_cookies(10)\n",
    "> \"om nom nom\"\n",
    "print(monster.cookies)\n",
    "> 10\n",
    "eat_cookies(20)\n",
    "> \"om nom nom\"\n",
    "print(monster.cookies)\n",
    "> 30\n",
    "```\n",
    "\n",
    "***Skriv koden din i blokka under***"
   ]
  },
  {
   "cell_type": "code",
   "execution_count": null,
   "metadata": {},
   "outputs": [],
   "source": []
  },
  {
   "cell_type": "markdown",
   "metadata": {},
   "source": [
    "### Klassevariabler"
   ]
  },
  {
   "cell_type": "markdown",
   "metadata": {},
   "source": [
    "Det vi i forrige oppgave så på som attributter til en klasse er det vi egentlig kaller for instansvariabler, variabler som kun gjelder for en instans av en klasse, eller et spesifikt objekt. Når vi lager en person-klasse og oppretter et objekt med navnet \"Geir\" vil det navnet kun gjelde for det gitte objektet, og dermed være en instansvariabel, siden vi definerer variabelen inne i konstruktøren. \n",
    "\n",
    "Dette er ikke den eneste formen for variabler vi kan bruke med klasser, vi har også klassevariabler som gjelder for alle objekter av en gitt klasse."
   ]
  },
  {
   "cell_type": "code",
   "execution_count": 10,
   "metadata": {},
   "outputs": [
    {
     "name": "stdout",
     "output_type": "stream",
     "text": [
      "Sea animal\n",
      "Sea animal\n",
      "Great White\n",
      "Hammerhead\n",
      "Sea animal\n"
     ]
    }
   ],
   "source": [
    "class Shark():\n",
    "    \n",
    "    animal_type = \"Sea animal\"\n",
    "    \n",
    "    def __init__(self, species, weight):\n",
    "        self.species = species\n",
    "        self.weight = weight\n",
    "        \n",
    "\n",
    "shark1 = Shark(\"Great White\", 900)\n",
    "shark2 = Shark(\"Hammerhead\", 400)\n",
    "               \n",
    "print(shark1.animal_type)\n",
    "print(shark2.animal_type)\n",
    "print(shark1.species)\n",
    "print(shark2.species)\n",
    "print(Shark.animal_type)"
   ]
  },
  {
   "cell_type": "markdown",
   "metadata": {},
   "source": [
    "Som vi nå ser så gjelder det for alle haier at de er av typen \"Sea animal\" ettersom **animal_type** er en klassevariabel og defineres utenfor konstruktøren. Ikke bare kan vi kalle enkelt objekters animal_type, men vi kan også kalle hele klassens **animal_type**, siden denne verdien vil være den samme for alle instanser av klassen. **species** er fortsatt en instansvariabel og vil variere for hvert objekt siden variabelen defineres inne i konstruktøren. "
   ]
  },
  {
   "cell_type": "markdown",
   "metadata": {},
   "source": [
    "### d)"
   ]
  },
  {
   "cell_type": "markdown",
   "metadata": {},
   "source": [
    "Utvid `Car` klassen din med en klassevariabel som burde være passende for alle biler. Print så ut denne.\n",
    "\n",
    "***Skriv koden din i samme blokk som oppgave a***"
   ]
  }
 ],
 "metadata": {
  "kernelspec": {
   "display_name": "Python 3",
   "language": "python",
   "name": "python3"
  },
  "language_info": {
   "codemirror_mode": {
    "name": "ipython",
    "version": 3
   },
   "file_extension": ".py",
   "mimetype": "text/x-python",
   "name": "python",
   "nbconvert_exporter": "python",
   "pygments_lexer": "ipython3",
   "version": "3.7.4"
  }
 },
 "nbformat": 4,
 "nbformat_minor": 2
}
