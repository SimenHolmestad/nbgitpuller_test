{
 "cells": [
  {
   "cell_type": "markdown",
   "metadata": {},
   "source": [
    "I denne oppgaven skal vi lage klassen `Cookie_factory` som skal produsere kjeks. Klassen skal ha tre instansvariabler **machine_active**, **cookies** og **money**. **machine_active** skal settes til False i konstruktøren, **cookies** skal settes til 0, mens **money** settes til verdien som gis inn til konstruktøren. \n",
    "\n",
    "Klassen skal ha følgende metoder. \n",
    "\n",
    "`start_machine()`: starter opp maskinen   \n",
    "`stop_machine()`: stopper maskinen  \n",
    "`make_cookies(amount)`: Produserer antall cookies som metoden tar inn, men bare dersom maskinen er aktiv. Dersom den ikke er aktiv skal metoden printe ut: *\"Can't make cookies with an inactive machine\"*  \n",
    "`sell_cookies(amount)`: Selger kjeks tilsvarende **amount** om denne mengden er tilgjengelig. Dersom den ikke er det skal metoden printe ut: *\"Too few cookies available\"*. En kjeks selges for 5kr.\n",
    "\n",
    "Skriv koden din i blokka under:"
   ]
  },
  {
   "cell_type": "code",
   "execution_count": null,
   "metadata": {},
   "outputs": [],
   "source": []
  }
 ],
 "metadata": {
  "kernelspec": {
   "display_name": "Python 3",
   "language": "python",
   "name": "python3"
  },
  "language_info": {
   "codemirror_mode": {
    "name": "ipython",
    "version": 3
   },
   "file_extension": ".py",
   "mimetype": "text/x-python",
   "name": "python",
   "nbconvert_exporter": "python",
   "pygments_lexer": "ipython3",
   "version": "3.7.3"
  }
 },
 "nbformat": 4,
 "nbformat_minor": 2
}
