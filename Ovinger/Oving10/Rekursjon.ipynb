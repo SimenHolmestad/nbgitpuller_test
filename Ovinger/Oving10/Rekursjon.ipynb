{
 "cells": [
  {
   "cell_type": "markdown",
   "metadata": {},
   "source": [
    "-\n",
    "# Rekursjon\n",
    "\n",
    "**Læringsmål:**\n",
    "\n",
    "* Rekursjon\n",
    "* Algoritmer\n",
    "\n",
    "**Starting Out with Python:**\n",
    "\n",
    "* Kap. 12: Recursion"
   ]
  },
  {
   "cell_type": "markdown",
   "metadata": {
    "heading_collapsed": true
   },
   "source": [
    "### Rekursjon, hva er det?"
   ]
  },
  {
   "cell_type": "markdown",
   "metadata": {
    "hidden": true
   },
   "source": [
    "Dersom en funksjon kaller på seg selv kaller vi dette for rekursjon. Rekursjon er et viktig konsept innenfor datateknologi, og det er en mye brukt teknikk for å løse problemer som kan deles opp i mindre tilsvarende subproblemer. For eksempel bygger en rekke søkealgoritmer på konseptet rekursjon.\n",
    "\n",
    "![img](https://files.realpython.com/media/fixing_problems.ffd6d34e887e.png)\n",
    "\n",
    "La oss begynne å se på en veldig enkel funksjon som benytter seg av rekursjon, som nevnt betyr dette bare at funksjonen kaller seg selv.\n",
    "\n",
    "**Eksempel:**"
   ]
  },
  {
   "cell_type": "code",
   "execution_count": null,
   "metadata": {
    "hidden": true
   },
   "outputs": [],
   "source": [
    "def teller(nummer=0):\n",
    "    print(\"Nå har vi kommet til: \", nummer)\n",
    "    teller(nummer + 1)\n",
    "    \n",
    "teller()"
   ]
  },
  {
   "cell_type": "markdown",
   "metadata": {
    "hidden": true
   },
   "source": [
    "Her ser vi en teller implementert rekursivt. Funksjonen begynner å telle fra null, siden det er standardverdien vi har gitt, før den kaller seg selv på nytt, men denne gangen med økt verdi. Vi kan også lage en funksjon med samme funksjonalitet iterativt, ved hjelp av løkker. Funksjonen under vil gjøre akkurat det samme som vår rekursive teller."
   ]
  },
  {
   "cell_type": "code",
   "execution_count": null,
   "metadata": {
    "hidden": true
   },
   "outputs": [],
   "source": [
    "def teller2():\n",
    "    nummer = 0\n",
    "    while True:\n",
    "        print(\"Nå har vi kommet til: \", nummer)\n",
    "        nummer += 1\n",
    "        \n",
    "teller()"
   ]
  },
  {
   "cell_type": "markdown",
   "metadata": {
    "hidden": true
   },
   "source": [
    "Men, som du kanskje har lagt merke til, har vår rekursive funksjon en stor svakhet, den slutter aldri. Funksjonen vår vil fortsette å telle helt til vi får en RuntimeError, hvor vi får beskjed om at maksimum rekursjons dybde er nådd. Vi kan se på det som at hver gang vi kaller en rekursiv funksjon graver vi oss lengre ned i et hull, og Python setter en grense for hvor langt ned vi kan grave, forhåpentligvis ønsker vi å komme oss opp igjen av hullet også, men det ser vi på litt senere. Først la oss fokusere på at funksjonen vår aldri avslutter.\n",
    "\n",
    "Rekursive funksjoner trenger det vi kaller vi et **grunntilfelle**, et sted hvor koden innser at det er på tide å slutte og grave. La oss prøve å endre telleren slik at den slutter å telle når den kommer til 10."
   ]
  },
  {
   "cell_type": "code",
   "execution_count": 1,
   "metadata": {
    "ExecuteTime": {
     "end_time": "2019-07-05T06:25:12.112924Z",
     "start_time": "2019-07-05T06:25:12.100102Z"
    },
    "hidden": true
   },
   "outputs": [
    {
     "name": "stdout",
     "output_type": "stream",
     "text": [
      "Nå har vi kommet til:  0\n",
      "Nå har vi kommet til:  1\n",
      "Nå har vi kommet til:  2\n",
      "Nå har vi kommet til:  3\n",
      "Nå har vi kommet til:  4\n",
      "Nå har vi kommet til:  5\n",
      "Nå har vi kommet til:  6\n",
      "Nå har vi kommet til:  7\n",
      "Nå har vi kommet til:  8\n",
      "Nå har vi kommet til:  9\n",
      "Nå har vi kommet til:  10\n"
     ]
    }
   ],
   "source": [
    "def teller(nummer=0):\n",
    "    print(\"Nå har vi kommet til: \", nummer)\n",
    "    if(nummer<10):\n",
    "        teller(nummer + 1)\n",
    "        \n",
    "teller()"
   ]
  },
  {
   "cell_type": "markdown",
   "metadata": {
    "hidden": true
   },
   "source": [
    "Som du nå selv kan teste, vil funksjonen vår telle til 10, før den gir seg. Vi har et grunntilfelle hvor funksjonen finner ut at den skal stoppe, og vi slipper at Python skal gi oss en streng beskjed om å slutte med gravingen vår. Tidligere nevnte vi også ambisjoner om å klatre opp igjen, la oss først ta en kikk på en klassiskt bruksområde når det kommer til rekursjon, hvordan vi kan regne fakultet:"
   ]
  },
  {
   "cell_type": "code",
   "execution_count": 3,
   "metadata": {
    "ExecuteTime": {
     "end_time": "2019-07-05T06:31:27.611550Z",
     "start_time": "2019-07-05T06:31:27.594077Z"
    },
    "hidden": true
   },
   "outputs": [
    {
     "data": {
      "text/plain": [
       "120"
      ]
     },
     "execution_count": 3,
     "metadata": {},
     "output_type": "execute_result"
    }
   ],
   "source": [
    "def fakultet(tall):\n",
    "    if tall==0:\n",
    "        return 1\n",
    "    else:\n",
    "        return tall*fakultet(tall-1)\n",
    "\n",
    "fakultet(5)"
   ]
  },
  {
   "cell_type": "markdown",
   "metadata": {
    "hidden": true
   },
   "source": [
    "Her baserer vi oss på grunntilfellet hvor null fakultet er lik 1. Ellers vet vi at fakultet av et tall er lik tallet selv gange fakultet av tallet minus en. Altså f.eks. er 5! = 5 * 4!. Det kan vi enkelt løse rekursivt, som vi allerede har gjort. Det som er nytt for dette eksempelet er at vi faktisk benytter oss av resultatet av funksjonskallene våre. Når vi kaller funksjonen med tallet 3 vil følgende skje:\n",
    "\n",
    "> Vi prøver å regne ut 3! men siden vi trenger 2! kaller vi funksjonen på nytt.  \n",
    "Vi prøver å regne ut 2! men siden vi trenger 1! kaller vi funksjonen på nytt.  \n",
    "Vi prøver å regne ut 1! men siden vi trenger 0! kaller vi funksjonen på nytt.  \n",
    "Vi prøver å regne ut 0!, det vet vi er 1.   \n",
    "Vi benytter oss av resultatet over, finner ut at 1! er 1.  \n",
    "Vi benytter oss av resultatet over, finner ut at 2! er 2.  \n",
    "Vi benytter oss av resultatet over, finner ut at 3! er 6.  \n",
    "\n",
    "Viss vi fortsetter å tenke på grave-eksempelet kan vi se at vi over har to faser, en hvor vi kaller funksjonen på nytt og graver oss ned, før vi omsider finner bunnen og klatrer opp igjen. \n",
    "\n",
    "La oss ta en kikk på en nytt eksempel men denne gangen skal vi bruke en liste, hvor vi ønsker å summere alle elementene rekursivt. Som nevnt introduksjonsmessig er rekursivitet brukt mye i sorteringsalgoritmer, og selv om det ofte kan virke som om det vi gjør rekursivt alltid kan gjøres iterativt, er ikke det alltid tilfelle. Rekursjon er derfor viktig å forstå, selv om det også er vanskelig."
   ]
  },
  {
   "cell_type": "code",
   "execution_count": 4,
   "metadata": {
    "ExecuteTime": {
     "end_time": "2019-07-05T06:55:48.783091Z",
     "start_time": "2019-07-05T06:55:48.771923Z"
    },
    "hidden": true
   },
   "outputs": [
    {
     "data": {
      "text/plain": [
       "6"
      ]
     },
     "execution_count": 4,
     "metadata": {},
     "output_type": "execute_result"
    }
   ],
   "source": [
    "def liste_sum(liste):\n",
    "    if(len(liste)==1):\n",
    "        return liste[0] #dersom listen kun har et element er summen vår bare det ene elementet\n",
    "    else:\n",
    "        return liste[0]+liste_sum(liste[1:]) #ellers tar vi det første elementet og legger til summen av resten av lista\n",
    "    \n",
    "liste_sum([1,2,3])"
   ]
  },
  {
   "cell_type": "markdown",
   "metadata": {
    "hidden": true
   },
   "source": [
    "Det er kanskje ikke så mye nytt her med unntak av at vi denne gangen fokuserer på en liste, men la oss også nå se steg for seg hva som skjer.\n",
    "\n",
    "> Vi vil ha summen av [1,2,3], vi vet dette er 1 + summen av [2,3], vi kaller funksjonen på nytt  \n",
    "Vi vil ha summen av [2,3], vi vet dette er 2 + summen av [3], vi kaller funksjonen på nytt  \n",
    "Vi vet at summen av [3] er 3, så vi gir verdien til funksjons-kallet over.  \n",
    "Siden summen av [3] var 3, er summen [2,3] = 2 + 3 = 5  \n",
    "Siden summen av [2,3] var 5, er summen av [1,2,3] = 1 + 5 = 6.   \n",
    "\n",
    "Det ligner mye på det vi gjorde når vi implementerte fakultet, vi jobber oss nedover, når bunnen, og går tilbake opp. \n",
    "\n",
    "Nå har du fått en rask innføring i hvordan programmere rekursivt. Viss du vil ha en litt annen innføring i temaet kan du sjekke ut [denne linken](https://realpython.com/python-thinking-recursively/). "
   ]
  },
  {
   "cell_type": "markdown",
   "metadata": {
    "heading_collapsed": true
   },
   "source": [
    "### a) Rekursiv sum"
   ]
  },
  {
   "cell_type": "markdown",
   "metadata": {
    "hidden": true
   },
   "source": [
    "Skriv en funksjon `recursive_sum(n)` som tar inn et heltall n og regner summen av  1+2+...+n ved hjelp av rekursjon. \n",
    "\n",
    "**Eksempel på kjøring:**\n",
    ">```python\n",
    "print(recursive_sum(53))\n",
    "-> 1431\n",
    "```"
   ]
  },
  {
   "cell_type": "code",
   "execution_count": null,
   "metadata": {
    "hidden": true
   },
   "outputs": [],
   "source": [
    "#skriv koden din her"
   ]
  },
  {
   "cell_type": "markdown",
   "metadata": {
    "heading_collapsed": true,
    "hidden": true
   },
   "source": [
    "#### Hint"
   ]
  },
  {
   "cell_type": "markdown",
   "metadata": {
    "hidden": true
   },
   "source": [
    "Se på eksempelet med fakultet i tutorialen."
   ]
  },
  {
   "cell_type": "markdown",
   "metadata": {
    "heading_collapsed": true
   },
   "source": [
    "### b) Merge sum"
   ]
  },
  {
   "cell_type": "markdown",
   "metadata": {
    "hidden": true
   },
   "source": [
    "Skriv en funksjon `merge_sum(liste)` som summerer alle elementene i en liste men på en litt annen måte enn i tutorialen. \n",
    "\n",
    "* Anta et partall antall elementer i lista.\n",
    "* Når du skal summere elementene skal det gjøres ved å dele lista i to, og så finne summen av hver halvdel av lista. "
   ]
  },
  {
   "cell_type": "code",
   "execution_count": null,
   "metadata": {
    "hidden": true
   },
   "outputs": [],
   "source": [
    "#skriv koden din her"
   ]
  },
  {
   "cell_type": "markdown",
   "metadata": {
    "heading_collapsed": true,
    "hidden": true
   },
   "source": [
    "#### Hint"
   ]
  },
  {
   "cell_type": "markdown",
   "metadata": {
    "hidden": true
   },
   "source": [
    "Tenk på grunntilfellet og hva funksjonen skal returnere.  \n",
    "Hvor skal vi dele lista?"
   ]
  },
  {
   "cell_type": "markdown",
   "metadata": {
    "heading_collapsed": true
   },
   "source": [
    "### c) Minste element"
   ]
  },
  {
   "cell_type": "markdown",
   "metadata": {
    "hidden": true
   },
   "source": [
    "Skriv en rekursiv funksjon `find_smallest_element(numbers)` som tar inn en liste numbers med heltall og finner det minste elementet i listen. \n",
    "*Merk: Du kan ikke bruke innebygde funksjoner i Python som min(liste), for å løse denne oppgaven.*\n",
    "\n",
    ">```python\n",
    "print(find_smallest_element([5,3,2,6]))\n",
    "-> 2\n",
    "```"
   ]
  },
  {
   "cell_type": "code",
   "execution_count": null,
   "metadata": {
    "hidden": true
   },
   "outputs": [],
   "source": [
    "#skriv koden din her"
   ]
  },
  {
   "cell_type": "markdown",
   "metadata": {
    "heading_collapsed": true,
    "hidden": true
   },
   "source": [
    "#### Hint"
   ]
  },
  {
   "cell_type": "markdown",
   "metadata": {
    "hidden": true
   },
   "source": [
    "Ta en kikk på eksempelet med listesum i tutorialen. Her vil du kunne buke en lignende framgangsmåte, men med en litt annen logikk."
   ]
  },
  {
   "cell_type": "markdown",
   "metadata": {
    "heading_collapsed": true
   },
   "source": [
    "### d) Binærsøk"
   ]
  },
  {
   "cell_type": "markdown",
   "metadata": {
    "hidden": true
   },
   "source": [
    "Skriv en rekursiv funksjon `binary_search(numbers, element)` som tar inn en sortert liste **numbers** med heltall og et heltall **element** og returnerer posisjonen(indeksen) til elementet dersom det finnes i listen. Hvis det ikke finnes skal funksjonen returnere minus uendelig (**-float('inf')**). Dette skal du gjøre ved å benytte deg av [binærsøk-algoritmen](https://en.wikipedia.org/wiki/Binary_search_algorithm). \n",
    "\n",
    "Du kan også implementere funksjonen `binary_search(numbers, element, minimum, maximum)`, altså samme funksjon, med samme funksjonalitet, men med parameterene **minimum** og **maximum**, som vi kan bruke til å angi indeksene vi søker på i lista.\n",
    "\n",
    "*Merk: I denne oppgaven er det ikke lov til å bruke innebygde funksjoner i Python som liste.index(element).* \n",
    "\n",
    "**BONUS**: Hvis listen numbers inneholder n elementer, hvor mange funksjonskall vil binærsøk-algoritmen i worst case trenge for å finne posisjonen til elementet i listen? (eller at elementet ikke er i listen)"
   ]
  },
  {
   "cell_type": "code",
   "execution_count": null,
   "metadata": {
    "hidden": true
   },
   "outputs": [],
   "source": [
    "#skriv koden din her"
   ]
  },
  {
   "cell_type": "markdown",
   "metadata": {
    "heading_collapsed": true,
    "hidden": true
   },
   "source": [
    "#### Hint"
   ]
  },
  {
   "cell_type": "markdown",
   "metadata": {
    "ExecuteTime": {
     "end_time": "2019-07-05T07:40:52.433819Z",
     "start_time": "2019-07-05T07:40:52.424489Z"
    },
    "hidden": true
   },
   "source": [
    "Tenk på midterste element."
   ]
  }
 ],
 "metadata": {
  "kernelspec": {
   "display_name": "Python 3",
   "language": "python",
   "name": "python3"
  },
  "language_info": {
   "codemirror_mode": {
    "name": "ipython",
    "version": 3
   },
   "file_extension": ".py",
   "mimetype": "text/x-python",
   "name": "python",
   "nbconvert_exporter": "python",
   "pygments_lexer": "ipython3",
   "version": "3.6.7"
  },
  "toc": {
   "base_numbering": 1,
   "nav_menu": {},
   "number_sections": false,
   "sideBar": true,
   "skip_h1_title": false,
   "title_cell": "Table of Contents",
   "title_sidebar": "Contents",
   "toc_cell": false,
   "toc_position": {},
   "toc_section_display": true,
   "toc_window_display": false
  }
 },
 "nbformat": 4,
 "nbformat_minor": 2
}
