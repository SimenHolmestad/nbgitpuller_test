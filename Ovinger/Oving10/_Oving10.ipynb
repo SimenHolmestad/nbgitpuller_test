{
 "cells": [
  {
   "cell_type": "markdown",
   "metadata": {},
   "source": [
    "# Øving 10\n",
    "\n",
    "**Læringsmål:**\n",
    "\n",
    "- Rekursjon\n",
    "- Sammensatte programmer\n",
    "\n",
    "**Starting Out with Python:**\n",
    "\n",
    "- Kap. 12: Recursion\n",
    "\n",
    "**Theory book**\n",
    "\n",
    "- Kap 5 - Algorithms\n",
    " \n",
    "\n",
    "## Godkjenning:\n",
    "\n",
    "For å få godkjent øvingen må du gjøre minst én annen oppgave. Blir flere oppgaver utført vil dette telle som to øvinger. \n",
    "\n",
    "Sjakk-oppgaven teller som to øvinger, gitt at man også gjør teorioppgaven. Man kan maksimalt få to godkjente øvinger ved å gjøre øving 10. Vanskelige oppgaver er markert med stjerne og ekstra vanskelige oppgaver er markert med to stjerner.\n",
    "\n",
    "Alle oppgavene skal demonstreres til en læringsassistent på sal. I oppgaver der du skriver programkode skal også denne vises fram. Lykke til!\n",
    "\n",
    "\n",
    "Oppgave | Tema | Vanskelighetsgrad\n",
    "--- | --- | ---\n",
    "[Rekursjon](Rekursjon.ipynb) | Rekursjon, Algoritmer | \n",
    "[Eksamen Python 2012](Eksamen%202012.ipynb)|Repetisjon|\n",
    "[Sudoku](Sudoku.ipynb)|Repetisjon, Sammensatte problemer|\n",
    "[Bokanalyse med plotting](Bokanalyse%20med%20plotting.ipynb)|Filhåndtering, Plotting, Funksjoner, Strenghåndtering|![img](https://www.ntnu.no/wiki/s/no_NO/7901/0b59262db6a7cd3dbeee6d1b1416b77c01706b36/_/images/icons/emoticons/star_yellow.svg)\n",
    "[Sjakk](Sjakk.ipynb)|Repetisjon, Sammensatte problemer|![img](https://www.ntnu.no/wiki/s/no_NO/7901/0b59262db6a7cd3dbeee6d1b1416b77c01706b36/_/images/icons/emoticons/star_yellow.svg) ![img](https://www.ntnu.no/wiki/s/no_NO/7901/0b59262db6a7cd3dbeee6d1b1416b77c01706b36/_/images/icons/emoticons/star_yellow.svg)"
   ]
  }
 ],
 "metadata": {
  "kernelspec": {
   "display_name": "Python 3",
   "language": "python",
   "name": "python3"
  },
  "language_info": {
   "codemirror_mode": {
    "name": "ipython",
    "version": 3
   },
   "file_extension": ".py",
   "mimetype": "text/x-python",
   "name": "python",
   "nbconvert_exporter": "python",
   "pygments_lexer": "ipython3",
   "version": "3.7.3"
  }
 },
 "nbformat": 4,
 "nbformat_minor": 2
}
