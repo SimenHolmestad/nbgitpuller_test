{
 "cells": [
  {
   "cell_type": "markdown",
   "metadata": {
    "hide_input": true
   },
   "source": [
    "## Oppgave 1 - Teori (25%)"
   ]
  },
  {
   "cell_type": "markdown",
   "metadata": {},
   "source": [
    "Noen av flervalgsoppgavene som ikke var pensum er fjernet. For å få opp alle flervalgsoppgavene, `trykk på denne boksen, pil ned, og så ctrl/cmd+enter`. Merk at dersom du gjør dette igjen etter å startet en besvarelse vil besvarelsen din forsvinne. Dette gjelder kun flervalgsoppgaven. Trykk `Widgets->Save Notebook Widget State` for å lagre flervalgsoppgavene.  Du kan trykke `Cell->All Output->Toggle Scrolling` for å få alle oppgavene i et stort vindu."
   ]
  },
  {
   "cell_type": "code",
   "execution_count": 1,
   "metadata": {
    "hide_input": false,
    "scrolled": true
   },
   "outputs": [
    {
     "name": "stdout",
     "output_type": "stream",
     "text": [
      "\u001b[1m 1)Hva kjennetegner komprimeringsalgoritmer som er tapsløs (lossless)? \u001b[0m\n"
     ]
    },
    {
     "data": {
      "application/vnd.jupyter.widget-view+json": {
       "model_id": "940baa9e0088465683c7c5bf2563e72a",
       "version_major": 2,
       "version_minor": 0
      },
      "text/plain": [
       "RadioButtons(layout=Layout(width='1500px'), options=('a)Den opprinnelige datamengden kan gjenskapes nøyaktig.'…"
      ]
     },
     "metadata": {},
     "output_type": "display_data"
    },
    {
     "data": {
      "application/vnd.jupyter.widget-view+json": {
       "model_id": "799ce5149b644f16807774cb915c274b",
       "version_major": 2,
       "version_minor": 0
      },
      "text/plain": [
       "Output()"
      ]
     },
     "metadata": {},
     "output_type": "display_data"
    },
    {
     "name": "stdout",
     "output_type": "stream",
     "text": [
      "\u001b[1m 2)Hva sier Nyquist-regelen om samplingsfrekvensen? \u001b[0m\n"
     ]
    },
    {
     "data": {
      "application/vnd.jupyter.widget-view+json": {
       "model_id": "6fb75a7ad5f04a0cb72a465d1b8cd4b6",
       "version_major": 2,
       "version_minor": 0
      },
      "text/plain": [
       "RadioButtons(layout=Layout(width='1500px'), options=('a)Samplingsfrekvensen må være minst halvparten av den hø…"
      ]
     },
     "metadata": {},
     "output_type": "display_data"
    },
    {
     "data": {
      "application/vnd.jupyter.widget-view+json": {
       "model_id": "711ab2807fae48b8b91169d4088a5ac6",
       "version_major": 2,
       "version_minor": 0
      },
      "text/plain": [
       "Output()"
      ]
     },
     "metadata": {},
     "output_type": "display_data"
    },
    {
     "name": "stdout",
     "output_type": "stream",
     "text": [
      "\u001b[1m 3)Hva er oppgaven til en programteller (program counter): \u001b[0m\n"
     ]
    },
    {
     "data": {
      "application/vnd.jupyter.widget-view+json": {
       "model_id": "2fc2101f5c6b4715ae685efb4ba172c5",
       "version_major": 2,
       "version_minor": 0
      },
      "text/plain": [
       "RadioButtons(layout=Layout(width='1500px'), options=('a)Den holder rede på antall kodelinjer i et program.', '…"
      ]
     },
     "metadata": {},
     "output_type": "display_data"
    },
    {
     "data": {
      "application/vnd.jupyter.widget-view+json": {
       "model_id": "8bde85aec24b4a97b41f4a0cf8dcdff4",
       "version_major": 2,
       "version_minor": 0
      },
      "text/plain": [
       "Output()"
      ]
     },
     "metadata": {},
     "output_type": "display_data"
    },
    {
     "name": "stdout",
     "output_type": "stream",
     "text": [
      "\u001b[1m 4)Hvor mange symboler kan kodes med 10 bit? \u001b[0m\n"
     ]
    },
    {
     "data": {
      "application/vnd.jupyter.widget-view+json": {
       "model_id": "183e7e8200ff408e99cc0b786032e6d4",
       "version_major": 2,
       "version_minor": 0
      },
      "text/plain": [
       "RadioButtons(layout=Layout(width='1500px'), options=('a)10.', 'b)512.', 'c)1024.', 'd)Ingen.\\n'), value='a)10.…"
      ]
     },
     "metadata": {},
     "output_type": "display_data"
    },
    {
     "data": {
      "application/vnd.jupyter.widget-view+json": {
       "model_id": "1ddbd37b516e4148872d64990368a0b6",
       "version_major": 2,
       "version_minor": 0
      },
      "text/plain": [
       "Output()"
      ]
     },
     "metadata": {},
     "output_type": "display_data"
    },
    {
     "name": "stdout",
     "output_type": "stream",
     "text": [
      "\u001b[1m 6)Hvorfor digitalisere nettverk? \u001b[0m\n"
     ]
    },
    {
     "data": {
      "application/vnd.jupyter.widget-view+json": {
       "model_id": "42fd77afb9ba4c2ebcef1f334cc66d8b",
       "version_major": 2,
       "version_minor": 0
      },
      "text/plain": [
       "RadioButtons(layout=Layout(width='1500px'), options=('a)Ønske om å kombinere tjenester.', 'b)Enklere å utnytte…"
      ]
     },
     "metadata": {},
     "output_type": "display_data"
    },
    {
     "data": {
      "application/vnd.jupyter.widget-view+json": {
       "model_id": "a1a3307a0e75416a9aac56728274c806",
       "version_major": 2,
       "version_minor": 0
      },
      "text/plain": [
       "Output()"
      ]
     },
     "metadata": {},
     "output_type": "display_data"
    },
    {
     "name": "stdout",
     "output_type": "stream",
     "text": [
      "\u001b[1m 7)Hva er et Denial of Service–angrep? \u001b[0m\n"
     ]
    },
    {
     "data": {
      "application/vnd.jupyter.widget-view+json": {
       "model_id": "06d9f10670b244e4b13d3efcd08f723d",
       "version_major": 2,
       "version_minor": 0
      },
      "text/plain": [
       "RadioButtons(layout=Layout(width='1500px'), options=('a)Å sende så mange forespørsler til en tjener (server) a…"
      ]
     },
     "metadata": {},
     "output_type": "display_data"
    },
    {
     "data": {
      "application/vnd.jupyter.widget-view+json": {
       "model_id": "54698fd4f0f64e5a8091a741de4e1a29",
       "version_major": 2,
       "version_minor": 0
      },
      "text/plain": [
       "Output()"
      ]
     },
     "metadata": {},
     "output_type": "display_data"
    },
    {
     "name": "stdout",
     "output_type": "stream",
     "text": [
      "\u001b[1m 8)Hva vil det si at vi at vi har “random access” (tilfeldig tilgang) til minnet? \u001b[0m\n"
     ]
    },
    {
     "data": {
      "application/vnd.jupyter.widget-view+json": {
       "model_id": "409e6316e82f4871813b909413f304de",
       "version_major": 2,
       "version_minor": 0
      },
      "text/plain": [
       "RadioButtons(layout=Layout(width='1500px'), options=('a)Alldatai minnet kan hentes direkteuansett hvor det bef…"
      ]
     },
     "metadata": {},
     "output_type": "display_data"
    },
    {
     "data": {
      "application/vnd.jupyter.widget-view+json": {
       "model_id": "5ba804502166415d91be5990fbb6e01a",
       "version_major": 2,
       "version_minor": 0
      },
      "text/plain": [
       "Output()"
      ]
     },
     "metadata": {},
     "output_type": "display_data"
    },
    {
     "name": "stdout",
     "output_type": "stream",
     "text": [
      "\u001b[1m 9)Hva vil det si at en datamaskin er deterministisk? \u001b[0m\n"
     ]
    },
    {
     "data": {
      "application/vnd.jupyter.widget-view+json": {
       "model_id": "bec854c770f14a34ad27af39dc4d8c43",
       "version_major": 2,
       "version_minor": 0
      },
      "text/plain": [
       "RadioButtons(layout=Layout(width='1500px'), options=('a)Den har en pessimistisk livsanskuelse som avviser fri …"
      ]
     },
     "metadata": {},
     "output_type": "display_data"
    },
    {
     "data": {
      "application/vnd.jupyter.widget-view+json": {
       "model_id": "b94603c41d9f4919b793c937dc42f69b",
       "version_major": 2,
       "version_minor": 0
      },
      "text/plain": [
       "Output()"
      ]
     },
     "metadata": {},
     "output_type": "display_data"
    },
    {
     "name": "stdout",
     "output_type": "stream",
     "text": [
      "\u001b[1m 10)Hvilke av alternativene under er mulige tolkninger av PandA-mønstre? \u001b[0m\n"
     ]
    },
    {
     "data": {
      "application/vnd.jupyter.widget-view+json": {
       "model_id": "1297a2b4b65f49e1b51e3b2d8457868a",
       "version_major": 2,
       "version_minor": 0
      },
      "text/plain": [
       "RadioButtons(layout=Layout(width='1500px'), options=('a)True og False.', 'b)Ja og Nei.', 'c)+ og –.', 'd)Alle …"
      ]
     },
     "metadata": {},
     "output_type": "display_data"
    },
    {
     "data": {
      "application/vnd.jupyter.widget-view+json": {
       "model_id": "fa2d1e4119c74619acc9df4a56a7c07a",
       "version_major": 2,
       "version_minor": 0
      },
      "text/plain": [
       "Output()"
      ]
     },
     "metadata": {},
     "output_type": "display_data"
    },
    {
     "name": "stdout",
     "output_type": "stream",
     "text": [
      "\u001b[1m 11)Når vi studerer algoritmers effektivitet, ser vi på hvordan kjøretiden utvikler seg i forhold til mengden av input.  Vi gjør analyser av bestefall, verstefall og gjennomsnittstilfellet.  Hvorfor er det spesielt interessant å analysere en algoritmes kjøretid i verste fall? \u001b[0m\n"
     ]
    },
    {
     "data": {
      "application/vnd.jupyter.widget-view+json": {
       "model_id": "bb5c3d02228a4275b33ce074fdad15d3",
       "version_major": 2,
       "version_minor": 0
      },
      "text/plain": [
       "RadioButtons(layout=Layout(width='1500px'), options=('a)Det setter en øvre grense for hvor lang tid det tar å …"
      ]
     },
     "metadata": {},
     "output_type": "display_data"
    },
    {
     "data": {
      "application/vnd.jupyter.widget-view+json": {
       "model_id": "369cd69ba77e43cd99645f95ce757bb6",
       "version_major": 2,
       "version_minor": 0
      },
      "text/plain": [
       "Output()"
      ]
     },
     "metadata": {},
     "output_type": "display_data"
    },
    {
     "name": "stdout",
     "output_type": "stream",
     "text": [
      "\u001b[1m 12)Vi deler inn algoritmer i klasser basert på de funksjoner som beskriver deres utvikling i kjøretid best. Hvilken algoritme er i klassen Θ(log(n)): \u001b[0m\n"
     ]
    },
    {
     "data": {
      "application/vnd.jupyter.widget-view+json": {
       "model_id": "7cf47fb4d1fd46538c031aca91f6c50d",
       "version_major": 2,
       "version_minor": 0
      },
      "text/plain": [
       "RadioButtons(layout=Layout(width='1500px'), options=('a)Innstikksortering (Insertion sort).', 'b)Binærsøk (bin…"
      ]
     },
     "metadata": {},
     "output_type": "display_data"
    },
    {
     "data": {
      "application/vnd.jupyter.widget-view+json": {
       "model_id": "ac8ae309dacc4a0ea06cc0d2b6493337",
       "version_major": 2,
       "version_minor": 0
      },
      "text/plain": [
       "Output()"
      ]
     },
     "metadata": {},
     "output_type": "display_data"
    },
    {
     "name": "stdout",
     "output_type": "stream",
     "text": [
      "\u001b[1m 13)Hva er et datagram? \u001b[0m\n"
     ]
    },
    {
     "data": {
      "application/vnd.jupyter.widget-view+json": {
       "model_id": "475c80ffcc134be2a88abda90de9763c",
       "version_major": 2,
       "version_minor": 0
      },
      "text/plain": [
       "RadioButtons(layout=Layout(width='1500px'), options=('a)Et telegram som er skrevet på data.', 'b)Vekten på en …"
      ]
     },
     "metadata": {},
     "output_type": "display_data"
    },
    {
     "data": {
      "application/vnd.jupyter.widget-view+json": {
       "model_id": "34ddf708fa2446cb93e772a46c1beb56",
       "version_major": 2,
       "version_minor": 0
      },
      "text/plain": [
       "Output()"
      ]
     },
     "metadata": {},
     "output_type": "display_data"
    },
    {
     "name": "stdout",
     "output_type": "stream",
     "text": [
      "\u001b[1m 14)Fargene som vises på en dataskjerm representeres oftemed 24 bits RGB-koding. Fargen blå vil da representeres som: \u001b[0m\n"
     ]
    },
    {
     "data": {
      "application/vnd.jupyter.widget-view+json": {
       "model_id": "4ed6ab8805e94aaa8745a76f2911d9cd",
       "version_major": 2,
       "version_minor": 0
      },
      "text/plain": [
       "RadioButtons(layout=Layout(width='1500px'), options=('a)0000 0000 0000 0000 0000 0000.', 'b)1111 1111 0000 000…"
      ]
     },
     "metadata": {},
     "output_type": "display_data"
    },
    {
     "data": {
      "application/vnd.jupyter.widget-view+json": {
       "model_id": "e1af55e0d90a40abb38c69f137daac4c",
       "version_major": 2,
       "version_minor": 0
      },
      "text/plain": [
       "Output()"
      ]
     },
     "metadata": {},
     "output_type": "display_data"
    },
    {
     "name": "stdout",
     "output_type": "stream",
     "text": [
      "\u001b[1m 15)Når vi overfører data over internett oppstår det ofte feil på grunn av forstyrrelser på linjene. For å oppdage slike feil brukes ofte  \u001b[0m\n"
     ]
    },
    {
     "data": {
      "application/vnd.jupyter.widget-view+json": {
       "model_id": "546f96d690684be7b587af0ace9535fc",
       "version_major": 2,
       "version_minor": 0
      },
      "text/plain": [
       "RadioButtons(layout=Layout(width='1500px'), options=('a)NIC (Network Interface Card).', 'b)ISP (Internet Servi…"
      ]
     },
     "metadata": {},
     "output_type": "display_data"
    },
    {
     "data": {
      "application/vnd.jupyter.widget-view+json": {
       "model_id": "56957d8caeb14b17a95711784039a5e6",
       "version_major": 2,
       "version_minor": 0
      },
      "text/plain": [
       "Output()"
      ]
     },
     "metadata": {},
     "output_type": "display_data"
    },
    {
     "name": "stdout",
     "output_type": "stream",
     "text": [
      "\u001b[1m 16)En mikroprosessor utfører de samme femoppgavene om og om igjen. Hvilken rekkefølge av stegeneunder beskriver korrektrekkefølge på dette F/E-kretsløpet (F/E cycle)? \u001b[0m\n"
     ]
    },
    {
     "data": {
      "application/vnd.jupyter.widget-view+json": {
       "model_id": "f93d34cd282d4180ae94c73aeb1de5e6",
       "version_major": 2,
       "version_minor": 0
      },
      "text/plain": [
       "RadioButtons(layout=Layout(width='1500px'), options=('a)Information Fetch –Data Fetch –Instruction Decode –Ins…"
      ]
     },
     "metadata": {},
     "output_type": "display_data"
    },
    {
     "data": {
      "application/vnd.jupyter.widget-view+json": {
       "model_id": "34fe2f1a85914c20ac27c31dc6f5ee3e",
       "version_major": 2,
       "version_minor": 0
      },
      "text/plain": [
       "Output()"
      ]
     },
     "metadata": {},
     "output_type": "display_data"
    },
    {
     "name": "stdout",
     "output_type": "stream",
     "text": [
      "\u001b[1m 18)Hva er DAC? \u001b[0m\n"
     ]
    },
    {
     "data": {
      "application/vnd.jupyter.widget-view+json": {
       "model_id": "eb78951f31ec4c048940dc48c31b1678",
       "version_major": 2,
       "version_minor": 0
      },
      "text/plain": [
       "RadioButtons(layout=Layout(width='1500px'), options=('a)Et program som hjelper med beregninger (data-assisted …"
      ]
     },
     "metadata": {},
     "output_type": "display_data"
    },
    {
     "data": {
      "application/vnd.jupyter.widget-view+json": {
       "model_id": "f9754afc3a1941879e3a1e9b431eac43",
       "version_major": 2,
       "version_minor": 0
      },
      "text/plain": [
       "Output()"
      ]
     },
     "metadata": {},
     "output_type": "display_data"
    },
    {
     "name": "stdout",
     "output_type": "stream",
     "text": [
      "\u001b[1m 19)Rekursjon betyr at  \u001b[0m\n"
     ]
    },
    {
     "data": {
      "application/vnd.jupyter.widget-view+json": {
       "model_id": "11892eb9104540deb6af58b7964446cc",
       "version_major": 2,
       "version_minor": 0
      },
      "text/plain": [
       "RadioButtons(layout=Layout(width='1500px'), options=('a)En funksjon kaller seg selv.', 'b)Kjøretiden til progr…"
      ]
     },
     "metadata": {},
     "output_type": "display_data"
    },
    {
     "data": {
      "application/vnd.jupyter.widget-view+json": {
       "model_id": "7f3b01331e67496fa7242008cb8bf1cd",
       "version_major": 2,
       "version_minor": 0
      },
      "text/plain": [
       "Output()"
      ]
     },
     "metadata": {},
     "output_type": "display_data"
    },
    {
     "name": "stdout",
     "output_type": "stream",
     "text": [
      "\u001b[1m 20)Ranger effektivitetsklassene Θ(n3), Θ(n), Θ(log(n))og Θ(n2) etter effektivitet, der minst effektiv først og deretter mer og mer effektiv  \u001b[0m\n"
     ]
    },
    {
     "data": {
      "application/vnd.jupyter.widget-view+json": {
       "model_id": "b50ad75778f9463684b4ca80c8ed3f92",
       "version_major": 2,
       "version_minor": 0
      },
      "text/plain": [
       "RadioButtons(layout=Layout(width='1500px'), options=('a)Θ(n3), Θ(n2), Θ(n), Θ(log(n)).', 'b)Θ(n3), Θ(n), Θ(n2)…"
      ]
     },
     "metadata": {},
     "output_type": "display_data"
    },
    {
     "data": {
      "application/vnd.jupyter.widget-view+json": {
       "model_id": "c05a9051feba411796e1593a47d49bfa",
       "version_major": 2,
       "version_minor": 0
      },
      "text/plain": [
       "Output()"
      ]
     },
     "metadata": {},
     "output_type": "display_data"
    },
    {
     "data": {
      "application/vnd.jupyter.widget-view+json": {
       "model_id": "22dfa62395684267af5d3af7e52e173c",
       "version_major": 2,
       "version_minor": 0
      },
      "text/plain": [
       "Button(description='Lagre svar', style=ButtonStyle())"
      ]
     },
     "metadata": {},
     "output_type": "display_data"
    },
    {
     "name": "stdout",
     "output_type": "stream",
     "text": [
      "['a)Den opprinnelige datamengden kan gjenskapes nøyaktig.', 'a)Samplingsfrekvensen må være minst halvparten av den høyeste lydfrekvensen.', 'a)Den holder rede på antall kodelinjer i et program.', 'a)10.', 'a)Ønske om å kombinere tjenester.', 'a)Å sende så mange forespørsler til en tjener (server) at den ikke klarer å utføre oppgavene sine.', 'a)Alldatai minnet kan hentes direkteuansett hvor det befinner seg.', 'a)Den har en pessimistisk livsanskuelse som avviser fri vilje.', 'a)True og False.', 'a)Det setter en øvre grense for hvor lang tid det tar å kjøre algoritmen.', 'a)Innstikksortering (Insertion sort).', 'a)Et telegram som er skrevet på data.', 'a)0000 0000 0000 0000 0000 0000.', 'a)NIC (Network Interface Card).', 'a)Information Fetch –Data Fetch –Instruction Decode –Instruction Execution –Results Return.', 'a)Et program som hjelper med beregninger (data-assisted computing).', 'a)En funksjon kaller seg selv.', 'a)Θ(n3), Θ(n2), Θ(n), Θ(log(n)).']\n"
     ]
    }
   ],
   "source": [
    "import os\n",
    "import sys\n",
    "module_path = os.path.abspath(os.path.join('../..'))\n",
    "if module_path not in sys.path:\n",
    "    sys.path.append(module_path)\n",
    "    \n",
    "from Resources.mc_generator import *\n",
    "\n",
    "generate_multiple_no_answer('eksamen2012teori.txt')"
   ]
  },
  {
   "cell_type": "markdown",
   "metadata": {},
   "source": [
    "## Oppgave 2 -  Grunnleggende programmering (20%)"
   ]
  },
  {
   "cell_type": "markdown",
   "metadata": {},
   "source": [
    "***I denne versjonen har vi fjernet fjervalgsoppgavene som til vanlig teller 25% av eksamen. Topp prosentscore er da altså 75%.***\n",
    "\n",
    "Du kan anta at alle fuksjonene mottar gyldige input-verdier."
   ]
  },
  {
   "cell_type": "markdown",
   "metadata": {},
   "source": [
    "### Oppgave 2 a) (5%)"
   ]
  },
  {
   "cell_type": "markdown",
   "metadata": {},
   "source": [
    "Lag funksjonen **summerOlympics** som har inn-parametere **firstYear** og **lastYear**. Funksjonen skal returnere variabelen **years**,som er ei list emed alle OL-årene fra og med **firstYear** til og med **lastYear** (inkludert framtidige planlagte år for sommer-OL). Fra og med OL i London i 1948,har sommer-OL vært arrangert hvert fjerde år. Du kan anta at **firstYear** ≥ 1948.\n",
    "\n",
    "Eksempel på kjøring av funksjonen og hva den returnerer:\n",
    "\n",
    ">```python\n",
    ">>>years = summerOlympics(1999,2012)\n",
    ">>> years\n",
    "[2000, 2004, 2008, 2012]\n",
    ">>>```"
   ]
  },
  {
   "cell_type": "code",
   "execution_count": null,
   "metadata": {
    "scrolled": false
   },
   "outputs": [],
   "source": [
    "#skriv koden din her"
   ]
  },
  {
   "cell_type": "markdown",
   "metadata": {},
   "source": [
    "### Oppgave 2b) (7.5%)"
   ]
  },
  {
   "cell_type": "markdown",
   "metadata": {},
   "source": [
    "Lag funksjonen **`findAge`** som har inn-parametere **bYear**, **bMonth**, **bDay** som er tre heltall som beskriver dato for en fødselsdag. Funksjonen skal returnere **age** som beskriver hvor gammel en person med oppgitt fødselsdag (**bYear**, **bMonth** og **bDay**) er i dag angitt i hele år.\n",
    "\n",
    "For å finne år, måned og dag for i dag ***skal du bruke*** en eksisterende funksjon som heter `current_date()`.Funksjonen returnerer tre heltall på formatet **(yyyy,mm,dd)**. \n",
    "\n",
    "Eksempel på bruk av funksjonen **current_date**:  \n",
    "`(yyyy,mm,dd)= current_date()` gir i dag yyyy=2012,mm=12, dd=11.\n",
    "\n",
    "Eksempel på kjøring av funksjonen **`findAge`** og hva den returnerer:\n",
    "\n",
    ">```python\n",
    ">>>> age = findAge(2000,12,15)\n",
    ">>>> age\n",
    "11\n",
    ">>>>\n",
    "```"
   ]
  },
  {
   "cell_type": "code",
   "execution_count": null,
   "metadata": {
    "ExecuteTime": {
     "end_time": "2019-07-05T10:58:13.647340Z",
     "start_time": "2019-07-05T10:58:13.641077Z"
    },
    "scrolled": false
   },
   "outputs": [],
   "source": [
    "from datetime import datetime\n",
    "def current_date():\n",
    "    yyyy = int(datetime.today().strftime('%Y'))\n",
    "    mm = int(datetime.today().strftime('%m'))\n",
    "    dd = int(datetime.today().strftime('%d'))\n",
    "    return yyyy,mm,dd"
   ]
  },
  {
   "cell_type": "code",
   "execution_count": null,
   "metadata": {
    "scrolled": false
   },
   "outputs": [],
   "source": [
    "#skriv koden din her"
   ]
  },
  {
   "cell_type": "markdown",
   "metadata": {},
   "source": [
    "### Oppgave 2c) (7.5 %)"
   ]
  },
  {
   "cell_type": "markdown",
   "metadata": {},
   "source": [
    "Lag en funksjon **`printAgeDiff`** som tar en parameter **table**,som er en to-dimensjonal tabell (liste av lister) der hver rekke beskriver personer med fornavn, etternavn, fødselsår, fødselsmåned og fødselsdato. Funksjonen skal bruke funksjonen **`findAge`** fra oppgave 2b til å sammenlikne alderen i hele år på etterfølgende personer i tabellen (rekke for rekke) og gjøre følgende:\n",
    "\n",
    "* Hvis person n og person n+1 har samme alder angitt i antall hele år, skal følgende skrives ut til skjerm:  \n",
    "``<fornavnn> <etternavnn> is at the same age as <fornavnn+1> <etternavnn+1>``\n",
    "* Hvis person n er eldre enn person n+1 angitt i antall hele år, skal følgende skrives ut til skjerm:  \n",
    "``<fornavnn> <etternavnn> is older than <fornavnn+1> <etternavn n+1>``\n",
    "* Hvis person n er yngre enn person n+1 angitt i antall hele år, skal følgende skrives ut til skjerm:  \n",
    "``<fornavnn> <etternavnn> is younger than <fornavnn+1> <etternavnn+1>``\n",
    "\n",
    "Eksempel på en to-dimensjonal tabell som beskriver fire kjente personer:"
   ]
  },
  {
   "cell_type": "code",
   "execution_count": null,
   "metadata": {
    "scrolled": false
   },
   "outputs": [],
   "source": [
    "table=[['Justin','Bieber',1994,3,1],\n",
    "       ['Donald','Duck',1934,8,1],\n",
    "       ['George','Clooney',1961,5,6],\n",
    "       ['Eddie','Murphy',1961,4,3]]"
   ]
  },
  {
   "cell_type": "markdown",
   "metadata": {},
   "source": [
    "Eksempel på kjøring av funksjonen **`printAgeDiff`** med tabellen **table**, som inneholder listene for bieber, donald, george og eddie:\n",
    "\n",
    ">```python\n",
    ">>>>printAgeDiff(table)\n",
    "Justin Bieber is younger than Donald Duck\n",
    "Donald Duck is older than George Clooney\n",
    "George Clooney is at the same age as Eddie Murphy\n",
    ">>>>```"
   ]
  },
  {
   "cell_type": "code",
   "execution_count": null,
   "metadata": {
    "scrolled": false
   },
   "outputs": [],
   "source": [
    "#skriv koden din her"
   ]
  },
  {
   "cell_type": "markdown",
   "metadata": {},
   "source": [
    "## Oppgave 3 - Kodeforståelse (15%)"
   ]
  },
  {
   "cell_type": "markdown",
   "metadata": {},
   "source": [
    "### Oppgave 3a) (5%)"
   ]
  },
  {
   "cell_type": "markdown",
   "metadata": {},
   "source": [
    "Hva returneres hvis funksjonen `fu1(1234)`med kode som vist under kjøres?\n",
    "\n",
    ">```python\n",
    "def fu1(a):\n",
    "    r = 0\n",
    "    while(a>0):\n",
    "        s = a%10\n",
    "        r = r + s\n",
    "        a = (a-s)/10\n",
    "return r```"
   ]
  },
  {
   "cell_type": "markdown",
   "metadata": {},
   "source": [
    "Svar: <dobbeltklikk for å svare>"
   ]
  },
  {
   "cell_type": "markdown",
   "metadata": {},
   "source": [
    "### Oppgave 3b) (5%)"
   ]
  },
  {
   "cell_type": "markdown",
   "metadata": {},
   "source": [
    "Hva blir verdiene til a,b,c og d etter kallet  \n",
    "`(a, b, c, d) = fu2(’Ut pa tur, aldri sur’)`  \n",
    "med koden som vist under?\n",
    "\n",
    ">```python\n",
    "    def fu2(input):\n",
    "    r = 0\n",
    "    s = 0\n",
    "    t = 0\n",
    "    u = 0\n",
    "    n = len(input)\n",
    "    for c in input:\n",
    "        if(c.isalpha()):\n",
    "            r = r + 1\n",
    "        elif(c.isdigit()):\n",
    "            s = s + 1\n",
    "        elif(c==' '):\n",
    "            t = t + 1\n",
    "        else:\n",
    "            u = u + 1\n",
    "    r = 100*r/n\n",
    "    s = 100*s/n\n",
    "    t = 100*t/n\n",
    "    u = 100*u/n\n",
    "    return(r,s,t,u)\n",
    "    ```"
   ]
  },
  {
   "cell_type": "markdown",
   "metadata": {},
   "source": [
    "Svar: <dobbeltklikk for å svare>"
   ]
  },
  {
   "cell_type": "markdown",
   "metadata": {},
   "source": [
    "### Oppgave 3c) (5%)"
   ]
  },
  {
   "cell_type": "markdown",
   "metadata": {},
   "source": [
    "Hva returneres av kallet `fu3(100)`med koden som vist under?\n",
    ">```python\n",
    "def fu3(a):\n",
    "    if(a<=2):\n",
    "        r = 1\n",
    "    else:\n",
    "        r = 1 + fu3(a/2)\n",
    "    return r\n",
    "    ```"
   ]
  },
  {
   "cell_type": "markdown",
   "metadata": {},
   "source": [
    "Svar: <dobbeltklikk for å svare>"
   ]
  },
  {
   "cell_type": "markdown",
   "metadata": {},
   "source": [
    "## Oppgave 4 - Programmering (40%)"
   ]
  },
  {
   "cell_type": "markdown",
   "metadata": {},
   "source": [
    "Denne oppgaven fokuserer på behandling av data fra fire vær sensorer som måler en verdi per døgn av følgende data:\n",
    "\n",
    "* Temperatur: Angis som heltall i Celsius fra -50C til + 50C\n",
    "* Nedbør: Angis som heltall i mm nedbør per døgn fra 0 til 2000mm\n",
    "* Luftfuktighet. Angis som heltall fra 0 til 100%\n",
    "* Vindstyrke: Angis som heltall fra 0 til 50 meter per sekund\n",
    "\n",
    "Hvis ikke noe annet er oppgitt kan du anta korrekt input til funksjonene."
   ]
  },
  {
   "cell_type": "markdown",
   "metadata": {},
   "source": [
    "### Oppgave 4a) (5%)"
   ]
  },
  {
   "cell_type": "markdown",
   "metadata": {},
   "source": [
    "Lag en funksjon **`cold_days`** som tar imot parameteren **templist**, som en liste av temperaturer, og returnerer variabelen **days**,som angir antall døgn der temperaturen var under 0 grader.\n",
    "\n",
    "Eksempel på kall av funksjonen og hva den returnerer:\n",
    ">```python\n",
    ">>>> days = cold_days([1,-5,3,0,-6,-3,15,0])\n",
    ">>>> days\n",
    "3\n",
    ">>>>\n",
    "```"
   ]
  },
  {
   "cell_type": "code",
   "execution_count": null,
   "metadata": {
    "scrolled": false
   },
   "outputs": [],
   "source": [
    "#skriv koden din her"
   ]
  },
  {
   "cell_type": "markdown",
   "metadata": {},
   "source": [
    "### Oppgave 4 b) (5 %)"
   ]
  },
  {
   "cell_type": "markdown",
   "metadata": {},
   "source": [
    "Lag en funksjon **`cap_data`** som har inn-parameterne **array** (liste med data), **min_value** (minimumsverdi) og **max_value** (maksimumsverdi). Funksjonen skal returnere ei ny liste **result** der alle elementer i lista **array** som har verdi mindre enn **min_value** skal settes lik **min_value** og alle elementer i lista **array** som har verdi høyere enn **max_value** skal settes lik **max_value**.\n",
    "\n",
    "Eksempel på kall av funksjonen og hva den returnerer:\n",
    ">```python\n",
    ">>>A=[-70,30,0,90,23,-12,95,12]\n",
    ">>>result = cap_data(A,-50,50)\n",
    ">>> result\n",
    "[-50,30,0,50,23,-12,50,12]\n",
    ">>>```\n",
    "\n",
    "Legg merke til hvilke verdier som endres."
   ]
  },
  {
   "cell_type": "code",
   "execution_count": null,
   "metadata": {
    "scrolled": false
   },
   "outputs": [],
   "source": [
    "#skriv koden din her"
   ]
  },
  {
   "cell_type": "markdown",
   "metadata": {},
   "source": [
    "### Oppgave 4c) (10%)"
   ]
  },
  {
   "cell_type": "markdown",
   "metadata": {},
   "source": [
    "Lag en funksjon **`generate_testdatasom`** har inn-parameterne **N**, **min_value** (minimumsverdi)og **max_value** (maksimumsverdi). Funksjonen skal returnere tabellen **result** som består av **N** unike *tall* (heltall) som blir trukket tilfeldig der {**min_value** ≤ *tall* ≤ **max_value**}. Unik betyr her at ingen elementer i tabellen **result** skal ha samme verdi. Du kan anta at antall mulige verdier i intervallet tallet blir trukket fra alltid vil være større enn **N**.\n",
    "\n",
    "Eksempel på kall av funksjonen og hva den returnerer:\n",
    ">```python\n",
    ">>>> result = generate_testdata(10,-5,10)\n",
    ">>>> result\n",
    "[-5,3,7,9,-3,4,2,0,-1,5]\n",
    ">>>>```"
   ]
  },
  {
   "cell_type": "code",
   "execution_count": null,
   "metadata": {
    "scrolled": false
   },
   "outputs": [],
   "source": [
    "#skriv koden din her"
   ]
  },
  {
   "cell_type": "markdown",
   "metadata": {},
   "source": [
    "### Oppgave 4d) (5%)"
   ]
  },
  {
   "cell_type": "markdown",
   "metadata": {},
   "source": [
    "Lag en funksjon **`create_db`** som har inn-parameterne **temp**, **rain**, **humidity** og **wind**,som er fire tabeller av samme størrelse (likt antall elementer) med data for temperatur, nedbør, luftfuktighet og vind.\n",
    "\n",
    "Funksjonen skal lage og returnere *dictionarien* **weather**,der nøkkelen er ett heltall som starter med verdien 1 og teller oppover (representerer dagen for måling). Hvert innslag i *dictionarien* skal være en liste av verdier for temperatur, nedbør, luftfuktighet og vind. Verdiene for **weather** med nøkkel 1 skal inneholde værdata for dag 1, **weather** med nøkkel2 skal inneholde værdata for dag 2 og så videre.\n",
    "\n",
    "Eksempel på kall av funksjonen og hva den returnerer:\n",
    ">```python\n",
    ">>>> temp = [1,5,3]\n",
    ">>>> rain = [0,30,120]\n",
    ">>>> humidity = [30,50,65]\n",
    ">>>> wind = [3,5,7]\n",
    ">>>> weather = create_db(temp,rain,humidity,wind)\n",
    ">>>> weather\n",
    "{1: [1, 0, 30, 3], 2: [5, 30, 50, 5], 3: [3, 120, 65, 7]}\n",
    ">>>>\n",
    "``` "
   ]
  },
  {
   "cell_type": "code",
   "execution_count": null,
   "metadata": {
    "scrolled": false
   },
   "outputs": [],
   "source": [
    "#skriv koden din her"
   ]
  },
  {
   "cell_type": "markdown",
   "metadata": {},
   "source": [
    "### Oppgave 4e) (5%)"
   ]
  },
  {
   "cell_type": "markdown",
   "metadata": {},
   "source": [
    "Lag en funksjon **`print_db`** som har inn-parameteren **weather**,som er en dictionary som beskrevet i oppgave 4d. Funksjonen skal skrive ut innholdet i **weather** på skjerm etter følgende format og med overskrift som vist på utskriften nederst i deloppgaven:\n",
    "* Day(dag) –høyrejustert med 4 tegn\n",
    "* Temp (temperatur)–høyrejustert med 6 tegn\n",
    "* Rain (nedbør)–høyrejustert med 6 tegn\n",
    "* Humidity (luftfuktighet)–høyrejustert med 10 tegn\n",
    "* Wind (vind)–høyrejustert med 6 tegn\n",
    "\n",
    "Eksempel på kall av funksjonen ved bruk av dictionarien fra oppgave 4d:\n",
    ">```p\n",
    ">>>> print_db(weather)\n",
    "Day | Temp | rain | humidity | wind\n",
    "====+======+======+==========+======\n",
    "   1      1      0         30      5\n",
    "   2      5     30         50      3\n",
    "   3      3    120         65      7\n",
    ">>>>\n",
    "```"
   ]
  },
  {
   "cell_type": "code",
   "execution_count": null,
   "metadata": {
    "scrolled": false
   },
   "outputs": [],
   "source": [
    "#skriv koden din her"
   ]
  },
  {
   "cell_type": "markdown",
   "metadata": {},
   "source": [
    "### Oppgave 4f) (10%)"
   ]
  },
  {
   "cell_type": "markdown",
   "metadata": {},
   "source": [
    "Lag funksjonen **`strange_weather`** som har inn-parameterne **temp** og **rain**,som er to tabeller med data for temperaturer og regn av lik størrelse (samme antall elementer). Funksjonen skal returnere **start** (startdag)og **stop** (sluttdag)for det lengste intervallet der det er minusgrader, samt at temperaturen faller samtidig som nedbørsmengden stiger i etterfølgende dager. Indekseringen av dager starter på 1. Hvis ingen etterfølgende dager har denne karakteristikken, returneres (0,0).\n",
    "\n",
    "Eksempel på kall av funksjonen(med intervall som oppfyller kravet uthevet):\n",
    ">```python\n",
    ">>>> temp=[1,3, 4,-5,-6,-7,-8,-9,3,0]\n",
    ">>>> rain=[0,20,30,0,10,30,50,0,5,2]\n",
    ">>>> (start, stop) = strange_weather(temp,rain)\n",
    ">>>> start\n",
    "4\n",
    ">>>> stop\n",
    "7\n",
    ">>>>\n",
    "```"
   ]
  },
  {
   "cell_type": "code",
   "execution_count": null,
   "metadata": {
    "ExecuteTime": {
     "end_time": "2019-07-05T12:00:04.448245Z",
     "start_time": "2019-07-05T12:00:04.442468Z"
    },
    "scrolled": false
   },
   "outputs": [],
   "source": [
    "#skriv koden din her"
   ]
  }
 ],
 "metadata": {
  "kernelspec": {
   "display_name": "Python 3",
   "language": "python",
   "name": "python3"
  },
  "language_info": {
   "codemirror_mode": {
    "name": "ipython",
    "version": 3
   },
   "file_extension": ".py",
   "mimetype": "text/x-python",
   "name": "python",
   "nbconvert_exporter": "python",
   "pygments_lexer": "ipython3",
   "version": "3.7.3"
  },
  "toc": {
   "base_numbering": 1,
   "nav_menu": {},
   "number_sections": false,
   "sideBar": true,
   "skip_h1_title": false,
   "title_cell": "Table of Contents",
   "title_sidebar": "Contents",
   "toc_cell": false,
   "toc_position": {},
   "toc_section_display": true,
   "toc_window_display": false
  }
 },
 "nbformat": 4,
 "nbformat_minor": 2
}
