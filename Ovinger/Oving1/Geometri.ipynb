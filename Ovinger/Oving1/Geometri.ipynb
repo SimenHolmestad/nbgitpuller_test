{
 "cells": [
  {
   "cell_type": "markdown",
   "metadata": {},
   "source": [
    "<nav class=\"navbar navbar-default\">\n",
    "  <div class=\"container-fluid\">\n",
    "    <div class=\"navbar-header\">\n",
    "      <a class=\"navbar-brand\" href=\"_Oving1.ipynb\">Øving 1</a>\n",
    "    </div>\n",
    "    <ul class=\"nav navbar-nav\">\n",
    "      <li ><a href=\"Jeg%20elsker%20ITGK!.ipynb\">Jeg elsker ITGK!</a></li>\n",
    "    <li ><a href=\"Kalkulasjoner.ipynb\">Kalkulasjoner</a></li>\n",
    "    <li><a href=\"Input%20og%20variable.ipynb\">Input og variable</a></li>\n",
    "    <li><a href=\"Tallkonvertering.ipynb\">Tallkonvertering</a></li>\n",
    "    <li ><a href=\"Peppes%20Pizza.ipynb\">Peppes Pizza</a></li>\n",
    "    <li class=\"active\"><a href=\"Geometri.ipynb\">Geometri</a></li>\n",
    "    <li><a href=\"Vitenskapelig%20notasjon.ipynb\">Vitenskapelig notasjon</a></li>\n",
    "    <li><a href=\"Tetraeder.ipynb\">Tetraeder</a></li>\n",
    "    <li><a href=\"Bakekurs.ipynb\">Bakekurs</a></li>\n",
    "    <li ><a href=\"James%20Bond%20and%20Operation%20round().ipynb\">James Bond and Operation Round</a></li>\n",
    "    </ul>\n",
    "  </div>\n",
    "</nav>\n",
    "\n",
    "# Geometri\n",
    "\n",
    "**Læringsmål:**\n",
    "\n",
    "* Forstå at kode må være feilfri for å kjøre, og rette enkle syntaksfeil\n",
    "\n",
    "* Debugging\n",
    "\n",
    "**Starting Out with Python:**\n",
    "\n",
    "* Kap. 2\n",
    "\n",
    "I denne oppgaven skal vi rette feil i koden og endre utskriftsformat.\n",
    "\n",
    "Norsklæreren din kunne utmerket godt lest en stil og forstått den på tross av noen småfeil, og til og med gitt god karakter hvis innholdet forøvrig var bra. Datamaskinen er ikke like tilgivende: I et Python-program må alt være pinlig nøyaktig, en enkelt skrivefeil kan være nok til at programmet slett ikke kjører."
   ]
  },
  {
   "cell_type": "markdown",
   "metadata": {},
   "source": [
    "## a)"
   ]
  },
  {
   "cell_type": "markdown",
   "metadata": {},
   "source": [
    "Rett alle syntaksfeilene i koden under slik at koden kjører uten problemer. Hver av syntaksfeilene her kan rettes ved å fjerne, legge til eller endre ett enkelt tegn, dvs. det er ikke nødvendig å gjøre større endringer i koden. Ved å kjøre programmet (velg ”Run” i menyen) og se på feilmeldinger vil du få hint om hvor hver enkelt syntaksfeil befinner seg."
   ]
  },
  {
   "cell_type": "code",
   "execution_count": 1,
   "metadata": {
    "ExecuteTime": {
     "end_time": "2019-07-01T11:56:48.846273Z",
     "start_time": "2019-07-01T11:56:48.833816Z"
    }
   },
   "outputs": [
    {
     "ename": "SyntaxError",
     "evalue": "invalid syntax (<ipython-input-1-e640c5fb0db0>, line 4)",
     "output_type": "error",
     "traceback": [
      "\u001b[0;36m  File \u001b[0;32m\"<ipython-input-1-e640c5fb0db0>\"\u001b[0;36m, line \u001b[0;32m4\u001b[0m\n\u001b[0;31m    print(\"Omkretsen er\", omkrets))\u001b[0m\n\u001b[0m                                  ^\u001b[0m\n\u001b[0;31mSyntaxError\u001b[0m\u001b[0;31m:\u001b[0m invalid syntax\n"
     ]
    }
   ],
   "source": [
    "r = 5\n",
    "print(\"Vi har en sirkel med radius\" + r)\n",
    "omkrets = 2 * 3.14 * r\n",
    "print(\"Omkretsen er\", omkrets))\n",
    "areal = 3.14 * radius * * 2\n",
    "print(\"Arealet er\", areal\n",
    "h = 8\n",
    "volum = aral * h\n",
    "Print(\"Sylinder med høyde\", h, \": Volumet er, volum)"
   ]
  },
  {
   "cell_type": "markdown",
   "metadata": {},
   "source": [
    "Når koden fungerer bør du få følgende output:\n",
    "\n",
    ">  \n",
    "```python\n",
    "Vi har en sirkel med radius 5\n",
    "Omkretsen er 31.400000000000002\n",
    "Arealet er 78.5\n",
    "Sylinder med høyde 8 : Volumet er 628.0\n",
    "    ```"
   ]
  },
  {
   "cell_type": "markdown",
   "metadata": {
    "ExecuteTime": {
     "end_time": "2019-07-01T11:57:35.984163Z",
     "start_time": "2019-07-01T11:57:35.979863Z"
    },
    "heading_collapsed": true
   },
   "source": [
    "#### Hint"
   ]
  },
  {
   "cell_type": "markdown",
   "metadata": {
    "hidden": true
   },
   "source": [
    "Tenk på parenteser, fnutter, variabelnavn og (+/,) i kombinasjon av tekst og variabelnavn."
   ]
  },
  {
   "cell_type": "markdown",
   "metadata": {
    "heading_collapsed": true
   },
   "source": [
    "#### Formatering av antall desimaler"
   ]
  },
  {
   "cell_type": "markdown",
   "metadata": {
    "hidden": true
   },
   "source": [
    "At omkretsen får en liten hale med ...002 skyldes at flyttall ikke kan lagres helt nøyaktig i dataens minne. Derfor kan det være ønskelig med kun to desimaler. Det er en innebygd funksjon i Python som tar seg av formatering og den ser slik ut: format(tall, formatering). Tall er tallet som skal konverteres, dvs. omkretsen i eksempelet over, mens formatering går ut på hvordan man ønsker å formere tallet. Et eksempel er format(⅔, ‘.3f’) som gir 0.667. 3-tallet indikerer at det ønskes 3 desimaler."
   ]
  },
  {
   "cell_type": "markdown",
   "metadata": {},
   "source": [
    "## b"
   ]
  },
  {
   "cell_type": "markdown",
   "metadata": {},
   "source": [
    "Endre koden fra a) til å skrive ut omkretsen med kun 2 desimaler. Dvs. at linje to over skal bli endret til Omkretsen er 31.40.\n",
    "\n",
    "Kjøring av oppdatert kode:\n",
    "\n",
    ">  \n",
    "```python\n",
    "Vi har en sirkel med radius 5\n",
    "Omkretsen er 31.40\n",
    "Arealet er 78.5\n",
    "Sylinder med høyde 8 : Volumet er 628.0\n",
    "    ```"
   ]
  },
  {
   "cell_type": "markdown",
   "metadata": {},
   "source": [
    "## c)"
   ]
  },
  {
   "cell_type": "markdown",
   "metadata": {},
   "source": [
    "(frivillig vanskelig oppgave) I oppgave a får omkretsen verdien 31.400...002, hvorfor blir ikke omkretsen sin verdi lik 31.400...000?"
   ]
  },
  {
   "cell_type": "markdown",
   "metadata": {},
   "source": [
    "Dobbelklikk på teksten under og skriv svaret ditt der:"
   ]
  },
  {
   "cell_type": "markdown",
   "metadata": {},
   "source": []
  }
 ],
 "metadata": {
  "kernelspec": {
   "display_name": "Python 3",
   "language": "python",
   "name": "python3"
  },
  "language_info": {
   "codemirror_mode": {
    "name": "ipython",
    "version": 3
   },
   "file_extension": ".py",
   "mimetype": "text/x-python",
   "name": "python",
   "nbconvert_exporter": "python",
   "pygments_lexer": "ipython3",
   "version": "3.6.2"
  },
  "toc": {
   "base_numbering": 1,
   "nav_menu": {},
   "number_sections": false,
   "sideBar": true,
   "skip_h1_title": false,
   "title_cell": "Table of Contents",
   "title_sidebar": "Contents",
   "toc_cell": false,
   "toc_position": {},
   "toc_section_display": true,
   "toc_window_display": false
  }
 },
 "nbformat": 4,
 "nbformat_minor": 2
}
