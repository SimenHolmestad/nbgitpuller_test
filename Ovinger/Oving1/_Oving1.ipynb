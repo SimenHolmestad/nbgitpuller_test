{
 "cells": [
  {
   "cell_type": "markdown",
   "metadata": {},
   "source": [
    "# Øving 1\n",
    "\n",
    "## Læringsmål:\n",
    "\n",
    "* Kunne bruke vanlige regneoperatorer i Python: addisjon + , subtraksjon – , multiplikasjon * , divisjon / , heltallsdivisjon '// , modulo % og potens **\n",
    "* Forstå forskjellen på de fire elementære datatypene: heltall (int), flyttall (float), tekststrenger (str) og sannhetsverdier (boolean)\n",
    "* Skjønne hvordan regneoperatorene virker for de ulike datatypene\n",
    "* Kunne bruke vitenskapelig notasjon for spesielt små og spesielt store flyttall\n",
    "* Forstå at kode må være uten feil for å kjøre, og kunne rette enkle syntaksfeil\n",
    "* Forstå hvorfor og hvordan vi bruker variable i programmering, og at variabeltilordning ikke er det samme som matematisk likhet\n",
    "* Kunne skrive ut til skjerm og lese inn data fra brukeren via tastaturet med standardfunksjonene print() og input()\n",
    "* Kunne utføre enkel konvertering mellom datatyper med standardfunksjoner som int() og float()\n",
    "\n",
    "## Starting Out with Python:\n",
    "\n",
    "* Kap. 2: Input, Processing, and Output\n",
    "\n",
    "## Før du starter\n",
    "\n",
    "Før du starter med å bruke jupyter (dette verktøyet) anbefales det på det sterkeste at du leser guiden [Intro til jupyter](Intro%20til%20jupyter.ipynb)\n",
    " \n",
    "\n",
    "## Godkjenning:\n",
    "\n",
    "For å få godkjent øvingen må du gjøre  **4** av 10 andre oppgaver. (Oppgaver som er ekstra vanskelig er markert med stjerne.)\n",
    "\n",
    "Alle oppgavene skal demonstreres til en læringsassistent på sal. I oppgaver der du skriver programkode skal også denne vises fram. Lykke til!\n",
    "\n",
    "\n",
    "Oppgave | Tema | Vanskelighetsgrad\n",
    "--- | --- | ---\n",
    "[Jeg elsker ITGK!](Jeg%20elsker%20ITGK!.ipynb) | Output | \n",
    "[Kalkulasjoner](Kalkulasjoner.ipynb)|Matteoperasjoner|\n",
    "[Input og variable](Input%20og%20variable.ipynb)|Input/output og variabler|\n",
    "[Tallkonvertering](Tallkonvertering.ipynb)|Konvertering|\n",
    "[Peppes pizza](Peppes%20Pizza.ipynb)|Matteoperasjoner|\n",
    "[Geometri](Geometri.ipynb)|Debugging\n",
    "[Vitenskapelig notasjon](Vitenskapelig%20notasjon.ipynb)|konvertering|![img](https://www.ntnu.no/wiki/s/no_NO/7901/0b59262db6a7cd3dbeee6d1b1416b77c01706b36/_/images/icons/emoticons/star_yellow.svg)\n",
    "[Tetraeder](Tetraeder.ipynb)|innebygde funksjoner|![img](https://www.ntnu.no/wiki/s/no_NO/7901/0b59262db6a7cd3dbeee6d1b1416b77c01706b36/_/images/icons/emoticons/star_yellow.svg)\n",
    "[Bakekurs](Bakekurs.ipynb)|Formatering|![img](https://www.ntnu.no/wiki/s/no_NO/7901/0b59262db6a7cd3dbeee6d1b1416b77c01706b36/_/images/icons/emoticons/star_yellow.svg)\n",
    "[James Bond and Operation round](James%20Bond%20and%20Operation%20round().ipynb)|Strenger, avrunding, heltallsdivisjon, modulo|![img](https://www.ntnu.no/wiki/s/no_NO/7901/0b59262db6a7cd3dbeee6d1b1416b77c01706b36/_/images/icons/emoticons/star_yellow.svg) ![img](https://www.ntnu.no/wiki/s/no_NO/7901/0b59262db6a7cd3dbeee6d1b1416b77c01706b36/_/images/icons/emoticons/star_yellow.svg)"
   ]
  }
 ],
 "metadata": {
  "kernelspec": {
   "display_name": "Python 3",
   "language": "python",
   "name": "python3"
  },
  "language_info": {
   "codemirror_mode": {
    "name": "ipython",
    "version": 3
   },
   "file_extension": ".py",
   "mimetype": "text/x-python",
   "name": "python",
   "nbconvert_exporter": "python",
   "pygments_lexer": "ipython3",
   "version": "3.7.3"
  },
  "toc": {
   "base_numbering": 1,
   "nav_menu": {},
   "number_sections": false,
   "sideBar": true,
   "skip_h1_title": false,
   "title_cell": "Table of Contents",
   "title_sidebar": "Contents",
   "toc_cell": false,
   "toc_position": {},
   "toc_section_display": true,
   "toc_window_display": false
  }
 },
 "nbformat": 4,
 "nbformat_minor": 2
}
