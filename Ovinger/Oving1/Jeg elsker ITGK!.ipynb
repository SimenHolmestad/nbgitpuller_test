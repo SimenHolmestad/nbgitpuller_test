{
 "cells": [
  {
   "cell_type": "markdown",
   "metadata": {
    "solution": "hidden"
   },
   "source": [
    "<nav class=\"navbar navbar-default\">\n",
    "  <div class=\"container-fluid\">\n",
    "    <div class=\"navbar-header\">\n",
    "      <a class=\"navbar-brand\" href=\"Øving1.ipynb\">_Oving 1</a>\n",
    "    </div>\n",
    "    <ul class=\"nav navbar-nav\">\n",
    "      <li class=\"active\"><a href=\"Jeg%20elsker%20ITGK!.ipynb\">Jeg elsker ITGK!</a></li>\n",
    "    <li ><a href=\"Kalkulasjoner.ipynb\">Kalkulasjoner</a></li>\n",
    "    <li><a href=\"Input%20og%20variable.ipynb\">Input og variable</a></li>\n",
    "    <li><a href=\"Tallkonvertering.ipynb\">Tallkonvertering</a></li>\n",
    "    <li><a href=\"Peppes%20Pizza.ipynb\">Peppes Pizza</a></li>\n",
    "    <li><a href=\"Geometri.ipynb\">Geometri</a></li>\n",
    "    <li><a href=\"Vitenskapelig%20notasjon.ipynb\">Vitenskapelig notasjon</a></li>\n",
    "    <li><a href=\"Tetraeder.ipynb\">Tetraeder</a></li>\n",
    "    <li><a href=\"Bakekurs.ipynb\">Bakekurs</a></li>\n",
    "    <li ><a href=\"James%20Bond%20and%20Operation%20round().ipynb\">James Bond and Operation Round</a></li>\n",
    "    </ul>\n",
    "  </div>\n",
    "</nav>\n",
    "\n",
    "# Jeg elsker ITGK!\n",
    "\n",
    "**Læringsmål:**\n",
    "\n",
    "* Printe tekst og tall til konsoll\n",
    "\n",
    "* Skrive et enkelt program\n",
    "\n",
    "**Starting Out with Python:**\n",
    "\n",
    "* Kap. 1.5\n",
    "\n",
    "* Kap. 2.2-2.4"
   ]
  },
  {
   "cell_type": "markdown",
   "metadata": {},
   "source": [
    "### Generelt om bruk av IDLE og PyCharm"
   ]
  },
  {
   "cell_type": "markdown",
   "metadata": {},
   "source": [
    "Hvis du ikke allerede har lastet ned Python kan det være lurt å se på øving 0. De vanligste programmene å bruke er IDLE eller PyCharm.\n",
    "\n",
    "1. Dersom du bruker PyCharm trykker du på \"Create new Project\" og bestemmer et navn, f.eks: \"Øving1\". Trykk deretter på create. Høyreklikk der det står \"Øving1\" og velg new -> Python File. Gi denne filen et navn, f.eks: \"Oppgave1\". Du kan nå skrive din kode. Dersom du bruker IDLE går du på File-> New File. Du kan nå skrive din kode.\n",
    "2. For å kjøre koden trykker du på run. I PyCharm er hurtigtasten for kjøring F10, og i IDLE er det F5, og du må da gi filen et navn. Merk at koden ikke kan ha noen syntaksfeil (se nedenfor), dette vil gi feilmelding og programmet vil ikke kjøre.\n",
    "\n",
    "<div class=\"panel panel-default\">\n",
    "  <div class=\"panel-heading\">Syntaksfeil?</div>\n",
    "  <div class=\"panel-body\">\n",
    "Norsklæreren din kunne utmerket godt lese en stil og forstå den på tross av noen småfeil, og til og med gi god karakter hvis innholdet forøvrig var bra. Datamaskinen er ikke like tilgivende: I et Python-program må alt være pinlig nøyaktig, en enkelt skrivefeil kan være nok til at programmet slett ikke kjører. Denne typen feil kaller vi for syntaksfeil.</div>\n",
    "</div>"
   ]
  },
  {
   "cell_type": "markdown",
   "metadata": {
    "heading_collapsed": true
   },
   "source": [
    "### print() - tutorial del 1:\n",
    "Les gjerne denne før du gjør de neste oppgavene, særlig hvis du ikke kan programmere fra før. **Trykk på plusstegnet for å lese.**"
   ]
  },
  {
   "cell_type": "markdown",
   "metadata": {
    "hidden": true
   },
   "source": [
    "Hvis du ikke allerede har lastet ned Python kan det være lurt å se på øving 0. De vanligste programmene å bruke er IDLE eller PyCharm.\n",
    "\n",
    "Dersom du bruker PyCharm trykker du på \"Create new Project\" og bestemmer et navn, f.eks: \"Øving1\". Trykk deretter på create. Høyreklikk der det står \"Øving1\" og velg new -> Python File. Gi denne filen et navn, f.eks: \"Oppgave1\". Du kan nå skrive din kode. Dersom du bruker IDLE går du på File-> New File. Du kan nå skrive din kode.\n",
    "For å kjøre koden trykker du på run. I PyCharm er hurtigtasten for kjøring F10, og i IDLE er det F5, og du må da gi filen et navn. Merk at koden ikke kan ha noen syntaksfeil (se nedenfor), dette vil gi feilmelding og programmet vil ikke kjøre."
   ]
  },
  {
   "cell_type": "markdown",
   "metadata": {
    "hidden": true
   },
   "source": [
    "Programmer som skal brukes av mennesker, må ofte vise informasjon på skjermen. En enkel måte for dette i Python er funksjonen print().\n",
    "\n",
    "Nedenstående kode gir en mest mulig selvforklarende intro til print-setningen.\n",
    "\n",
    "**Trykk control + enter med cellen under aktiv for å kjøre koden, prøv eventuelt å endre på noe og se hva som skjer!**"
   ]
  },
  {
   "cell_type": "code",
   "execution_count": 4,
   "metadata": {
    "ExecuteTime": {
     "end_time": "2019-06-25T13:22:53.510622Z",
     "start_time": "2019-06-25T13:22:53.493007Z"
    },
    "hidden": true,
    "scrolled": true
   },
   "outputs": [
    {
     "name": "stdout",
     "output_type": "stream",
     "text": [
      "Det som skal ut på skjermen, settes inni parentesen bak print.\n",
      "Tekst må omsluttes med fnutter (apostrof)\n",
      "eller med dobbelfnutter (hermetegn).\n",
      "Tall trenger ikke fnutter rundt seg:\n",
      "42\n",
      "En blank linje kan printes med tom parentes:\n",
      "\n",
      "Du kan printe flere ting med komma mellom: 5 6\n",
      "Desimaltall må skrives med punktum i Python: 3.14\n",
      "Hvis du bruker komma, tolkes det som to adskilte tall: 3 14\n",
      "Komma inni en tekst kommer ut på skjermen: ,,,,, komma mellom tekster gjør ikke det.\n"
     ]
    }
   ],
   "source": [
    "print('Det som skal ut på skjermen, settes inni parentesen bak print.')\n",
    "print('Tekst må omsluttes med fnutter (apostrof)')\n",
    "print(\"eller med dobbelfnutter (hermetegn).\")\n",
    "print(\"Tall trenger ikke fnutter rundt seg:\")\n",
    "print(42)\n",
    "print('En blank linje kan printes med tom parentes:')\n",
    "print()\n",
    "print('Du kan printe flere ting', 'med komma mellom:', 5, 6)\n",
    "print('Desimaltall må skrives med punktum i Python:', 3.14)\n",
    "print('Hvis du bruker komma, tolkes det som to adskilte tall:', 3,14)\n",
    "print('Komma inni en tekst kommer ut på skjermen: ,,,,,', 'komma', 'mellom', 'tekster gjør ikke det.')"
   ]
  },
  {
   "cell_type": "markdown",
   "metadata": {
    "hidden": true
   },
   "source": [
    "Som forklaringen sier, er det **to alternative tegn** som kan brukes for å omslutte tekststrenger i Python:\n",
    "\n",
    "* Apostrof. På norsk PC-tastatur er den mellom Æ og Enter. På Mac på tasten til venstre for tallet 1.\n",
    "* Hermetegn - både på PC og Mac på samme tast som tallet 2.\n",
    "\n",
    "Om du bruker apostrof eller hermetegn, er et spørsmål om smak og behag - bare du er konsekvent og bruker samme tegn foran og bak tekststrengen. I visse situasjoner vil ett av alternativene være å foretrekke, som forklart i del 2 av tutorialen.\n",
    "\n",
    "Hvis du ved et uhell får feil tegn, som bøyd apostrof eller bøyd hermetegn i stedet for rett (nøytral) apostrof og rett (nøytralt) hermetegn som det er snakk om her, vil koden din ikke funke. Hvis du f.eks. skriver Python-kode i Word, kan Word automatisk omforme hermetegn til bøyde hermetegn (som ser forskjellig ut avhengig av om det står før eller etter teksten som hermes). Dette er en av mange gode grunner til å ikke skrive Python-kode i Word - bruk en dedikert kode-editor som IDLE eller PyCharm.\n",
    "\n"
   ]
  },
  {
   "cell_type": "markdown",
   "metadata": {
    "solution": "hidden"
   },
   "source": [
    "### a)"
   ]
  },
  {
   "cell_type": "markdown",
   "metadata": {},
   "source": [
    "**Lag et program som gir følgende utskrift til skjermen:**\n",
    "\n",
    "*Jeg elsker ITGK!*\n",
    "\n",
    "Skriv koden din i boksen under."
   ]
  },
  {
   "cell_type": "code",
   "execution_count": null,
   "metadata": {},
   "outputs": [],
   "source": []
  },
  {
   "cell_type": "markdown",
   "metadata": {},
   "source": [
    "### b)\n"
   ]
  },
  {
   "cell_type": "markdown",
   "metadata": {},
   "source": [
    "Lag et program som bruker fire print-setninger for å skrive informasjonen nedenfor til skjermen (linje 2 skal være blank). Tallene skal skrives ut som tall, **ikke** som en del av en tekststreng omgitt av fnutter.\n",
    "\n",
    "Skriv koden din i boksen under."
   ]
  },
  {
   "cell_type": "markdown",
   "metadata": {
    "ExecuteTime": {
     "end_time": "2019-06-25T13:03:36.211485Z",
     "start_time": "2019-06-25T13:03:36.201649Z"
    }
   },
   "source": [
    "```python\n",
    "Norge\n",
    " \n",
    " \n",
    "Areal (kv.km): 385180\n",
    " \n",
    "Folketall (mill.): 5.3\n",
    "```"
   ]
  },
  {
   "cell_type": "code",
   "execution_count": null,
   "metadata": {},
   "outputs": [],
   "source": []
  },
  {
   "cell_type": "markdown",
   "metadata": {
    "heading_collapsed": true,
    "solution": "hidden"
   },
   "source": [
    "### print() - tutorial del 2:\n",
    "Nyttig info om fnutter i streng før oppgave c og d."
   ]
  },
  {
   "cell_type": "markdown",
   "metadata": {
    "hidden": true
   },
   "source": [
    "Koden under viser hvorfor Python har flere alternativer for fnutter rundt tekststrenger heller enn å standardisere på bare ett fast tegn for dette formålet. **Ta gjerne å endre på koden for å se hva som skjer!**"
   ]
  },
  {
   "cell_type": "code",
   "execution_count": 1,
   "metadata": {
    "ExecuteTime": {
     "end_time": "2019-06-25T13:37:55.517387Z",
     "start_time": "2019-06-25T13:37:55.490047Z"
    },
    "hidden": true
   },
   "outputs": [
    {
     "name": "stdout",
     "output_type": "stream",
     "text": [
      "Hvorfor tilbys både enkle og doble ?\n",
      "Jo, hvis det er doble \"fnutter\" i teksten, funker kun enkle rundt,\n",
      "og med enkle fnutter i teksten er'e bare doble som funker rundt.\n",
      "Med samme fnutt både rundt og inni, tror Python teksten slutter midt i.\n",
      "Skal du ha begge typer fnutter i teksten? Da må du ha triple fnutter rundt:\n",
      "Er'u gær'n? spurte \"Arne\" og lo sykt.\n",
      "Trippel apostrof ' og trippel hermetegn \" funker begge deler\n",
      "Triple fnutter kan også brukes\n",
      "for tekststrenger\n",
      "som skal gå over flere linjer.\n"
     ]
    }
   ],
   "source": [
    "print('Hvorfor tilbys både enkle', \"og doble fnutter?\")\n",
    "print('Jo, hvis det er doble \"fnutter\" i teksten, funker kun enkle rundt,')\n",
    "print(\"og med enkle fnutter i teksten er'e bare doble som funker rundt.\")\n",
    "print(\"Med samme fnutt både rundt og inni, tror Python teksten slutter midt i.\")\n",
    "print(\"Skal du ha begge typer fnutter i teksten? Da må du ha triple fnutter rundt:\")\n",
    "print('''Er'u gær'n? spurte \"Arne\" og lo sykt.''')\n",
    "print(\"\"\"Trippel apostrof ' og trippel hermetegn \" funker begge deler\"\"\")\n",
    "print(\"\"\"Triple fnutter kan også brukes\n",
    "for tekststrenger\n",
    "som skal gå over flere linjer.\"\"\")"
   ]
  },
  {
   "cell_type": "markdown",
   "metadata": {},
   "source": [
    "### c)"
   ]
  },
  {
   "cell_type": "markdown",
   "metadata": {},
   "source": [
    "**Lag et program som skriver ut på skjermen teksten:** *\"Jeg elsker ITGK\" ropte studenten da 1c funket.*\n",
    "\n",
    "Hermetegnene rundt teksten skal være med i det som kommer ut på skjermen. Skriv koden i boksen under."
   ]
  },
  {
   "cell_type": "code",
   "execution_count": null,
   "metadata": {},
   "outputs": [],
   "source": []
  },
  {
   "cell_type": "markdown",
   "metadata": {},
   "source": [
    "### d)\n",
    "Lag et program som skriver ut på skjermen teksten vist under.\n",
    "\n",
    "Hint: For å slippe å skrive så mye, kopier teksten inn i boksen under, så trenger du bare selv å skrive print, parenteser og passende fnutter rundt teksten.\n",
    "\n",
    "**Tekst til oppgave d:**"
   ]
  },
  {
   "cell_type": "markdown",
   "metadata": {},
   "source": [
    "```\n",
    "Noen barn sto og hang ved lekeplassen.\n",
    "Diskusjonstemaet deres var noe uventet.\n",
    "\n",
    "- Hvorfor heter'e \"Python\"?\n",
    "- Var'e slanger som laget det? - Nei, Guido van Rossum.\n",
    "- Likte slanger kanskje da? - Nei, digga \"Monty Python\".\n",
    "- Hva er det? Et fjell?\n",
    "- Nei, engelsk komigruppe. Begynte i '69\n",
    "- Wow! Var'e fremdeles dinosaurer da?\n",
    "```"
   ]
  },
  {
   "cell_type": "code",
   "execution_count": null,
   "metadata": {},
   "outputs": [],
   "source": []
  },
  {
   "cell_type": "markdown",
   "metadata": {
    "heading_collapsed": true
   },
   "source": [
    "### Kommentarer i Python - tutorial del 3:\n",
    "Nyttig info før oppgave e, klikk på plusstegnet."
   ]
  },
  {
   "cell_type": "markdown",
   "metadata": {
    "hidden": true
   },
   "source": [
    "Kommentarer er en annen nyttig ting i en kode. Det brukes mest for din egen del ettersom det gjør koden mer oversiktlig. Kommentarer ignoreres av programmet når koden kjører, så hva du skriver i en kommentar påvirker ikke koden. Kommentarer lages ved å sette en hashtag(#) foran det du ønsker å skrive. Prøver du å kjøre koden under vil du få en feil. **Prøv å rette opp koden!**"
   ]
  },
  {
   "cell_type": "code",
   "execution_count": 5,
   "metadata": {
    "ExecuteTime": {
     "end_time": "2019-06-25T13:30:57.214061Z",
     "start_time": "2019-06-25T13:30:57.200831Z"
    },
    "hidden": true
   },
   "outputs": [
    {
     "ename": "SyntaxError",
     "evalue": "invalid syntax (<ipython-input-5-5fe6f472c042>, line 2)",
     "output_type": "error",
     "traceback": [
      "\u001b[0;36m  File \u001b[0;32m\"<ipython-input-5-5fe6f472c042>\"\u001b[0;36m, line \u001b[0;32m2\u001b[0m\n\u001b[0;31m    Dette er ikke en kommentar. Mangler #.\u001b[0m\n\u001b[0m           ^\u001b[0m\n\u001b[0;31mSyntaxError\u001b[0m\u001b[0;31m:\u001b[0m invalid syntax\n"
     ]
    }
   ],
   "source": [
    "#Dette er en kommentar!\n",
    "Dette er ikke en kommentar. Mangler #."
   ]
  },
  {
   "cell_type": "markdown",
   "metadata": {
    "heading_collapsed": true
   },
   "source": [
    "### e)\n",
    "Legg til to kommentarer i koden din hvor du forklarer hva som ble gjort i b) og c).  Legg også til kommentaren print('Hei\").\n",
    "\n",
    "Merk at dersom du hadde skrevet print('Hei\") i koden ville ikke koden kjørt. Dette skyldes at det først blir brukt en enkel fnutt og deretter en dobbel fnutt. Så lenge dette er skrevet i en kommentar slik det ble gjort i e) vil det ikke påvirke koden og alt går fint. "
   ]
  },
  {
   "cell_type": "markdown",
   "metadata": {},
   "source": [
    "### f)\n",
    "Koden i kodeblokken under kjører ikke pga. syntaksfeil i alle print-funksjonene. Din oppgave er å rette opp i feilene slik at koden kjører."
   ]
  },
  {
   "cell_type": "code",
   "execution_count": null,
   "metadata": {},
   "outputs": [],
   "source": [
    "print(\"Heihei, jeg vil visst ikke kompilere jeg :(')\n",
    "print(\"Halla, så \"bra\" du ser ut i dag\")\n",
    "print(Hei på deg)\n",
    "print \"Er ikke dette gøy?\")"
   ]
  }
 ],
 "metadata": {
  "kernelspec": {
   "display_name": "Python 3",
   "language": "python",
   "name": "python3"
  },
  "language_info": {
   "codemirror_mode": {
    "name": "ipython",
    "version": 3
   },
   "file_extension": ".py",
   "mimetype": "text/x-python",
   "name": "python",
   "nbconvert_exporter": "python",
   "pygments_lexer": "ipython3",
   "version": "3.6.2"
  },
  "toc": {
   "base_numbering": 1,
   "nav_menu": {},
   "number_sections": false,
   "sideBar": true,
   "skip_h1_title": false,
   "title_cell": "Table of Contents",
   "title_sidebar": "Contents",
   "toc_cell": false,
   "toc_position": {},
   "toc_section_display": true,
   "toc_window_display": false
  }
 },
 "nbformat": 4,
 "nbformat_minor": 2
}
