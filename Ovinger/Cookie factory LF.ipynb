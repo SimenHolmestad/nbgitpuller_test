{
 "cells": [
  {
   "cell_type": "code",
   "execution_count": null,
   "metadata": {},
   "outputs": [],
   "source": [
    "class Cookie_factory:\n",
    "    \n",
    "    def __init__(self, money):\n",
    "        self.machine_active = False\n",
    "        self.cookies = 0\n",
    "        self.money = money\n",
    "        \n",
    "    def start_machine(self):\n",
    "        self.machine_active = True\n",
    "        \n",
    "    def stop_machine(self):\n",
    "        self.machine_active = False\n",
    "        \n",
    "    def make_cookies(self,amount):\n",
    "        self.cookies += amount\n",
    "        \n",
    "    def sell_cookies(amount):\n",
    "        if amount > cookies:\n",
    "            print(\"Too few cookies available\")\n",
    "        else:\n",
    "            money += amount * 5"
   ]
  }
 ],
 "metadata": {
  "kernelspec": {
   "display_name": "Python 3",
   "language": "python",
   "name": "python3"
  },
  "language_info": {
   "codemirror_mode": {
    "name": "ipython",
    "version": 3
   },
   "file_extension": ".py",
   "mimetype": "text/x-python",
   "name": "python",
   "nbconvert_exporter": "python",
   "pygments_lexer": "ipython3",
   "version": "3.7.3"
  }
 },
 "nbformat": 4,
 "nbformat_minor": 2
}
