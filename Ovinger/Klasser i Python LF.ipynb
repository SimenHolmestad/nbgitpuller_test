{
 "cells": [
  {
   "cell_type": "code",
   "execution_count": 3,
   "metadata": {},
   "outputs": [
    {
     "name": "stdout",
     "output_type": "stream",
     "text": [
      "Motorized\n"
     ]
    }
   ],
   "source": [
    "#a\n",
    "\n",
    "class Car:\n",
    "    \n",
    "    vehicle_type = \"Motorized\" #d\n",
    "    \n",
    "    def __init__(self, color, weight, fuel_type, reg_year):\n",
    "        self.color = color\n",
    "        self.weight = weight\n",
    "        self.fuel_type = fuel_type\n",
    "        self.reg_year = reg_year\n",
    "    \n",
    "    #b\n",
    "    \n",
    "    def change_color(self, color):\n",
    "        self.color = color\n",
    "        \n",
    "    def is_blue():\n",
    "        return self.color==blue\n",
    "      \n",
    "        \n",
    "car = Car(\"Red\",1000,\"Petrol\",1989)\n",
    "print(Car.vehicle_type)\n",
    "\n",
    "class Cookie_monster:\n",
    "    \n",
    "    def __init__(self):\n",
    "        self.cookies_eaten = 0\n",
    "    \n",
    "    def eat_cookies(self, cookies):\n",
    "        self.cookies_eaten += cookies\n",
    "        print(\"Om nom nom\")\n",
    "        "
   ]
  }
 ],
 "metadata": {
  "kernelspec": {
   "display_name": "Python 3",
   "language": "python",
   "name": "python3"
  },
  "language_info": {
   "codemirror_mode": {
    "name": "ipython",
    "version": 3
   },
   "file_extension": ".py",
   "mimetype": "text/x-python",
   "name": "python",
   "nbconvert_exporter": "python",
   "pygments_lexer": "ipython3",
   "version": "3.7.3"
  }
 },
 "nbformat": 4,
 "nbformat_minor": 2
}
