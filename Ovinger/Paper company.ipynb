{
 "cells": [
  {
   "cell_type": "markdown",
   "metadata": {},
   "source": [
    "I denne oppgaven skal vi lage klassen `Paper_company`. Klassen trenger følgende instansvariabler:\n",
    "\n",
    "**paper_price**: Angir hvor mye man kan selge en enhet papir for.  \n",
    "**paper**: Angir hvor mye papir bedriften har.  \n",
    "**machine_price**: Angir hvor mye en maskin koster.  \n",
    "**machines**: Angir hvor mange papirproduserende maskiner bedriften har.  \n",
    "**recruitment_price**: Angir hvor mye det koster å ansette en ny selger.  \n",
    "**salesmen**: Angir hvor mange selgere bedriften har.  \n",
    "**money**: Angir hvor mye penger bedriften har.\n",
    "\n",
    "**paper_prize** settes til 10, **machine_prize** settes til 100 og **recruitment_prize** settes til 50.\n",
    "\n",
    "De resterende verdiene settes av konstruktøren. Husk at dersom en bedrift ikke starter med minst en maskin og en selger, eller nok penger til å anskaffe disse to, vil den ikke klare å tjene penger. \n",
    "\n",
    "\n",
    "Klassen trenger følgende metoder: \n",
    "\n",
    "`make_paper()`: Lager en papirenhet for hver maskin bedriften har.  \n",
    "`sell_paper()`: Selger en papirenhet for hver selger bedriften har til prisen angitt av **paper_price**. Dersom bedriften har mindre papir enn den har selgere, selges alt papiret bedriften har.  \n",
    "`buy_machines(amount)`: Kjøper **amount** antall maskiner med pris angitt av **machine_price** dersom bedriften har råd, hvis ikke print ut en passende melding.   \n",
    "`recruit_salesmen(amount)`: Rekrutterer **amount** antall selgere dersom bedriften har nok penger til det, hvis ikke print ut en passende melding.   \n",
    "\n",
    "\n",
    "***Skriv koden din i blokken under:***"
   ]
  },
  {
   "cell_type": "code",
   "execution_count": null,
   "metadata": {},
   "outputs": [],
   "source": []
  },
  {
   "cell_type": "markdown",
   "metadata": {},
   "source": [
    "For å sjekke at koden fungerer kan du prøve å kjøre testkoden under å se om den gir forventet resultat."
   ]
  },
  {
   "cell_type": "code",
   "execution_count": null,
   "metadata": {},
   "outputs": [],
   "source": [
    "comp = Paper_company(10, 2, 10, 1000) #antar samme rekkefølge på variabler som de er nevnt i oppgaven\n",
    "comp.sell_paper()\n",
    "print(comp.money) #skal være 1100\n",
    "comp.buy_machines(5)\n",
    "print(comp.machines) #skal være 7\n",
    "comp.recruit_salesmen(6)\n",
    "print(comp.salesmen) #skal være 16\n",
    "comp.make_paper()\n",
    "comp.sell_paper()\n",
    "print(comp.money) # skal være 370\n",
    "comp.buy_machines(1000) #skal gi en feilmelding printet ut\n",
    "print(comp.money) # skal fortsatt være 370"
   ]
  }
 ],
 "metadata": {
  "kernelspec": {
   "display_name": "Python 3",
   "language": "python",
   "name": "python3"
  },
  "language_info": {
   "codemirror_mode": {
    "name": "ipython",
    "version": 3
   },
   "file_extension": ".py",
   "mimetype": "text/x-python",
   "name": "python",
   "nbconvert_exporter": "python",
   "pygments_lexer": "ipython3",
   "version": "3.7.3"
  }
 },
 "nbformat": 4,
 "nbformat_minor": 2
}
