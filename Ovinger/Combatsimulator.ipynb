{
 "cells": [
  {
   "cell_type": "markdown",
   "metadata": {},
   "source": [
    "I denne oppgaven skal vi lage et combat-scenario i et spill ved hjelp av klasser og objekter. Vi kommer til å lage karakterer som skal sloss mot hverandre ved hjelp av klasser med de variablene og metodene som er tilgjengelige. "
   ]
  },
  {
   "cell_type": "markdown",
   "metadata": {},
   "source": [
    "### a)"
   ]
  },
  {
   "cell_type": "markdown",
   "metadata": {},
   "source": [
    "##### Lag klassen `Character` med følgende attributter:\n",
    "\n",
    "- **name**: Navnet på karakteren\n",
    "- **max_hp**: Angir hvor mye liv en karakter starter med, og maksimalt kan få.\n",
    "- **hp**: Angir hvor mye liv (Health points) karakteren har igjen.  \n",
    "- **damage**: Angir hvor mye skade karakteren kan gjøre når det angriper.  \n",
    "- **armor**: Angir hvor mye karakteren kan redusere skaden det tar i mot.\n",
    "- **luck**: Et tall fra 0-50 som sier hvor stor prosentsjanse en karakter har for at motstanderens angrep bommer, samtidig som det er sjansen for at karakteren gjør dobbel skade.  \n",
    "- **max_mana** Angir hvor mye mana en karakter starter med, og maksimalt kan få. Mana brukes til å heale.  \n",
    "- **mana** Angir hvor mye liv mana karakteren har igjen.\n",
    "\n",
    "Konstruktøren tar inn **name**, **max_hp**, **damage**, **armor**, **luck** og **max_mana**.  \n",
    "**hp** og **max_mana** settes lik sine tilsvarende maksimum verdier.\n",
    "\n",
    "Vi trenger følgende metoder:\n",
    "\n",
    "\n",
    "- ``take_damage(damage)``: metode som brukes for å håndtere innkommende angrep. Skaden skal reduseres jo mer **armor** spilleren har. Man kan maksimalt ha 100 **armor**. Dersom spilleren har 100 **armor** halveres skaden, dersom spilleren har 50 **armor** reduseres den med en fjerdedel, osv. **luck** attributen angir om angrepet bommer eller ikke, dersom karakteren har 50 i luck er sjansen 50%, er den 25 er sjansen 25%. Metoden skal returnere hvor mye skade karakteren ender opp med å ta.\n",
    "- ``attack(character)``: Skal angripe en annen karakter med like mye styrke gitt av **damage**. **luck** attributen angir om angrepet skader dobbelt eller ikke. Dersom karakteren har 50 i luck er sjansen 50%, er den 25 er sjansen 25%.\n",
    "- ``is_dead()`` Returnerer True om karakteren er død.  \n",
    "- ``heal(amount)`` Øker karakterens **hp** med amount, dersom karakteren har nok **mana**. Å øke **hp** med 1 koster 1 **mana**. Dersom karakteren ikke har nok **mana**, øk med like mye som er igjen. En karakters liv kan aldri gå over maks. Metoden skal returnere hvor mye liv som karakteren får. \n",
    "\n",
    "**Skriv koden din i boksen under**"
   ]
  },
  {
   "cell_type": "code",
   "execution_count": null,
   "metadata": {},
   "outputs": [],
   "source": []
  },
  {
   "cell_type": "markdown",
   "metadata": {
    "heading_collapsed": true
   },
   "source": [
    "#### Hint"
   ]
  },
  {
   "cell_type": "markdown",
   "metadata": {
    "hidden": true
   },
   "source": [
    "Her må `attack` metoden benytte seg av `take_damage`. "
   ]
  },
  {
   "cell_type": "markdown",
   "metadata": {},
   "source": [
    "### b)"
   ]
  },
  {
   "cell_type": "markdown",
   "metadata": {},
   "source": [
    "Det er litt kjedelig når vi setter damage, luck og armor til en fast verdi. La oss i tillegg lage en egen klasse med utstyr som karakterene våre kan plukke opp. \n",
    "\n",
    "Lag klassen `Item` som har to attributter:  \n",
    "- **name**: navn på gjenstand  \n",
    "- **type**: angir hvilken type gjenstand vi har. Vi ønsker fire typer gjenstander: offensiv, defensiv, luck og potion. \n",
    "- **power**: angir hvor mye kraft en gjenstand har. Dersom gjenstanden er offensiv vil dette påvirke **damage** en karakter gjør, er gjenstanden defensiv vil det påvirke **armor**, luck-basert påvirker **luck** mens potions brukes til å gjenoppfylle mana med tilsvarende verdi som **power**.\n",
    "\n",
    "Skriv koden din i boksen under"
   ]
  },
  {
   "cell_type": "code",
   "execution_count": null,
   "metadata": {},
   "outputs": [],
   "source": []
  },
  {
   "cell_type": "markdown",
   "metadata": {},
   "source": [
    "### c)"
   ]
  },
  {
   "cell_type": "markdown",
   "metadata": {},
   "source": [
    "Nå må vi oppdatere `Character`-klassen til å ta hensyn til introduksjon av `Item`. Legg til attributten **items** i `Character`, som er en liste over alle gjenstandene en karakter har på seg. Lag de metoden `add_item(item)` som legger til gjenstanden i karakterens gjenstander og oppdaterer relevante attributter. Husk at **luck** skal være maksimalt 50.\n",
    "\n",
    "**Hint**: Det kan være lurt å ha en egen attributt for potions\n",
    "\n",
    "***Skriv koden din i samme boks som oppgave a***"
   ]
  },
  {
   "cell_type": "markdown",
   "metadata": {},
   "source": [
    "### d)"
   ]
  },
  {
   "cell_type": "markdown",
   "metadata": {},
   "source": [
    "I oppgave b introduserte vi gjenstander av typen *potion*. Nå skal vi legge til en metode slik at vi kan bruke disse.\n",
    "\n",
    "Legg til metoden: `restore_mana()`\n",
    "\n",
    "Metoden skal søke gjennom karakterens gjenstander, og dersom den har en gjenstand av typen potion skal mana økes med **power** verdien til gjenstanden og gjenstanden forkastes. Merk igjen at mana ikke kan gå over maksimum. Metoden skal så returnere hvor mye mana som blir gjenvunnet.\n",
    "\n",
    "En karakter vil muligens ha flere gjenstander av typen potion med forskjellig styrke, hvordan du velger mellom disse kan du selv bestemme.\n",
    "\n",
    "Skriv koden din i samme blokk som oppgave c. "
   ]
  },
  {
   "cell_type": "markdown",
   "metadata": {},
   "source": [
    "### e)"
   ]
  },
  {
   "cell_type": "markdown",
   "metadata": {},
   "source": [
    "Nå har vi laget de klassene vi trenger for å lage en liten kamp-simulator. La oss nå lage en funksjon `main` hvor vi bruker tekstlig input fra brukerne til å opprette et fullstendig kampprogram for to spillere. Programmet du lager må ha følgende funksjonalitet:\n",
    "- Lar brukerne først opprette to karakterer hvor de kan bestemme alle verdier.  \n",
    "- Lar brukerne så opprette forskjellige gjenstander og gi disse til en av karakterene.\n",
    "- Lar brukerne til slutt sloss med to de to karakterene ved å velge selv hva de vil gjøre, angripe, heale eller bruke en potion.\n",
    "\n",
    "***Skriv koden din i blokka under***"
   ]
  },
  {
   "cell_type": "code",
   "execution_count": null,
   "metadata": {},
   "outputs": [],
   "source": []
  }
 ],
 "metadata": {
  "kernelspec": {
   "display_name": "Python 3",
   "language": "python",
   "name": "python3"
  },
  "language_info": {
   "codemirror_mode": {
    "name": "ipython",
    "version": 3
   },
   "file_extension": ".py",
   "mimetype": "text/x-python",
   "name": "python",
   "nbconvert_exporter": "python",
   "pygments_lexer": "ipython3",
   "version": "3.7.3"
  }
 },
 "nbformat": 4,
 "nbformat_minor": 2
}
