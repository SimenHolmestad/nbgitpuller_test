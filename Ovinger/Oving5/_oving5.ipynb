{
 "cells": [
  {
   "cell_type": "markdown",
   "metadata": {},
   "source": [
    "# Øving 5\n",
    "\n",
    "**Læringsmål:**\n",
    "- Funksjoner\n",
    "- Løkker\n",
    "- Betingelser\n",
    "\n",
    "**Starting Out with Python:**\n",
    "- Kap. 5: Functions\n",
    "\n",
    "**Theory book:**\n",
    "- Kap. 7: Representing Information Digitally\n",
    "- Kap. 8: Representing Multimedia Digitally\n",
    "- Kap. 12: Representing Integers\n",
    " \n",
    "\n",
    "## Godkjenning:\n",
    "\n",
    "For å få godkjent øvingen må du gjøre **teorioppgaven** og **4 av 12** andre oppgaver.\n",
    "\n",
    "Alle oppgavene skal demonstreres til en læringsassistent på sal. I oppgaver der du skriver programkode skal også denne vises fram. Lykke til!\n",
    "\n",
    "Oppgave|Tema|Vanskelighetsgrad\n",
    "---|---|--\n",
    "[Teori - Digital representasjon]()|Teori|\n",
    "[Grunnleggende om funksjoner](Grunnleggende%20om%20funksjoner.ipynb)|Funksjoner|\n",
    "[Varierte funksjoner](Varierte%20funksjoner.ipynb)|Funksjoner|\n",
    "[Lokale variabler](Lokale%20variabler.ipynb)|Funksjoner|\n",
    "[Globale variabler](Globale%20variabler.ipynb)|Funksjoner|\n",
    "[FlowerPower](FlowerPower)|Funksjoner, Løkker, Grafikk|\n",
    "[Euklids algoritme](Euklids%20algoritme.ipynb)|Funksjoner, Algoritmer|\n",
    "[Primtall](Primtall.ipynb)|Funksjoner, Løkker|\n",
    "[Multiplikasjon](Multiplikasjon.ipynb)|Funksjoner, Løkker|\n",
    "[Den store spørreundersøkelsen](Den%20store%20sporreundersokelsen.ipynb)|Funksjoner, Løkker|Utfordrende\n",
    "[Arbeidsdager](Arbeidsdager.ipynb)|Funksjoner, Løkker|Utfordrende\n",
    "[Sekantmetoden](Sekantmetoden.ipynb)|Funksjoner, Løkker|Utfordrende\n",
    "[Not quite Blackjack](Not%20quite%20Blackjack.ipynb)|Funksjoner, Løkker, Betingelser|Utfordrende"
   ]
  }
 ],
 "metadata": {
  "kernelspec": {
   "display_name": "Python 3",
   "language": "python",
   "name": "python3"
  },
  "language_info": {
   "codemirror_mode": {
    "name": "ipython",
    "version": 3
   },
   "file_extension": ".py",
   "mimetype": "text/x-python",
   "name": "python",
   "nbconvert_exporter": "python",
   "pygments_lexer": "ipython3",
   "version": "3.6.2"
  },
  "toc": {
   "base_numbering": 1,
   "nav_menu": {},
   "number_sections": false,
   "sideBar": true,
   "skip_h1_title": false,
   "title_cell": "Table of Contents",
   "title_sidebar": "Contents",
   "toc_cell": false,
   "toc_position": {
    "height": "calc(100% - 180px)",
    "left": "10px",
    "top": "150px",
    "width": "231px"
   },
   "toc_section_display": true,
   "toc_window_display": false
  }
 },
 "nbformat": 4,
 "nbformat_minor": 2
}
