{
 "cells": [
  {
   "cell_type": "markdown",
   "metadata": {},
   "source": [
    "# Tallak teller antall tall\n",
    "\n",
    "**Læringsmål:**\n",
    "- Dictionary\n",
    "- Lese fra fil\n",
    "\n",
    "**Starting Out with Python:**\n",
    "- Kap. 6: Files and Exceptions\n",
    "- Kap. 9: Dictionaries and Sets"
   ]
  },
  {
   "cell_type": "markdown",
   "metadata": {},
   "source": [
    "I denne oppgaven skal du hjelpe tallentusiasten Tallak med å lese inn data fra filen numbers.txt. Denne filen inneholder en liste med tall, noe som er Tallaks store lidenskap. Filen kan du se her: [numbers.txt](numbers.txt)"
   ]
  },
  {
   "cell_type": "markdown",
   "metadata": {},
   "source": [
    "## a)\n",
    "Tallak ønsker først og fremst å få en oversikt over størrelsen på filen:\n",
    "\n",
    "Lag funksjonen `number_of_lines(filename)` som returnerer totalt antall linjer i filen med navn `filename`. Test funksjonen med `numbers.txt`. Du bør få 36 som svar.\n",
    "\n",
    "***Skriv koden i kodeblokken under***"
   ]
  },
  {
   "cell_type": "code",
   "execution_count": null,
   "metadata": {},
   "outputs": [],
   "source": []
  },
  {
   "cell_type": "markdown",
   "metadata": {},
   "source": [
    "## b)"
   ]
  },
  {
   "cell_type": "markdown",
   "metadata": {},
   "source": [
    "Tallak ønsker deretter en liste som inneholder antall forekomster av hvert enkelt tall i listen:\n",
    "    \n",
    "Lag funksjonen `number_frequency(filename)` som returnerer en dictionary der hver nøkkel er et tall, og verdien til en nøkkel er antall forekomster av det tallet i filen med navn `filename`. Test funksjonen med *numbers.txt*\n",
    "\n",
    "***Skriv koden i kodeblokken under***"
   ]
  },
  {
   "cell_type": "code",
   "execution_count": null,
   "metadata": {},
   "outputs": [],
   "source": []
  },
  {
   "cell_type": "markdown",
   "metadata": {},
   "source": [
    "*Riktig utskrift:* `{7: 4, 4: 7, 9: 4, 1: 3, 3: 5, 5: 7, 2: 4, 6: 1, 8: 1}`"
   ]
  },
  {
   "cell_type": "markdown",
   "metadata": {},
   "source": [
    "## c)"
   ]
  },
  {
   "cell_type": "markdown",
   "metadata": {},
   "source": [
    "Tallak er derimot ikke helt fornøyd med utskriften enda:\n",
    "\n",
    "Kall funksjonen `number_frequency` på *numbers.txt*. For hvert tall i resultatet skal du skrive ut en linje med tallet sammen med antall forekomster, separart med et kolon.\n",
    "\n",
    "**Eksempel på output fra kjøring:**\n",
    ">```\n",
    "7: 4\n",
    "4: 7\n",
    "9: 4\n",
    "1: 3\n",
    "3: 5\n",
    "5: 7\n",
    "2: 4\n",
    "6: 1\n",
    "8: 1\n",
    "```\n",
    "\n",
    "PS: output trenger ikke å være sortert på noen måte.\n",
    "\n",
    "***Skriv koden din i kodeblokken under***"
   ]
  },
  {
   "cell_type": "code",
   "execution_count": null,
   "metadata": {},
   "outputs": [],
   "source": []
  }
 ],
 "metadata": {
  "kernelspec": {
   "display_name": "Python 3",
   "language": "python",
   "name": "python3"
  },
  "language_info": {
   "codemirror_mode": {
    "name": "ipython",
    "version": 3
   },
   "file_extension": ".py",
   "mimetype": "text/x-python",
   "name": "python",
   "nbconvert_exporter": "python",
   "pygments_lexer": "ipython3",
   "version": "3.6.2"
  },
  "toc": {
   "base_numbering": 1,
   "nav_menu": {},
   "number_sections": false,
   "sideBar": true,
   "skip_h1_title": false,
   "title_cell": "Table of Contents",
   "title_sidebar": "Contents",
   "toc_cell": false,
   "toc_position": {},
   "toc_section_display": true,
   "toc_window_display": false
  }
 },
 "nbformat": 4,
 "nbformat_minor": 2
}
