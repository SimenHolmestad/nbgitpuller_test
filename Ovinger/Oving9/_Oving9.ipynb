{
 "cells": [
  {
   "cell_type": "markdown",
   "metadata": {},
   "source": [
    "# Øving 9\n",
    "\n",
    "**Læringsmål:**\n",
    "\n",
    "- Dictionary\n",
    "- Sets\n",
    "- Lese fra fil\n",
    "- Skrive til fil\n",
    "- Lister\n",
    "\n",
    "**Starting Out with Python:**\n",
    "- Kap. 6: Files and Exceptions\n",
    "- Kap. 9: Dictionaries and Sets\n",
    "\n",
    "**Teori:**\n",
    "\n",
    "*Merk: Kun deler av kapitlene er pensum*\n",
    "\n",
    "- 25: TCP - Reliable Transport Service\n",
    "- 27: Network Performance (QoS And DiffServ)\n",
    "- 29: Network Security (361 - 384)\n",
    "- 32: The Internet Of Things\n",
    "\n",
    "**Godkjenning:**\n",
    "\n",
    "For å få godkjent øvingen må du gjøre **teorioppgaven** og **4 av 11** andre oppgaver.\n",
    "\n",
    "Oppgaver som er ekstra vanskelig er markert med (stjerne).\n",
    "    \n",
    "Alle oppgavene skal demonstreres til en læringsassistent på sal. I oppgaver der du skriver programkode skal også denne vises fram. Lykke til!\n",
    "\n",
    "Oppgave|Tema|Vanskelighetsgrad\n",
    "---|---|---\n",
    "[Teori - Nettverk del 3]()|Teori|\n",
    "[Generelt om dictionary]()|Dictionaries|\n",
    "[Innebygde funksjoner]()|Dictionaries|\n",
    "[Generelt om sets]()|Sets|\n",
    "[Generelt om filbehandling]()|Filhåndtering|\n",
    "[Osteviruset]()|Dictionaries|\n",
    "[Bursdagsdatabasen]()|Dictionaries, Exceptions|\n",
    "[Tallak teller antall tall]()|Filhåndtering, Dictionaries\n",
    "[Søke i tekst]()|Filhåndtering, Dictionaries|(stjerne)\n",
    "[Opptaksgrenser ]()|Filhåndtering, Dictionaries|(stjerne)\n",
    "[Musikk: Toner og frekvenser]()|Filhåndtering, Lister|(stjerne)\n",
    "[Tre på rad]()|Repetisjon: Spill|(stjerne)"
   ]
  }
 ],
 "metadata": {
  "kernelspec": {
   "display_name": "Python 3",
   "language": "python",
   "name": "python3"
  },
  "language_info": {
   "codemirror_mode": {
    "name": "ipython",
    "version": 3
   },
   "file_extension": ".py",
   "mimetype": "text/x-python",
   "name": "python",
   "nbconvert_exporter": "python",
   "pygments_lexer": "ipython3",
   "version": "3.6.2"
  },
  "toc": {
   "base_numbering": 1,
   "nav_menu": {},
   "number_sections": false,
   "sideBar": true,
   "skip_h1_title": false,
   "title_cell": "Table of Contents",
   "title_sidebar": "Contents",
   "toc_cell": false,
   "toc_position": {},
   "toc_section_display": true,
   "toc_window_display": false
  }
 },
 "nbformat": 4,
 "nbformat_minor": 2
}
