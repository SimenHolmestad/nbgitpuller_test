{
 "cells": [
  {
   "cell_type": "markdown",
   "metadata": {},
   "source": [
    "<nav class=\"navbar navbar-default\">\n",
    "  <div class=\"container-fluid\">\n",
    "    <div class=\"navbar-header\">\n",
    "      <a class=\"navbar-brand\" href=\"_Oving3.ipynb\">Øving 3</a>\n",
    "    </div>\n",
    "    <ul class=\"nav navbar-nav\">\n",
    "      <li ><a href=\"Intro%20til%20lokker.ipynb\">Intro til løkker</a></li>\n",
    "    <li ><a href=\"Mer%20om%20lokker.ipynb\">Mer om løkker</a></li>\n",
    "    <li><a href=\"Nostede%20lokker.ipynb\">Intro til nøstede løkker</a></li>\n",
    "    <li class=\"active\"><a href=\"Kodeforstaelse.ipynb\">Kodeforståelse</a></li>\n",
    "    <li ><a href=\"Gjett%20tallet.ipynb\">Gjett tallet</a></li>\n",
    "    <li ><a href=\"Geometrisk%20rekke.ipynb\">Geometrisk rekke</a></li>\n",
    "    <li ><a href=\"Fibonacci.ipynb\">Fibonacci</a></li>\n",
    "    <li><a href=\"Alternerende%20sum.ipynb\">Alternerende sum</a></li>\n",
    "    <li ><a href=\"Hangman.ipynb\">Hangman</a></li>\n",
    "    <li ><a href=\"Doble%20lokker.ipynb\">Doble løkker</a></li>\n",
    "    </ul>\n",
    "  </div>\n",
    "</nav>\n",
    "\n",
    "# Kodeforståelse\n",
    "\n",
    "**Læringsmål:**\n",
    "\n",
    "* Tolke kode\n",
    "\n",
    "Koden under kan ikke kjøres, her skal du tenke deg fram til svarene! Ca. 20% av eksamen er kodeforståelse så se på dette som god trening! "
   ]
  },
  {
   "cell_type": "markdown",
   "metadata": {},
   "source": [
    "**a)** Hva skrives ut i koden under?"
   ]
  },
  {
   "cell_type": "markdown",
   "metadata": {
    "ExecuteTime": {
     "end_time": "2019-07-02T13:32:20.691362Z",
     "start_time": "2019-07-02T13:32:20.393635Z"
    }
   },
   "source": [
    "```python\n",
    "a=345\n",
    "b=''\n",
    "while a or b=='':\n",
    "    b=str(a%2)+b\n",
    "    a=a//2\n",
    "print(b)\n",
    "```\n",
    "\n",
    "Dobbeltklikk på teksten under for å svare:"
   ]
  },
  {
   "cell_type": "markdown",
   "metadata": {},
   "source": []
  },
  {
   "cell_type": "markdown",
   "metadata": {},
   "source": [
    "**b)** Hva skrives ut i koden under?"
   ]
  },
  {
   "cell_type": "markdown",
   "metadata": {},
   "source": [
    "```python\n",
    "for x in range(0, 10, 2):\n",
    "    print(x, end='')\n",
    "    if x%4==0:\n",
    "        print( \": Dette tallet går opp i 4-gangern\")\n",
    "    else:\n",
    "        print()\n",
    "     ```\n",
    "     \n",
    "end=\"\" gjør at det neste som printes ikke printes en linje under, men at det fortsetter på samme linje.\n",
    "\n",
    "Dobbeltklikk på teksten under for å svare:"
   ]
  },
  {
   "cell_type": "markdown",
   "metadata": {},
   "source": []
  },
  {
   "cell_type": "markdown",
   "metadata": {},
   "source": [
    "**c)** Hva skrives ut i koden under?"
   ]
  },
  {
   "cell_type": "markdown",
   "metadata": {},
   "source": [
    ">```python\n",
    "i = 1\n",
    "while i<10:\n",
    "    i = i*2\n",
    "print(i)\n",
    "```\n",
    "\n",
    "Dobbeltklikk på teksten under for å svare:"
   ]
  },
  {
   "cell_type": "markdown",
   "metadata": {},
   "source": []
  },
  {
   "cell_type": "markdown",
   "metadata": {},
   "source": [
    "**d)** Hva skrives ut i koden under?"
   ]
  },
  {
   "cell_type": "markdown",
   "metadata": {
    "ExecuteTime": {
     "end_time": "2019-07-02T13:41:54.677954Z",
     "start_time": "2019-07-02T13:41:54.667307Z"
    }
   },
   "source": [
    "```python\n",
    "i = 1\n",
    "j = 3\n",
    "while j>0:\n",
    "    i = i*2\n",
    "    j = j - 1\n",
    "print(i)```\n",
    "\n",
    "Dobbeltklikk på teksten under for å svare:"
   ]
  },
  {
   "cell_type": "markdown",
   "metadata": {},
   "source": []
  },
  {
   "cell_type": "markdown",
   "metadata": {},
   "source": [
    "**e)** Hva skrives ut i koden under?\n",
    "\n",
    ">```python\n",
    "i = 5\n",
    "for x in range(i):\n",
    "    for y in range(x+1):\n",
    "        print(\"*\", end=\"\")\n",
    "    print()```\n",
    "    \n",
    "Her er det en dobbel løkke, så dette er nok nytt for mange. Prøv likevel! Hvordan fungerer egentlig en løkke i en løkke? Se side 176 i Starting Out with Python.\n",
    "    \n",
    "Dobbeltklikk på teksten under for å svare:"
   ]
  },
  {
   "cell_type": "markdown",
   "metadata": {},
   "source": []
  }
 ],
 "metadata": {
  "kernelspec": {
   "display_name": "Python 3",
   "language": "python",
   "name": "python3"
  },
  "language_info": {
   "codemirror_mode": {
    "name": "ipython",
    "version": 3
   },
   "file_extension": ".py",
   "mimetype": "text/x-python",
   "name": "python",
   "nbconvert_exporter": "python",
   "pygments_lexer": "ipython3",
   "version": "3.6.7"
  },
  "toc": {
   "base_numbering": 1,
   "nav_menu": {},
   "number_sections": false,
   "sideBar": true,
   "skip_h1_title": false,
   "title_cell": "Table of Contents",
   "title_sidebar": "Contents",
   "toc_cell": false,
   "toc_position": {},
   "toc_section_display": true,
   "toc_window_display": false
  }
 },
 "nbformat": 4,
 "nbformat_minor": 2
}
