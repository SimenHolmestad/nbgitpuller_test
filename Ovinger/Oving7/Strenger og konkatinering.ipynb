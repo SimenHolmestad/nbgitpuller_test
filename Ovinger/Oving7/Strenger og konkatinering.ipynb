{
 "cells": [
  {
   "cell_type": "markdown",
   "metadata": {},
   "source": [
    "<nav class=\"navbar navbar-default\">\n",
    "  <div class=\"container-fluid\">\n",
    "    <div class=\"navbar-header\">\n",
    "      <a class=\"navbar-brand\" href=\"_Oving7.ipynb\">Øving 7</a>\n",
    "    </div>\n",
    "    <ul class=\"nav navbar-nav\">\n",
    "    <li ><a href=\"Aksessering.ipynb\">Aksessering av karakter</a></li>\n",
    "    <li class=\"active\"><a href=\"Strenger%20og%20konkatinering.ipynb\">Konkatinering</a></li>\n",
    "    <li ><a href=\"Slicing.ipynb\">Slicing</a></li>\n",
    "    <li ><a href=\"Tekstbehandling.ipynb\">Tekstbehandling</a></li>\n",
    "    <li ><a href=\"Strenghandtering.ipynb\">Strenghåndtering</a></li>\n",
    "    <li ><a href=\"Innebygde%20funksjoner.ipynb\">Innebygde funksjoner og lister</a></li>\n",
    "    <li><a href=\"Fjesboka.ipynb\">Fjesboka</a></li>\n",
    "    <li ><a href=\"Akkorder%20og%20toner.ipynb\">Akkorder og toner</a></li>\n",
    "    <li ><a href=\"Ideel%20gasslov.ipynb\">Ideel Gasslov</a></li>\n",
    "    <li><a href=\"Sammenhengende%20tallrekke.ipynb\">Sammenhengende Tallrekke</a></li>\n",
    "    <li ><a href=\"Sortering.ipynb\">Sortering</a></li>\n",
    "    <li ><a href=\"Strengmanipulasjon.ipynb\">Strengmanipulasjon</a></li>\n",
    "    <li ><a href=\"Kryptering.ipynb\">Kryptering</a></li>\n",
    "    <li ><a href=\"Litt%20sjakk.ipynb\">Litt Sjakk</a></li>\n",
    "    </ul>\n",
    "  </div>\n",
    "</nav>\n",
    "\n",
    "# Strenger og konkatinering\n",
    "\n",
    "**Læringsmål:**\n",
    "\n",
    "* Strenger\n",
    "* Løkker\n",
    "* Funksjoner\n",
    "* Lister\n",
    "\n",
    "**Starting Out with Python:**\n",
    "\n",
    "* Kap. 7.2\n",
    "* Kap. 8.1"
   ]
  },
  {
   "cell_type": "markdown",
   "metadata": {
    "heading_collapsed": true
   },
   "source": [
    "### Kort om konkatinering"
   ]
  },
  {
   "cell_type": "markdown",
   "metadata": {
    "hidden": true
   },
   "source": [
    "Konkatinering er å tilføye en streng ved slutten av en annen streng. Dette gjøres enten vha. + eller +=. For å bruke += må variabelen på venstre side av += være en allerede eksisterende variabel."
   ]
  },
  {
   "cell_type": "code",
   "execution_count": null,
   "metadata": {
    "ExecuteTime": {
     "end_time": "2019-07-03T12:09:10.412280Z",
     "start_time": "2019-07-03T12:09:10.013418Z"
    },
    "hidden": true
   },
   "outputs": [],
   "source": [
    "#Bruk av +\n",
    "#1\n",
    "melding = \"Hei \" + \"der\"\n",
    "print(melding)\n",
    "  \n",
    "#2\n",
    "s1 = \"Hei\"\n",
    "s2 = \"der\"\n",
    "melding1 = s1 + \" \" + s2\n",
    "print(melding1)\n",
    "\n",
    "#Bruk av +=\n",
    "#3\n",
    "navn = \"Bob\"\n",
    "navn += \" \" + \"Bernt\"\n",
    "print(navn)\n",
    "  \n",
    "#4\n",
    "liste = [\"Geralt\",\"of\",\"Rivia\"]\n",
    "navn2 = \"\"\n",
    "for streng in liste:\n",
    "    navn2 += streng + \" \"\n",
    "print(navn2)\n",
    "  \n",
    "#5\n",
    "navnet += \"Bob\"       #Vil utløse et unntak (exception) siden variabelen navnet ikke eksisterer fra før. Unntaket som utløses vil være NameError"
   ]
  },
  {
   "cell_type": "markdown",
   "metadata": {
    "heading_collapsed": true
   },
   "source": [
    "### a)"
   ]
  },
  {
   "cell_type": "markdown",
   "metadata": {
    "hidden": true
   },
   "source": [
    "Skriv en funksjon som tar inn to strenger (s1 og s2), og returnerer én streng bestående av disse med et mellomrom mellom.\n",
    "\n",
    "**Eksempel**:\n",
    "```python\n",
    "#s1 = \"James\", s2 = \"Bond\"\n",
    "-> James Bond\n",
    "```"
   ]
  },
  {
   "cell_type": "code",
   "execution_count": null,
   "metadata": {
    "hidden": true
   },
   "outputs": [],
   "source": [
    "#skriv koden din her"
   ]
  },
  {
   "cell_type": "markdown",
   "metadata": {
    "heading_collapsed": true
   },
   "source": [
    "### b)"
   ]
  },
  {
   "cell_type": "markdown",
   "metadata": {
    "ExecuteTime": {
     "end_time": "2019-07-03T12:18:08.171134Z",
     "start_time": "2019-07-03T12:18:08.159623Z"
    },
    "hidden": true
   },
   "source": [
    "Skriv en funksjon som tar inn en liste av strenger, og returnerer én streng bestående av disse uten mellomrom mellom dem.\n",
    "\n",
    "**Eksempel på kjøring:**\n",
    "```python\n",
    "#list = [\"abc\",\"defg\",\"hijklm\",\"nop\"]\n",
    "-> defghijklmnop\n",
    "```"
   ]
  },
  {
   "cell_type": "markdown",
   "metadata": {
    "heading_collapsed": true
   },
   "source": [
    "### Ikke-muterbarhet"
   ]
  },
  {
   "cell_type": "markdown",
   "metadata": {
    "hidden": true
   },
   "source": [
    "Strenger er ikke-muterbare, som vil si at man ikke kan endre på deler av strengen uten å lage en ny streng. Konkatinering kan gi inntrykket av å endre på en streng, mens det egentlig opprettes en ny en."
   ]
  },
  {
   "cell_type": "code",
   "execution_count": null,
   "metadata": {
    "hidden": true
   },
   "outputs": [],
   "source": [
    "navn = \"Bob\"        #tilordner strengen \"Bob\" til variabelen navn\n",
    "navn += \" Bernt\"    #tilordner en NY streng \"Bob Bernt\" til variabelen navn"
   ]
  },
  {
   "cell_type": "markdown",
   "metadata": {
    "hidden": true
   },
   "source": [
    "Siden strenger er ikke-muterbare, betyr det at man ikke kan endre på enkelte karakterer i strengen. Altså kan man ikke skrive string[index] = \"c\"."
   ]
  },
  {
   "cell_type": "code",
   "execution_count": null,
   "metadata": {
    "hidden": true
   },
   "outputs": [],
   "source": [
    "navn = \"Bob Bernt\"\n",
    "navn[0] = \"H\"       #IKKE MULIG!! Vil få utløst et unntak"
   ]
  },
  {
   "cell_type": "markdown",
   "metadata": {
    "hidden": true
   },
   "source": [
    "Om man ønsker å beholde store deler av en streng, men endre på enkelte deler av den, kan man bruke slicing til å opprette en ny streng med de ønskede endringene. Mer om slicing i neste oppgave."
   ]
  },
  {
   "cell_type": "markdown",
   "metadata": {
    "heading_collapsed": true
   },
   "source": [
    "### c)"
   ]
  },
  {
   "cell_type": "markdown",
   "metadata": {
    "hidden": true
   },
   "source": [
    "Skriv en funksjon som tar inn en liste med strenger og skriver ut den første karakteren i hver av dem.\n",
    "\n",
    "**Eksempel:**\n",
    "```python\n",
    "#list = [\"UKA\",\"lever\",\"videre\"]\n",
    "U\n",
    "l\n",
    "v\n",
    "```"
   ]
  },
  {
   "cell_type": "code",
   "execution_count": null,
   "metadata": {
    "hidden": true
   },
   "outputs": [],
   "source": [
    "#skriv koden din her"
   ]
  },
  {
   "cell_type": "markdown",
   "metadata": {
    "heading_collapsed": true
   },
   "source": [
    "### d)"
   ]
  },
  {
   "cell_type": "markdown",
   "metadata": {
    "hidden": true
   },
   "source": [
    "Hva vil kodesnutten under skrive ut til skjerm?\n",
    "\n",
    ">```python\n",
    "def func1(liste):\n",
    "    streng = \"\"\n",
    "    for s in liste:\n",
    "        if len(s)>3:\n",
    "            streng += s[3]\n",
    "    return streng\n",
    "```\n",
    ">```python  \n",
    "def func2(streng):\n",
    "    streng += streng\n",
    "    return streng\n",
    "```\n",
    ">```python\n",
    "print(func2(func1([\"Klabert\",\"Oslo\",\"Tur\",\"stubbe\"])))\n",
    "```\n",
    "\n",
    "Dobbeltklikk på teksten under for å svare."
   ]
  },
  {
   "cell_type": "markdown",
   "metadata": {
    "ExecuteTime": {
     "end_time": "2019-07-03T12:26:09.541554Z",
     "start_time": "2019-07-03T12:26:09.530256Z"
    },
    "hidden": true
   },
   "source": [
    "Ditt svar:"
   ]
  }
 ],
 "metadata": {
  "kernelspec": {
   "display_name": "Python 3",
   "language": "python",
   "name": "python3"
  },
  "language_info": {
   "codemirror_mode": {
    "name": "ipython",
    "version": 3
   },
   "file_extension": ".py",
   "mimetype": "text/x-python",
   "name": "python",
   "nbconvert_exporter": "python",
   "pygments_lexer": "ipython3",
   "version": "3.6.7"
  },
  "toc": {
   "base_numbering": 1,
   "nav_menu": {},
   "number_sections": false,
   "sideBar": true,
   "skip_h1_title": false,
   "title_cell": "Table of Contents",
   "title_sidebar": "Contents",
   "toc_cell": false,
   "toc_position": {},
   "toc_section_display": true,
   "toc_window_display": false
  }
 },
 "nbformat": 4,
 "nbformat_minor": 2
}
