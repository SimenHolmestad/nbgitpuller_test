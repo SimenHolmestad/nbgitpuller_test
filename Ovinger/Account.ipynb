{
 "cells": [
  {
   "cell_type": "markdown",
   "metadata": {},
   "source": [
    "## Account"
   ]
  },
  {
   "cell_type": "markdown",
   "metadata": {},
   "source": [
    "Et av de vanligste eksemplene når det kommer til å vise objektorientert programmering er en konto. Kontoen har et beløp og en rente, og ved hjelp av forskjellige metoder kan vi sette inn og ta ut penger, samt oppdatere kontoen basert på renta. "
   ]
  },
  {
   "cell_type": "markdown",
   "metadata": {},
   "source": [
    "***Oppgave:*** \n",
    "\n",
    "Lag en klasse `Account` med instansvariablene `balance` og `interest` som settes i konstruktøren. Begge verdiene skal være flyttall. \n",
    "\n",
    "Følgende metoder må være med:\n",
    "\n",
    "`deposit(amount)` som øker `balance` med `amount`  \n",
    "`withdraw(amount)` som senker `balance`  med `amount`  \n",
    "`update_interest()` som oppdaterer `balance` ut i fra verdien til `interest`. Merk at `interest` er et flyttall. Hvis renta er 2% må `interest` være 0.02.  \n",
    "`set_interest(rate)` som setter `interest` til `rate`\n",
    "\n",
    "***Skriv koden din i blokka under***"
   ]
  },
  {
   "cell_type": "code",
   "execution_count": null,
   "metadata": {},
   "outputs": [],
   "source": []
  },
  {
   "cell_type": "markdown",
   "metadata": {},
   "source": [
    "For å se hvordan programmet skal oppføre seg og teste koden din. Se på og kjør testkoden under."
   ]
  },
  {
   "cell_type": "code",
   "execution_count": null,
   "metadata": {},
   "outputs": [],
   "source": [
    "acc = Account(1000, 0.01)\n",
    "acc.deposit(1000)\n",
    "print(acc.balance) #Skal være 2000\n",
    "acc.withdraw(500)\n",
    "print(acc.balance) #Skal være 1500\n",
    "acc.update_interest()\n",
    "print(acc.balance) #Skal være 1515.0"
   ]
  }
 ],
 "metadata": {
  "kernelspec": {
   "display_name": "Python 3",
   "language": "python",
   "name": "python3"
  },
  "language_info": {
   "codemirror_mode": {
    "name": "ipython",
    "version": 3
   },
   "file_extension": ".py",
   "mimetype": "text/x-python",
   "name": "python",
   "nbconvert_exporter": "python",
   "pygments_lexer": "ipython3",
   "version": "3.7.4"
  }
 },
 "nbformat": 4,
 "nbformat_minor": 2
}
