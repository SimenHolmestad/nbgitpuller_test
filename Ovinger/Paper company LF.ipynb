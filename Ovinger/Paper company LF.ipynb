{
 "cells": [
  {
   "cell_type": "code",
   "execution_count": 8,
   "metadata": {},
   "outputs": [],
   "source": [
    "class Paper_company():\n",
    "    \n",
    "    def __init__(self,paper,machines,salesmen,money):\n",
    "        self.paper = paper\n",
    "        self.machines = machines\n",
    "        self.salesmen = salesmen\n",
    "        self.money = money\n",
    "        self.paper_prize = 10\n",
    "        self.machine_price = 100\n",
    "        self.recruitment_price = 50\n",
    "        \n",
    "    def make_paper(self):\n",
    "        self.paper += self.machines\n",
    "        \n",
    "    def sell_paper(self):\n",
    "        if self.paper>self.salesmen:\n",
    "            self.money += self.salesmen*self.paper_prize\n",
    "        else:\n",
    "            self.money += self.paper*self.paper_prize\n",
    "        self.paper = 0\n",
    "            \n",
    "    def buy_machines(self,amount):\n",
    "        if amount*self.machine_price>self.money:\n",
    "            print(\"Not enough funds\")\n",
    "        else:\n",
    "            self.machines += amount\n",
    "            self.money -= amount*self.machine_price\n",
    "            \n",
    "    def recruit_salesmen(self,amount):\n",
    "        if amount*self.recruitment_price>self.money:\n",
    "            print(\"Not enough funds\")\n",
    "        else:\n",
    "            self.salesmen += amount\n",
    "            self.money -= amount*self.recruitment_price"
   ]
  }
 ],
 "metadata": {
  "kernelspec": {
   "display_name": "Python 3",
   "language": "python",
   "name": "python3"
  },
  "language_info": {
   "codemirror_mode": {
    "name": "ipython",
    "version": 3
   },
   "file_extension": ".py",
   "mimetype": "text/x-python",
   "name": "python",
   "nbconvert_exporter": "python",
   "pygments_lexer": "ipython3",
   "version": "3.7.3"
  }
 },
 "nbformat": 4,
 "nbformat_minor": 2
}
