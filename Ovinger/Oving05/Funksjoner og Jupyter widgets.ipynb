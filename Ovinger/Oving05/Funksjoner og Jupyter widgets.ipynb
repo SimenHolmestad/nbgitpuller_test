{
 "cells": [
  {
   "cell_type": "markdown",
   "metadata": {},
   "source": [
    "<nav class=\"navbar navbar-default\">\n",
    "  <div class=\"container-fluid\">\n",
    "    <div class=\"navbar-header\">\n",
    "      <a class=\"navbar-brand\" href=\"_Oving5.ipynb\">Øving 5</a>\n",
    "    </div>\n",
    "    <ul class=\"nav navbar-nav\">\n",
    "    <li><a href=\"Grunnleggende%20om%20funksjoner.ipynb\">Grunnleggende om funksjoner</a></li>\n",
    "    <li><a href=\"Varierte%20funksjoner.ipynb\">Varierte funksjoner</a></li>\n",
    "    <li><a href=\"Lokale%20variabler.ipynb\">Lokale variabler</a></li>\n",
    "    <li><a href=\"Globale%20variabler.ipynb\">Globale variabler</a></li>\n",
    "    <li ><a href=\"Euklids%20algoritme.ipynb\">Euklids algoritme</a></li>\n",
    "    <li><a href=\"Primtall.ipynb\">Primtall</a></li>\n",
    "    <li><a href=\"Multiplikasjon.ipynb\">Multiplikasjon</a></li>\n",
    "        <li><a href=\"Den%20store%20sporreundersokelsen.ipynb\">Den store spørreundersøkelsen</a></li>\n",
    "    <li><a href=\"Arbeidsdager.ipynb\">Arbeidsdager</a></li>\n",
    "    <li><a href=\"Sekantmetoden.ipynb\">Sekantmetoden</a></li>\n",
    "    <li><a href=\"Not%20quite%20Blackjack.ipynb\">Not quite Blackjack</a></li>\n",
    "    <li class=\"active\"><a href=\"Funksjoner%20og%20Jupyter%20widgets.ipynb\">Funksjoner og Jupyter widgets</a></li>\n",
    "    </ul>\n",
    "  </div>\n",
    "</nav>\n",
    "\n",
    "# Funksjoner og Jupyter widgets\n",
    "\n",
    "**Læringsmål:**\n",
    "- Funksjoner\n",
    "\n",
    "Det er mye vi kan bruke funksjoner til i python. I jupyter finnes det et eget bibliotek med knapper og andre interaktive verktøy kalt widgets. Med widgets kan vi interagere med brukeren på et litt annet nivå enn det å ta tekstlig input fra konsollen tillater. Det anbefales å ta en liten kikk på dokumentajsonen til widgets før du setter i gang, [her](https://ipywidgets.readthedocs.io/en/latest/examples/Using%20Interact.html).  "
   ]
  },
  {
   "cell_type": "markdown",
   "metadata": {},
   "source": [
    "### Interact"
   ]
  },
  {
   "cell_type": "markdown",
   "metadata": {},
   "source": [
    "Under ser vi hvordan vi kan definere en simpel funksjon, før vi kobler sammen funksjonen med grensesnittkontroller i form av en slider. Funksjonen vil så kalles med hva enn slideren er satt til. Når vi beveger slideren kalles funksjonen og verdien printes. "
   ]
  },
  {
   "cell_type": "code",
   "execution_count": 28,
   "metadata": {},
   "outputs": [
    {
     "data": {
      "application/vnd.jupyter.widget-view+json": {
       "model_id": "8a88aac28be84b35ac13488d83acf658",
       "version_major": 2,
       "version_minor": 0
      },
      "text/plain": [
       "interactive(children=(IntSlider(value=10, description='x', max=30, min=-10), Output()), _dom_classes=('widget-…"
      ]
     },
     "metadata": {},
     "output_type": "display_data"
    },
    {
     "data": {
      "text/plain": [
       "<function __main__.f>"
      ]
     },
     "execution_count": 28,
     "metadata": {},
     "output_type": "execute_result"
    }
   ],
   "source": [
    "from ipywidgets import interact, interactive, fixed, interact_manual\n",
    "from IPython.display import display\n",
    "import ipywidgets as widgets\n",
    "\n",
    "def f(x):\n",
    "    return x\n",
    "\n",
    "interact(f, x=10)"
   ]
  },
  {
   "cell_type": "markdown",
   "metadata": {},
   "source": [
    "**Oppgave a): Lag en slider hvor kvadratet av tallet slideren er satt til pluss 10 printes ut. Sett sliderens standardverdi til 3, minimumsverdien til -10, og maksverdien til 20. Steglengden skal være 0.2**"
   ]
  },
  {
   "cell_type": "code",
   "execution_count": null,
   "metadata": {},
   "outputs": [],
   "source": [
    "#oppgave a)"
   ]
  },
  {
   "cell_type": "markdown",
   "metadata": {
    "heading_collapsed": true
   },
   "source": [
    "#### Hint"
   ]
  },
  {
   "cell_type": "markdown",
   "metadata": {
    "hidden": true
   },
   "source": [
    "Se [her](https://ipywidgets.readthedocs.io/en/latest/examples/Widget%20List.html#IntSlider)."
   ]
  },
  {
   "cell_type": "markdown",
   "metadata": {},
   "source": [
    "### Interact med andre datatyper"
   ]
  },
  {
   "cell_type": "markdown",
   "metadata": {},
   "source": [
    "På helt lik linje kan vi kalle funksjonen vår med helt andre datatyper, så lenge vi ikke gjør noe ulovlig med dem inne i funksjonen. Setter vi x til en boolean vil vi heller få opp en avkrysningsboks, som enten vil være True eller False. Setter vi x til en streng vil få opp en tekstboks."
   ]
  },
  {
   "cell_type": "code",
   "execution_count": 3,
   "metadata": {},
   "outputs": [
    {
     "data": {
      "application/vnd.jupyter.widget-view+json": {
       "model_id": "2ba9dc35466c40f7851c46be1cbf114b",
       "version_major": 2,
       "version_minor": 0
      },
      "text/plain": [
       "interactive(children=(Checkbox(value=True, description='x'), Output()), _dom_classes=('widget-interact',))"
      ]
     },
     "metadata": {},
     "output_type": "display_data"
    },
    {
     "data": {
      "application/vnd.jupyter.widget-view+json": {
       "model_id": "5f6b7a6106bb46d292e8b4ee0ded25ad",
       "version_major": 2,
       "version_minor": 0
      },
      "text/plain": [
       "interactive(children=(Text(value='Hei, hva heter du?', description='x'), Output()), _dom_classes=('widget-inte…"
      ]
     },
     "metadata": {},
     "output_type": "display_data"
    },
    {
     "data": {
      "text/plain": [
       "<function __main__.f>"
      ]
     },
     "execution_count": 3,
     "metadata": {},
     "output_type": "execute_result"
    }
   ],
   "source": [
    "interact(f, x=True)\n",
    "interact(f, x = \"Hei, hva heter du?\")"
   ]
  },
  {
   "cell_type": "markdown",
   "metadata": {},
   "source": [
    "**Oppgave b):** Lag en funksjon `check_lower(word,spaces)` som tar inn to argumenter ved hjelp av widgets, en streng **word** og en boolsk verdi **spaces**. Funksjonen skal sjekke om word kun består av små bokstaver, og returnerer True dersom word kun er små bokstaver. **spaces** skal angi om funksjonen godtar mellomrom i word eller ikke. \n",
    "\n",
    "Eksmpel på kjøring:\n",
    "```python\n",
    ">>> print(check_lower(\"heihei \",False))\n",
    "False\n",
    ">>> print(check_lower(\"heihei \",True))\n",
    "True\n",
    ">>> print(check_lower(\"Hei\",True))\n",
    "False\n",
    "```"
   ]
  },
  {
   "cell_type": "code",
   "execution_count": 4,
   "metadata": {},
   "outputs": [],
   "source": [
    "#oppgave b)"
   ]
  },
  {
   "cell_type": "markdown",
   "metadata": {},
   "source": [
    "### Buttons"
   ]
  },
  {
   "cell_type": "markdown",
   "metadata": {},
   "source": [
    "Jupyter lar oss også benytte oss av buttons, som vi kan koble sammen med funksjoner. I tillegg la oss ta en kikk på Textarea, som vi kan bruke til å ta input fra bruker på en litt annen måte. "
   ]
  },
  {
   "cell_type": "code",
   "execution_count": 26,
   "metadata": {},
   "outputs": [
    {
     "data": {
      "application/vnd.jupyter.widget-view+json": {
       "model_id": "7f80529f17a246c782e9d9121b0b42ba",
       "version_major": 2,
       "version_minor": 0
      },
      "text/plain": [
       "Textarea(value='Hello World', description='tekst:', placeholder='Type something')"
      ]
     },
     "metadata": {},
     "output_type": "display_data"
    },
    {
     "name": "stdout",
     "output_type": "stream",
     "text": [
      "Hello World\n"
     ]
    }
   ],
   "source": [
    "tekst = widgets.Textarea(\n",
    "    value='Hello World',\n",
    "    placeholder='Type something',\n",
    "    description='tekst:',\n",
    "    disabled=False\n",
    ")\n",
    "display(tekst)\n",
    "print(tekst.value)"
   ]
  },
  {
   "cell_type": "markdown",
   "metadata": {},
   "source": [
    "Over ser vi et eksempel på et tekstfelt, hvor vi etterpå prøver å printe verdien som gis inn i tekstfeltet. Dette ser vi ikke fungerer om vi prøver å endre verdien i tekstfeltet og kjøre koden på nytt. La oss heller se på hvordan en knapp fungerer. Under ser vi hvordan vi definerer en knapp og så en funksjon som kalles når knappen trykkes. Merk at funksjonen hello tar inn en parameter b, denne parameteren vil da være knappen selv, altså button. Dette trenger du ikke tenke så mye på, bare vit at når definerer en funksjon som kalles når knappen trykkes, må denne parameteren alltid være med. "
   ]
  },
  {
   "cell_type": "code",
   "execution_count": 25,
   "metadata": {},
   "outputs": [
    {
     "data": {
      "application/vnd.jupyter.widget-view+json": {
       "model_id": "a94596845287492ab0c22673a070d9a9",
       "version_major": 2,
       "version_minor": 0
      },
      "text/plain": [
       "Button(description='Click me', style=ButtonStyle(), tooltip='Click me')"
      ]
     },
     "metadata": {},
     "output_type": "display_data"
    },
    {
     "name": "stdout",
     "output_type": "stream",
     "text": [
      "Hello World\n",
      "Gunnar\n",
      "Hello World\n",
      "hehiho\n"
     ]
    }
   ],
   "source": [
    "button = widgets.Button(\n",
    "    description='Click me',\n",
    "    disabled=False,\n",
    "    tooltip='Click me',\n",
    ")\n",
    "\n",
    "def hello(b):\n",
    "    print(\"Hello World\")\n",
    "    \n",
    "button.on_click(hello)\n",
    "display(button)"
   ]
  },
  {
   "cell_type": "markdown",
   "metadata": {},
   "source": [
    "**Oppgave c):** Endre funksjonen hello så den printer ut det som er skrevet inn i tekstfeltet \"tekst\"."
   ]
  },
  {
   "cell_type": "markdown",
   "metadata": {},
   "source": [
    "**Oppgave d)**: Lag en funksjon som stiller brukeren et flervalgsspørsmål. Ta derimot inn i svaret ved hjelp av RadioButtons-widgeten. Sjekk svaret ved bruk av en knapp og fortell brukeren om den svarte riktig eller galt. "
   ]
  },
  {
   "cell_type": "code",
   "execution_count": 27,
   "metadata": {},
   "outputs": [],
   "source": [
    "#oppgave d"
   ]
  },
  {
   "cell_type": "markdown",
   "metadata": {
    "heading_collapsed": true
   },
   "source": [
    "#### Hint"
   ]
  },
  {
   "cell_type": "markdown",
   "metadata": {
    "hidden": true
   },
   "source": [
    "Det kan værte lurt å se [her](https://ipywidgets.readthedocs.io/en/latest/examples/Widget%20List.html#Selection-widgets). Python har også støtte for å definere funksjoner inni funksjoner, les mer om disse [her](https://realpython.com/inner-functions-what-are-they-good-for/)."
   ]
  }
 ],
 "metadata": {
  "kernelspec": {
   "display_name": "Python 3",
   "language": "python",
   "name": "python3"
  },
  "language_info": {
   "codemirror_mode": {
    "name": "ipython",
    "version": 3
   },
   "file_extension": ".py",
   "mimetype": "text/x-python",
   "name": "python",
   "nbconvert_exporter": "python",
   "pygments_lexer": "ipython3",
   "version": "3.7.3"
  }
 },
 "nbformat": 4,
 "nbformat_minor": 2
}
