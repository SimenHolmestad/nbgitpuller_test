{
 "cells": [
  {
   "cell_type": "markdown",
   "metadata": {
    "deletable": false,
    "editable": false,
    "run_control": {
     "frozen": true
    }
   },
   "source": [
    "# Øving 2\n",
    "\n",
    "**Læringsmål:**\n",
    "\n",
    "- If-setninger, hvorfor og hvordan\n",
    "- Betingelser, Logiske uttrykk\n",
    "- IT/hardware i hverdagen\n",
    "\n",
    "**Starting Out with Python:**\n",
    "\n",
    "- Kap 3 - Decision Structures and Boolean Logic\n",
    "\n",
    "**Theory book**\n",
    "\n",
    "- Kap 1 - Defining information Technology\n",
    "- Kap 7 - Representing Information Digitally\n",
    "- Kap 9 - Principles of Computer Operations\n",
    " \n",
    "\n",
    "## Godkjenning:\n",
    "\n",
    "For å få godkjent øvingen må du gjøre **teorioppgaven** og **4 av 11** andre oppgaver.\n",
    "\n",
    "Oppgaver som er litt ekstra vanskelig er markert med stjerne. Oppgaver som går forbi det som er blitt forelest er markert med to stjerner.\n",
    "\n",
    "Alle oppgavene skal demonstreres til en læringsassistent på sal. I oppgaver der du skriver programkode skal også denne vises fram. Lykke til!\n",
    "\n",
    "\n",
    "Oppgave | Tema | Vanskelighetsgrad\n",
    "--- | --- | ---\n",
    "[Ulike typer if-setninger](Ulike%20typer%20if-setninger.ipynb) | Output | \n",
    "[Sammenligning av strenger](Sammenligning%20av%20strenger.ipynb)|Matteoperasjoner|\n",
    "[Logiske operatorer og logiske uttrykk](Logiske%20operatorer%20og%20logiske%20uttrykk.ipynb)|Input/output og variabler|\n",
    "[Forbrytelse og straff](Forbrytelse%20og%20straff.ipynb)|Konvertering|\n",
    "[Årstider](Aarstider.ipynb)|Matteoperasjoner|\n",
    "[Tekstbasert spill](Tekstbasert%20spill.ipynb)|Input/output og variabler|![img](https://www.ntnu.no/wiki/s/no_NO/7901/0b59262db6a7cd3dbeee6d1b1416b77c01706b36/_/images/icons/emoticons/star_yellow.svg)\n",
    "[Sjakkbrett](Sjakkbrett.ipynb)|Debugging|![img](https://www.ntnu.no/wiki/s/no_NO/7901/0b59262db6a7cd3dbeee6d1b1416b77c01706b36/_/images/icons/emoticons/star_yellow.svg)\n",
    "[Billettpriser og rabatter](Billettpriser%20og%20rabatter.ipynb)|Grafikk|![img](https://www.ntnu.no/wiki/s/no_NO/7901/0b59262db6a7cd3dbeee6d1b1416b77c01706b36/_/images/icons/emoticons/star_yellow.svg)\n",
    "[Skatteetaten](Skatteetaten.ipynb)|Grafikk, tallkonvertering,heltallsdivisjon, modulo|![img](https://www.ntnu.no/wiki/s/no_NO/7901/0b59262db6a7cd3dbeee6d1b1416b77c01706b36/_/images/icons/emoticons/star_yellow.svg)\n",
    "[Datamaskinen som tigget epler](Epletigging.ipynb)|innebygde funksjoner|![img](https://www.ntnu.no/wiki/s/no_NO/7901/0b59262db6a7cd3dbeee6d1b1416b77c01706b36/_/images/icons/emoticons/star_yellow.svg)\n",
    "[Andregradsligning](Andregradsligning.ipynb)|Formatering|![img](https://www.ntnu.no/wiki/s/no_NO/7901/0b59262db6a7cd3dbeee6d1b1416b77c01706b36/_/images/icons/emoticons/star_yellow.svg)"
   ]
  }
 ],
 "metadata": {
  "kernelspec": {
   "display_name": "Python 3",
   "language": "python",
   "name": "python3"
  },
  "language_info": {
   "codemirror_mode": {
    "name": "ipython",
    "version": 3
   },
   "file_extension": ".py",
   "mimetype": "text/x-python",
   "name": "python",
   "nbconvert_exporter": "python",
   "pygments_lexer": "ipython3",
   "version": "3.7.3"
  },
  "toc": {
   "base_numbering": 1,
   "nav_menu": {},
   "number_sections": false,
   "sideBar": true,
   "skip_h1_title": false,
   "title_cell": "Table of Contents",
   "title_sidebar": "Contents",
   "toc_cell": false,
   "toc_position": {},
   "toc_section_display": true,
   "toc_window_display": false
  }
 },
 "nbformat": 4,
 "nbformat_minor": 2
}
