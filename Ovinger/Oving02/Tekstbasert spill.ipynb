{
 "cells": [
  {
   "cell_type": "markdown",
   "metadata": {
    "deletable": false,
    "editable": false,
    "run_control": {
     "frozen": true
    }
   },
   "source": [
    "<nav class=\"navbar navbar-default\">\n",
    "  <div class=\"container-fluid\">\n",
    "    <div class=\"navbar-header\">\n",
    "      <a class=\"navbar-brand\" href=\"_Oving2.ipynb\">Øving 2</a>\n",
    "    </div>\n",
    "    <ul class=\"nav navbar-nav\">\n",
    "    <li><a href=\"Ulike%20typer%20if-setninger.ipynb\">Ulike typer if-setninger</a></li>\n",
    "    <li><a href=\"Sammenligning%20av%20strenger.ipynb\">Sammenligning av strenger</a></li>\n",
    "    <li><a href=\"Logiske%20operatorer%20og%20logiske%20uttrykk.ipynb\">Logiske operatorer og logiske uttrykk</a></li>\n",
    "    <li><a href=\"Forbrytelse%20og%20straff.ipynb\">Forbrytelse og straff</a></li>\n",
    "    <li ><a href=\"Aarstider.ipynb\">Årstider</a></li>\n",
    "    <li class=\"active\"><a href=\"Tekstbasert%20spill.ipynb\">Tekstbasert spill</a></li>\n",
    "    <li><a href=\"Sjakkbrett.ipynb\">Sjakkbrett</a></li>\n",
    "    <li><a href=\"Billettpriser%20og%20rabatter.ipynb\">Billettpriser og rabatter</a></li>\n",
    "    <li><a href=\"Skatteetaten.ipynb\">Skatteetaten</a></li>\n",
    "    <li><a href=\"Epletigging.ipynb\">Datamaskinen som tigget epler</a></li>\n",
    "    <li><a href=\"Andregradsligning.ipynb\">Andregradsligning</a></li>\n",
    "    </ul>\n",
    "  </div>\n",
    "</nav>\n",
    "\n",
    "\n",
    "# Tekstbasert spill\n",
    "\n",
    "\n",
    "**Læringsmål:**\n",
    "\n",
    "- Betingelser\n",
    "\n",
    "**Starting Out with Python:**\n",
    "\n",
    "- Kap. 3.1- 3.2\n",
    "- Kap. 3.4\n",
    "\n",
    "Noe veldig praktisk vi kan gjøre med if-setninger er å lage et enkelt tekstbasert spill. Her er et eksempel fra starten av et av de mest kjente tekstbaserte spillene, Zork:\n",
    "```\n",
    "West of House\n",
    "This is an open field west of a white house, with a boarded front door.\n",
    "There is a small mailbox here.\n",
    "A rubber mat saying 'Welcome to Zork!' lies by the door.\n",
    "\n",
    ">open mailbox\n",
    "You open the mailbox, revealing a small leaflet.\n",
    "\n",
    ">read leaflet\n",
    "(first taking the small leaflet)\n",
    "                          WELCOME TO ZORK\n",
    "\n",
    "    ZORK is a game of adventure, danger, and low cunning.  In it you will explore some of the most amazing territory ever seen by mortal man.  Hardened adventurers have run screaming from the terrors contained within!\n",
    "    ...\n",
    "    ```\n",
    "    \n",
    "Som du ser gjør man kommandoer i spillet ved å rett og slett skrive inn hva man ønsker å gjøre. Da må man passe på at programmet klarer å kjenne igjen flere kommandoer en bruker kan tenke å skrive inn.\n",
    "\n",
    "**Merk: I denne oppgaven trenger du ikke ta hensyn til om brukeren skriver inn noe feil, eller noe annet enn du hadde tenkt på**"
   ]
  },
  {
   "cell_type": "markdown",
   "metadata": {
    "deletable": false,
    "editable": false,
    "run_control": {
     "frozen": true
    }
   },
   "source": [
    "### a)"
   ]
  },
  {
   "cell_type": "markdown",
   "metadata": {
    "deletable": false,
    "editable": false,
    "run_control": {
     "frozen": true
    }
   },
   "source": [
    "Skriv en intro til spillet ditt på et par setninger. La så brukeren skrive inn hva den ønsker å gjøre, og skriv nye scenarioer ved hjelp av minst tre if, elif-setninger. (Ønsker brukeren å åpne en dør, hva skjer? Ønsker brukeren å løpe vekk, hva skjer? Se på Zork eksempelet over eller test det ut selv [her](http://zorkonline.net/) om du trenger inspirasjon.) Husk å ta hensyn til tre forskjellige scenarioer.\n",
    "\n",
    "***Skriv koden din her:***"
   ]
  },
  {
   "cell_type": "code",
   "execution_count": 1,
   "metadata": {},
   "outputs": [],
   "source": []
  },
  {
   "cell_type": "markdown",
   "metadata": {
    "deletable": false,
    "editable": false,
    "run_control": {
     "frozen": true
    }
   },
   "source": [
    "### b)"
   ]
  },
  {
   "cell_type": "markdown",
   "metadata": {
    "deletable": false,
    "editable": false,
    "run_control": {
     "frozen": true
    }
   },
   "source": [
    "Noe som kan er veldig praktisk i denne typen situasjoner hvor vi vil ha en oversikt over tilstanden i spillet er å bruke variabler. Her er det flere muligheter, man kan lagre et nivå som en int, eller om en spilleren har plukket opp en gjenstand som en boolean.\n",
    "\n",
    "Eksempel: \n",
    "```\n",
    "Du står utenfor en dør.\n",
    ">Gå inn\n",
    "Døren er låst.\n",
    ">Åpne døren\n",
    "# her kan vi sette en variabel, f.eks. door_opened til True.\n",
    "Du åpner døren.\n",
    ">Gå inn\n",
    "Du går inn døren\n",
    "```\n",
    "\n",
    "Her trenger du ikke tenke veldig komplisert, men bruk en variabel til å styre hva som skjer i spillet ditt. \n",
    "\n",
    "***Skriv koden din her:***"
   ]
  },
  {
   "cell_type": "code",
   "execution_count": 2,
   "metadata": {},
   "outputs": [],
   "source": []
  },
  {
   "cell_type": "markdown",
   "metadata": {
    "deletable": false,
    "editable": false,
    "run_control": {
     "frozen": true
    }
   },
   "source": [
    "### c)"
   ]
  },
  {
   "cell_type": "markdown",
   "metadata": {
    "deletable": false,
    "editable": false,
    "run_control": {
     "frozen": true
    }
   },
   "source": [
    "Kombiner deloppgave a og b slik at man kan mist kan skrive inn minst **to kommandoer** etter hverandre uten å gå ut av spillet. Bruk minst en variabel. Du trenger ikke lage alt for mange muligheter, så lenge brukeren kan gjøre to ting etter hverandre. I neste øving skal vi se på hvordan vi kan gjøre dette enda enklere ved hjelp av løkker, men det trenger du ikke tenke på nå.\n",
    "\n",
    "***Skriv koden din her:***"
   ]
  },
  {
   "cell_type": "code",
   "execution_count": null,
   "metadata": {},
   "outputs": [],
   "source": []
  }
 ],
 "metadata": {
  "kernelspec": {
   "display_name": "Python 3",
   "language": "python",
   "name": "python3"
  },
  "language_info": {
   "codemirror_mode": {
    "name": "ipython",
    "version": 3
   },
   "file_extension": ".py",
   "mimetype": "text/x-python",
   "name": "python",
   "nbconvert_exporter": "python",
   "pygments_lexer": "ipython3",
   "version": "3.7.3"
  }
 },
 "nbformat": 4,
 "nbformat_minor": 2
}
